{
 "cells": [
  {
   "cell_type": "markdown",
   "metadata": {},
   "source": [
    "# Basic setings methods"
   ]
  },
  {
   "cell_type": "markdown",
   "metadata": {},
   "source": [
    "##### Basic SCPI commands"
   ]
  },
  {
   "cell_type": "code",
   "execution_count": 3,
   "metadata": {},
   "outputs": [
    {
     "data": {
      "text/plain": [
       "'TEKTRONIX,AWG7122C,B051135,SCPI:99.0 FW:4.6.0.7'"
      ]
     },
     "execution_count": 3,
     "metadata": {},
     "output_type": "execute_result"
    }
   ],
   "source": [
    "myawg.query('*IDN?')"
   ]
  },
  {
   "cell_type": "code",
   "execution_count": 14,
   "metadata": {},
   "outputs": [
    {
     "data": {
      "text/plain": [
       "0"
      ]
     },
     "execution_count": 14,
     "metadata": {},
     "output_type": "execute_result"
    }
   ],
   "source": [
    "myawg.write('OUTPUT1:STATE ON')"
   ]
  },
  {
   "cell_type": "code",
   "execution_count": 28,
   "metadata": {},
   "outputs": [
    {
     "data": {
      "text/plain": [
       "0"
      ]
     },
     "execution_count": 28,
     "metadata": {},
     "output_type": "execute_result"
    }
   ],
   "source": [
    "myawg.write('AWGC:STOP')"
   ]
  },
  {
   "cell_type": "code",
   "execution_count": 8,
   "metadata": {},
   "outputs": [
    {
     "data": {
      "text/plain": [
       "'0'"
      ]
     },
     "execution_count": 8,
     "metadata": {},
     "output_type": "execute_result"
    }
   ],
   "source": [
    "myawg.query('AWGC:RST?')"
   ]
  },
  {
   "cell_type": "code",
   "execution_count": 146,
   "metadata": {},
   "outputs": [
    {
     "data": {
      "text/plain": [
       "'01,06,08,09'"
      ]
     },
     "execution_count": 146,
     "metadata": {},
     "output_type": "execute_result"
    }
   ],
   "source": [
    "myawg.query('*OPT?')"
   ]
  },
  {
   "cell_type": "code",
   "execution_count": 155,
   "metadata": {},
   "outputs": [
    {
     "data": {
      "text/plain": [
       "0"
      ]
     },
     "execution_count": 155,
     "metadata": {},
     "output_type": "execute_result"
    }
   ],
   "source": [
    "myawg.write('SOUR1:VOLT:AMPL 0.6')"
   ]
  },
  {
   "cell_type": "markdown",
   "metadata": {},
   "source": [
    "##### Technical commands"
   ]
  },
  {
   "cell_type": "code",
   "execution_count": 181,
   "metadata": {},
   "outputs": [
    {
     "data": {
      "text/plain": [
       "(0, {-1: 'Failed Request or Communication', 0: 'Device has stopped, but can receive commands', 1: 'Device is active and running', 2: 'Device is waiting for trigger.'})"
      ]
     },
     "execution_count": 181,
     "metadata": {},
     "output_type": "execute_result"
    }
   ],
   "source": [
    "myawg.get_status()"
   ]
  },
  {
   "cell_type": "code",
   "execution_count": 231,
   "metadata": {},
   "outputs": [
    {
     "data": {
      "text/plain": [
       "{'a_ch1': False, 'd_ch2': False, 'd_ch1': False, 'a_ch2': True, 'd_ch4': False, 'd_ch3': False}"
      ]
     },
     "execution_count": 231,
     "metadata": {},
     "output_type": "execute_result"
    }
   ],
   "source": [
    "myawg.set_active_channels({'a_ch2': True})\n",
    "# myawg.get_errors()"
   ]
  },
  {
   "cell_type": "code",
   "execution_count": 234,
   "metadata": {},
   "outputs": [
    {
     "data": {
      "text/plain": [
       "'0,\"No error'"
      ]
     },
     "execution_count": 234,
     "metadata": {},
     "output_type": "execute_result"
    }
   ],
   "source": [
    "myawg.query('SYST:ERR?')"
   ]
  },
  {
   "cell_type": "code",
   "execution_count": 185,
   "metadata": {},
   "outputs": [
    {
     "name": "stdout",
     "output_type": "stream",
     "text": [
      "True\n",
      "True\n"
     ]
    }
   ],
   "source": [
    "print(myawg.set_interleave(True))\n",
    "print(myawg.get_interleave())"
   ]
  },
  {
   "cell_type": "code",
   "execution_count": 186,
   "metadata": {},
   "outputs": [
    {
     "name": "stdout",
     "output_type": "stream",
     "text": [
      "False\n",
      "False\n"
     ]
    }
   ],
   "source": [
    "print(myawg.set_interleave(False))\n",
    "print(myawg.get_interleave())"
   ]
  },
  {
   "cell_type": "code",
   "execution_count": 176,
   "metadata": {},
   "outputs": [
    {
     "name": "stdout",
     "output_type": "stream",
     "text": [
      "False\n",
      "['a_ch1', 'a_ch2', 'd_ch1', 'd_ch2', 'd_ch3', 'd_ch4']\n"
     ]
    }
   ],
   "source": [
    "print(myawg.get_interleave())\n",
    "print(myawg._get_all_channels())"
   ]
  },
  {
   "cell_type": "code",
   "execution_count": 177,
   "metadata": {},
   "outputs": [
    {
     "name": "stdout",
     "output_type": "stream",
     "text": [
      "True\n",
      "['a_ch1', 'd_ch1', 'd_ch2']\n"
     ]
    }
   ],
   "source": [
    "print(myawg.get_interleave())\n",
    "print(myawg._get_all_channels())"
   ]
  },
  {
   "cell_type": "code",
   "execution_count": 180,
   "metadata": {},
   "outputs": [
    {
     "name": "stdout",
     "output_type": "stream",
     "text": [
      "False\n",
      "['a_ch1', 'a_ch2']\n",
      "['d_ch1', 'd_ch2', 'd_ch3', 'd_ch4']\n"
     ]
    }
   ],
   "source": [
    "print(myawg.get_interleave())\n",
    "print(myawg._get_all_analog_channels())\n",
    "print(myawg._get_all_digital_channels())"
   ]
  },
  {
   "cell_type": "code",
   "execution_count": 179,
   "metadata": {},
   "outputs": [
    {
     "name": "stdout",
     "output_type": "stream",
     "text": [
      "True\n",
      "['a_ch1']\n",
      "['d_ch1', 'd_ch2']\n"
     ]
    }
   ],
   "source": [
    "print(myawg.get_interleave())\n",
    "print(myawg._get_all_analog_channels())\n",
    "print(myawg._get_all_digital_channels())"
   ]
  },
  {
   "cell_type": "code",
   "execution_count": 188,
   "metadata": {},
   "outputs": [
    {
     "data": {
      "text/plain": [
       "['01', '06', '08', '09']"
      ]
     },
     "execution_count": 188,
     "metadata": {},
     "output_type": "execute_result"
    }
   ],
   "source": [
    "myawg.installed_options"
   ]
  },
  {
   "cell_type": "code",
   "execution_count": 192,
   "metadata": {},
   "outputs": [
    {
     "data": {
      "text/plain": [
       "3"
      ]
     },
     "execution_count": 192,
     "metadata": {},
     "output_type": "execute_result"
    }
   ],
   "source": [
    "int('d_ch3'.rsplit('_ch', 1)[1])"
   ]
  },
  {
   "cell_type": "markdown",
   "metadata": {},
   "source": [
    "##### get_constraints()"
   ]
  },
  {
   "cell_type": "code",
   "execution_count": 158,
   "metadata": {},
   "outputs": [],
   "source": [
    "constr = myawg.get_constraints()"
   ]
  },
  {
   "cell_type": "code",
   "execution_count": 159,
   "metadata": {},
   "outputs": [
    {
     "data": {
      "text/plain": [
       "<class 'interface.pulser_interface.PulserConstraints'>"
      ]
     },
     "execution_count": 159,
     "metadata": {},
     "output_type": "execute_result"
    }
   ],
   "source": [
    "type(constr)"
   ]
  },
  {
   "cell_type": "markdown",
   "metadata": {},
   "source": [
    "Sample_rate"
   ]
  },
  {
   "cell_type": "code",
   "execution_count": 164,
   "metadata": {},
   "outputs": [
    {
     "data": {
      "text/plain": [
       "<class 'core.util.interfaces.ScalarConstraint'>"
      ]
     },
     "execution_count": 164,
     "metadata": {},
     "output_type": "execute_result"
    }
   ],
   "source": [
    "type(constr.sample_rate)"
   ]
  },
  {
   "cell_type": "code",
   "execution_count": 162,
   "metadata": {
    "scrolled": true
   },
   "outputs": [
    {
     "data": {
      "text/plain": [
       "12000000000.0"
      ]
     },
     "execution_count": 162,
     "metadata": {},
     "output_type": "execute_result"
    }
   ],
   "source": [
    "constr.sample_rate.max"
   ]
  },
  {
   "cell_type": "code",
   "execution_count": 168,
   "metadata": {},
   "outputs": [
    {
     "data": {
      "text/plain": [
       "'Hz'"
      ]
     },
     "execution_count": 168,
     "metadata": {},
     "output_type": "execute_result"
    }
   ],
   "source": [
    "constr.sample_rate.unit"
   ]
  },
  {
   "cell_type": "markdown",
   "metadata": {},
   "source": [
    "a_ch_amplitude"
   ]
  },
  {
   "cell_type": "code",
   "execution_count": 166,
   "metadata": {},
   "outputs": [
    {
     "data": {
      "text/plain": [
       "<class 'core.util.interfaces.ScalarConstraint'>"
      ]
     },
     "execution_count": 166,
     "metadata": {},
     "output_type": "execute_result"
    }
   ],
   "source": [
    "type(constr.a_ch_amplitude)"
   ]
  },
  {
   "cell_type": "code",
   "execution_count": 167,
   "metadata": {},
   "outputs": [
    {
     "data": {
      "text/plain": [
       "1.0"
      ]
     },
     "execution_count": 167,
     "metadata": {},
     "output_type": "execute_result"
    }
   ],
   "source": [
    "constr.a_ch_amplitude.max"
   ]
  },
  {
   "cell_type": "markdown",
   "metadata": {},
   "source": [
    "activation_config"
   ]
  },
  {
   "cell_type": "code",
   "execution_count": 172,
   "metadata": {},
   "outputs": [
    {
     "name": "stdout",
     "output_type": "stream",
     "text": [
      ": set()\n",
      "all: {'d_ch1', 'd_ch4', 'd_ch3', 'a_ch1', 'a_ch2', 'd_ch2'}\n",
      "A1_M1_M2: {'d_ch2', 'd_ch1', 'a_ch1'}\n",
      "A2_M3_M4: {'d_ch4', 'a_ch2', 'd_ch3'}\n",
      "Two_Analog: {'a_ch2', 'a_ch1'}\n",
      "Analog1: {'a_ch1'}\n",
      "Analog2: {'a_ch2'}\n"
     ]
    }
   ],
   "source": [
    "for sch in constr.activation_config:\n",
    "    print('{}: {}'.format(sch, constr.activation_config[sch]))"
   ]
  },
  {
   "cell_type": "markdown",
   "metadata": {},
   "source": [
    "##### pulser_on/off()"
   ]
  },
  {
   "cell_type": "code",
   "execution_count": 14,
   "metadata": {},
   "outputs": [
    {
     "data": {
      "text/plain": [
       "(0, {-1: 'Failed Request or Communication', 0: 'Device has stopped, but can receive commands', 1: 'Device is active and running', 2: 'Device is waiting for trigger.'})"
      ]
     },
     "execution_count": 14,
     "metadata": {},
     "output_type": "execute_result"
    }
   ],
   "source": [
    "myawg.get_status()"
   ]
  },
  {
   "cell_type": "code",
   "execution_count": 23,
   "metadata": {},
   "outputs": [
    {
     "name": "stdout",
     "output_type": "stream",
     "text": [
      "2\n",
      "True\n"
     ]
    }
   ],
   "source": [
    "print(myawg.pulser_on())\n",
    "print(myawg._is_output_on())"
   ]
  },
  {
   "cell_type": "code",
   "execution_count": 26,
   "metadata": {},
   "outputs": [
    {
     "name": "stdout",
     "output_type": "stream",
     "text": [
      "0\n",
      "False\n"
     ]
    }
   ],
   "source": [
    "print(myawg.pulser_off())\n",
    "print(myawg._is_output_on())"
   ]
  },
  {
   "cell_type": "markdown",
   "metadata": {},
   "source": [
    "##### set/get_sample_rate"
   ]
  },
  {
   "cell_type": "code",
   "execution_count": 8,
   "metadata": {},
   "outputs": [
    {
     "data": {
      "text/plain": [
       "10200000.0"
      ]
     },
     "execution_count": 8,
     "metadata": {},
     "output_type": "execute_result"
    }
   ],
   "source": [
    "myawg.set_sample_rate(10.2e6)"
   ]
  },
  {
   "cell_type": "code",
   "execution_count": 5,
   "metadata": {},
   "outputs": [
    {
     "data": {
      "text/plain": [
       "12000000000.0"
      ]
     },
     "execution_count": 5,
     "metadata": {},
     "output_type": "execute_result"
    }
   ],
   "source": [
    "myawg.set_interleave(False)\n",
    "myawg.set_sample_rate(15234e6)"
   ]
  },
  {
   "cell_type": "code",
   "execution_count": 4,
   "metadata": {},
   "outputs": [
    {
     "data": {
      "text/plain": [
       "15230000000.0"
      ]
     },
     "execution_count": 4,
     "metadata": {},
     "output_type": "execute_result"
    }
   ],
   "source": [
    "myawg.set_interleave(True)\n",
    "myawg.set_sample_rate(15234e6)"
   ]
  },
  {
   "cell_type": "code",
   "execution_count": 9,
   "metadata": {},
   "outputs": [
    {
     "data": {
      "text/plain": [
       "10200000.0"
      ]
     },
     "execution_count": 9,
     "metadata": {},
     "output_type": "execute_result"
    }
   ],
   "source": [
    "myawg.get_sample_rate()"
   ]
  },
  {
   "cell_type": "markdown",
   "metadata": {},
   "source": [
    "##### set/get_analog_level"
   ]
  },
  {
   "cell_type": "code",
   "execution_count": 33,
   "metadata": {},
   "outputs": [
    {
     "data": {
      "text/plain": [
       "({'a_ch1': 0.56, 'a_ch2': 0.95}, {'a_ch1': 0.0, 'a_ch2': 0.0})"
      ]
     },
     "execution_count": 33,
     "metadata": {},
     "output_type": "execute_result"
    }
   ],
   "source": [
    "myawg.set_analog_level(\n",
    "    amplitude={'a_ch1': 0.56, 'a_ch2': 0.95, 'asdsdfdaf': 0.8}\n",
    "#     offset={'a_ch1':0, 'a_ch2':0}  # Not supported by this AWG\n",
    ")"
   ]
  },
  {
   "cell_type": "code",
   "execution_count": 32,
   "metadata": {},
   "outputs": [
    {
     "data": {
      "text/plain": [
       "({'a_ch1': 0.56, 'a_ch2': 0.95}, {'a_ch1': 0.0, 'a_ch2': 0.0})"
      ]
     },
     "execution_count": 32,
     "metadata": {},
     "output_type": "execute_result"
    }
   ],
   "source": [
    "myawg.get_analog_level()"
   ]
  },
  {
   "cell_type": "code",
   "execution_count": 34,
   "metadata": {},
   "outputs": [
    {
     "data": {
      "text/plain": [
       "({'a_ch1': 0.56}, {'a_ch2': 0.0, 'a_ch1': 0.0})"
      ]
     },
     "execution_count": 34,
     "metadata": {},
     "output_type": "execute_result"
    }
   ],
   "source": [
    "myawg.get_analog_level(amplitude=['a_ch1', 'asdfsdf'], offset=['a_ch2', 'a_ch1', '453fw3453'])"
   ]
  },
  {
   "cell_type": "markdown",
   "metadata": {},
   "source": [
    "##### set/get_digital_level"
   ]
  },
  {
   "cell_type": "code",
   "execution_count": 133,
   "metadata": {},
   "outputs": [
    {
     "data": {
      "text/plain": [
       "-0.9"
      ]
     },
     "execution_count": 133,
     "metadata": {},
     "output_type": "execute_result"
    }
   ],
   "source": [
    "myawg.get_constraints().d_ch_high.min"
   ]
  },
  {
   "cell_type": "code",
   "execution_count": 155,
   "metadata": {},
   "outputs": [
    {
     "data": {
      "text/plain": [
       "({'d_ch1': 0.2, 'd_ch4': -0.6}, {'d_ch1': 1.12, 'd_ch2': 0.9})"
      ]
     },
     "execution_count": 155,
     "metadata": {},
     "output_type": "execute_result"
    }
   ],
   "source": [
    "myawg.set_digital_level(\n",
    "    high={'d_ch1': 1.12, 'd_ch2': 0.9, 'gd5': 100}, low={'d_ch1': 0.2,'d_ch4': -0.6, 'adfwe': -100}\n",
    ")"
   ]
  },
  {
   "cell_type": "code",
   "execution_count": 156,
   "metadata": {},
   "outputs": [
    {
     "name": "stdout",
     "output_type": "stream",
     "text": [
      "Low ==========\n",
      "d_ch1: 0.2\n",
      "d_ch2: 0.0\n",
      "d_ch3: -0.5\n",
      "d_ch4: -0.6\n",
      "High ==========\n",
      "d_ch1: 1.12\n",
      "d_ch2: 0.9\n",
      "d_ch3: 0.6\n",
      "d_ch4: 0.8\n"
     ]
    }
   ],
   "source": [
    "low, high = myawg.get_digital_level()\n",
    "\n",
    "print('Low ==========')\n",
    "for chnl, val in low.items():\n",
    "    print('{}: {}'.format(chnl, val))\n",
    "    \n",
    "print('High ==========')\n",
    "for chnl, val in high.items():\n",
    "    print('{}: {}'.format(chnl, val))"
   ]
  },
  {
   "cell_type": "markdown",
   "metadata": {},
   "source": [
    "##### set/get_active_channels()"
   ]
  },
  {
   "cell_type": "markdown",
   "metadata": {},
   "source": [
    "**get_active_channels()**"
   ]
  },
  {
   "cell_type": "code",
   "execution_count": 264,
   "metadata": {},
   "outputs": [
    {
     "name": "stdout",
     "output_type": "stream",
     "text": [
      "a_ch1: False\n",
      "a_ch2: True\n",
      "d_ch3: True\n"
     ]
    }
   ],
   "source": [
    "for ch_key, ch_state in myawg.get_active_channels(['d_ch3', 'a_ch2', 'a_ch1']).items():\n",
    "    print('{}: {}'.format(ch_key, ch_state))"
   ]
  },
  {
   "cell_type": "code",
   "execution_count": 186,
   "metadata": {},
   "outputs": [
    {
     "name": "stdout",
     "output_type": "stream",
     "text": [
      "a_ch1: True\n",
      "d_ch2: False\n",
      "d_ch1: False\n",
      "a_ch2: True\n",
      "d_ch4: True\n",
      "d_ch3: True\n"
     ]
    }
   ],
   "source": [
    "for ch_key, ch_state in myawg.get_active_channels().items():\n",
    "    print('{}: {}'.format(ch_key, ch_state))"
   ]
  },
  {
   "cell_type": "markdown",
   "metadata": {},
   "source": [
    "**set_active_channels()**"
   ]
  },
  {
   "cell_type": "code",
   "execution_count": 259,
   "metadata": {},
   "outputs": [
    {
     "name": "stdout",
     "output_type": "stream",
     "text": [
      ": set()\n",
      "all: {'d_ch3', 'd_ch2', 'a_ch1', 'd_ch4', 'd_ch1', 'a_ch2'}\n",
      "A1_M1_M2: {'d_ch2', 'a_ch1', 'd_ch1'}\n",
      "A2_M3_M4: {'d_ch4', 'd_ch3', 'a_ch2'}\n",
      "Two_Analog: {'a_ch1', 'a_ch2'}\n",
      "Analog1: {'a_ch1'}\n",
      "Analog2: {'a_ch2'}\n",
      "A1_M1_M2_A2: {'d_ch2', 'a_ch1', 'd_ch1', 'a_ch2'}\n",
      "A1_A2_M3_M4: {'d_ch4', 'd_ch3', 'a_ch1', 'a_ch2'}\n"
     ]
    }
   ],
   "source": [
    "for cfg_key, cfg_list in myawg.get_constraints().activation_config.items():\n",
    "    print('{}: {}'.format(cfg_key, cfg_list))"
   ]
  },
  {
   "cell_type": "code",
   "execution_count": 258,
   "metadata": {},
   "outputs": [
    {
     "name": "stdout",
     "output_type": "stream",
     "text": [
      "a_ch1: True\n",
      "d_ch2: False\n",
      "d_ch1: False\n",
      "a_ch2: True\n",
      "d_ch4: True\n",
      "d_ch3: True\n"
     ]
    }
   ],
   "source": [
    "final_state_dict = myawg.set_active_channels(\n",
    "    {'a_ch1': True, \n",
    "     'd_ch1': False, \n",
    "     'd_ch2': False, \n",
    "     'a_ch2': True, \n",
    "     'd_ch3': True,\n",
    "     'd_ch4': True}\n",
    ")\n",
    "\n",
    "for ch_key, ch_state in final_state_dict.items():\n",
    "    print('{}: {}'.format(ch_key, ch_state))"
   ]
  },
  {
   "cell_type": "code",
   "execution_count": 255,
   "metadata": {
    "scrolled": true
   },
   "outputs": [
    {
     "name": "stdout",
     "output_type": "stream",
     "text": [
      "a_ch1: False\n",
      "d_ch2: False\n",
      "d_ch1: False\n",
      "a_ch2: True\n",
      "d_ch4: False\n",
      "d_ch3: False\n"
     ]
    }
   ],
   "source": [
    "final_state_dict = myawg.set_active_channels(\n",
    "    {'a_ch1': False}\n",
    ")\n",
    "\n",
    "for ch_key, ch_state in final_state_dict.items():\n",
    "    print('{}: {}'.format(ch_key, ch_state))"
   ]
  },
  {
   "cell_type": "markdown",
   "metadata": {},
   "source": [
    "##### set_mode()"
   ]
  },
  {
   "cell_type": "code",
   "execution_count": 272,
   "metadata": {},
   "outputs": [],
   "source": [
    "myawg.set_mode('C')"
   ]
  },
  {
   "cell_type": "markdown",
   "metadata": {},
   "source": [
    "# Waveform methods"
   ]
  },
  {
   "cell_type": "markdown",
   "metadata": {},
   "source": [
    "### write_waveform(), load_waveform()"
   ]
  },
  {
   "cell_type": "markdown",
   "metadata": {},
   "source": [
    "##### write_waveform()"
   ]
  },
  {
   "cell_type": "code",
   "execution_count": 1,
   "metadata": {},
   "outputs": [],
   "source": [
    "import numpy as np"
   ]
  },
  {
   "cell_type": "markdown",
   "metadata": {},
   "source": [
    "**Both AO1 and AO2**"
   ]
  },
  {
   "cell_type": "code",
   "execution_count": 72,
   "metadata": {},
   "outputs": [],
   "source": [
    "a_samp = {\n",
    "    'a_ch1': np.array([0, 0.3, 0.5, 0, -0.3, -0.5, 0]),\n",
    "    'a_ch2': np.array([0, -0.3, -0.5, 0, 0.3, 0.5, 0])\n",
    "}\n",
    "d_samp = {\n",
    "    'd_ch1': np.array([True, False, True, True, True, True, False]),\n",
    "    'd_ch2': np.array([False, True, False, False, False, False, True]),\n",
    "    'd_ch3': np.array([True, True, True, False, True, False, True]),\n",
    "    'd_ch4': np.array([False, False, False, True, False, True, False])\n",
    "}"
   ]
  },
  {
   "cell_type": "code",
   "execution_count": 108,
   "metadata": {
    "scrolled": true
   },
   "outputs": [
    {
     "data": {
      "text/plain": [
       "(6, ['AA_test1_wfm_ch1', 'AA_test1_wfm_ch2'])"
      ]
     },
     "execution_count": 108,
     "metadata": {},
     "output_type": "execute_result"
    }
   ],
   "source": [
    "myawg.write_waveform(\n",
    "    name='AA_test1_wfm', \n",
    "    analog_samples=a_samp,\n",
    "    digital_samples=d_samp,\n",
    "    total_number_of_samples=6,\n",
    "    is_first_chunk=True, \n",
    "    is_last_chunk=True\n",
    ")"
   ]
  },
  {
   "cell_type": "markdown",
   "metadata": {},
   "source": [
    "**Only AO1**"
   ]
  },
  {
   "cell_type": "code",
   "execution_count": 210,
   "metadata": {},
   "outputs": [],
   "source": [
    "a_samp = {\n",
    "    'a_ch1': np.array([0, 0.3, 0.5, 0, -0.3, -0.5, 0])\n",
    "}\n",
    "d_samp = {\n",
    "    'd_ch1': np.array([True, False, True, True, True, True, False]),\n",
    "    'd_ch2': np.array([False, True, False, False, False, False, True])\n",
    "}"
   ]
  },
  {
   "cell_type": "code",
   "execution_count": 214,
   "metadata": {
    "scrolled": true
   },
   "outputs": [
    {
     "data": {
      "text/plain": [
       "(7, ['AA_only_ch1'])"
      ]
     },
     "execution_count": 214,
     "metadata": {},
     "output_type": "execute_result"
    }
   ],
   "source": [
    "myawg.write_waveform(\n",
    "    name='AA_only', \n",
    "    analog_samples=a_samp, \n",
    "    digital_samples=d_samp,\n",
    "    total_number_of_samples=7,\n",
    "    is_first_chunk=True,\n",
    "    is_last_chunk=True\n",
    ")"
   ]
  },
  {
   "cell_type": "code",
   "execution_count": 213,
   "metadata": {},
   "outputs": [
    {
     "data": {
      "text/plain": [
       "({1: 'AA_only_ch1', 2: ''}, 'waveform')"
      ]
     },
     "execution_count": 213,
     "metadata": {},
     "output_type": "execute_result"
    }
   ],
   "source": [
    "myawg.load_waveform({1: 'AA_only_ch1'})"
   ]
  },
  {
   "cell_type": "code",
   "execution_count": 212,
   "metadata": {},
   "outputs": [
    {
     "data": {
      "text/plain": [
       "['*Clock960', '*DC', '*PRBS - X^15+X^14+1', '*PRBS - X^7+X^6+1', '*PRBS - X^9+X^5+1', '*PRBS - X^9+X^8+X^5+X^4+1', '*Ramp10', '*Ramp100', '*Ramp1000', '*Ramp960', '*Sine10', '*Sine100', '*Sine1000', '*Sine36', '*Sine360', '*Sine3600', '*Sine960', '*Square10', '*Square100', '*Square1000', '*Square960', '*Triangle10', '*Triangle100', '*Triangle1000', '*Triangle960', 'AA_only_ch1']"
      ]
     },
     "execution_count": 212,
     "metadata": {},
     "output_type": "execute_result"
    }
   ],
   "source": [
    "myawg.get_waveform_names()"
   ]
  },
  {
   "cell_type": "code",
   "execution_count": 162,
   "metadata": {},
   "outputs": [
    {
     "data": {
      "text/plain": [
       "(7, ['AA_only_ch2'])"
      ]
     },
     "execution_count": 162,
     "metadata": {},
     "output_type": "execute_result"
    }
   ],
   "source": [
    "a_samp = {\n",
    "    'a_ch2': np.array([0, 0.3, 0.5, 0, -0.3, -0.5, 0])\n",
    "}\n",
    "d_samp = {\n",
    "    'd_ch3': np.array([True, False, True, True, True, True, False]),\n",
    "    'd_ch4': np.array([False, True, False, False, False, False, True])\n",
    "}\n",
    "\n",
    "myawg.write_waveform(\n",
    "    name='AA_only', \n",
    "    analog_samples=a_samp, \n",
    "    digital_samples=d_samp,\n",
    "    total_number_of_samples=7,\n",
    "    is_first_chunk=True,\n",
    "    is_last_chunk=True\n",
    ")"
   ]
  },
  {
   "cell_type": "code",
   "execution_count": 159,
   "metadata": {},
   "outputs": [
    {
     "data": {
      "text/plain": [
       "({1: 'AA_only_ch2', 2: ''}, 'waveform')"
      ]
     },
     "execution_count": 159,
     "metadata": {},
     "output_type": "execute_result"
    }
   ],
   "source": [
    "myawg.load_waveform({1: 'AA_only_ch2'})"
   ]
  },
  {
   "cell_type": "code",
   "execution_count": 157,
   "metadata": {},
   "outputs": [
    {
     "data": {
      "text/plain": [
       "['*Clock960', '*DC', '*PRBS - X^15+X^14+1', '*PRBS - X^7+X^6+1', '*PRBS - X^9+X^5+1', '*PRBS - X^9+X^8+X^5+X^4+1', '*Ramp10', '*Ramp100', '*Ramp1000', '*Ramp960', '*Sine10', '*Sine100', '*Sine1000', '*Sine36', '*Sine360', '*Sine3600', '*Sine960', '*Square10', '*Square100', '*Square1000', '*Square960', '*Triangle10', '*Triangle100', '*Triangle1000', '*Triangle960', 'AA_only__ch2', 'AA_only_a_ch1_ch1', 'AA_only_ch2']"
      ]
     },
     "execution_count": 157,
     "metadata": {},
     "output_type": "execute_result"
    }
   ],
   "source": [
    "myawg.get_waveform_names()"
   ]
  },
  {
   "cell_type": "markdown",
   "metadata": {},
   "source": [
    "##### load_waveform()"
   ]
  },
  {
   "cell_type": "code",
   "execution_count": 100,
   "metadata": {},
   "outputs": [
    {
     "data": {
      "text/plain": [
       "({1: 'AA_test1_wfm_ch1', 2: 'AA_test1_wfm_ch2'}, 'waveform')"
      ]
     },
     "execution_count": 100,
     "metadata": {},
     "output_type": "execute_result"
    }
   ],
   "source": [
    "myawg.load_waveform(\n",
    "    {1: 'AA_test1_wfm_ch1', 2: 'AA_test1_wfm_ch2'}\n",
    ")"
   ]
  },
  {
   "cell_type": "code",
   "execution_count": 101,
   "metadata": {},
   "outputs": [
    {
     "data": {
      "text/plain": [
       "({1: 'AA_test1_wfm_ch1', 2: 'AA_test1_wfm_ch2'}, 'waveform')"
      ]
     },
     "execution_count": 101,
     "metadata": {},
     "output_type": "execute_result"
    }
   ],
   "source": [
    "myawg.get_loaded_assets()"
   ]
  },
  {
   "cell_type": "code",
   "execution_count": 30,
   "metadata": {},
   "outputs": [
    {
     "data": {
      "text/plain": [
       "100000000.0"
      ]
     },
     "execution_count": 30,
     "metadata": {},
     "output_type": "execute_result"
    }
   ],
   "source": [
    "myawg.set_sample_rate(1e8)"
   ]
  },
  {
   "cell_type": "code",
   "execution_count": 79,
   "metadata": {},
   "outputs": [
    {
     "data": {
      "text/plain": [
       "{'a_ch1': True, 'd_ch2': True, 'd_ch1': True, 'a_ch2': True, 'd_ch4': True, 'd_ch3': True}"
      ]
     },
     "execution_count": 79,
     "metadata": {},
     "output_type": "execute_result"
    }
   ],
   "source": [
    "myawg.pulser_on()\n",
    "myawg.set_active_channels(\n",
    "    {'a_ch1': True, \n",
    "     'd_ch1': True, \n",
    "     'd_ch2': True, \n",
    "     'a_ch2': True, \n",
    "     'd_ch3': True,\n",
    "     'd_ch4': True}\n",
    ")"
   ]
  },
  {
   "cell_type": "code",
   "execution_count": 80,
   "metadata": {
    "scrolled": true
   },
   "outputs": [
    {
     "data": {
      "text/plain": [
       "{'a_ch1': False, 'd_ch2': False, 'd_ch1': False, 'a_ch2': False, 'd_ch4': False, 'd_ch3': False}"
      ]
     },
     "execution_count": 80,
     "metadata": {},
     "output_type": "execute_result"
    }
   ],
   "source": [
    "myawg.pulser_off()\n",
    "myawg.set_active_channels(\n",
    "    {'a_ch1': False, \n",
    "     'd_ch1': False, \n",
    "     'd_ch2': False, \n",
    "     'a_ch2': False, \n",
    "     'd_ch3': False,\n",
    "     'd_ch4': False}\n",
    ")"
   ]
  },
  {
   "cell_type": "code",
   "execution_count": 59,
   "metadata": {},
   "outputs": [
    {
     "data": {
      "text/plain": [
       "['*Clock960', '*DC', '*PRBS - X^15+X^14+1', '*PRBS - X^7+X^6+1', '*PRBS - X^9+X^5+1', '*PRBS - X^9+X^8+X^5+X^4+1', '*Ramp10', '*Ramp100', '*Ramp1000', '*Ramp960', '*Sine10', '*Sine100', '*Sine1000', '*Sine36', '*Sine360', '*Sine3600', '*Sine960', '*Square10', '*Square100', '*Square1000', '*Square960', '*Triangle10', '*Triangle100', '*Triangle1000', '*Triangle960', 'AA_test1_wfm_ch1', 'AA_test1_wfm_ch2']"
      ]
     },
     "execution_count": 59,
     "metadata": {},
     "output_type": "execute_result"
    }
   ],
   "source": [
    "myawg.get_waveform_names()"
   ]
  },
  {
   "cell_type": "code",
   "execution_count": 102,
   "metadata": {},
   "outputs": [
    {
     "data": {
      "text/plain": [
       "({1: '*Sine960', 2: '*Triangle960'}, 'waveform')"
      ]
     },
     "execution_count": 102,
     "metadata": {},
     "output_type": "execute_result"
    }
   ],
   "source": [
    "myawg.load_waveform(\n",
    "    {1: '*Sine960', 2: '*Triangle960'}\n",
    ")"
   ]
  },
  {
   "cell_type": "markdown",
   "metadata": {},
   "source": [
    "##### get_loaded_assets()"
   ]
  },
  {
   "cell_type": "code",
   "execution_count": null,
   "metadata": {},
   "outputs": [],
   "source": [
    "myawg.delete_waveform('AA_test1_wfm_ch1')"
   ]
  },
  {
   "cell_type": "code",
   "execution_count": 115,
   "metadata": {},
   "outputs": [
    {
     "data": {
      "text/plain": [
       "({1: '*Sine960', 2: 'AA_test1_wfm_ch2'}, 'waveform')"
      ]
     },
     "execution_count": 115,
     "metadata": {},
     "output_type": "execute_result"
    }
   ],
   "source": [
    "myawg.load_waveform({2: 'AA_test1_wfm_ch2'})"
   ]
  },
  {
   "cell_type": "code",
   "execution_count": 117,
   "metadata": {},
   "outputs": [
    {
     "data": {
      "text/plain": [
       "({1: '*Sine960', 2: '*Triangle960'}, 'waveform')"
      ]
     },
     "execution_count": 117,
     "metadata": {},
     "output_type": "execute_result"
    }
   ],
   "source": [
    "myawg.get_loaded_assets()"
   ]
  },
  {
   "cell_type": "code",
   "execution_count": 118,
   "metadata": {},
   "outputs": [
    {
     "data": {
      "text/plain": [
       "({1: '*Sine960', 2: 'AA_test1_wfm_ch1'}, 'waveform')"
      ]
     },
     "execution_count": 118,
     "metadata": {},
     "output_type": "execute_result"
    }
   ],
   "source": [
    "myawg.get_loaded_assets()"
   ]
  },
  {
   "cell_type": "code",
   "execution_count": 119,
   "metadata": {},
   "outputs": [
    {
     "data": {
      "text/plain": [
       "({1: '', 2: 'AA_test1_wfm_ch1'}, 'waveform')"
      ]
     },
     "execution_count": 119,
     "metadata": {},
     "output_type": "execute_result"
    }
   ],
   "source": [
    "myawg.get_loaded_assets()"
   ]
  },
  {
   "cell_type": "code",
   "execution_count": 120,
   "metadata": {},
   "outputs": [
    {
     "data": {
      "text/plain": [
       "({}, 'sequence')"
      ]
     },
     "execution_count": 120,
     "metadata": {},
     "output_type": "execute_result"
    }
   ],
   "source": [
    "myawg.get_loaded_assets()"
   ]
  },
  {
   "cell_type": "code",
   "execution_count": 127,
   "metadata": {
    "scrolled": true
   },
   "outputs": [
    {
     "data": {
      "text/plain": [
       "({1: '*Sine1000', 2: 'AA_test1_wfm_ch1'}, 'waveform')"
      ]
     },
     "execution_count": 127,
     "metadata": {},
     "output_type": "execute_result"
    }
   ],
   "source": [
    "myawg.get_loaded_assets()"
   ]
  },
  {
   "cell_type": "markdown",
   "metadata": {},
   "source": [
    "##### get_waveform_names()"
   ]
  },
  {
   "cell_type": "code",
   "execution_count": 145,
   "metadata": {
    "scrolled": true
   },
   "outputs": [
    {
     "data": {
      "text/plain": [
       "['*Clock960', '*DC', '*PRBS - X^15+X^14+1', '*PRBS - X^7+X^6+1', '*PRBS - X^9+X^5+1', '*PRBS - X^9+X^8+X^5+X^4+1', '*Ramp10', '*Ramp100', '*Ramp1000', '*Ramp960', '*Sine10', '*Sine100', '*Sine1000', '*Sine36', '*Sine360', '*Sine3600', '*Sine960', '*Square10', '*Square100', '*Square1000', '*Square960', '*Triangle10', '*Triangle100', '*Triangle1000', '*Triangle960']"
      ]
     },
     "execution_count": 145,
     "metadata": {},
     "output_type": "execute_result"
    }
   ],
   "source": [
    "myawg.get_waveform_names()"
   ]
  },
  {
   "cell_type": "markdown",
   "metadata": {},
   "source": [
    "##### load_waveform()"
   ]
  },
  {
   "cell_type": "code",
   "execution_count": 131,
   "metadata": {},
   "outputs": [
    {
     "data": {
      "text/plain": [
       "({1: '*Clock960', 2: 'AA_test1_wfm_ch1'}, 'waveform')"
      ]
     },
     "execution_count": 131,
     "metadata": {},
     "output_type": "execute_result"
    }
   ],
   "source": [
    "myawg.load_waveform({1: '*Clock960'})"
   ]
  },
  {
   "cell_type": "code",
   "execution_count": 132,
   "metadata": {
    "scrolled": true
   },
   "outputs": [
    {
     "data": {
      "text/plain": [
       "({1: '*Clock960', 2: '*PRBS - X^15+X^14+1'}, 'waveform')"
      ]
     },
     "execution_count": 132,
     "metadata": {},
     "output_type": "execute_result"
    }
   ],
   "source": [
    "myawg.load_waveform({2: '*PRBS - X^15+X^14+1'})"
   ]
  },
  {
   "cell_type": "code",
   "execution_count": 143,
   "metadata": {
    "scrolled": true
   },
   "outputs": [
    {
     "data": {
      "text/plain": [
       "({1: '*Ramp10', 2: '*PRBS - X^15+X^14+1'}, 'waveform')"
      ]
     },
     "execution_count": 143,
     "metadata": {},
     "output_type": "execute_result"
    }
   ],
   "source": [
    "myawg.load_waveform({1: '*Ramp10'})"
   ]
  },
  {
   "cell_type": "markdown",
   "metadata": {},
   "source": [
    "##### delete_waveform()"
   ]
  },
  {
   "cell_type": "code",
   "execution_count": 144,
   "metadata": {
    "scrolled": true
   },
   "outputs": [
    {
     "data": {
      "text/plain": [
       "[]"
      ]
     },
     "execution_count": 144,
     "metadata": {},
     "output_type": "execute_result"
    }
   ],
   "source": [
    "myawg.delete_waveform('Untitled27')"
   ]
  },
  {
   "cell_type": "markdown",
   "metadata": {},
   "source": [
    "##### clear_all()"
   ]
  },
  {
   "cell_type": "code",
   "execution_count": 209,
   "metadata": {},
   "outputs": [
    {
     "data": {
      "text/plain": [
       "0"
      ]
     },
     "execution_count": 209,
     "metadata": {},
     "output_type": "execute_result"
    }
   ],
   "source": [
    "myawg.clear_all()"
   ]
  },
  {
   "cell_type": "markdown",
   "metadata": {},
   "source": [
    "# sequence_generator_logic.py"
   ]
  },
  {
   "cell_type": "markdown",
   "metadata": {},
   "source": [
    "## Pulse generator control methods and properties"
   ]
  },
  {
   "cell_type": "markdown",
   "metadata": {},
   "source": [
    "#### pulse_generator_settings property"
   ]
  },
  {
   "cell_type": "code",
   "execution_count": 35,
   "metadata": {
    "scrolled": true
   },
   "outputs": [
    {
     "name": "stdout",
     "output_type": "stream",
     "text": [
      "activation_config: ('all', {'d_ch1', 'd_ch2', 'a_ch2', 'a_ch1', 'd_ch4', 'd_ch3'})\n",
      "sample_rate: 100000000.0\n",
      "analog_levels: ({'a_ch1': 1.0, 'a_ch2': 1.0}, {'a_ch1': 0.0, 'a_ch2': 0.0})\n",
      "digital_levels: ({'d_ch1': 0.0, 'd_ch2': 0.0, 'd_ch3': 0.0, 'd_ch4': 0.0}, {'d_ch1': 1.0, 'd_ch2': 1.0, 'd_ch3': 1.0, 'd_ch4': 1.0})\n",
      "interleave: False\n"
     ]
    }
   ],
   "source": [
    "pg_sett_dict = sequencegeneratorlogic.pulse_generator_settings\n",
    "\n",
    "for dict_key in pg_sett_dict:\n",
    "    print('{}: {}'.format(dict_key, pg_sett_dict[dict_key]))"
   ]
  },
  {
   "cell_type": "code",
   "execution_count": 34,
   "metadata": {},
   "outputs": [
    {
     "data": {
      "text/plain": [
       "set()"
      ]
     },
     "execution_count": 34,
     "metadata": {},
     "output_type": "execute_result"
    }
   ],
   "source": [
    "sequencegeneratorlogic._apply_activation_config(\n",
    "    {'a_ch1': False,\n",
    "    'd_ch2': False,\n",
    "    'd_ch1': False,\n",
    "    'a_ch2': False,\n",
    "    'd_ch4': False,\n",
    "    'd_ch3': False}                \n",
    ")"
   ]
  },
  {
   "cell_type": "markdown",
   "metadata": {},
   "source": [
    "#### set_pulse_generator_settings()"
   ]
  },
  {
   "cell_type": "code",
   "execution_count": 1,
   "metadata": {},
   "outputs": [
    {
     "data": {
      "text/plain": [
       "(0, {-1: 'Failed Request or Communication', 0: 'Device has stopped, but can receive commands', 1: 'Device is active and running', 2: 'Device is waiting for trigger.'})"
      ]
     },
     "execution_count": 1,
     "metadata": {},
     "output_type": "execute_result"
    }
   ],
   "source": [
    "myawg.get_status()"
   ]
  },
  {
   "cell_type": "code",
   "execution_count": 63,
   "metadata": {},
   "outputs": [
    {
     "name": "stderr",
     "output_type": "stream",
     "text": [
      "Traceback (most recent call last):\n",
      "  File \"C:\\Users\\Lukin SiV\\qudi\\logic\\jupyterkernel\\qzmqkernel.py\", line 795, in run_code\n",
      "    exec(code_obj, self.user_global_ns, self.user_ns)\n",
      "  File \"<ipython-input-63-23903eb7e03a>\", line 7, in <module>\n",
      "    sequencegeneratorlogic.set_pulse_generator_settings(settings_dict=new_sett_dict)\n",
      "  File \"C:\\Users\\Lukin SiV\\qudi\\logic\\pulsed\\sequence_generator_logic.py\", line 383, in set_pulse_generator_settings\n",
      "    *settings_dict['analog_levels'])\n",
      "  File \"C:\\Users\\Lukin SiV\\qudi\\hardware\\awg\\tektronix_awg7k.py\", line 594, in set_analog_level\n",
      "    if amplitude[chnl] < constraints.a_ch_amplitude.min:\n",
      "KeyError: 'a_ch2'\n"
     ]
    }
   ],
   "source": [
    "new_sett_dict = {\n",
    "    'sample_rate': 7422e6,\n",
    "    'interleave': False,\n",
    "    'analog_levels': ({'a_ch1': 0.5, 'a_ch2': 1}, {'a_ch1': 0, 'a_ch2': 0})\n",
    "}\n",
    "\n",
    "sequencegeneratorlogic.set_pulse_generator_settings(settings_dict=new_sett_dict)"
   ]
  },
  {
   "cell_type": "code",
   "execution_count": 43,
   "metadata": {},
   "outputs": [
    {
     "data": {
      "text/plain": [
       "({'a_ch1': 1.0, 'a_ch2': 1.0}, {'a_ch1': 0.0, 'a_ch2': 0.0})"
      ]
     },
     "execution_count": 43,
     "metadata": {},
     "output_type": "execute_result"
    }
   ],
   "source": [
    "myawg.set_analog_level(amplitude={'a_ch1': 0.5, 'a_ch2': 1}, offset={'a_ch1': 0, 'a_ch2': 0})"
   ]
  },
  {
   "cell_type": "code",
   "execution_count": 31,
   "metadata": {},
   "outputs": [
    {
     "data": {
      "text/plain": [
       "0"
      ]
     },
     "execution_count": 31,
     "metadata": {},
     "output_type": "execute_result"
    }
   ],
   "source": [
    "myawg.write('SOUR1:VOLT:AMPL 1')"
   ]
  },
  {
   "cell_type": "code",
   "execution_count": 88,
   "metadata": {},
   "outputs": [
    {
     "name": "stderr",
     "output_type": "stream",
     "text": [
      "Traceback (most recent call last):\n",
      "  File \"C:\\Users\\Lukin SiV\\qudi\\logic\\jupyterkernel\\qzmqkernel.py\", line 795, in run_code\n",
      "    exec(code_obj, self.user_global_ns, self.user_ns)\n",
      "  File \"<ipython-input-88-b2a5e34797c2>\", line 8, in <module>\n",
      "    'd_ch3': False}\n",
      "  File \"C:\\Users\\Lukin SiV\\qudi\\logic\\pulsed\\sequence_generator_logic.py\", line 365, in set_pulse_generator_settings\n",
      "    new_channel = digi_chnls[0] if digi_chnls else ana_chnls[0]\n",
      "IndexError: list index out of range\n"
     ]
    }
   ],
   "source": [
    "sequencegeneratorlogic.set_pulse_generator_settings(\n",
    "    settings_dict={'activation_config': \n",
    "                   {'a_ch1': False,\n",
    "                    'd_ch2': False,\n",
    "                    'd_ch1': False,\n",
    "                    'a_ch2': False,\n",
    "                    'd_ch4': False,\n",
    "                    'd_ch3': False}                \n",
    "                  }\n",
    ")"
   ]
  },
  {
   "cell_type": "code",
   "execution_count": 89,
   "metadata": {},
   "outputs": [
    {
     "data": {
      "text/plain": [
       "set()"
      ]
     },
     "execution_count": 89,
     "metadata": {},
     "output_type": "execute_result"
    }
   ],
   "source": [
    "sequencegeneratorlogic.analog_channels"
   ]
  },
  {
   "cell_type": "code",
   "execution_count": 2,
   "metadata": {},
   "outputs": [
    {
     "data": {
      "text/plain": [
       "{}"
      ]
     },
     "execution_count": 2,
     "metadata": {},
     "output_type": "execute_result"
    }
   ],
   "source": [
    "pulsedmeasurementlogic.measurement_information"
   ]
  },
  {
   "cell_type": "code",
   "execution_count": 33,
   "metadata": {},
   "outputs": [],
   "source": [
    "sequencegeneratorlogic._read_settings_from_device()"
   ]
  },
  {
   "cell_type": "code",
   "execution_count": 15,
   "metadata": {},
   "outputs": [
    {
     "data": {
      "text/plain": [
       "100000000.0"
      ]
     },
     "execution_count": 15,
     "metadata": {},
     "output_type": "execute_result"
    }
   ],
   "source": [
    "sequencegeneratorlogic.pulsegenerator().get_sample_rate()"
   ]
  },
  {
   "cell_type": "code",
   "execution_count": 16,
   "metadata": {},
   "outputs": [
    {
     "data": {
      "text/plain": [
       "({'a_ch1': 1.0, 'a_ch2': 1.0}, {'a_ch1': 0.0, 'a_ch2': 0.0})"
      ]
     },
     "execution_count": 16,
     "metadata": {},
     "output_type": "execute_result"
    }
   ],
   "source": [
    "sequencegeneratorlogic.pulsegenerator().get_analog_level()"
   ]
  },
  {
   "cell_type": "code",
   "execution_count": 17,
   "metadata": {},
   "outputs": [
    {
     "data": {
      "text/plain": [
       "({'d_ch1': 0.0, 'd_ch2': 0.0, 'd_ch3': 0.0, 'd_ch4': 0.0}, {'d_ch1': 1.0, 'd_ch2': 1.0, 'd_ch3': 1.0, 'd_ch4': 1.0})"
      ]
     },
     "execution_count": 17,
     "metadata": {},
     "output_type": "execute_result"
    }
   ],
   "source": [
    "sequencegeneratorlogic.pulsegenerator().get_digital_level()"
   ]
  },
  {
   "cell_type": "code",
   "execution_count": 18,
   "metadata": {},
   "outputs": [
    {
     "data": {
      "text/plain": [
       "False"
      ]
     },
     "execution_count": 18,
     "metadata": {},
     "output_type": "execute_result"
    }
   ],
   "source": [
    "sequencegeneratorlogic.pulsegenerator().get_interleave()"
   ]
  },
  {
   "cell_type": "code",
   "execution_count": 19,
   "metadata": {},
   "outputs": [
    {
     "name": "stderr",
     "output_type": "stream",
     "text": [
      "Traceback (most recent call last):\n",
      "  File \"C:\\Users\\Lukin SiV\\qudi\\logic\\jupyterkernel\\qzmqkernel.py\", line 795, in run_code\n",
      "    exec(code_obj, self.user_global_ns, self.user_ns)\n",
      "  File \"<ipython-input-19-987c81df2aea>\", line 1, in <module>\n",
      "    sequencegeneratorlogic.__analog_levels\n",
      "AttributeError: 'SequenceGeneratorLogic' object has no attribute '__analog_levels'\n"
     ]
    }
   ],
   "source": [
    "sequencegeneratorlogic.__analog_levels"
   ]
  },
  {
   "cell_type": "code",
   "execution_count": 1,
   "metadata": {
    "scrolled": false
   },
   "outputs": [
    {
     "data": {
      "text/plain": [
       "OrderedDict([('laser_channel', 'd_ch1'), ('sync_channel', 'd_ch1'), ('gate_channel', 'd_ch1'), ('microwave_channel', 'a_ch1'), ('microwave_frequency', 2870000000.0), ('microwave_amplitude', 0.0), ('rabi_period', 1e-07), ('laser_length', 3e-06), ('laser_delay', 5e-07), ('wait_time', 1e-06), ('analog_trigger_voltage', 0.0)])"
      ]
     },
     "execution_count": 1,
     "metadata": {},
     "output_type": "execute_result"
    }
   ],
   "source": [
    "sequencegeneratorlogic._generation_parameters"
   ]
  },
  {
   "cell_type": "code",
   "execution_count": null,
   "metadata": {},
   "outputs": [],
   "source": []
  },
  {
   "cell_type": "code",
   "execution_count": null,
   "metadata": {},
   "outputs": [],
   "source": []
  },
  {
   "cell_type": "code",
   "execution_count": 11,
   "metadata": {
    "scrolled": true
   },
   "outputs": [
    {
     "name": "stderr",
     "output_type": "stream",
     "text": [
      "Traceback (most recent call last):\n",
      "  File \"C:\\Users\\Lukin SiV\\qudi\\logic\\jupyterkernel\\qzmqkernel.py\", line 795, in run_code\n",
      "    exec(code_obj, self.user_global_ns, self.user_ns)\n",
      "  File \"<ipython-input-11-2a3857721711>\", line 1, in <module>\n",
      "    sequencegeneratorlogic.__activation_config\n",
      "AttributeError: 'SequenceGeneratorLogic' object has no attribute '__activation_config'\n"
     ]
    }
   ],
   "source": [
    "sequencegeneratorlogic.__activation_config"
   ]
  },
  {
   "cell_type": "code",
   "execution_count": 10,
   "metadata": {},
   "outputs": [
    {
     "data": {
      "text/plain": [
       "'C:\\\\Users\\\\Lukin SiV\\\\saved_pulsed_assets'"
      ]
     },
     "execution_count": 10,
     "metadata": {},
     "output_type": "execute_result"
    }
   ],
   "source": [
    "sequencegeneratorlogic._assets_storage_dir"
   ]
  },
  {
   "cell_type": "code",
   "execution_count": null,
   "metadata": {},
   "outputs": [],
   "source": []
  }
 ],
 "metadata": {
  "kernelspec": {
   "display_name": "Qudi",
   "language": "python",
   "name": "qudi"
  },
  "language_info": {
   "codemirror_mode": {
    "name": "ipython",
    "version": "3.6.5"
   },
   "file_extension": ".py",
   "mimetype": "text/x-python",
   "name": "python",
   "nbconvert_exporter": "python",
   "pygments_lexer": "ipython3",
   "version": "3.6.5"
  }
 },
 "nbformat": 4,
 "nbformat_minor": 2
}
