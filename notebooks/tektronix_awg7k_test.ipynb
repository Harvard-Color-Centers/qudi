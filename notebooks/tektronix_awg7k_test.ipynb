{
 "cells": [
  {
   "cell_type": "markdown",
   "metadata": {},
   "source": [
    "# Test of the new driver for Tektronix 7k AWG"
   ]
  },
  {
   "cell_type": "markdown",
   "metadata": {},
   "source": [
    "`Found TEKTRONIX AWG7122C Serial: B051135 FW: SCPI:99.0 FW:4.6.0.7 options: ['01', '06', '08', '09']`"
   ]
  },
  {
   "cell_type": "markdown",
   "metadata": {},
   "source": [
    "## Basic commands and Hardware settings"
   ]
  },
  {
   "cell_type": "markdown",
   "metadata": {},
   "source": [
    "### Basic commands"
   ]
  },
  {
   "cell_type": "markdown",
   "metadata": {},
   "source": [
    "#### write()"
   ]
  },
  {
   "cell_type": "code",
   "execution_count": 4,
   "metadata": {},
   "outputs": [
    {
     "data": {
      "text/plain": [
       "0"
      ]
     },
     "execution_count": 4,
     "metadata": {},
     "output_type": "execute_result"
    }
   ],
   "source": [
    "myawg.write('*RST')"
   ]
  },
  {
   "cell_type": "code",
   "execution_count": 5,
   "metadata": {},
   "outputs": [
    {
     "data": {
      "text/plain": [
       "True"
      ]
     },
     "execution_count": 5,
     "metadata": {},
     "output_type": "execute_result"
    }
   ],
   "source": [
    "myawg.write('OUTPUT1:STATE ON')\n",
    "myawg.get_errors()"
   ]
  },
  {
   "cell_type": "code",
   "execution_count": 6,
   "metadata": {},
   "outputs": [
    {
     "data": {
      "text/plain": [
       "0"
      ]
     },
     "execution_count": 6,
     "metadata": {},
     "output_type": "execute_result"
    }
   ],
   "source": [
    "myawg.load_waveform({1: '*Ramp10'})\n",
    "myawg.write('OUTPUT1:STATE ON')"
   ]
  },
  {
   "cell_type": "code",
   "execution_count": 7,
   "metadata": {},
   "outputs": [
    {
     "data": {
      "text/plain": [
       "0"
      ]
     },
     "execution_count": 7,
     "metadata": {},
     "output_type": "execute_result"
    }
   ],
   "source": [
    "myawg.write('OUTPUT1:STATE OFF')"
   ]
  },
  {
   "cell_type": "markdown",
   "metadata": {},
   "source": [
    "#### read()"
   ]
  },
  {
   "cell_type": "code",
   "execution_count": 8,
   "metadata": {},
   "outputs": [
    {
     "data": {
      "text/plain": [
       "'TEKTRONIX,AWG7122C,B051135,SCPI:99.0 FW:4.6.0.7 '"
      ]
     },
     "execution_count": 8,
     "metadata": {},
     "output_type": "execute_result"
    }
   ],
   "source": [
    "myawg.write('*IDN?')\n",
    "myawg.read()"
   ]
  },
  {
   "cell_type": "markdown",
   "metadata": {},
   "source": [
    "#### query()"
   ]
  },
  {
   "cell_type": "code",
   "execution_count": 10,
   "metadata": {},
   "outputs": [
    {
     "data": {
      "text/plain": [
       "'TEKTRONIX,AWG7122C,B051135,SCPI:99.0 FW:4.6.0.7'"
      ]
     },
     "execution_count": 10,
     "metadata": {},
     "output_type": "execute_result"
    }
   ],
   "source": [
    "myawg.query('*IDN?')"
   ]
  },
  {
   "cell_type": "code",
   "execution_count": 11,
   "metadata": {},
   "outputs": [
    {
     "data": {
      "text/plain": [
       "'1'"
      ]
     },
     "execution_count": 11,
     "metadata": {},
     "output_type": "execute_result"
    }
   ],
   "source": [
    "myawg.write('OUTPUT1:STATE ON')\n",
    "myawg.query('OUTPUT1:STATE?')"
   ]
  },
  {
   "cell_type": "code",
   "execution_count": 12,
   "metadata": {},
   "outputs": [
    {
     "data": {
      "text/plain": [
       "'0'"
      ]
     },
     "execution_count": 12,
     "metadata": {},
     "output_type": "execute_result"
    }
   ],
   "source": [
    "myawg.write('OUTPUT1:STATE OFF')\n",
    "myawg.query('OUTPUT1:STATE?')"
   ]
  },
  {
   "cell_type": "markdown",
   "metadata": {},
   "source": [
    "#### reset()"
   ]
  },
  {
   "cell_type": "code",
   "execution_count": 13,
   "metadata": {},
   "outputs": [
    {
     "data": {
      "text/plain": [
       "0"
      ]
     },
     "execution_count": 13,
     "metadata": {},
     "output_type": "execute_result"
    }
   ],
   "source": [
    "myawg.reset()  # works"
   ]
  },
  {
   "cell_type": "markdown",
   "metadata": {},
   "source": [
    "#### get_status()"
   ]
  },
  {
   "cell_type": "code",
   "execution_count": 6,
   "metadata": {},
   "outputs": [
    {
     "data": {
      "text/plain": [
       "(0, {-1: 'Failed Request or Communication', 0: 'Device has stopped, but can receive commands', 1: 'Device is active and running', 2: 'Device is waiting for trigger.'})"
      ]
     },
     "execution_count": 6,
     "metadata": {},
     "output_type": "execute_result"
    }
   ],
   "source": [
    "myawg.pulser_off()\n",
    "myawg.get_status()"
   ]
  },
  {
   "cell_type": "code",
   "execution_count": 5,
   "metadata": {},
   "outputs": [
    {
     "data": {
      "text/plain": [
       "(2, {-1: 'Failed Request or Communication', 0: 'Device has stopped, but can receive commands', 1: 'Device is active and running', 2: 'Device is waiting for trigger.'})"
      ]
     },
     "execution_count": 5,
     "metadata": {},
     "output_type": "execute_result"
    }
   ],
   "source": [
    "myawg.pulser_on()\n",
    "myawg.get_status()"
   ]
  },
  {
   "cell_type": "markdown",
   "metadata": {},
   "source": [
    "#### get_errors()"
   ]
  },
  {
   "cell_type": "code",
   "execution_count": 27,
   "metadata": {},
   "outputs": [
    {
     "data": {
      "text/plain": [
       "False"
      ]
     },
     "execution_count": 27,
     "metadata": {},
     "output_type": "execute_result"
    }
   ],
   "source": [
    "myawg.get_errors()"
   ]
  },
  {
   "cell_type": "code",
   "execution_count": 25,
   "metadata": {},
   "outputs": [
    {
     "data": {
      "text/plain": [
       "True"
      ]
     },
     "execution_count": 25,
     "metadata": {},
     "output_type": "execute_result"
    }
   ],
   "source": [
    "myawg.get_errors()"
   ]
  },
  {
   "cell_type": "markdown",
   "metadata": {},
   "source": [
    "```\n",
    "AWG7122C error: -100 \"Command error; Command not allowed - *IDN\n",
    "AWG7122C error: -101 \"Invalid character; Unexpected character found - OUTPUT1:STATE ?\n",
    "```"
   ]
  },
  {
   "cell_type": "code",
   "execution_count": 30,
   "metadata": {},
   "outputs": [
    {
     "data": {
      "text/plain": [
       "True"
      ]
     },
     "execution_count": 30,
     "metadata": {},
     "output_type": "execute_result"
    }
   ],
   "source": [
    "myawg.set_active_channels({'a_ch2': True})\n",
    "myawg.get_errors(level='warn')"
   ]
  },
  {
   "cell_type": "code",
   "execution_count": 32,
   "metadata": {},
   "outputs": [
    {
     "data": {
      "text/plain": [
       "True"
      ]
     },
     "execution_count": 32,
     "metadata": {},
     "output_type": "execute_result"
    }
   ],
   "source": [
    "myawg.set_active_channels({'a_ch2': True})\n",
    "myawg.get_errors()"
   ]
  },
  {
   "cell_type": "markdown",
   "metadata": {},
   "source": [
    "### Hardware settings"
   ]
  },
  {
   "cell_type": "markdown",
   "metadata": {},
   "source": [
    "#### get_constraints()"
   ]
  },
  {
   "cell_type": "code",
   "execution_count": 41,
   "metadata": {},
   "outputs": [
    {
     "data": {
      "text/plain": [
       "<class 'interface.pulser_interface.PulserConstraints'>"
      ]
     },
     "execution_count": 41,
     "metadata": {},
     "output_type": "execute_result"
    }
   ],
   "source": [
    "constr_obj = myawg.get_constraints()\n",
    "type(constr_obj)"
   ]
  },
  {
   "cell_type": "code",
   "execution_count": 44,
   "metadata": {},
   "outputs": [
    {
     "name": "stdout",
     "output_type": "stream",
     "text": [
      "min: 10.0 MHz\n",
      "max: 12.0 GHz\n",
      "stp: 10.0 MHz\n",
      "def: 12.0 GHz\n"
     ]
    }
   ],
   "source": [
    "myawg.set_interleave(False)\n",
    "constr_obj = myawg.get_constraints()\n",
    "\n",
    "print('min: {} MHz'.format(constr_obj.sample_rate.min/1e6))\n",
    "print('max: {} GHz'.format(constr_obj.sample_rate.max/1e9))\n",
    "print('stp: {} MHz'.format(constr_obj.sample_rate.step/1e6))\n",
    "print('def: {} GHz'.format(constr_obj.sample_rate.default/1e9))"
   ]
  },
  {
   "cell_type": "code",
   "execution_count": 43,
   "metadata": {},
   "outputs": [
    {
     "name": "stdout",
     "output_type": "stream",
     "text": [
      "min: 12000.0 MHz\n",
      "max: 24.0 GHz\n",
      "stp: 0.0005 MHz\n",
      "def: 24.0 GHz\n"
     ]
    }
   ],
   "source": [
    "myawg.set_interleave(True)\n",
    "constr_obj = myawg.get_constraints()\n",
    "\n",
    "print('min: {} MHz'.format(constr_obj.sample_rate.min/1e6))\n",
    "print('max: {} GHz'.format(constr_obj.sample_rate.max/1e9))\n",
    "print('stp: {} MHz'.format(constr_obj.sample_rate.step/1e6))\n",
    "print('def: {} GHz'.format(constr_obj.sample_rate.default/1e9))"
   ]
  },
  {
   "cell_type": "code",
   "execution_count": 45,
   "metadata": {},
   "outputs": [
    {
     "name": "stdout",
     "output_type": "stream",
     "text": [
      ": set()\n",
      "all: {'a_ch1', 'd_ch2', 'd_ch1', 'a_ch2', 'd_ch4', 'd_ch3'}\n",
      "A1_M1_M2: {'a_ch1', 'd_ch2', 'd_ch1'}\n",
      "A2_M3_M4: {'d_ch4', 'd_ch3', 'a_ch2'}\n",
      "Two_Analog: {'a_ch1', 'a_ch2'}\n",
      "Analog1: {'a_ch1'}\n",
      "Analog2: {'a_ch2'}\n",
      "A1_M1_M2_A2: {'a_ch1', 'd_ch2', 'a_ch2', 'd_ch1'}\n",
      "A1_A2_M3_M4: {'d_ch4', 'd_ch3', 'a_ch1', 'a_ch2'}\n"
     ]
    }
   ],
   "source": [
    "allowed_patterns = constr_obj.activation_config\n",
    "for pattern_name, pattern_set in allowed_patterns.items():\n",
    "    print('{}: {}'.format(pattern_name, pattern_set))"
   ]
  },
  {
   "cell_type": "markdown",
   "metadata": {},
   "source": [
    "#### set_mode(), get_mode()"
   ]
  },
  {
   "cell_type": "code",
   "execution_count": 50,
   "metadata": {},
   "outputs": [
    {
     "data": {
      "text/plain": [
       "'C'"
      ]
     },
     "execution_count": 50,
     "metadata": {},
     "output_type": "execute_result"
    }
   ],
   "source": [
    "myawg.set_mode('C')\n",
    "myawg.get_mode()"
   ]
  },
  {
   "cell_type": "code",
   "execution_count": 46,
   "metadata": {},
   "outputs": [
    {
     "data": {
      "text/plain": [
       "'T'"
      ]
     },
     "execution_count": 46,
     "metadata": {},
     "output_type": "execute_result"
    }
   ],
   "source": [
    "myawg.set_mode('T')\n",
    "myawg.get_mode()"
   ]
  },
  {
   "cell_type": "code",
   "execution_count": 48,
   "metadata": {},
   "outputs": [
    {
     "data": {
      "text/plain": [
       "'G'"
      ]
     },
     "execution_count": 48,
     "metadata": {},
     "output_type": "execute_result"
    }
   ],
   "source": [
    "myawg.set_mode('G')\n",
    "myawg.get_mode()"
   ]
  },
  {
   "cell_type": "code",
   "execution_count": 49,
   "metadata": {},
   "outputs": [
    {
     "data": {
      "text/plain": [
       "'S'"
      ]
     },
     "execution_count": 49,
     "metadata": {},
     "output_type": "execute_result"
    }
   ],
   "source": [
    "myawg.set_mode('S')\n",
    "myawg.get_mode()"
   ]
  },
  {
   "cell_type": "markdown",
   "metadata": {},
   "source": [
    "#### set/get_sample_rate()"
   ]
  },
  {
   "cell_type": "code",
   "execution_count": 51,
   "metadata": {},
   "outputs": [
    {
     "data": {
      "text/plain": [
       "15000000.0"
      ]
     },
     "execution_count": 51,
     "metadata": {},
     "output_type": "execute_result"
    }
   ],
   "source": [
    "myawg.set_sample_rate(15e6)"
   ]
  },
  {
   "cell_type": "code",
   "execution_count": 52,
   "metadata": {},
   "outputs": [
    {
     "data": {
      "text/plain": [
       "10000000.0"
      ]
     },
     "execution_count": 52,
     "metadata": {},
     "output_type": "execute_result"
    }
   ],
   "source": [
    "myawg.set_sample_rate(-15e6)"
   ]
  },
  {
   "cell_type": "code",
   "execution_count": 53,
   "metadata": {},
   "outputs": [
    {
     "data": {
      "text/plain": [
       "23000000000.0"
      ]
     },
     "execution_count": 53,
     "metadata": {},
     "output_type": "execute_result"
    }
   ],
   "source": [
    "myawg.set_interleave(True)\n",
    "myawg.set_sample_rate(23e9)"
   ]
  },
  {
   "cell_type": "code",
   "execution_count": 54,
   "metadata": {},
   "outputs": [
    {
     "data": {
      "text/plain": [
       "12000000000.0"
      ]
     },
     "execution_count": 54,
     "metadata": {},
     "output_type": "execute_result"
    }
   ],
   "source": [
    "myawg.set_interleave(False)\n",
    "myawg.set_sample_rate(23e9)"
   ]
  },
  {
   "cell_type": "markdown",
   "metadata": {},
   "source": [
    "#### set/get_analog_level()"
   ]
  },
  {
   "cell_type": "code",
   "execution_count": 63,
   "metadata": {},
   "outputs": [
    {
     "name": "stdout",
     "output_type": "stream",
     "text": [
      "a_ch1: amp=0.6, offset=0.0\n",
      "a_ch2: amp=0.9, offset=0.0\n"
     ]
    }
   ],
   "source": [
    "ampl_res, offset_res = myawg.set_analog_level(\n",
    "    amplitude={'a_ch1': 0.6, 'a_ch2': 0.9},\n",
    "    offset={'a_ch1': 0, 'a_ch2': 0}  # Offset in not supported for options [02] and [06]\n",
    ")\n",
    "\n",
    "for ch_key in ampl_res:\n",
    "    print('{}: amp={}, offset={}'.format(ch_key, ampl_res[ch_key], offset_res[ch_key]))"
   ]
  },
  {
   "cell_type": "code",
   "execution_count": 67,
   "metadata": {},
   "outputs": [
    {
     "name": "stdout",
     "output_type": "stream",
     "text": [
      "a_ch1: amp=1.0, offset=0.0\n",
      "a_ch2: amp=0.9, offset=0.0\n"
     ]
    }
   ],
   "source": [
    "ampl_res, offset_res = myawg.set_analog_level(\n",
    "    amplitude={'a_ch1': 1.5, 'a_ch2': 0.9},\n",
    "    offset={'a_ch1': 0, 'a_ch2': 0}  # Offset in not supported for options [02] and [06]\n",
    ")\n",
    "\n",
    "for ch_key in ampl_res:\n",
    "    print('{}: amp={}, offset={}'.format(ch_key, ampl_res[ch_key], offset_res[ch_key]))"
   ]
  },
  {
   "cell_type": "code",
   "execution_count": 72,
   "metadata": {},
   "outputs": [
    {
     "name": "stdout",
     "output_type": "stream",
     "text": [
      "a_ch1: amp=0.95, offset=0.0\n",
      "a_ch2: amp=0.85, offset=0.0\n"
     ]
    }
   ],
   "source": [
    "ampl_res, offset_res = myawg.set_analog_level(\n",
    "    amplitude={'a_ch1': 0.95, 'a_ch2': 0.85, 'AABBCC1': 0.5},\n",
    "    offset={'a_ch1': 0, 'a_ch2': 0}  # Offset in not supported for options [02] and [06]\n",
    ")\n",
    "\n",
    "for ch_key in ampl_res:\n",
    "    print('{}: amp={}, offset={}'.format(ch_key, ampl_res[ch_key], offset_res[ch_key]))"
   ]
  },
  {
   "cell_type": "markdown",
   "metadata": {},
   "source": [
    "#### set/get_digital_level()"
   ]
  },
  {
   "cell_type": "code",
   "execution_count": 1,
   "metadata": {},
   "outputs": [
    {
     "name": "stdout",
     "output_type": "stream",
     "text": [
      "d_ch1: low=-0.2, high=0.8\n",
      "d_ch2: low=-0.1, high=0.9\n",
      "d_ch3: low=0.1, high=1.1\n",
      "d_ch4: low=0.2, high=1.2\n"
     ]
    }
   ],
   "source": [
    "low_res, high_res = myawg.set_digital_level(\n",
    "    low={'d_ch1': -0.2, 'd_ch2': -0.1, 'd_ch3': 0.1, 'd_ch4': 0.2},\n",
    "    high={'d_ch1': 0.8, 'd_ch2': 0.9, 'd_ch3': 1.1, 'd_ch4': 1.2}\n",
    ")\n",
    "\n",
    "for ch_key in low_res:\n",
    "    print('{}: low={}, high={}'.format(ch_key, low_res[ch_key], high_res[ch_key]))"
   ]
  },
  {
   "cell_type": "code",
   "execution_count": 80,
   "metadata": {},
   "outputs": [
    {
     "name": "stdout",
     "output_type": "stream",
     "text": [
      "d_ch1: low=0.3, high=0.8\n",
      "d_ch2: low=0.1, high=0.9\n",
      "d_ch3: low=0.1, high=0.6\n",
      "d_ch4: low=0.2, high=0.7\n"
     ]
    }
   ],
   "source": [
    "low_res, high_res = myawg.set_digital_level(\n",
    "    low={'d_ch1': 0.3, 'd_ch2': 0.1},\n",
    "    high={'d_ch3': 0.6, 'd_ch4': 0.7}\n",
    ")\n",
    "\n",
    "for ch_key in low_res:\n",
    "    print('{}: low={}, high={}'.format(ch_key, low_res[ch_key], high_res[ch_key]))"
   ]
  },
  {
   "cell_type": "code",
   "execution_count": 95,
   "metadata": {},
   "outputs": [
    {
     "name": "stdout",
     "output_type": "stream",
     "text": [
      "d_ch1: low=-0.2, high=1.2\n",
      "d_ch2: low=0.1, high=0.9\n",
      "d_ch3: low=0.1, high=0.6\n",
      "d_ch4: low=0.2, high=0.7\n"
     ]
    }
   ],
   "source": [
    "# NOTICE: if low and high values are too far apart (max difference is 1.4 V),\n",
    "# the last-setted param is set to the specified value, but the first-setted one is pulled to\n",
    "# meet the max distance restriction\n",
    "\n",
    "low_res, high_res = myawg.set_digital_level(\n",
    "    low={'d_ch1': -0.5},\n",
    "    high={'d_ch1': 1.2}\n",
    ")\n",
    "\n",
    "for ch_key in low_res:\n",
    "    print('{}: low={}, high={}'.format(ch_key, low_res[ch_key], high_res[ch_key]))"
   ]
  },
  {
   "cell_type": "markdown",
   "metadata": {},
   "source": [
    "#### set/get_active_channels()"
   ]
  },
  {
   "cell_type": "code",
   "execution_count": 5,
   "metadata": {},
   "outputs": [
    {
     "data": {
      "text/plain": [
       "['a_ch1', 'a_ch2', 'd_ch1', 'd_ch2', 'd_ch3', 'd_ch4']"
      ]
     },
     "execution_count": 5,
     "metadata": {},
     "output_type": "execute_result"
    }
   ],
   "source": [
    "myawg._get_all_channels()"
   ]
  },
  {
   "cell_type": "code",
   "execution_count": 4,
   "metadata": {},
   "outputs": [
    {
     "name": "stdout",
     "output_type": "stream",
     "text": [
      "a_ch1: False\n",
      "a_ch2: False\n",
      "d_ch1: False\n",
      "d_ch2: False\n",
      "d_ch3: False\n",
      "d_ch4: False\n"
     ]
    }
   ],
   "source": [
    "ch_st_dict = myawg.get_active_channels()\n",
    "for ch_name, ch_state  in ch_st_dict.items():\n",
    "    print('{}: {}'.format(ch_name, ch_state))"
   ]
  },
  {
   "cell_type": "code",
   "execution_count": 9,
   "metadata": {},
   "outputs": [
    {
     "name": "stdout",
     "output_type": "stream",
     "text": [
      "a_ch1: True\n",
      "a_ch2: True\n",
      "d_ch1: True\n",
      "d_ch2: True\n",
      "d_ch3: False\n",
      "d_ch4: False\n"
     ]
    }
   ],
   "source": [
    "myawg.set_active_channels(\n",
    "    {'a_ch1': True, \n",
    "     'a_ch2': True,\n",
    "     'd_ch1': True,\n",
    "     'd_ch2': True,\n",
    "     'd_ch3': False,\n",
    "     'd_ch4': False    \n",
    "    }\n",
    ")\n",
    "\n",
    "ch_st_dict = myawg.get_active_channels()\n",
    "for ch_name, ch_state  in ch_st_dict.items():\n",
    "    print('{}: {}'.format(ch_name, ch_state))"
   ]
  },
  {
   "cell_type": "code",
   "execution_count": 16,
   "metadata": {},
   "outputs": [
    {
     "name": "stdout",
     "output_type": "stream",
     "text": [
      "a_ch1: True\n",
      "a_ch2: True\n",
      "d_ch1: True\n",
      "d_ch2: True\n",
      "d_ch3: True\n",
      "d_ch4: True\n"
     ]
    }
   ],
   "source": [
    "myawg.set_active_channels(\n",
    "    {'a_ch1': True, \n",
    "     'a_ch2': True,\n",
    "     'd_ch1': True,\n",
    "     'd_ch2': True,\n",
    "     'd_ch3': True,\n",
    "     'd_ch4': True,\n",
    "    }\n",
    ")\n",
    "\n",
    "myawg.set_active_channels(\n",
    "    {'a_ch1': True, \n",
    "     'a_ch2': False,\n",
    "     'd_ch1': True,\n",
    "     'd_ch2': True,\n",
    "     'd_ch3': True,\n",
    "     'd_ch4': True    \n",
    "    }\n",
    ")\n",
    "\n",
    "ch_st_dict = myawg.get_active_channels()\n",
    "for ch_name, ch_state  in ch_st_dict.items():\n",
    "    print('{}: {}'.format(ch_name, ch_state))"
   ]
  },
  {
   "cell_type": "markdown",
   "metadata": {},
   "source": [
    "`Transition to ({'d_ch3', 'd_ch1', 'a_ch1', 'd_ch4', 'd_ch2'}) active channels is not allowed according to constraints.\n",
    "set_active_channels() aborted. Channel states not changed`"
   ]
  },
  {
   "cell_type": "code",
   "execution_count": 17,
   "metadata": {},
   "outputs": [
    {
     "name": "stdout",
     "output_type": "stream",
     "text": [
      "a_ch1: True\n",
      "a_ch2: True\n",
      "d_ch1: True\n",
      "d_ch2: True\n",
      "d_ch3: True\n",
      "d_ch4: True\n"
     ]
    }
   ],
   "source": [
    "myawg.set_active_channels(\n",
    "    {'a_ch1': True, \n",
    "     'a_ch2': True,\n",
    "     'd_ch1': True,\n",
    "     'd_ch2': True,\n",
    "     'd_ch3': True,\n",
    "     'd_ch4': True,\n",
    "    }\n",
    ")\n",
    "\n",
    "myawg.set_active_channels(\n",
    "    {'a_ch1': True, \n",
    "     'a_ch2': False,\n",
    "     'd_ch1': True,\n",
    "     'd_ch2': True,\n",
    "     'd_ch3': False,\n",
    "     'd_ch4': False,\n",
    "     'd_ch5': False\n",
    "    }\n",
    ")\n",
    "\n",
    "ch_st_dict = myawg.get_active_channels()\n",
    "for ch_name, ch_state  in ch_st_dict.items():\n",
    "    print('{}: {}'.format(ch_name, ch_state))"
   ]
  },
  {
   "cell_type": "markdown",
   "metadata": {},
   "source": [
    "`Trying to (de)activate channels that are not present in AWG.\n",
    "Setting of channel activation aborted.`"
   ]
  },
  {
   "cell_type": "code",
   "execution_count": 19,
   "metadata": {},
   "outputs": [
    {
     "name": "stdout",
     "output_type": "stream",
     "text": [
      "a_ch1: True\n",
      "a_ch2: False\n",
      "d_ch1: False\n",
      "d_ch2: False\n",
      "d_ch3: False\n",
      "d_ch4: False\n"
     ]
    }
   ],
   "source": [
    "myawg.set_active_channels(\n",
    "    {'a_ch1': False, \n",
    "     'a_ch2': False,\n",
    "     'd_ch1': False,\n",
    "     'd_ch2': False,\n",
    "     'd_ch3': False,\n",
    "     'd_ch4': False,\n",
    "    }\n",
    ")\n",
    "\n",
    "myawg.set_active_channels(\n",
    "    {'a_ch1': True}\n",
    ")\n",
    "\n",
    "ch_st_dict = myawg.get_active_channels()\n",
    "for ch_name, ch_state  in ch_st_dict.items():\n",
    "    print('{}: {}'.format(ch_name, ch_state))"
   ]
  },
  {
   "cell_type": "code",
   "execution_count": 21,
   "metadata": {},
   "outputs": [
    {
     "data": {
      "text/plain": [
       "{'a_ch1': True, 'd_ch4': False}"
      ]
     },
     "execution_count": 21,
     "metadata": {},
     "output_type": "execute_result"
    }
   ],
   "source": [
    "myawg.set_active_channels(\n",
    "    {'a_ch1': True, \n",
    "     'a_ch2': False,\n",
    "     'd_ch1': False,\n",
    "     'd_ch2': False,\n",
    "     'd_ch3': False,\n",
    "     'd_ch4': False,\n",
    "    }\n",
    ")\n",
    "\n",
    "myawg.get_active_channels(['a_ch1', 'd_ch4'])"
   ]
  },
  {
   "cell_type": "code",
   "execution_count": 22,
   "metadata": {},
   "outputs": [
    {
     "data": {
      "text/plain": [
       "{'a_ch1': True, 'd_ch4': False}"
      ]
     },
     "execution_count": 22,
     "metadata": {},
     "output_type": "execute_result"
    }
   ],
   "source": [
    "myawg.set_active_channels(\n",
    "    {'a_ch1': True, \n",
    "     'a_ch2': False,\n",
    "     'd_ch1': False,\n",
    "     'd_ch2': False,\n",
    "     'd_ch3': False,\n",
    "     'd_ch4': False,\n",
    "    }\n",
    ")\n",
    "\n",
    "myawg.get_active_channels(['a_ch1', 'd_ch4', 'd_ch5'])"
   ]
  },
  {
   "cell_type": "markdown",
   "metadata": {},
   "source": [
    "`Channel \"d_ch5\" is not available in AWG.\n",
    "Ignore channel state request for this entry.`"
   ]
  },
  {
   "cell_type": "markdown",
   "metadata": {},
   "source": [
    "#### pulser_on/off()"
   ]
  },
  {
   "cell_type": "markdown",
   "metadata": {},
   "source": [
    "##### _get_channel_state()"
   ]
  },
  {
   "cell_type": "code",
   "execution_count": 34,
   "metadata": {},
   "outputs": [
    {
     "name": "stdout",
     "output_type": "stream",
     "text": [
      "a_ch1: True\n",
      "d_ch2: False\n",
      "d_ch1: False\n",
      "a_ch2: True\n",
      "d_ch4: True\n",
      "d_ch3: True\n"
     ]
    }
   ],
   "source": [
    "ch_st_dict = myawg._get_channel_state()\n",
    "for ch_name, ch_state  in ch_st_dict.items():\n",
    "    print('{}: {}'.format(ch_name, ch_state))"
   ]
  },
  {
   "cell_type": "code",
   "execution_count": 35,
   "metadata": {},
   "outputs": [
    {
     "name": "stdout",
     "output_type": "stream",
     "text": [
      "a_ch1: True\n",
      "d_ch2: False\n"
     ]
    }
   ],
   "source": [
    "ch_st_dict = myawg._get_channel_state(['a_ch1', 'd_ch2', 'd_ch5'])\n",
    "for ch_name, ch_state  in ch_st_dict.items():\n",
    "    print('{}: {}'.format(ch_name, ch_state))"
   ]
  },
  {
   "cell_type": "markdown",
   "metadata": {},
   "source": [
    "`Channel \"d_ch5\" is not available in AWG.\n",
    "Ignore channel state request for this entry.`"
   ]
  },
  {
   "cell_type": "markdown",
   "metadata": {},
   "source": [
    "##### _activate_channels()"
   ]
  },
  {
   "cell_type": "code",
   "execution_count": 28,
   "metadata": {},
   "outputs": [
    {
     "name": "stdout",
     "output_type": "stream",
     "text": [
      "a_ch1: True\n",
      "d_ch2: True\n",
      "d_ch1: True\n",
      "a_ch2: True\n",
      "d_ch4: False\n",
      "d_ch3: False\n"
     ]
    }
   ],
   "source": [
    "myawg.set_active_channels(\n",
    "    {'a_ch1': True,\n",
    "     'd_ch1': True,\n",
    "     'd_ch2': True,\n",
    "     'a_ch2': True,\n",
    "     'd_ch3': False,\n",
    "     'd_ch4': False,\n",
    "    }\n",
    ")\n",
    "\n",
    "myawg._activate_channels()\n",
    "\n",
    "ch_st_dict = myawg._get_channel_state()\n",
    "for ch_name, ch_state  in ch_st_dict.items():\n",
    "    print('{}: {}'.format(ch_name, ch_state))"
   ]
  },
  {
   "cell_type": "code",
   "execution_count": 18,
   "metadata": {},
   "outputs": [
    {
     "name": "stdout",
     "output_type": "stream",
     "text": [
      "a_ch1: True\n",
      "d_ch2: True\n",
      "d_ch1: True\n",
      "a_ch2: False\n",
      "d_ch4: False\n",
      "d_ch3: False\n"
     ]
    }
   ],
   "source": [
    "# Analog Channel 1 has a wevoform loaded\n",
    "# Manually deleted waveform from Analog Channel 2 (via AWG's screen)\n",
    "\n",
    "myawg.set_active_channels(\n",
    "    {'a_ch1': True,\n",
    "     'd_ch1': True,\n",
    "     'd_ch2': True,\n",
    "     'a_ch2': True,\n",
    "     'd_ch3': False,\n",
    "     'd_ch4': False,\n",
    "    }\n",
    ")\n",
    "\n",
    "myawg._activate_channels()\n",
    "\n",
    "ch_st_dict = myawg._get_channel_state()\n",
    "for ch_name, ch_state  in ch_st_dict.items():\n",
    "    print('{}: {}'.format(ch_name, ch_state))"
   ]
  },
  {
   "cell_type": "markdown",
   "metadata": {},
   "source": [
    "```\n",
    "AWG7122C error: 6000 \"Other error; E11506 - OUTPUT2:STATE ON\n",
    "-----------\n",
    "Activation of channels by _activate_channels() failed\n",
    "The expected state: {'a_ch1': True, 'a_ch2': True, 'd_ch1': True, 'd_ch2': True, 'd_ch3': False, 'd_ch4': False}\n",
    "The obtained state: {'a_ch1': True, 'a_ch2': False, 'd_ch1': True, 'd_ch2': True, 'd_ch3': False, 'd_ch4': False}\n",
    "\n",
    "```"
   ]
  },
  {
   "cell_type": "markdown",
   "metadata": {},
   "source": [
    "##### pulser_on/off()"
   ]
  },
  {
   "cell_type": "code",
   "execution_count": 37,
   "metadata": {},
   "outputs": [
    {
     "data": {
      "text/plain": [
       "2"
      ]
     },
     "execution_count": 37,
     "metadata": {},
     "output_type": "execute_result"
    }
   ],
   "source": [
    "myawg.set_active_channels(\n",
    "    {'a_ch1': True,\n",
    "     'd_ch1': True,\n",
    "     'd_ch2': True,\n",
    "     'a_ch2': True,\n",
    "     'd_ch3': False,\n",
    "     'd_ch4': False,\n",
    "    }\n",
    ")\n",
    "\n",
    "myawg.pulser_on()"
   ]
  },
  {
   "cell_type": "code",
   "execution_count": 38,
   "metadata": {},
   "outputs": [
    {
     "name": "stdout",
     "output_type": "stream",
     "text": [
      "a_ch1: True\n",
      "a_ch2: True\n",
      "d_ch1: True\n",
      "d_ch2: True\n",
      "d_ch3: False\n",
      "d_ch4: False\n"
     ]
    }
   ],
   "source": [
    "myawg.pulser_off()\n",
    "    \n",
    "ch_st_dict = myawg.get_active_channels()\n",
    "for ch_name, ch_state  in ch_st_dict.items():\n",
    "    print('{}: {}'.format(ch_name, ch_state))"
   ]
  },
  {
   "cell_type": "code",
   "execution_count": 39,
   "metadata": {},
   "outputs": [
    {
     "data": {
      "text/plain": [
       "2"
      ]
     },
     "execution_count": 39,
     "metadata": {},
     "output_type": "execute_result"
    }
   ],
   "source": [
    "myawg.set_active_channels(\n",
    "    {'a_ch1': True,\n",
    "     'd_ch1': True,\n",
    "     'd_ch2': True,\n",
    "     'a_ch2': False,\n",
    "     'd_ch3': False,\n",
    "     'd_ch4': False,\n",
    "    }\n",
    ")\n",
    "\n",
    "myawg.pulser_on()"
   ]
  },
  {
   "cell_type": "code",
   "execution_count": 40,
   "metadata": {},
   "outputs": [
    {
     "name": "stdout",
     "output_type": "stream",
     "text": [
      "a_ch1: True\n",
      "a_ch2: False\n",
      "d_ch1: True\n",
      "d_ch2: True\n",
      "d_ch3: False\n",
      "d_ch4: False\n"
     ]
    }
   ],
   "source": [
    "myawg.pulser_off()\n",
    "    \n",
    "ch_st_dict = myawg.get_active_channels()\n",
    "for ch_name, ch_state  in ch_st_dict.items():\n",
    "    print('{}: {}'.format(ch_name, ch_state))"
   ]
  },
  {
   "cell_type": "markdown",
   "metadata": {},
   "source": [
    "#### set/get_interleave()"
   ]
  },
  {
   "cell_type": "code",
   "execution_count": 41,
   "metadata": {},
   "outputs": [
    {
     "data": {
      "text/plain": [
       "True"
      ]
     },
     "execution_count": 41,
     "metadata": {},
     "output_type": "execute_result"
    }
   ],
   "source": [
    "myawg.set_interleave(state=True)"
   ]
  },
  {
   "cell_type": "code",
   "execution_count": 42,
   "metadata": {},
   "outputs": [
    {
     "data": {
      "text/plain": [
       "False"
      ]
     },
     "execution_count": 42,
     "metadata": {},
     "output_type": "execute_result"
    }
   ],
   "source": [
    "myawg.set_interleave(False)"
   ]
  },
  {
   "cell_type": "markdown",
   "metadata": {},
   "source": [
    "#### set_lowpass_filter()   [not awailable on this AWG]"
   ]
  },
  {
   "cell_type": "code",
   "execution_count": 44,
   "metadata": {},
   "outputs": [
    {
     "name": "stderr",
     "output_type": "stream",
     "text": [
      "Traceback (most recent call last):\n",
      "  File \"C:\\Users\\Lukin SiV\\qudi\\logic\\jupyterkernel\\qzmqkernel.py\", line 795, in run_code\n",
      "    exec(code_obj, self.user_global_ns, self.user_ns)\n",
      "  File \"<ipython-input-44-e158c0ec888f>\", line 1, in <module>\n",
      "    myawg.query('OUTPUT1:FILTER:LPASS:FREQUENCY?')\n",
      "  File \"C:\\Users\\Lukin SiV\\qudi\\hardware\\awg\\tektronix_awg7k.py\", line 184, in query\n",
      "    answer = self.awg.query(question)\n",
      "  File \"C:\\Anaconda\\envs\\qudi\\lib\\site-packages\\pyvisa\\resources\\messagebased.py\", line 564, in query\n",
      "    return self.read()\n",
      "  File \"C:\\Anaconda\\envs\\qudi\\lib\\site-packages\\pyvisa\\resources\\messagebased.py\", line 413, in read\n",
      "    message = self._read_raw().decode(enco)\n",
      "  File \"C:\\Anaconda\\envs\\qudi\\lib\\site-packages\\pyvisa\\resources\\messagebased.py\", line 386, in _read_raw\n",
      "    chunk, status = self.visalib.read(self.session, size)\n",
      "  File \"C:\\Anaconda\\envs\\qudi\\lib\\site-packages\\pyvisa\\ctwrapper\\functions.py\", line 1584, in read\n",
      "    ret = library.viRead(session, buffer, count, byref(return_count))\n",
      "  File \"C:\\Anaconda\\envs\\qudi\\lib\\site-packages\\pyvisa\\ctwrapper\\highlevel.py\", line 188, in _return_handler\n",
      "    raise errors.VisaIOError(ret_value)\n",
      "pyvisa.errors.VisaIOError: VI_ERROR_TMO (-1073807339): Timeout expired before operation completed.\n"
     ]
    }
   ],
   "source": [
    "myawg.query('OUTPUT1:FILTER:LPASS:FREQUENCY?')"
   ]
  },
  {
   "cell_type": "markdown",
   "metadata": {},
   "source": [
    "`OUTPut[n]:FILTer[:LPASs]:FREQuency`\n",
    "This command and query sets or returns the low-pass filter frequency of the\n",
    "filter. INFinity is same as Through (no filter). This command is not available on\n",
    "instruments with option 02 or option 06"
   ]
  },
  {
   "cell_type": "code",
   "execution_count": 45,
   "metadata": {},
   "outputs": [],
   "source": [
    "myawg.set_lowpass_filter(a_ch=1, cutoff_freq=100)"
   ]
  },
  {
   "cell_type": "markdown",
   "metadata": {},
   "source": [
    "`Low-pass filter is not available for options [02] and [06]. set_lowpass_filter() request was ignored`"
   ]
  },
  {
   "cell_type": "code",
   "execution_count": null,
   "metadata": {},
   "outputs": [],
   "source": []
  }
 ],
 "metadata": {
  "kernelspec": {
   "display_name": "Qudi",
   "language": "python",
   "name": "qudi"
  },
  "language_info": {
   "codemirror_mode": {
    "name": "ipython",
    "version": "3.6.5"
   },
   "file_extension": ".py",
   "mimetype": "text/x-python",
   "name": "python",
   "nbconvert_exporter": "python",
   "pygments_lexer": "ipython3",
   "version": "3.6.5"
  }
 },
 "nbformat": 4,
 "nbformat_minor": 2
}
