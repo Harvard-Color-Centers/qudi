{
 "cells": [
  {
   "cell_type": "code",
   "execution_count": null,
   "metadata": {},
   "outputs": [],
   "source": []
  },
  {
   "cell_type": "code",
   "execution_count": null,
   "metadata": {},
   "outputs": [],
   "source": []
  },
  {
   "cell_type": "markdown",
   "metadata": {},
   "source": [
    "### Set up NI HSDIO card"
   ]
  },
  {
   "cell_type": "code",
   "execution_count": 12,
   "metadata": {},
   "outputs": [
    {
     "name": "stdout",
     "output_type": "stream",
     "text": [
      "activation_config: ('all', {'d_ch9', 'd_ch12', 'd_ch14', 'd_ch19', 'd_ch30', 'd_ch1', 'd_ch15', 'd_ch20', 'd_ch2', 'd_ch11', 'd_ch3', 'd_ch17', 'd_ch21', 'd_ch22', 'd_ch13', 'd_ch24', 'd_ch16', 'd_ch4', 'd_ch28', 'd_ch26', 'd_ch23', 'd_ch18', 'd_ch25', 'd_ch8', 'd_ch7', 'd_ch29', 'd_ch0', 'd_ch10', 'd_ch5', 'd_ch27', 'd_ch31', 'd_ch6'})\n",
      "\n",
      "sample_rate: 100000000.0\n",
      "\n",
      "analog_levels: ({}, {})\n",
      "\n",
      "digital_levels: ({'d_ch0': 0.0, 'd_ch1': 0.0, 'd_ch2': 0.0, 'd_ch3': 0.0, 'd_ch4': 0.0, 'd_ch5': 0.0, 'd_ch6': 0.0, 'd_ch7': 0.0, 'd_ch8': 0.0, 'd_ch9': 0.0, 'd_ch10': 0.0, 'd_ch11': 0.0, 'd_ch12': 0.0, 'd_ch13': 0.0, 'd_ch14': 0.0, 'd_ch15': 0.0, 'd_ch16': 0.0, 'd_ch17': 0.0, 'd_ch18': 0.0, 'd_ch19': 0.0, 'd_ch20': 0.0, 'd_ch21': 0.0, 'd_ch22': 0.0, 'd_ch23': 0.0, 'd_ch24': 0.0, 'd_ch25': 0.0, 'd_ch26': 0.0, 'd_ch27': 0.0, 'd_ch28': 0.0, 'd_ch29': 0.0, 'd_ch30': 0.0, 'd_ch31': 0.0}, {'d_ch0': 3.3, 'd_ch1': 3.3, 'd_ch2': 3.3, 'd_ch3': 3.3, 'd_ch4': 3.3, 'd_ch5': 3.3, 'd_ch6': 3.3, 'd_ch7': 3.3, 'd_ch8': 3.3, 'd_ch9': 3.3, 'd_ch10': 3.3, 'd_ch11': 3.3, 'd_ch12': 3.3, 'd_ch13': 3.3, 'd_ch14': 3.3, 'd_ch15': 3.3, 'd_ch16': 3.3, 'd_ch17': 3.3, 'd_ch18': 3.3, 'd_ch19': 3.3, 'd_ch20': 3.3, 'd_ch21': 3.3, 'd_ch22': 3.3, 'd_ch23': 3.3, 'd_ch24': 3.3, 'd_ch25': 3.3, 'd_ch26': 3.3, 'd_ch27': 3.3, 'd_ch28': 3.3, 'd_ch29': 3.3, 'd_ch30': 3.3, 'd_ch31': 3.3})\n",
      "\n",
      "interleave: False\n",
      "\n"
     ]
    }
   ],
   "source": [
    "settings_dict = {\n",
    "    'sample_rate': 100e6,\n",
    "    'activation_config': 'all'\n",
    "}\n",
    "\n",
    "res_dict = seqgenlogic.set_pulse_generator_settings(settings_dict)\n",
    "for key, val in res_dict.items():\n",
    "    print('{0}: {1}\\n'.format(key, val))"
   ]
  },
  {
   "cell_type": "code",
   "execution_count": null,
   "metadata": {},
   "outputs": [],
   "source": []
  },
  {
   "cell_type": "markdown",
   "metadata": {},
   "source": [
    "##### Setup Swabian Time Tagger"
   ]
  },
  {
   "cell_type": "code",
   "execution_count": null,
   "metadata": {},
   "outputs": [],
   "source": []
  },
  {
   "cell_type": "markdown",
   "metadata": {},
   "source": [
    "##### Setup R&S MW"
   ]
  },
  {
   "cell_type": "code",
   "execution_count": null,
   "metadata": {},
   "outputs": [],
   "source": []
  },
  {
   "cell_type": "markdown",
   "metadata": {},
   "source": [
    "### Write sequence to NI card"
   ]
  },
  {
   "cell_type": "markdown",
   "metadata": {},
   "source": [
    "##### Setup state_extraction_logic"
   ]
  },
  {
   "cell_type": "markdown",
   "metadata": {},
   "source": [
    "##### Measurement loop"
   ]
  },
  {
   "cell_type": "code",
   "execution_count": null,
   "metadata": {},
   "outputs": [],
   "source": []
  }
 ],
 "metadata": {
  "kernelspec": {
   "display_name": "Qudi",
   "language": "python",
   "name": "qudi"
  },
  "language_info": {
   "codemirror_mode": {
    "name": "ipython",
    "version": "3.6.5"
   },
   "file_extension": ".py",
   "mimetype": "text/x-python",
   "name": "python",
   "nbconvert_exporter": "python",
   "pygments_lexer": "ipython3",
   "version": "3.6.5"
  }
 },
 "nbformat": 4,
 "nbformat_minor": 2
}
