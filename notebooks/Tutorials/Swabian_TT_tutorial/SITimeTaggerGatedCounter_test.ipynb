{
 "cells": [
  {
   "cell_type": "markdown",
   "metadata": {},
   "source": [
    "# Test of SITimeTaggerGatedCounter hardware module"
   ]
  },
  {
   "cell_type": "markdown",
   "metadata": {},
   "source": [
    "#### Test of SITimeTagger module"
   ]
  },
  {
   "cell_type": "code",
   "execution_count": 2,
   "metadata": {
    "scrolled": true
   },
   "outputs": [
    {
     "data": {
      "text/plain": [
       "<hardware.swabian_instruments.si_time_tagger.SITimeTagger object at 0x0000020C96A9EB88>"
      ]
     },
     "execution_count": 2,
     "metadata": {},
     "output_type": "execute_result"
    }
   ],
   "source": [
    "time_tagger"
   ]
  },
  {
   "cell_type": "code",
   "execution_count": 3,
   "metadata": {},
   "outputs": [
    {
     "data": {
      "text/plain": [
       "<TimeTagger.TimeTagger; proxy of <Swig Object of type 'TimeTagger *' at 0x0000020C96BD4E70> >"
      ]
     },
     "execution_count": 3,
     "metadata": {},
     "output_type": "execute_result"
    }
   ],
   "source": [
    "time_tagger.reference"
   ]
  },
  {
   "cell_type": "code",
   "execution_count": 6,
   "metadata": {},
   "outputs": [],
   "source": [
    "time_tagger.reference.reset()"
   ]
  },
  {
   "cell_type": "code",
   "execution_count": 7,
   "metadata": {},
   "outputs": [
    {
     "data": {
      "text/plain": [
       "'1634000FX0'"
      ]
     },
     "execution_count": 7,
     "metadata": {},
     "output_type": "execute_result"
    }
   ],
   "source": [
    "time_tagger.reference.getSerial()"
   ]
  },
  {
   "cell_type": "code",
   "execution_count": 8,
   "metadata": {},
   "outputs": [
    {
     "data": {
      "text/plain": [
       "'Time Tagger 20'"
      ]
     },
     "execution_count": 8,
     "metadata": {},
     "output_type": "execute_result"
    }
   ],
   "source": [
    "time_tagger.reference.getModel()"
   ]
  },
  {
   "cell_type": "markdown",
   "metadata": {},
   "source": [
    "#### hardware reference \\_tagger"
   ]
  },
  {
   "cell_type": "code",
   "execution_count": 9,
   "metadata": {},
   "outputs": [
    {
     "data": {
      "text/plain": [
       "<hardware.swabian_instruments.si_time_tagger_gated_counter.SITimeTaggerGatedCounter object at 0x0000020C96BE05E8>"
      ]
     },
     "execution_count": 9,
     "metadata": {},
     "output_type": "execute_result"
    }
   ],
   "source": [
    "gated_counter"
   ]
  },
  {
   "cell_type": "code",
   "execution_count": 10,
   "metadata": {},
   "outputs": [
    {
     "data": {
      "text/plain": [
       "<TimeTagger.TimeTagger; proxy of <Swig Object of type 'TimeTagger *' at 0x0000020C96BD4E70> >"
      ]
     },
     "execution_count": 10,
     "metadata": {},
     "output_type": "execute_result"
    }
   ],
   "source": [
    "gated_counter._tagger"
   ]
  },
  {
   "cell_type": "code",
   "execution_count": 11,
   "metadata": {},
   "outputs": [
    {
     "data": {
      "text/plain": [
       "'1634000FX0'"
      ]
     },
     "execution_count": 11,
     "metadata": {},
     "output_type": "execute_result"
    }
   ],
   "source": [
    "gated_counter._tagger.getSerial()"
   ]
  },
  {
   "cell_type": "code",
   "execution_count": 12,
   "metadata": {},
   "outputs": [
    {
     "data": {
      "text/plain": [
       "'Time Tagger 20'"
      ]
     },
     "execution_count": 12,
     "metadata": {},
     "output_type": "execute_result"
    }
   ],
   "source": [
    "gated_counter._tagger.getModel()"
   ]
  },
  {
   "cell_type": "markdown",
   "metadata": {},
   "source": [
    "#### Config parameters, on_activate()"
   ]
  },
  {
   "cell_type": "code",
   "execution_count": 13,
   "metadata": {},
   "outputs": [
    {
     "data": {
      "text/plain": [
       "[1, 2]"
      ]
     },
     "execution_count": 13,
     "metadata": {},
     "output_type": "execute_result"
    }
   ],
   "source": [
    "gated_counter._cfg_click_channel"
   ]
  },
  {
   "cell_type": "code",
   "execution_count": 14,
   "metadata": {},
   "outputs": [
    {
     "data": {
      "text/plain": [
       "3"
      ]
     },
     "execution_count": 14,
     "metadata": {},
     "output_type": "execute_result"
    }
   ],
   "source": [
    "gated_counter._cfg_gate_channel"
   ]
  },
  {
   "cell_type": "code",
   "execution_count": 15,
   "metadata": {},
   "outputs": [
    {
     "data": {
      "text/plain": [
       "True"
      ]
     },
     "execution_count": 15,
     "metadata": {},
     "output_type": "execute_result"
    }
   ],
   "source": [
    "gated_counter._counter is None"
   ]
  },
  {
   "cell_type": "code",
   "execution_count": 16,
   "metadata": {},
   "outputs": [
    {
     "data": {
      "text/plain": [
       "-1"
      ]
     },
     "execution_count": 16,
     "metadata": {},
     "output_type": "execute_result"
    }
   ],
   "source": [
    "gated_counter._status"
   ]
  },
  {
   "cell_type": "code",
   "execution_count": 17,
   "metadata": {},
   "outputs": [
    {
     "data": {
      "text/plain": [
       "0"
      ]
     },
     "execution_count": 17,
     "metadata": {},
     "output_type": "execute_result"
    }
   ],
   "source": [
    "gated_counter._bin_number"
   ]
  },
  {
   "cell_type": "code",
   "execution_count": 18,
   "metadata": {},
   "outputs": [
    {
     "data": {
      "text/plain": [
       "9"
      ]
     },
     "execution_count": 18,
     "metadata": {},
     "output_type": "execute_result"
    }
   ],
   "source": [
    "gated_counter._click_channel"
   ]
  },
  {
   "cell_type": "code",
   "execution_count": 19,
   "metadata": {},
   "outputs": [
    {
     "data": {
      "text/plain": [
       "3"
      ]
     },
     "execution_count": 19,
     "metadata": {},
     "output_type": "execute_result"
    }
   ],
   "source": [
    "gated_counter._gate_channel"
   ]
  },
  {
   "cell_type": "markdown",
   "metadata": {},
   "source": [
    "### Basic technical methods"
   ]
  },
  {
   "cell_type": "markdown",
   "metadata": {},
   "source": [
    "#### get_status()"
   ]
  },
  {
   "cell_type": "code",
   "execution_count": 10,
   "metadata": {},
   "outputs": [
    {
     "data": {
      "text/plain": [
       "0"
      ]
     },
     "execution_count": 10,
     "metadata": {},
     "output_type": "execute_result"
    }
   ],
   "source": [
    "gated_counter.get_status()"
   ]
  },
  {
   "cell_type": "markdown",
   "metadata": {},
   "source": [
    "#### get_all_channels()"
   ]
  },
  {
   "cell_type": "code",
   "execution_count": 8,
   "metadata": {},
   "outputs": [
    {
     "data": {
      "text/plain": [
       "[-8, -7, -6, -5, -4, -3, -2, -1, 1, 2, 3, 4, 5, 6, 7, 8]"
      ]
     },
     "execution_count": 8,
     "metadata": {},
     "output_type": "execute_result"
    }
   ],
   "source": [
    "gated_counter.get_all_channels()"
   ]
  },
  {
   "cell_type": "markdown",
   "metadata": {},
   "source": [
    "#### get/set_channel_assignment"
   ]
  },
  {
   "cell_type": "code",
   "execution_count": 1,
   "metadata": {},
   "outputs": [
    {
     "data": {
      "text/plain": [
       "{'click_channel': 1, 'gate_channel': 3}"
      ]
     },
     "execution_count": 1,
     "metadata": {},
     "output_type": "execute_result"
    }
   ],
   "source": [
    "gated_counter.get_channel_assignment()"
   ]
  },
  {
   "cell_type": "code",
   "execution_count": 23,
   "metadata": {},
   "outputs": [
    {
     "name": "stdout",
     "output_type": "stream",
     "text": [
      "{'click_channel': 9, 'gate_channel': 3}\n",
      "{'click_channel': 3, 'gate_channel': 3}\n"
     ]
    }
   ],
   "source": [
    "print(gated_counter.get_channel_assignment())\n",
    "print(\n",
    "    gated_counter.set_channel_assignment(\n",
    "        click_channel = 3\n",
    "    )\n",
    ")"
   ]
  },
  {
   "cell_type": "code",
   "execution_count": 24,
   "metadata": {},
   "outputs": [
    {
     "name": "stdout",
     "output_type": "stream",
     "text": [
      "{'click_channel': 3, 'gate_channel': 3}\n",
      "{'click_channel': 3, 'gate_channel': 1}\n"
     ]
    }
   ],
   "source": [
    "print(gated_counter.get_channel_assignment())\n",
    "print(\n",
    "    gated_counter.set_channel_assignment(\n",
    "        gate_channel=1\n",
    "    )\n",
    ")"
   ]
  },
  {
   "cell_type": "code",
   "execution_count": 94,
   "metadata": {
    "scrolled": true
   },
   "outputs": [
    {
     "name": "stdout",
     "output_type": "stream",
     "text": [
      "{'click_channel': 2, 'gate_channel': 3}\n",
      "{'click_channel': 11, 'gate_channel': 3}\n"
     ]
    }
   ],
   "source": [
    "print(gated_counter.get_channel_assignment())\n",
    "print(\n",
    "    gated_counter.set_channel_assignment(\n",
    "        click_channel=[1, 2],\n",
    "        gate_channel=3\n",
    "    )\n",
    ")"
   ]
  },
  {
   "cell_type": "code",
   "execution_count": 2,
   "metadata": {},
   "outputs": [],
   "source": [
    "gated_counter._combiner"
   ]
  },
  {
   "cell_type": "code",
   "execution_count": 89,
   "metadata": {},
   "outputs": [
    {
     "name": "stdout",
     "output_type": "stream",
     "text": [
      "{'click_channel': 10, 'gate_channel': 3}\n",
      "{'click_channel': 2, 'gate_channel': 3}\n"
     ]
    }
   ],
   "source": [
    "print(gated_counter.get_channel_assignment())\n",
    "print(\n",
    "    gated_counter.set_channel_assignment(\n",
    "        click_channel=2,\n",
    "        gate_channel=3\n",
    "    )\n",
    ")"
   ]
  },
  {
   "cell_type": "markdown",
   "metadata": {},
   "source": [
    "### GatedCounterInterface methods"
   ]
  },
  {
   "cell_type": "markdown",
   "metadata": {},
   "source": [
    "#### init_counter()"
   ]
  },
  {
   "cell_type": "code",
   "execution_count": 3,
   "metadata": {},
   "outputs": [
    {
     "data": {
      "text/plain": [
       "-1"
      ]
     },
     "execution_count": 3,
     "metadata": {},
     "output_type": "execute_result"
    }
   ],
   "source": [
    "gated_counter.get_status()"
   ]
  },
  {
   "cell_type": "code",
   "execution_count": 4,
   "metadata": {},
   "outputs": [
    {
     "name": "stdout",
     "output_type": "stream",
     "text": [
      "-1\n",
      "0\n",
      "0\n"
     ]
    }
   ],
   "source": [
    "print(gated_counter.get_status())\n",
    "print(gated_counter.init_counter(20))\n",
    "print(gated_counter.get_status())"
   ]
  },
  {
   "cell_type": "code",
   "execution_count": 5,
   "metadata": {},
   "outputs": [
    {
     "data": {
      "text/plain": [
       "0"
      ]
     },
     "execution_count": 5,
     "metadata": {},
     "output_type": "execute_result"
    }
   ],
   "source": [
    "gated_counter.get_status()"
   ]
  },
  {
   "cell_type": "code",
   "execution_count": 217,
   "metadata": {
    "scrolled": true
   },
   "outputs": [
    {
     "data": {
      "text/plain": [
       "<TimeTagger.CountBetweenMarkers; proxy of <Swig Object of type 'CountBetweenMarkers *' at 0x00000178DB405C00> >"
      ]
     },
     "execution_count": 217,
     "metadata": {},
     "output_type": "execute_result"
    }
   ],
   "source": [
    "gated_counter._counter"
   ]
  },
  {
   "cell_type": "code",
   "execution_count": 66,
   "metadata": {},
   "outputs": [
    {
     "data": {
      "text/plain": [
       "array([0, 0, 0, 0, 0, 0, 0, 0, 0, 0, 0, 0, 0, 0, 0, 0, 0, 0, 0, 0],\n",
       "      dtype=uint32)"
      ]
     },
     "execution_count": 66,
     "metadata": {},
     "output_type": "execute_result"
    }
   ],
   "source": [
    "gated_counter.get_count_array()"
   ]
  },
  {
   "cell_type": "markdown",
   "metadata": {},
   "source": [
    "```Warning: get_count_array(): counter is \"idle\" - nothing to read\n",
    "```"
   ]
  },
  {
   "cell_type": "markdown",
   "metadata": {},
   "source": [
    "##### init counter several times"
   ]
  },
  {
   "cell_type": "code",
   "execution_count": 1,
   "metadata": {},
   "outputs": [
    {
     "name": "stdout",
     "output_type": "stream",
     "text": [
      "-1\n",
      "0\n",
      "<TimeTagger.CountBetweenMarkers; proxy of <Swig Object of type 'CountBetweenMarkers *' at 0x00000283717EDEA0> >\n",
      "0\n"
     ]
    }
   ],
   "source": [
    "print(gated_counter.get_status())\n",
    "print(gated_counter.init_counter(10))\n",
    "print(gated_counter._counter)\n",
    "print(gated_counter.get_status())"
   ]
  },
  {
   "cell_type": "code",
   "execution_count": 51,
   "metadata": {},
   "outputs": [],
   "source": [
    "# closes previous and initializes new"
   ]
  },
  {
   "cell_type": "code",
   "execution_count": 4,
   "metadata": {},
   "outputs": [
    {
     "name": "stdout",
     "output_type": "stream",
     "text": [
      "0\n",
      "0\n",
      "<TimeTagger.CountBetweenMarkers; proxy of <Swig Object of type 'CountBetweenMarkers *' at 0x000001BF60B40A50> >\n",
      "0\n"
     ]
    }
   ],
   "source": [
    "print(gated_counter.get_status())\n",
    "print(gated_counter.init_counter(10))\n",
    "print(gated_counter._counter)\n",
    "print(gated_counter.get_status())"
   ]
  },
  {
   "cell_type": "markdown",
   "metadata": {},
   "source": [
    "#### close_counter()"
   ]
  },
  {
   "cell_type": "code",
   "execution_count": 7,
   "metadata": {},
   "outputs": [
    {
     "name": "stdout",
     "output_type": "stream",
     "text": [
      "None\n",
      "-1\n",
      "0\n",
      "-1\n",
      "None\n"
     ]
    }
   ],
   "source": [
    "# Close counter\n",
    "print(gated_counter._counter)\n",
    "print(gated_counter.get_status())\n",
    "print(gated_counter.close_counter())\n",
    "print(gated_counter.get_status())\n",
    "print(gated_counter._counter)"
   ]
  },
  {
   "cell_type": "code",
   "execution_count": 6,
   "metadata": {},
   "outputs": [
    {
     "name": "stdout",
     "output_type": "stream",
     "text": [
      "-1\n",
      "0\n",
      "-1\n",
      "None\n"
     ]
    }
   ],
   "source": [
    "# Close counter when there is no counter\n",
    "print(gated_counter.get_status())\n",
    "print(gated_counter.close_counter())\n",
    "print(gated_counter.get_status())\n",
    "print(gated_counter._counter)"
   ]
  },
  {
   "cell_type": "markdown",
   "metadata": {},
   "source": [
    "#### start_counting()"
   ]
  },
  {
   "cell_type": "code",
   "execution_count": 8,
   "metadata": {},
   "outputs": [
    {
     "name": "stdout",
     "output_type": "stream",
     "text": [
      "-1\n",
      "-1\n",
      "-1\n"
     ]
    }
   ],
   "source": [
    "print(gated_counter.get_status())\n",
    "print(gated_counter.start_counting())\n",
    "print(gated_counter.get_status())"
   ]
  },
  {
   "cell_type": "markdown",
   "metadata": {},
   "source": [
    "```\n",
    "Error: start_counting(): counter is in \"void\" state - it ether was not initialized or was closed. Initialize it by calling init_counter()\n",
    "```"
   ]
  },
  {
   "cell_type": "code",
   "execution_count": 6,
   "metadata": {},
   "outputs": [
    {
     "name": "stdout",
     "output_type": "stream",
     "text": [
      "0\n",
      "0\n",
      "1\n"
     ]
    }
   ],
   "source": [
    "print(gated_counter.get_status())\n",
    "print(gated_counter.start_counting())\n",
    "print(gated_counter.get_status())"
   ]
  },
  {
   "cell_type": "code",
   "execution_count": 75,
   "metadata": {},
   "outputs": [
    {
     "name": "stdout",
     "output_type": "stream",
     "text": [
      "2\n",
      "0\n",
      "1\n"
     ]
    }
   ],
   "source": [
    "print(gated_counter.get_status())\n",
    "print(gated_counter.start_counting())\n",
    "print(gated_counter.get_status())"
   ]
  },
  {
   "cell_type": "code",
   "execution_count": 63,
   "metadata": {},
   "outputs": [
    {
     "data": {
      "text/plain": [
       "0"
      ]
     },
     "execution_count": 63,
     "metadata": {},
     "output_type": "execute_result"
    }
   ],
   "source": [
    "gated_counter.terminate_counting()"
   ]
  },
  {
   "cell_type": "code",
   "execution_count": 7,
   "metadata": {},
   "outputs": [
    {
     "data": {
      "text/plain": [
       "1"
      ]
     },
     "execution_count": 7,
     "metadata": {},
     "output_type": "execute_result"
    }
   ],
   "source": [
    "gated_counter.get_status()"
   ]
  },
  {
   "cell_type": "code",
   "execution_count": null,
   "metadata": {},
   "outputs": [],
   "source": []
  },
  {
   "cell_type": "code",
   "execution_count": 7,
   "metadata": {
    "scrolled": true
   },
   "outputs": [
    {
     "name": "stdout",
     "output_type": "stream",
     "text": [
      "{'click_channel': 13, 'gate_channel': 3}\n",
      "{'click_channel': 1, 'gate_channel': 3}\n",
      "status: 1\n"
     ]
    },
    {
     "data": {
      "text/plain": [
       "array([100000, 100000, 100000, 100000, 100000, 100000, 100000, 100000,\n",
       "       100000, 100000, 100000, 100000, 100000, 100000, 100000, 100000,\n",
       "       100000, 100000,  99999, 100000], dtype=uint32)"
      ]
     },
     "execution_count": 7,
     "metadata": {},
     "output_type": "execute_result"
    }
   ],
   "source": [
    "# Just click_channel = 1\n",
    "\n",
    "print(gated_counter.get_channel_assignment())\n",
    "print(\n",
    "    gated_counter.set_channel_assignment(\n",
    "        click_channel=1,\n",
    "        gate_channel=3\n",
    "    )\n",
    ")\n",
    "\n",
    "gated_counter.init_counter(bin_number=20)\n",
    "\n",
    "gated_counter.start_counting()\n",
    "\n",
    "print('status: {}'.format(gated_counter.get_status()))\n",
    "\n",
    "gated_counter.get_count_array(timeout=-1)"
   ]
  },
  {
   "cell_type": "code",
   "execution_count": 8,
   "metadata": {},
   "outputs": [
    {
     "name": "stdout",
     "output_type": "stream",
     "text": [
      "{'click_channel': 2, 'gate_channel': 3}\n",
      "status: 1\n"
     ]
    },
    {
     "data": {
      "text/plain": [
       "array([200000, 200000, 200000, 200000, 200000, 200000, 200000, 200000,\n",
       "       200000, 200000, 200000, 200000, 200000, 200000, 200000, 200000,\n",
       "       200000, 200000, 199999, 200000], dtype=uint32)"
      ]
     },
     "execution_count": 8,
     "metadata": {},
     "output_type": "execute_result"
    }
   ],
   "source": [
    "# Just click_channel = 2\n",
    "\n",
    "print(\n",
    "    gated_counter.set_channel_assignment(\n",
    "        click_channel=2,\n",
    "        gate_channel=3\n",
    "    )\n",
    ")\n",
    "\n",
    "gated_counter.init_counter(bin_number=20)\n",
    "\n",
    "gated_counter.start_counting()\n",
    "\n",
    "print('status: {}'.format(gated_counter.get_status()))\n",
    "\n",
    "gated_counter.get_count_array(timeout=-1)"
   ]
  },
  {
   "cell_type": "code",
   "execution_count": 9,
   "metadata": {},
   "outputs": [
    {
     "name": "stdout",
     "output_type": "stream",
     "text": [
      "{'click_channel': 14, 'gate_channel': 3}\n",
      "combiner = <TimeTagger.Combiner; proxy of <Swig Object of type 'Combiner *' at 0x0000028371A6EEA0> >\n",
      "status: 1\n"
     ]
    },
    {
     "data": {
      "text/plain": [
       "array([300000, 300000, 300000, 300000, 300000, 300000, 300000, 300000,\n",
       "       300000, 300000, 300000, 300000, 300000, 300000, 299999, 300000,\n",
       "       300000, 299999, 300000, 300000], dtype=uint32)"
      ]
     },
     "execution_count": 9,
     "metadata": {},
     "output_type": "execute_result"
    }
   ],
   "source": [
    "# click_channel = [1, 2]\n",
    "\n",
    "print(\n",
    "    gated_counter.set_channel_assignment(\n",
    "        click_channel=[1, 2],\n",
    "        gate_channel=3\n",
    "    )\n",
    ")\n",
    "\n",
    "gated_counter.init_counter(bin_number=20)\n",
    "\n",
    "print('combiner = {}'.format(gated_counter._combiner))\n",
    "\n",
    "gated_counter.start_counting()\n",
    "\n",
    "print('status: {}'.format(gated_counter.get_status()))\n",
    "\n",
    "gated_counter.get_count_array(timeout=-1)"
   ]
  },
  {
   "cell_type": "code",
   "execution_count": 27,
   "metadata": {},
   "outputs": [
    {
     "name": "stdout",
     "output_type": "stream",
     "text": [
      "{'click_channel': 23, 'gate_channel': 3}\n",
      "status: 1\n"
     ]
    },
    {
     "data": {
      "text/plain": [
       "array([9, 9, 9, 8, 9, 9, 9, 8, 9, 9, 9, 8, 9, 9, 9, 8, 9, 9, 9, 8, 9, 9,\n",
       "       9, 8, 9, 9, 9, 8, 9, 9, 9, 8, 9, 9, 9, 8, 9, 9, 9, 8, 9, 9, 9, 8,\n",
       "       9, 9, 9, 8, 9, 9, 9, 8, 9, 9, 9, 8, 9, 9, 9, 8, 9, 9, 9, 8, 9, 9,\n",
       "       9, 8, 9, 9, 9, 8, 9, 9, 9, 8, 9, 9, 9, 8, 9, 9, 9, 8, 9, 9, 9, 8,\n",
       "       9, 9, 9, 8, 9, 9, 9, 8, 9, 9, 9, 8, 9, 9, 9, 8, 9, 9, 9, 8, 9, 9,\n",
       "       9, 8, 9, 9, 9, 8, 9, 9, 9, 8, 9, 9, 9, 8, 9, 9, 9, 8, 9, 9, 9, 8,\n",
       "       9, 9, 9, 8, 9, 9, 9, 8, 9, 9, 9, 8, 9, 9, 9, 8, 9, 9, 9, 8, 9, 9,\n",
       "       9, 8, 9, 9, 9, 8, 9, 9, 9, 8, 9, 9, 9, 8, 9, 9, 9, 8, 9, 9, 9, 8,\n",
       "       9, 9, 9, 8, 9, 9, 9, 8, 9, 9, 9, 8, 9, 9, 9, 8, 9, 9, 9, 8, 9, 9,\n",
       "       9, 8, 9, 9, 9, 8, 9, 9, 9, 8, 9, 9, 9, 8, 9, 9, 9, 8, 9, 9, 9, 8,\n",
       "       9, 9, 9, 8, 9, 9, 9, 8, 9, 9, 9, 8, 9, 9, 9, 8, 9, 9, 9, 8, 9, 9,\n",
       "       9, 8, 9, 9, 9, 8, 9, 9, 9, 8, 9, 9, 9, 8, 9, 9, 9, 8, 9, 9, 9, 8,\n",
       "       9, 9, 9, 8, 9, 9, 9, 8, 9, 9, 9, 8, 9, 9, 9, 8, 9, 9, 9, 8, 9, 9,\n",
       "       9, 8, 9, 9, 9, 8, 9, 9, 9, 8, 9, 9, 9, 8, 9, 9, 9, 8, 9, 9, 9, 8,\n",
       "       9, 9, 9, 8, 9, 9, 9, 8, 9, 9, 9, 8, 9, 9, 9, 8, 9, 9, 9, 8, 9, 9,\n",
       "       9, 8, 9, 9, 9, 8, 9, 9, 9, 8, 9, 9, 9, 8, 9, 9, 9, 8, 9, 9, 9, 8,\n",
       "       9, 9, 9, 8, 9, 9, 9, 8, 9, 9, 9, 8, 9, 9, 9, 8, 9, 9, 9, 8, 9, 9,\n",
       "       9, 8, 9, 9, 9, 8, 9, 9, 9, 8, 9, 9, 9, 8, 9, 9, 9, 8, 9, 9, 9, 8,\n",
       "       9, 9, 9, 8, 9, 9, 9, 8, 9, 9, 9, 8, 9, 9, 9, 8, 9, 9, 9, 8, 9, 9,\n",
       "       9, 8, 9, 9, 9, 8, 9, 9, 9, 8, 9, 9, 9, 8, 9, 9, 9, 8, 9, 9, 9, 8,\n",
       "       9, 9, 9, 8, 9, 9, 9, 8, 9, 9, 9, 8, 9, 9, 9, 8, 9, 9, 9, 8, 9, 9,\n",
       "       9, 8, 9, 9, 9, 8, 9, 9, 9, 8, 9, 9, 9, 8, 9, 9, 9, 8, 9, 9, 9, 8,\n",
       "       9, 9, 9, 8, 9, 9, 9, 8, 9, 9, 9, 8, 9, 9, 9, 8, 9, 9, 9, 8, 9, 9,\n",
       "       9, 8, 9, 9, 9, 8, 9, 9, 9, 8, 9, 9, 9, 8, 9, 9, 9, 8, 9, 9, 9, 8,\n",
       "       9, 9, 9, 8, 9, 9, 9, 8, 9, 9, 9, 8, 9, 9, 9, 8, 9, 9, 9, 8, 9, 9,\n",
       "       9, 8, 9, 9, 9, 8, 9, 9, 9, 8, 9, 9, 9, 8, 9, 9, 9, 8, 9, 9, 9, 8,\n",
       "       9, 9, 9, 8, 9, 9, 9, 8, 9, 9, 9, 8, 9, 9, 9, 8, 9, 9, 9, 8, 9, 9,\n",
       "       9, 8, 9, 9, 9, 8, 9, 9, 9, 8, 9, 9, 9, 8, 9, 9, 9, 8, 9, 9, 9, 8,\n",
       "       9, 9, 9, 8, 9, 9, 9, 8, 9, 9, 9, 8, 9, 9, 9, 8, 9, 9, 9, 8, 9, 9,\n",
       "       9, 8, 9, 9, 9, 8, 9, 9, 9, 8, 9, 9, 9, 8, 9, 9, 9, 8, 9, 9, 9, 8,\n",
       "       9, 9, 9, 8, 9, 9, 9, 8, 9, 9, 9, 8, 9, 9, 9, 8, 9, 9, 9, 8, 9, 9,\n",
       "       9, 8, 9, 9, 9, 8, 9, 9, 9, 8, 9, 9, 9, 8, 9, 9, 9, 8, 9, 9, 9, 8,\n",
       "       9, 9, 9, 8, 9, 9, 9, 8, 9, 9, 9, 8, 9, 9, 9, 8, 9, 9, 9, 8, 9, 9,\n",
       "       9, 8, 9, 9, 9, 8, 9, 9, 9, 8, 9, 9, 9, 8, 9, 9, 9, 8, 9, 9, 9, 8,\n",
       "       9, 9, 9, 8, 9, 9, 9, 8, 9, 9, 9, 8, 9, 9, 9, 8, 9, 9, 9, 8, 9, 9,\n",
       "       9, 8, 9, 9, 9, 8, 9, 9, 9, 8, 9, 9, 9, 8, 9, 9, 9, 8, 9, 9, 9, 8,\n",
       "       9, 9, 9, 8, 9, 9, 9, 8, 9, 9, 9, 8, 9, 9, 9, 8, 9, 9, 9, 8, 9, 9,\n",
       "       9, 8, 9, 9, 9, 8, 9, 9, 9, 8, 9, 9, 9, 8, 9, 9, 9, 8, 9, 9, 9, 8,\n",
       "       9, 9, 9, 8, 9, 9, 9, 8, 9, 9, 9, 8, 9, 9, 9, 8, 9, 9, 9, 8, 9, 9,\n",
       "       9, 8, 9, 9, 9, 8, 9, 9, 9, 8, 9, 9, 9, 8, 9, 9, 9, 8, 9, 9, 9, 8,\n",
       "       9, 9, 9, 8, 9, 9, 9, 8, 9, 9, 9, 8, 9, 9, 9, 8, 9, 9, 9, 8, 9, 9,\n",
       "       9, 8, 9, 9, 9, 8, 9, 9, 9, 8, 9, 9, 9, 8, 9, 9, 9, 8, 9, 9, 9, 8,\n",
       "       9, 9, 9, 8, 9, 9, 9, 8, 9, 9, 9, 8, 9, 9, 9, 8, 9, 9, 9, 8, 9, 9,\n",
       "       9, 8, 9, 9, 9, 8, 9, 9, 9, 8, 9, 9, 9, 8, 9, 9, 9, 8, 9, 9, 9, 8,\n",
       "       9, 9, 9, 8, 9, 9, 9, 8, 9, 9, 9, 8, 9, 9, 9, 8, 9, 9, 9, 8, 9, 9,\n",
       "       9, 8, 9, 9, 9, 8, 9, 9, 9, 8], dtype=uint32)"
      ]
     },
     "execution_count": 27,
     "metadata": {},
     "output_type": "execute_result"
    }
   ],
   "source": [
    "# click_channel = [1, 2]\n",
    "\n",
    "print(\n",
    "    gated_counter.set_channel_assignment(\n",
    "        click_channel=[1, 2],\n",
    "        gate_channel=3\n",
    "    )\n",
    ")\n",
    "\n",
    "gated_counter.init_counter(bin_number=1000)\n",
    "\n",
    "# print('combiner = {}'.format(gated_counter._combiner))\n",
    "\n",
    "gated_counter.start_counting()\n",
    "\n",
    "print('status: {}'.format(gated_counter.get_status()))\n",
    "\n",
    "gated_counter.get_count_array(timeout=-1)"
   ]
  },
  {
   "cell_type": "code",
   "execution_count": 93,
   "metadata": {},
   "outputs": [
    {
     "data": {
      "text/plain": [
       "array([3750, 3750, 3602,  628,  437,  354,  307,  274,  249,  231,  216,\n",
       "        204,  193, 3750,  969,  514,  392,  329,  290,  261], dtype=uint32)"
      ]
     },
     "execution_count": 93,
     "metadata": {},
     "output_type": "execute_result"
    }
   ],
   "source": [
    "# Just click_channel = 2\n",
    "gated_counter.get_count_array(timeout=-1)"
   ]
  },
  {
   "cell_type": "code",
   "execution_count": 97,
   "metadata": {},
   "outputs": [
    {
     "data": {
      "text/plain": [
       "array([0, 0, 0, 0, 0, 0, 0, 0, 0, 0, 0, 0, 0, 0, 0, 0, 0, 0, 0, 0],\n",
       "      dtype=uint32)"
      ]
     },
     "execution_count": 97,
     "metadata": {},
     "output_type": "execute_result"
    }
   ],
   "source": [
    "# click_channel = [1, 2]\n",
    "gated_counter.get_count_array(timeout=-1)"
   ]
  },
  {
   "cell_type": "code",
   "execution_count": null,
   "metadata": {},
   "outputs": [],
   "source": []
  },
  {
   "cell_type": "markdown",
   "metadata": {},
   "source": [
    "```\n",
    "Warning: get_count_array(): operation timed out, but counter is still running. \n",
    "Try calling get_count_array() later or terminate process by terminate_counting().\n",
    "```"
   ]
  },
  {
   "cell_type": "code",
   "execution_count": 101,
   "metadata": {},
   "outputs": [
    {
     "data": {
      "text/plain": [
       "array([0, 0, 0, 0, 0, 0, 0, 0, 0, 0, 0, 0, 0, 0, 0, 0, 0, 0, 0, 0],\n",
       "      dtype=int32)"
      ]
     },
     "execution_count": 101,
     "metadata": {},
     "output_type": "execute_result"
    }
   ],
   "source": [
    "gated_counter._counter.getData()"
   ]
  },
  {
   "cell_type": "markdown",
   "metadata": {},
   "source": [
    "##### Direct running of CountBetweenMarkers measurement"
   ]
  },
  {
   "cell_type": "code",
   "execution_count": 218,
   "metadata": {},
   "outputs": [
    {
     "data": {
      "text/plain": [
       "<TimeTagger.CountBetweenMarkers; proxy of <Swig Object of type 'CountBetweenMarkers *' at 0x00000178DB405C00> >"
      ]
     },
     "execution_count": 218,
     "metadata": {},
     "output_type": "execute_result"
    }
   ],
   "source": [
    "gated_counter._counter"
   ]
  },
  {
   "cell_type": "code",
   "execution_count": 219,
   "metadata": {},
   "outputs": [
    {
     "data": {
      "text/plain": [
       "array([0, 0, 0, 0, 0, 0, 0, 0, 0, 0, 0, 0, 0, 0, 0, 0, 0, 0, 0, 0],\n",
       "      dtype=int32)"
      ]
     },
     "execution_count": 219,
     "metadata": {},
     "output_type": "execute_result"
    }
   ],
   "source": [
    "gated_counter._counter.getData()"
   ]
  },
  {
   "cell_type": "code",
   "execution_count": 282,
   "metadata": {},
   "outputs": [],
   "source": [
    "gated_counter._counter.stop()\n",
    "gated_counter._counter.clear()\n",
    "gated_counter._counter.start()"
   ]
  },
  {
   "cell_type": "code",
   "execution_count": 283,
   "metadata": {},
   "outputs": [
    {
     "data": {
      "text/plain": [
       "True"
      ]
     },
     "execution_count": 283,
     "metadata": {},
     "output_type": "execute_result"
    }
   ],
   "source": [
    "gated_counter._counter.isRunning()"
   ]
  },
  {
   "cell_type": "code",
   "execution_count": 305,
   "metadata": {},
   "outputs": [
    {
     "name": "stdout",
     "output_type": "stream",
     "text": [
      "20898251448000\n",
      "True\n"
     ]
    }
   ],
   "source": [
    "print(gated_counter._counter.getCaptureDuration())\n",
    "print(gated_counter._counter.ready())"
   ]
  },
  {
   "cell_type": "code",
   "execution_count": 306,
   "metadata": {},
   "outputs": [
    {
     "data": {
      "text/plain": [
       "array([49241, 49322, 49265, 49373, 49352, 49193, 49206, 49397, 49320,\n",
       "       49303, 49226, 49200, 49214, 49251, 49223, 49314, 49184, 49206,\n",
       "       49090, 49373], dtype=int32)"
      ]
     },
     "execution_count": 306,
     "metadata": {},
     "output_type": "execute_result"
    }
   ],
   "source": [
    "gated_counter._counter.getData()"
   ]
  },
  {
   "cell_type": "code",
   "execution_count": 323,
   "metadata": {},
   "outputs": [],
   "source": [
    "gated_counter._counter.stop()"
   ]
  },
  {
   "cell_type": "code",
   "execution_count": 280,
   "metadata": {},
   "outputs": [],
   "source": [
    "gated_counter._counter.clear()"
   ]
  },
  {
   "cell_type": "markdown",
   "metadata": {},
   "source": [
    "##### END Direct running of CountBetweenMarkers measurement"
   ]
  },
  {
   "cell_type": "code",
   "execution_count": 213,
   "metadata": {},
   "outputs": [
    {
     "data": {
      "text/plain": [
       "2"
      ]
     },
     "execution_count": 213,
     "metadata": {},
     "output_type": "execute_result"
    }
   ],
   "source": [
    "gated_counter.get_status()"
   ]
  },
  {
   "cell_type": "code",
   "execution_count": 14,
   "metadata": {},
   "outputs": [
    {
     "data": {
      "text/plain": [
       "array([0, 0, 0, 0, 0, 0, 0, 0, 0, 0, 0, 0, 0, 0, 0, 0, 0, 0, 0, 0],\n",
       "      dtype=uint32)"
      ]
     },
     "execution_count": 14,
     "metadata": {},
     "output_type": "execute_result"
    }
   ],
   "source": [
    "gated_counter.get_count_array(timeout=5)"
   ]
  },
  {
   "cell_type": "code",
   "execution_count": 31,
   "metadata": {},
   "outputs": [
    {
     "name": "stdout",
     "output_type": "stream",
     "text": [
      "2\n",
      "0\n",
      "1\n"
     ]
    }
   ],
   "source": [
    "print(gated_counter.get_status())\n",
    "print(gated_counter.start_counting())\n",
    "print(gated_counter.get_status())"
   ]
  },
  {
   "cell_type": "code",
   "execution_count": 51,
   "metadata": {},
   "outputs": [
    {
     "data": {
      "text/plain": [
       "array([0, 0, 0, 0, 0, 0, 0, 0, 0, 0], dtype=uint32)"
      ]
     },
     "execution_count": 51,
     "metadata": {},
     "output_type": "execute_result"
    }
   ],
   "source": [
    "gated_counter.get_count_array(timeout=10)"
   ]
  },
  {
   "cell_type": "markdown",
   "metadata": {},
   "source": [
    "#### terminate_counting()"
   ]
  },
  {
   "cell_type": "code",
   "execution_count": 6,
   "metadata": {},
   "outputs": [
    {
     "name": "stdout",
     "output_type": "stream",
     "text": [
      "1\n",
      "0\n",
      "0\n"
     ]
    }
   ],
   "source": [
    "print(gated_counter.get_status())\n",
    "print(gated_counter.terminate_counting())\n",
    "print(gated_counter.get_status())"
   ]
  },
  {
   "cell_type": "code",
   "execution_count": 7,
   "metadata": {},
   "outputs": [
    {
     "name": "stdout",
     "output_type": "stream",
     "text": [
      "0\n",
      "0\n",
      "0\n"
     ]
    }
   ],
   "source": [
    "print(gated_counter.get_status())\n",
    "print(gated_counter.terminate_counting())\n",
    "print(gated_counter.get_status())"
   ]
  },
  {
   "cell_type": "code",
   "execution_count": null,
   "metadata": {},
   "outputs": [],
   "source": []
  }
 ],
 "metadata": {
  "kernelspec": {
   "display_name": "Qudi",
   "language": "python",
   "name": "qudi"
  },
  "language_info": {
   "codemirror_mode": {
    "name": "ipython",
    "version": "3.6.5"
   },
   "file_extension": ".py",
   "mimetype": "text/x-python",
   "name": "python",
   "nbconvert_exporter": "python",
   "pygments_lexer": "ipython3",
   "version": "3.6.5"
  }
 },
 "nbformat": 4,
 "nbformat_minor": 2
}
