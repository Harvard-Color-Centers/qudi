{
 "cells": [
  {
   "cell_type": "markdown",
   "metadata": {},
   "source": [
    "## Correct read-in of config paraeters"
   ]
  },
  {
   "cell_type": "code",
   "execution_count": 2,
   "metadata": {},
   "outputs": [
    {
     "data": {
      "text/plain": [
       "'1634000FX0'"
      ]
     },
     "execution_count": 2,
     "metadata": {},
     "output_type": "execute_result"
    }
   ],
   "source": [
    "si_tt_sc._cfg_serial_str"
   ]
  },
  {
   "cell_type": "code",
   "execution_count": 3,
   "metadata": {},
   "outputs": [
    {
     "data": {
      "text/plain": [
       "[1, 2]"
      ]
     },
     "execution_count": 3,
     "metadata": {},
     "output_type": "execute_result"
    }
   ],
   "source": [
    "si_tt_sc._cfg_channel_list"
   ]
  },
  {
   "cell_type": "code",
   "execution_count": 4,
   "metadata": {},
   "outputs": [
    {
     "data": {
      "text/plain": [
       "1"
      ]
     },
     "execution_count": 4,
     "metadata": {},
     "output_type": "execute_result"
    }
   ],
   "source": [
    "si_tt_sc._cfg_clock_frequency"
   ]
  },
  {
   "cell_type": "code",
   "execution_count": 5,
   "metadata": {},
   "outputs": [
    {
     "data": {
      "text/plain": [
       "150"
      ]
     },
     "execution_count": 5,
     "metadata": {},
     "output_type": "execute_result"
    }
   ],
   "source": [
    "si_tt_sc._cfg_buffer_size"
   ]
  },
  {
   "cell_type": "markdown",
   "metadata": {},
   "source": [
    "## Protected __device_ref_dict"
   ]
  },
  {
   "cell_type": "markdown",
   "metadata": {},
   "source": [
    "#### __device_ref_dict, _tagger"
   ]
  },
  {
   "cell_type": "code",
   "execution_count": 7,
   "metadata": {},
   "outputs": [],
   "source": [
    "from hardware.swabian_instruments.si_time_tagger import SITimeTaggerBase, SITimeTaggerSlowCounter"
   ]
  },
  {
   "cell_type": "markdown",
   "metadata": {},
   "source": [
    "##### Protected class-wide dictionary"
   ]
  },
  {
   "cell_type": "code",
   "execution_count": 8,
   "metadata": {},
   "outputs": [
    {
     "name": "stderr",
     "output_type": "stream",
     "text": [
      "Traceback (most recent call last):\n",
      "  File \"C:\\Users\\Lukin SiV\\qudi\\logic\\jupyterkernel\\qzmqkernel.py\", line 792, in run_code\n",
      "    exec(code_obj, self.user_global_ns, self.user_ns)\n",
      "  File \"<ipython-input-8-5920effc18a4>\", line 1, in <module>\n",
      "    SITimeTaggerBase.__device_ref_dict\n",
      "AttributeError: type object 'SITimeTaggerBase' has no attribute '__device_ref_dict'\n"
     ]
    }
   ],
   "source": [
    "SITimeTaggerBase.__device_ref_dict"
   ]
  },
  {
   "cell_type": "code",
   "execution_count": 21,
   "metadata": {},
   "outputs": [
    {
     "name": "stderr",
     "output_type": "stream",
     "text": [
      "Traceback (most recent call last):\n",
      "  File \"C:\\Users\\Lukin SiV\\qudi\\logic\\jupyterkernel\\qzmqkernel.py\", line 792, in run_code\n",
      "    exec(code_obj, self.user_global_ns, self.user_ns)\n",
      "  File \"<ipython-input-21-a5834ac96409>\", line 1, in <module>\n",
      "    si_tt_sc.__device_ref_dict\n",
      "AttributeError: 'SITimeTaggerSlowCounter' object has no attribute '__device_ref_dict'\n"
     ]
    }
   ],
   "source": [
    "si_tt_sc.__device_ref_dict"
   ]
  },
  {
   "cell_type": "code",
   "execution_count": 22,
   "metadata": {},
   "outputs": [
    {
     "name": "stderr",
     "output_type": "stream",
     "text": [
      "Traceback (most recent call last):\n",
      "  File \"C:\\Users\\Lukin SiV\\qudi\\logic\\jupyterkernel\\qzmqkernel.py\", line 792, in run_code\n",
      "    exec(code_obj, self.user_global_ns, self.user_ns)\n",
      "  File \"<ipython-input-22-c59330ca69e2>\", line 1, in <module>\n",
      "    si_tt_sc.__class__.__device_ref_dict\n",
      "AttributeError: type object 'SITimeTaggerSlowCounter' has no attribute '__device_ref_dict'\n"
     ]
    }
   ],
   "source": [
    "si_tt_sc.__class__.__device_ref_dict"
   ]
  },
  {
   "cell_type": "markdown",
   "metadata": {},
   "source": [
    "##### test: intentionally access cls.__device_ref_dict"
   ]
  },
  {
   "cell_type": "markdown",
   "metadata": {},
   "source": [
    "Leading double underscore leads to name-mangling: variable name is appeded by _ClassName:\n",
    "`_SITimeTaggerBase__device_ref_dict`"
   ]
  },
  {
   "cell_type": "markdown",
   "metadata": {},
   "source": [
    "It is vesible that call of self.add_device(serial_str=self._serial_str) from inside instance have added the device\n",
    "reference to the class-wide dictionary"
   ]
  },
  {
   "cell_type": "code",
   "execution_count": 10,
   "metadata": {},
   "outputs": [
    {
     "data": {
      "text/plain": [
       "{'1634000FX0': <TimeTagger.TimeTagger; proxy of <Swig Object of type 'TimeTagger *' at 0x0000020E0E4774E0> >}"
      ]
     },
     "execution_count": 10,
     "metadata": {},
     "output_type": "execute_result"
    }
   ],
   "source": [
    "SITimeTaggerBase._SITimeTaggerBase__device_ref_dict"
   ]
  },
  {
   "cell_type": "code",
   "execution_count": 11,
   "metadata": {},
   "outputs": [
    {
     "data": {
      "text/plain": [
       "{'1634000FX0': <TimeTagger.TimeTagger; proxy of <Swig Object of type 'TimeTagger *' at 0x0000020E0E4774E0> >}"
      ]
     },
     "execution_count": 11,
     "metadata": {},
     "output_type": "execute_result"
    }
   ],
   "source": [
    "SITimeTaggerSlowCounter._SITimeTaggerBase__device_ref_dict"
   ]
  },
  {
   "cell_type": "code",
   "execution_count": 12,
   "metadata": {},
   "outputs": [
    {
     "data": {
      "text/plain": [
       "{'1634000FX0': <TimeTagger.TimeTagger; proxy of <Swig Object of type 'TimeTagger *' at 0x0000020E0E4774E0> >}"
      ]
     },
     "execution_count": 12,
     "metadata": {},
     "output_type": "execute_result"
    }
   ],
   "source": [
    "si_tt_sc._SITimeTaggerBase__device_ref_dict"
   ]
  },
  {
   "cell_type": "markdown",
   "metadata": {},
   "source": [
    "##### Correct way to access reference to the device from inside measurement instance"
   ]
  },
  {
   "cell_type": "code",
   "execution_count": 13,
   "metadata": {},
   "outputs": [
    {
     "data": {
      "text/plain": [
       "<TimeTagger.TimeTagger; proxy of <Swig Object of type 'TimeTagger *' at 0x0000020E0E4774E0> >"
      ]
     },
     "execution_count": 13,
     "metadata": {},
     "output_type": "execute_result"
    }
   ],
   "source": [
    "si_tt_sc._tagger"
   ]
  },
  {
   "cell_type": "code",
   "execution_count": 14,
   "metadata": {},
   "outputs": [
    {
     "name": "stderr",
     "output_type": "stream",
     "text": [
      "Traceback (most recent call last):\n",
      "  File \"C:\\Users\\Lukin SiV\\qudi\\logic\\jupyterkernel\\qzmqkernel.py\", line 792, in run_code\n",
      "    exec(code_obj, self.user_global_ns, self.user_ns)\n",
      "  File \"<ipython-input-14-d1186db72787>\", line 2, in <module>\n",
      "    si_tt_sc._tagger = 1\n",
      "AttributeError: can't set attribute\n"
     ]
    }
   ],
   "source": [
    "# test of read-only access\n",
    "si_tt_sc._tagger = 1"
   ]
  },
  {
   "cell_type": "markdown",
   "metadata": {},
   "source": [
    "## set_up_clock/counter()"
   ]
  },
  {
   "cell_type": "code",
   "execution_count": 15,
   "metadata": {},
   "outputs": [],
   "source": [
    "si_tt_sc._tagger.setTestSignal(1, True)"
   ]
  },
  {
   "cell_type": "code",
   "execution_count": 16,
   "metadata": {},
   "outputs": [
    {
     "data": {
      "text/plain": [
       "0"
      ]
     },
     "execution_count": 16,
     "metadata": {},
     "output_type": "execute_result"
    }
   ],
   "source": [
    "si_tt_sc.set_up_clock()"
   ]
  },
  {
   "cell_type": "code",
   "execution_count": 17,
   "metadata": {},
   "outputs": [
    {
     "data": {
      "text/plain": [
       "1000000000000"
      ]
     },
     "execution_count": 17,
     "metadata": {},
     "output_type": "execute_result"
    }
   ],
   "source": [
    "si_tt_sc._bin_width"
   ]
  },
  {
   "cell_type": "code",
   "execution_count": 18,
   "metadata": {},
   "outputs": [
    {
     "data": {
      "text/plain": [
       "0"
      ]
     },
     "execution_count": 18,
     "metadata": {},
     "output_type": "execute_result"
    }
   ],
   "source": [
    "si_tt_sc.set_up_counter()"
   ]
  },
  {
   "cell_type": "code",
   "execution_count": 19,
   "metadata": {},
   "outputs": [
    {
     "data": {
      "text/plain": [
       "150"
      ]
     },
     "execution_count": 19,
     "metadata": {},
     "output_type": "execute_result"
    }
   ],
   "source": [
    "si_tt_sc._buffer_size"
   ]
  },
  {
   "cell_type": "code",
   "execution_count": 20,
   "metadata": {},
   "outputs": [
    {
     "data": {
      "text/plain": [
       "[1, 2]"
      ]
     },
     "execution_count": 20,
     "metadata": {},
     "output_type": "execute_result"
    }
   ],
   "source": [
    "si_tt_sc._channel_list"
   ]
  },
  {
   "cell_type": "code",
   "execution_count": 21,
   "metadata": {},
   "outputs": [
    {
     "data": {
      "text/plain": [
       "<TimeTagger.Counter; proxy of <Swig Object of type 'Counter *' at 0x0000020E0E477660> >"
      ]
     },
     "execution_count": 21,
     "metadata": {},
     "output_type": "execute_result"
    }
   ],
   "source": [
    "si_tt_sc._counter"
   ]
  },
  {
   "cell_type": "code",
   "execution_count": 81,
   "metadata": {},
   "outputs": [
    {
     "data": {
      "text/plain": [
       "array([[    0,     0,     0,     0,     0,     0,     0,     0,     0,\n",
       "            0,     0,     0,     0,     0,     0,     0,     0,     0,\n",
       "            0,     0,  9224, 72486, 80135, 80131, 80136, 80136, 80135,\n",
       "        80141, 80134, 80135, 80132, 80133, 80141, 80143, 80140, 80138,\n",
       "        80137, 80146, 80140, 80148, 80148, 80141, 80143, 80147, 80147,\n",
       "        80143, 80139, 80140, 80141, 80137, 80128, 80121, 80124, 80139,\n",
       "        80133, 80135, 80135, 80146, 80139, 80138, 80144, 80147, 80143,\n",
       "        80144, 80146, 80146, 80137, 80146, 80137, 80140, 80140, 80151,\n",
       "        80139, 80140, 80142, 80136, 80132, 80138, 80141, 80143, 80137,\n",
       "        80138, 80132, 80139, 80135, 80140, 80133, 80139, 80142, 80142,\n",
       "        80141, 80133, 80125, 80135, 80135, 80133, 80131, 80135, 80138,\n",
       "        80135, 80126, 80132, 80131, 80136, 80124, 80138, 80136, 80139,\n",
       "        80139, 80143, 80142, 80142, 80142, 80138, 80136, 80129, 80126,\n",
       "        80134, 80137, 80136, 80142, 80138, 80140, 80136, 80132, 80131,\n",
       "        80131, 80127, 80133, 80129, 80132, 80132, 80131, 80132, 80137,\n",
       "        80133, 80136, 80127, 80137, 80134, 80138, 80136, 80129, 80127,\n",
       "        80125, 80125, 80130, 80123, 80125, 80132],\n",
       "       [    0,     0,     0,     0,     0,     0,     0,     0,     0,\n",
       "            0,     0,     0,     0,     0,     0,     0,     0,     0,\n",
       "            0,     0,     0,     0,     0,     0,     0,     0,     0,\n",
       "            0,     0,     0,     0,     0,     0,     0,     0,     0,\n",
       "            0,     0,     0,     0,     0,     0,     0,     0,     0,\n",
       "            0,     0,     0,     0,     0,     0,     0,     0,     0,\n",
       "            0,     0,     0,     0,     0,     0,     0,     0,     0,\n",
       "            0,     0,     0,     0,     0,     0,     0,     0,     0,\n",
       "            0,     0,     0,     0,     0,     0,     0,     0,     0,\n",
       "            0,     0,     0,     0,     0,     0,     0,     0,     0,\n",
       "            0,     0,     0,     0,     0,     0,     0,     0,     0,\n",
       "            0,     0,     0,     0,     0,     0,     0,     0,     0,\n",
       "            0,     0,     0,     0,     0,     0,     0,     0,     0,\n",
       "            0,     0,     0,     0,     0,     0,     0,     0,     0,\n",
       "            0,     0,     0,     0,     0,     0,     0,     0,     0,\n",
       "            0,     0,     0,     0,     0,     0,     0,     0,     0,\n",
       "            0,     0,     0,     0,     0,     0]], dtype=int32)"
      ]
     },
     "execution_count": 81,
     "metadata": {},
     "output_type": "execute_result"
    }
   ],
   "source": [
    "si_tt_sc._counter.getData()"
   ]
  },
  {
   "cell_type": "markdown",
   "metadata": {},
   "source": [
    "## get_counter()"
   ]
  },
  {
   "cell_type": "code",
   "execution_count": 1,
   "metadata": {},
   "outputs": [
    {
     "data": {
      "text/plain": [
       "array([], shape=(0, 10), dtype=uint32)"
      ]
     },
     "execution_count": 1,
     "metadata": {},
     "output_type": "execute_result"
    }
   ],
   "source": [
    "si_tt_sc.get_counter(10)"
   ]
  },
  {
   "cell_type": "code",
   "execution_count": 1,
   "metadata": {},
   "outputs": [
    {
     "data": {
      "text/plain": [
       "[1, 2]"
      ]
     },
     "execution_count": 1,
     "metadata": {},
     "output_type": "execute_result"
    }
   ],
   "source": [
    "si_tt_sc.get_counter_channels()"
   ]
  },
  {
   "cell_type": "code",
   "execution_count": 3,
   "metadata": {},
   "outputs": [
    {
     "data": {
      "text/plain": [
       "array([[0., 0., 0., 0., 0., 0., 0., 0., 0., 0.],\n",
       "       [0., 0., 0., 0., 0., 0., 0., 0., 0., 0.]])"
      ]
     },
     "execution_count": 3,
     "metadata": {},
     "output_type": "execute_result"
    }
   ],
   "source": [
    "nicard_6363.get_counter(samples=10)"
   ]
  },
  {
   "cell_type": "code",
   "execution_count": 3,
   "metadata": {},
   "outputs": [
    {
     "data": {
      "text/plain": [
       "20000000000"
      ]
     },
     "execution_count": 3,
     "metadata": {},
     "output_type": "execute_result"
    }
   ],
   "source": [
    "si_tt_sc._bin_width"
   ]
  },
  {
   "cell_type": "code",
   "execution_count": 4,
   "metadata": {},
   "outputs": [
    {
     "data": {
      "text/plain": [
       "0.02"
      ]
     },
     "execution_count": 4,
     "metadata": {},
     "output_type": "execute_result"
    }
   ],
   "source": [
    "si_tt_sc._bin_width_sec"
   ]
  },
  {
   "cell_type": "code",
   "execution_count": 25,
   "metadata": {},
   "outputs": [
    {
     "data": {
      "text/plain": [
       "365810417664000"
      ]
     },
     "execution_count": 25,
     "metadata": {},
     "output_type": "execute_result"
    }
   ],
   "source": [
    "si_tt_sc._counter.getCaptureDuration()"
   ]
  },
  {
   "cell_type": "code",
   "execution_count": null,
   "metadata": {},
   "outputs": [],
   "source": [
    "while True:\n",
    "    print(si_tt_sc._counter.getCaptureDuration() // si_tt_sc._bin_width)"
   ]
  },
  {
   "cell_type": "code",
   "execution_count": 36,
   "metadata": {},
   "outputs": [
    {
     "data": {
      "text/plain": [
       "0"
      ]
     },
     "execution_count": 36,
     "metadata": {},
     "output_type": "execute_result"
    }
   ],
   "source": [
    "si_tt_sc._counter.getCaptureDuration() // si_tt_sc._bin_width - si_tt_sc._last_read_bin"
   ]
  },
  {
   "cell_type": "code",
   "execution_count": null,
   "metadata": {},
   "outputs": [],
   "source": [
    "si_tt_sc._tagger.setTestSignal(1, True)"
   ]
  },
  {
   "cell_type": "code",
   "execution_count": 53,
   "metadata": {},
   "outputs": [
    {
     "data": {
      "text/plain": [
       "1"
      ]
     },
     "execution_count": 53,
     "metadata": {},
     "output_type": "execute_result"
    }
   ],
   "source": [
    "counterlogic.set_count_frequency(1)"
   ]
  },
  {
   "cell_type": "code",
   "execution_count": null,
   "metadata": {},
   "outputs": [],
   "source": [
    "si_tt_sc._overflow"
   ]
  },
  {
   "cell_type": "code",
   "execution_count": 58,
   "metadata": {},
   "outputs": [
    {
     "data": {
      "text/plain": [
       "array([[842460.],\n",
       "       [800330.]])"
      ]
     },
     "execution_count": 58,
     "metadata": {},
     "output_type": "execute_result"
    }
   ],
   "source": [
    "si_tt_sc.get_counter()"
   ]
  },
  {
   "cell_type": "code",
   "execution_count": 60,
   "metadata": {},
   "outputs": [
    {
     "data": {
      "text/plain": [
       "array([[ 802,  900,  599,  699,  805,  697,  995, 1005,  921,  881,  965,\n",
       "         748,  844,  780,  735,  910, 1198,  903,  745,  977,  890,  777,\n",
       "         755, 1054,  905,  875,  679,  837,  786,  873,  963,  740,  771,\n",
       "         891,  604,  719,  880,  706, 1033, 1040,  953,  928, 1055,  758,\n",
       "         883,  786,  711,  897, 1090,  886,  778,  935,  913,  709,  734,\n",
       "        1035,  952,  933,  700,  835,  761,  896,  957,  749,  754,  893,\n",
       "         567,  701,  864,  723,  975, 1062, 1047,  861, 1022,  770,  851,\n",
       "         823,  719,  799, 1195,  887,  754,  932,  919,  684,  695,  981,\n",
       "         958,  901,  725,  762,  772,  860,  957,  746,  675,  954,  584,\n",
       "         705,  864,  685,  997, 1045,  962,  803,  983,  764,  830,  824,\n",
       "         741,  836, 1193,  916,  735,  937,  937,  796,  652, 1009,  896,\n",
       "         876,  699,  802,  778,  879,  949,  737,  781,  912,  578,  684,\n",
       "         829,  679, 1015, 1067,  990,  790,  982,  831,  804,  836,  688,\n",
       "         795, 1104,  904,  748,  916,  848,  714],\n",
       "       [ 801,  800,  801,  800,  801,  800,  801,  800,  800,  801,  800,\n",
       "         801,  800,  801,  800,  801,  800,  801,  800,  800,  801,  800,\n",
       "         801,  800,  801,  800,  801,  800,  801,  800,  801,  800,  801,\n",
       "         800,  800,  801,  800,  801,  800,  800,  801,  800,  801,  800,\n",
       "         801,  800,  801,  800,  801,  800,  801,  800,  801,  800,  800,\n",
       "         801,  800,  801,  800,  800,  801,  800,  801,  800,  801,  800,\n",
       "         801,  800,  801,  800,  801,  800,  800,  801,  800,  801,  800,\n",
       "         801,  800,  801,  801,  800,  801,  800,  801,  800,  801,  800,\n",
       "         801,  800,  801,  800,  801,  800,  801,  801,  800,  801,  800,\n",
       "         801,  800,  801,  800,  801,  800,  801,  800,  801,  800,  801,\n",
       "         800,  801,  800,  801,  800,  801,  801,  800,  801,  800,  801,\n",
       "         800,  801,  800,  801,  801,  800,  801,  800,  801,  801,  800,\n",
       "         801,  800,  801,  801,  800,  801,  800,  801,  800,  801,  800,\n",
       "         801,  800,  801,  800,  801,  800,  801]], dtype=int32)"
      ]
     },
     "execution_count": 60,
     "metadata": {},
     "output_type": "execute_result"
    }
   ],
   "source": [
    "si_tt_sc._counter.getData()"
   ]
  },
  {
   "cell_type": "code",
   "execution_count": 22,
   "metadata": {},
   "outputs": [
    {
     "data": {
      "text/plain": [
       "9941250.0"
      ]
     },
     "execution_count": 22,
     "metadata": {},
     "output_type": "execute_result"
    }
   ],
   "source": [
    "198825/0.02"
   ]
  },
  {
   "cell_type": "code",
   "execution_count": null,
   "metadata": {},
   "outputs": [],
   "source": []
  }
 ],
 "metadata": {
  "kernelspec": {
   "display_name": "Qudi",
   "language": "python",
   "name": "qudi"
  },
  "language_info": {
   "codemirror_mode": {
    "name": "ipython",
    "version": "3.6.5"
   },
   "file_extension": ".py",
   "mimetype": "text/x-python",
   "name": "python",
   "nbconvert_exporter": "python",
   "pygments_lexer": "ipython3",
   "version": "3.6.5"
  }
 },
 "nbformat": 4,
 "nbformat_minor": 2
}
