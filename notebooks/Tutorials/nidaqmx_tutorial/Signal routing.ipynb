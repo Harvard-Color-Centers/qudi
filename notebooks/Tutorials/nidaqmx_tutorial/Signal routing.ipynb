{
 "cells": [
  {
   "cell_type": "code",
   "execution_count": 1,
   "metadata": {},
   "outputs": [],
   "source": [
    "import nidaqmx\n",
    "from nidaqmx.system import System as niSys"
   ]
  },
  {
   "cell_type": "code",
   "execution_count": 17,
   "metadata": {},
   "outputs": [],
   "source": [
    "niSys.connect_terms(None, source_terminal='/PXI-6363/ao/SampleClock', destination_terminal='/PXI-6363/PFI12')"
   ]
  },
  {
   "cell_type": "code",
   "execution_count": 18,
   "metadata": {},
   "outputs": [],
   "source": [
    "niSys.disconnect_terms(None, source_terminal='/PXI-6363/ao/SampleClock', destination_terminal='/PXI-6363/PFI12')"
   ]
  },
  {
   "cell_type": "code",
   "execution_count": 3,
   "metadata": {
    "collapsed": true
   },
   "outputs": [
    {
     "name": "stdout",
     "output_type": "stream",
     "text": [
      "Help on function connect_terms in module nidaqmx.system.system:\n",
      "\n",
      "connect_terms(self, source_terminal, destination_terminal, signal_modifiers=<SignalModifiers.DO_NOT_INVERT_POLARITY: 0>)\n",
      "    Creates a route between a source and destination terminal. The\n",
      "    route can carry a variety of digital signals, such as triggers,\n",
      "    clocks, and hardware events.\n",
      "    \n",
      "    Args:\n",
      "        source_terminal (str): Specifies the originating terminal of\n",
      "            the route. A DAQmx terminal constant lists all terminals\n",
      "            available on devices installed in the system. You also\n",
      "            can specify a source terminal by specifying a string\n",
      "            that contains a terminal name.\n",
      "        destination_terminal (str): Specifies the receiving terminal\n",
      "            of the route. A DAQmx terminal constant provides a list\n",
      "            of all terminals available on devices installed in the\n",
      "            system. You also can specify a destination terminal by\n",
      "            specifying a string that contains a terminal name.\n",
      "        signal_modifiers (Optional[nidaqmx.constants.SignalModifiers]): \n",
      "            Specifies whether to invert the signal this function\n",
      "            routes from the source terminal to the destination\n",
      "            terminal.\n",
      "\n"
     ]
    }
   ],
   "source": [
    "help(niSys.connect_terms)"
   ]
  },
  {
   "cell_type": "code",
   "execution_count": null,
   "metadata": {},
   "outputs": [],
   "source": []
  }
 ],
 "metadata": {
  "kernelspec": {
   "display_name": "Python 3",
   "language": "python",
   "name": "python3"
  },
  "language_info": {
   "codemirror_mode": {
    "name": "ipython",
    "version": 3
   },
   "file_extension": ".py",
   "mimetype": "text/x-python",
   "name": "python",
   "nbconvert_exporter": "python",
   "pygments_lexer": "ipython3",
   "version": "3.7.0"
  }
 },
 "nbformat": 4,
 "nbformat_minor": 2
}
