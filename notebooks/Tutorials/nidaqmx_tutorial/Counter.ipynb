{
 "cells": [
  {
   "cell_type": "code",
   "execution_count": 1,
   "metadata": {},
   "outputs": [],
   "source": [
    "import nidaqmx\n",
    "from nidaqmx.constants import AcquisitionType"
   ]
  },
  {
   "cell_type": "markdown",
   "metadata": {},
   "source": [
    "### Simple CI (no time-bi saving, just calculating total number of edges)"
   ]
  },
  {
   "cell_type": "code",
   "execution_count": 603,
   "metadata": {},
   "outputs": [],
   "source": [
    "task = nidaqmx.Task()\n",
    "task.ci_channels.add_ci_count_edges_chan(\"/PXI-6363/ctr0\")\n",
    "task.start()"
   ]
  },
  {
   "cell_type": "code",
   "execution_count": 623,
   "metadata": {},
   "outputs": [
    {
     "data": {
      "text/plain": [
       "21"
      ]
     },
     "execution_count": 623,
     "metadata": {},
     "output_type": "execute_result"
    }
   ],
   "source": [
    "task.read()"
   ]
  },
  {
   "cell_type": "code",
   "execution_count": 624,
   "metadata": {},
   "outputs": [],
   "source": [
    "task.stop()"
   ]
  },
  {
   "cell_type": "markdown",
   "metadata": {},
   "source": [
    "### CI: counte edges, continuous, buffered"
   ]
  },
  {
   "cell_type": "code",
   "execution_count": 394,
   "metadata": {},
   "outputs": [],
   "source": [
    "task = nidaqmx.Task()\n",
    "task.ci_channels.add_ci_count_edges_chan(\"/PXI-6363/ctr0\")\n",
    "task.timing.cfg_samp_clk_timing(\n",
    "    rate=int(10),\n",
    "    source='/PXI-6363/PFI12',\n",
    "    sample_mode=AcquisitionType.CONTINUOUS,\n",
    "    samps_per_chan=1000\n",
    ")\n",
    "task.start()"
   ]
  },
  {
   "cell_type": "markdown",
   "metadata": {},
   "source": [
    "External SampleClock signal is required"
   ]
  },
  {
   "cell_type": "code",
   "execution_count": 400,
   "metadata": {
    "scrolled": true
   },
   "outputs": [
    {
     "data": {
      "text/plain": [
       "[16,\n",
       " 16,\n",
       " 16,\n",
       " 16,\n",
       " 16,\n",
       " 16,\n",
       " 16,\n",
       " 16,\n",
       " 16,\n",
       " 16,\n",
       " 16,\n",
       " 16,\n",
       " 16,\n",
       " 16,\n",
       " 16,\n",
       " 16,\n",
       " 16,\n",
       " 16,\n",
       " 17,\n",
       " 17,\n",
       " 17,\n",
       " 17,\n",
       " 17,\n",
       " 17,\n",
       " 17,\n",
       " 17,\n",
       " 17,\n",
       " 17,\n",
       " 17,\n",
       " 17,\n",
       " 17,\n",
       " 17,\n",
       " 17,\n",
       " 17,\n",
       " 17,\n",
       " 17,\n",
       " 17,\n",
       " 17,\n",
       " 18,\n",
       " 18,\n",
       " 18,\n",
       " 18,\n",
       " 18,\n",
       " 18,\n",
       " 18,\n",
       " 18,\n",
       " 18,\n",
       " 18,\n",
       " 18,\n",
       " 18,\n",
       " 18,\n",
       " 18,\n",
       " 18]"
      ]
     },
     "execution_count": 400,
     "metadata": {},
     "output_type": "execute_result"
    }
   ],
   "source": [
    "task.read(nidaqmx.constants.READ_ALL_AVAILABLE)"
   ]
  },
  {
   "cell_type": "code",
   "execution_count": 393,
   "metadata": {},
   "outputs": [],
   "source": [
    "task.stop()\n",
    "task.close()"
   ]
  },
  {
   "cell_type": "code",
   "execution_count": 401,
   "metadata": {
    "collapsed": true
   },
   "outputs": [
    {
     "ename": "DaqError",
     "evalue": "The application is not able to keep up with the hardware acquisition.\n\nIncreasing the buffer size, reading the data more frequently, or specifying a fixed number of samples to read instead of reading all available samples might correct the problem.\nProperty: DAQmx_Read_RelativeTo\nRequested Value: DAQmx_Val_CurrReadPos\n\nProperty: DAQmx_Read_Offset\nRequested Value: 0\n\nTask Name: _unnamedTask<13>\n\nStatus Code: -200279",
     "output_type": "error",
     "traceback": [
      "\u001b[1;31m---------------------------------------------------------------------------\u001b[0m",
      "\u001b[1;31mDaqError\u001b[0m                                  Traceback (most recent call last)",
      "\u001b[1;32m<ipython-input-401-2dc6e5cf21c6>\u001b[0m in \u001b[0;36m<module>\u001b[1;34m()\u001b[0m\n\u001b[1;32m----> 1\u001b[1;33m \u001b[0mtask\u001b[0m\u001b[1;33m.\u001b[0m\u001b[0mread\u001b[0m\u001b[1;33m(\u001b[0m\u001b[0mnidaqmx\u001b[0m\u001b[1;33m.\u001b[0m\u001b[0mconstants\u001b[0m\u001b[1;33m.\u001b[0m\u001b[0mREAD_ALL_AVAILABLE\u001b[0m\u001b[1;33m)\u001b[0m\u001b[1;33m\u001b[0m\u001b[0m\n\u001b[0m",
      "\u001b[1;32mC:\\Anaconda\\lib\\site-packages\\nidaqmx\\task.py\u001b[0m in \u001b[0;36mread\u001b[1;34m(self, number_of_samples_per_channel, timeout)\u001b[0m\n\u001b[0;32m    684\u001b[0m \u001b[1;33m\u001b[0m\u001b[0m\n\u001b[0;32m    685\u001b[0m                 samples_read = _read_counter_u_32_ex(\n\u001b[1;32m--> 686\u001b[1;33m                     self._handle, data, number_of_samples_per_channel, timeout)\n\u001b[0m\u001b[0;32m    687\u001b[0m \u001b[1;33m\u001b[0m\u001b[0m\n\u001b[0;32m    688\u001b[0m             \u001b[1;32melse\u001b[0m\u001b[1;33m:\u001b[0m\u001b[1;33m\u001b[0m\u001b[0m\n",
      "\u001b[1;32mC:\\Anaconda\\lib\\site-packages\\nidaqmx\\_task_modules\\read_functions.py\u001b[0m in \u001b[0;36m_read_counter_u_32_ex\u001b[1;34m(task_handle, read_array, num_samps_per_chan, timeout, fill_mode)\u001b[0m\n\u001b[0;32m    372\u001b[0m         \u001b[0mread_array\u001b[0m\u001b[1;33m,\u001b[0m \u001b[0mnumpy\u001b[0m\u001b[1;33m.\u001b[0m\u001b[0mprod\u001b[0m\u001b[1;33m(\u001b[0m\u001b[0mread_array\u001b[0m\u001b[1;33m.\u001b[0m\u001b[0mshape\u001b[0m\u001b[1;33m)\u001b[0m\u001b[1;33m,\u001b[0m\u001b[1;33m\u001b[0m\u001b[0m\n\u001b[0;32m    373\u001b[0m         ctypes.byref(samps_per_chan_read), None)\n\u001b[1;32m--> 374\u001b[1;33m     \u001b[0mcheck_for_error\u001b[0m\u001b[1;33m(\u001b[0m\u001b[0merror_code\u001b[0m\u001b[1;33m)\u001b[0m\u001b[1;33m\u001b[0m\u001b[0m\n\u001b[0m\u001b[0;32m    375\u001b[0m \u001b[1;33m\u001b[0m\u001b[0m\n\u001b[0;32m    376\u001b[0m     \u001b[1;32mreturn\u001b[0m \u001b[0msamps_per_chan_read\u001b[0m\u001b[1;33m.\u001b[0m\u001b[0mvalue\u001b[0m\u001b[1;33m\u001b[0m\u001b[0m\n",
      "\u001b[1;32mC:\\Anaconda\\lib\\site-packages\\nidaqmx\\errors.py\u001b[0m in \u001b[0;36mcheck_for_error\u001b[1;34m(error_code)\u001b[0m\n\u001b[0;32m    125\u001b[0m         \u001b[0mcfunc\u001b[0m\u001b[1;33m(\u001b[0m\u001b[0merror_buffer\u001b[0m\u001b[1;33m,\u001b[0m \u001b[1;36m2048\u001b[0m\u001b[1;33m)\u001b[0m\u001b[1;33m\u001b[0m\u001b[0m\n\u001b[0;32m    126\u001b[0m \u001b[1;33m\u001b[0m\u001b[0m\n\u001b[1;32m--> 127\u001b[1;33m         \u001b[1;32mraise\u001b[0m \u001b[0mDaqError\u001b[0m\u001b[1;33m(\u001b[0m\u001b[0merror_buffer\u001b[0m\u001b[1;33m.\u001b[0m\u001b[0mvalue\u001b[0m\u001b[1;33m.\u001b[0m\u001b[0mdecode\u001b[0m\u001b[1;33m(\u001b[0m\u001b[1;34m\"utf-8\"\u001b[0m\u001b[1;33m)\u001b[0m\u001b[1;33m,\u001b[0m \u001b[0merror_code\u001b[0m\u001b[1;33m)\u001b[0m\u001b[1;33m\u001b[0m\u001b[0m\n\u001b[0m\u001b[0;32m    128\u001b[0m \u001b[1;33m\u001b[0m\u001b[0m\n\u001b[0;32m    129\u001b[0m     \u001b[1;32melif\u001b[0m \u001b[0merror_code\u001b[0m \u001b[1;33m>\u001b[0m \u001b[1;36m0\u001b[0m\u001b[1;33m:\u001b[0m\u001b[1;33m\u001b[0m\u001b[0m\n",
      "\u001b[1;31mDaqError\u001b[0m: The application is not able to keep up with the hardware acquisition.\n\nIncreasing the buffer size, reading the data more frequently, or specifying a fixed number of samples to read instead of reading all available samples might correct the problem.\nProperty: DAQmx_Read_RelativeTo\nRequested Value: DAQmx_Val_CurrReadPos\n\nProperty: DAQmx_Read_Offset\nRequested Value: 0\n\nTask Name: _unnamedTask<13>\n\nStatus Code: -200279"
     ]
    }
   ],
   "source": [
    "task.read(nidaqmx.constants.READ_ALL_AVAILABLE)"
   ]
  },
  {
   "cell_type": "code",
   "execution_count": 402,
   "metadata": {},
   "outputs": [],
   "source": [
    "task.stop()\n",
    "task.close()"
   ]
  },
  {
   "cell_type": "markdown",
   "metadata": {},
   "source": [
    "### CO: generate waveform"
   ]
  },
  {
   "cell_type": "code",
   "execution_count": 404,
   "metadata": {
    "collapsed": true
   },
   "outputs": [
    {
     "name": "stdout",
     "output_type": "stream",
     "text": [
      "Help on method add_co_pulse_chan_freq in module nidaqmx._task_modules.co_channel_collection:\n",
      "\n",
      "add_co_pulse_chan_freq(counter, name_to_assign_to_channel='', units=<FrequencyUnits.HZ: 10373>, idle_state=<Level.LOW: 10214>, initial_delay=0.0, freq=1.0, duty_cycle=0.5) method of nidaqmx._task_modules.co_channel_collection.COChannelCollection instance\n",
      "    Creates channel(s) to generate digital pulses that **freq** and\n",
      "    **duty_cycle** define. The pulses appear on the default output\n",
      "    terminal of the counter unless you select a different output\n",
      "    terminal.\n",
      "    \n",
      "    Args:\n",
      "        counter (str): Specifies the names of the counters to use to\n",
      "            create the virtual channels. The DAQmx physical channel\n",
      "            constant lists all physical channels, including\n",
      "            counters, for devices installed in the system.\n",
      "        name_to_assign_to_channel (Optional[str]): Specifies a name\n",
      "            to assign to the virtual channel this function creates.\n",
      "            If you do not specify a value for this input, NI-DAQmx\n",
      "            uses the physical channel name as the virtual channel\n",
      "            name.\n",
      "        units (Optional[nidaqmx.constants.FrequencyUnits]): \n",
      "            Specifies the units in which to define pulse frequency.\n",
      "        idle_state (Optional[nidaqmx.constants.Level]): Specifies\n",
      "            the resting state of the output terminal.\n",
      "        initial_delay (Optional[float]): Is the amount of time in\n",
      "            seconds to wait before generating the first pulse.\n",
      "        freq (Optional[float]): Specifies at what frequency to\n",
      "            generate pulses.\n",
      "        duty_cycle (Optional[float]): Is the width of the pulse\n",
      "            divided by the pulse period. NI-DAQmx uses this ratio\n",
      "            combined with frequency to determine pulse width and the\n",
      "            interval between pulses.\n",
      "    Returns:\n",
      "        nidaqmx._task_modules.channels.co_channel.COChannel:\n",
      "        \n",
      "        Indicates the newly created channel object.\n",
      "\n"
     ]
    }
   ],
   "source": [
    "help(nidaqmx.Task().co_channels.add_)"
   ]
  },
  {
   "cell_type": "code",
   "execution_count": 3,
   "metadata": {},
   "outputs": [],
   "source": [
    "task = nidaqmx.Task()\n",
    "task.co_channels.add_co_pulse_chan_freq(counter='/PXI-6363/ctr1', freq=1000, duty_cycle=0.5)\n",
    "task.timing.cfg_implicit_timing(sample_mode=AcquisitionType.CONTINUOUS)"
   ]
  },
  {
   "cell_type": "code",
   "execution_count": 4,
   "metadata": {},
   "outputs": [],
   "source": [
    "task.start()"
   ]
  },
  {
   "cell_type": "code",
   "execution_count": 5,
   "metadata": {},
   "outputs": [],
   "source": [
    "task.stop()\n",
    "task.close()"
   ]
  },
  {
   "cell_type": "markdown",
   "metadata": {},
   "source": [
    "### CI: using 2nd counter as the SampleClock signal generator"
   ]
  },
  {
   "cell_type": "code",
   "execution_count": 592,
   "metadata": {},
   "outputs": [],
   "source": [
    "clock_task = nidaqmx.Task()\n",
    "clock_task.co_channels.add_co_pulse_chan_freq(counter='/PXI-6363/ctr1', freq=10, duty_cycle=0.5)\n",
    "clock_task.timing.cfg_implicit_timing(sample_mode=AcquisitionType.CONTINUOUS)"
   ]
  },
  {
   "cell_type": "code",
   "execution_count": 593,
   "metadata": {},
   "outputs": [],
   "source": [
    "clock_task.start()"
   ]
  },
  {
   "cell_type": "code",
   "execution_count": 600,
   "metadata": {},
   "outputs": [],
   "source": [
    "clock_task.stop()\n",
    "clock_task.close()"
   ]
  },
  {
   "cell_type": "code",
   "execution_count": 596,
   "metadata": {},
   "outputs": [],
   "source": [
    "ci_task = nidaqmx.Task()\n",
    "ci_task.ci_channels.add_ci_count_edges_chan(\"/PXI-6363/ctr0\")\n",
    "ci_task.timing.cfg_samp_clk_timing(\n",
    "    rate=int(10),\n",
    "    source='/PXI-6363/Ctr1InternalOutput',\n",
    "    sample_mode=AcquisitionType.CONTINUOUS,\n",
    "    samps_per_chan=1000\n",
    ")"
   ]
  },
  {
   "cell_type": "code",
   "execution_count": 597,
   "metadata": {},
   "outputs": [],
   "source": [
    "ci_task.start()"
   ]
  },
  {
   "cell_type": "code",
   "execution_count": 598,
   "metadata": {
    "collapsed": true
   },
   "outputs": [
    {
     "data": {
      "text/plain": [
       "[0,\n",
       " 0,\n",
       " 0,\n",
       " 0,\n",
       " 0,\n",
       " 0,\n",
       " 1,\n",
       " 1,\n",
       " 1,\n",
       " 1,\n",
       " 1,\n",
       " 1,\n",
       " 1,\n",
       " 1,\n",
       " 1,\n",
       " 1,\n",
       " 2,\n",
       " 2,\n",
       " 2,\n",
       " 2,\n",
       " 2,\n",
       " 2,\n",
       " 2,\n",
       " 2,\n",
       " 2,\n",
       " 2,\n",
       " 3,\n",
       " 3,\n",
       " 3,\n",
       " 3,\n",
       " 3,\n",
       " 3,\n",
       " 3,\n",
       " 3,\n",
       " 3,\n",
       " 3,\n",
       " 4,\n",
       " 4,\n",
       " 4,\n",
       " 4,\n",
       " 4,\n",
       " 4,\n",
       " 4,\n",
       " 4,\n",
       " 4,\n",
       " 4,\n",
       " 5]"
      ]
     },
     "execution_count": 598,
     "metadata": {},
     "output_type": "execute_result"
    }
   ],
   "source": [
    "ci_task.read(nidaqmx.constants.READ_ALL_AVAILABLE)"
   ]
  },
  {
   "cell_type": "code",
   "execution_count": 602,
   "metadata": {},
   "outputs": [],
   "source": [
    "ci_task.stop()\n",
    "ci_task.close()"
   ]
  },
  {
   "cell_type": "code",
   "execution_count": null,
   "metadata": {},
   "outputs": [],
   "source": []
  }
 ],
 "metadata": {
  "kernelspec": {
   "display_name": "Python 3",
   "language": "python",
   "name": "python3"
  },
  "language_info": {
   "codemirror_mode": {
    "name": "ipython",
    "version": 3
   },
   "file_extension": ".py",
   "mimetype": "text/x-python",
   "name": "python",
   "nbconvert_exporter": "python",
   "pygments_lexer": "ipython3",
   "version": "3.7.0"
  }
 },
 "nbformat": 4,
 "nbformat_minor": 2
}
