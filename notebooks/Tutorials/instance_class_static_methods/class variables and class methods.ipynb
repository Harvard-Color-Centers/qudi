{
 "cells": [
  {
   "cell_type": "code",
   "execution_count": 1,
   "metadata": {},
   "outputs": [
    {
     "name": "stdout",
     "output_type": "stream",
     "text": [
      "This code is executed at import\n"
     ]
    }
   ],
   "source": [
    "from instance_class_static_methods_tutorial import MyClass"
   ]
  },
  {
   "cell_type": "markdown",
   "metadata": {},
   "source": [
    "## Class variables and classmethod"
   ]
  },
  {
   "cell_type": "code",
   "execution_count": 2,
   "metadata": {},
   "outputs": [
    {
     "data": {
      "text/plain": [
       "'This value can be accessed by MyClass.class_var even without any instances'"
      ]
     },
     "execution_count": 2,
     "metadata": {},
     "output_type": "execute_result"
    }
   ],
   "source": [
    "MyClass.class_var"
   ]
  },
  {
   "cell_type": "code",
   "execution_count": 3,
   "metadata": {},
   "outputs": [
    {
     "name": "stdout",
     "output_type": "stream",
     "text": [
      "MyClass.class_var = 2\n"
     ]
    }
   ],
   "source": [
    "MyClass.class_var = 2\n",
    "print('MyClass.class_var = {}'.format(MyClass.class_var))"
   ]
  },
  {
   "cell_type": "markdown",
   "metadata": {},
   "source": [
    "##### Create instance"
   ]
  },
  {
   "cell_type": "code",
   "execution_count": 4,
   "metadata": {},
   "outputs": [
    {
     "name": "stdout",
     "output_type": "stream",
     "text": [
      "my_instance1.class_var = 3\n",
      "my_instance2.class_var = 3\n"
     ]
    }
   ],
   "source": [
    "# Upon constraction, every instance gets the value of a class variable\n",
    "MyClass.class_var = 3\n",
    "\n",
    "my_instance1 = MyClass()\n",
    "my_instance2 = MyClass()\n",
    "\n",
    "print('my_instance1.class_var = {}'.format(my_instance1.class_var))\n",
    "print('my_instance2.class_var = {}'.format(my_instance2.class_var))"
   ]
  },
  {
   "cell_type": "code",
   "execution_count": 12,
   "metadata": {},
   "outputs": [
    {
     "name": "stdout",
     "output_type": "stream",
     "text": [
      "my_instance1.class_var = b\n",
      "my_instance2.class_var = b\n"
     ]
    }
   ],
   "source": [
    "# Changes applied to class variable are visible for any instance\n",
    "MyClass.class_var = 'b'\n",
    "\n",
    "print('my_instance1.class_var = {}'.format(my_instance1.class_var))\n",
    "print('my_instance2.class_var = {}'.format(my_instance2.class_var))"
   ]
  },
  {
   "cell_type": "markdown",
   "metadata": {},
   "source": [
    "##### Change class variable from inside an instance by direct access (incorrect way)"
   ]
  },
  {
   "cell_type": "code",
   "execution_count": 7,
   "metadata": {},
   "outputs": [
    {
     "name": "stdout",
     "output_type": "stream",
     "text": [
      "MyClass.class_var = F\n",
      "\n",
      "\n",
      "my_instance1.class_var = a\n",
      "my_instance2.class_var = F\n",
      "MyClass.class_var = F\n",
      "\n",
      "\n",
      "my_instance1.class_var = a\n",
      "my_instance2.class_var = B\n",
      "MyClass.class_var = B\n"
     ]
    }
   ],
   "source": [
    "MyClass.class_var = 'F'\n",
    "print('MyClass.class_var = {}'.format(MyClass.class_var))\n",
    "print('\\n')\n",
    "\n",
    "# If one attempts to modify the value of a class variable by directly accessing it from inside an instance,\n",
    "# the variable is automatically converted into an instance variable and is no longer synced with the class variable.\n",
    "\n",
    "# The change, made from inside the instance, is not applied to the actual class variable\n",
    "my_instance1.class_var = 'a'\n",
    "print('my_instance1.class_var = {}'.format(my_instance1.class_var))\n",
    "print('my_instance2.class_var = {}'.format(my_instance2.class_var))\n",
    "print('MyClass.class_var = {}'.format(MyClass.class_var))\n",
    "\n",
    "print('\\n')\n",
    "\n",
    "# The change of the actual class variable, is not applied to the  \n",
    "MyClass.class_var = 'B'\n",
    "print('my_instance1.class_var = {}'.format(my_instance1.class_var))\n",
    "print('my_instance2.class_var = {}'.format(my_instance2.class_var))\n",
    "print('MyClass.class_var = {}'.format(MyClass.class_var))"
   ]
  },
  {
   "cell_type": "markdown",
   "metadata": {},
   "source": [
    "##### Using class method to change class variables (correct way)"
   ]
  },
  {
   "cell_type": "markdown",
   "metadata": {},
   "source": [
    "Class methods allow instances to modify the class variables without trasnfroming them into instance variables"
   ]
  },
  {
   "cell_type": "code",
   "execution_count": 13,
   "metadata": {},
   "outputs": [
    {
     "name": "stdout",
     "output_type": "stream",
     "text": [
      "MyClass.class_var = 5\n",
      "\n",
      "\n",
      "MyClass.class_var = 10\n"
     ]
    }
   ],
   "source": [
    "# Using classmethod on the class itself\n",
    "MyClass.class_var = 5\n",
    "print('MyClass.class_var = {}'.format(MyClass.class_var))\n",
    "print('\\n')\n",
    "\n",
    "MyClass.my_class_method(10)\n",
    "print('MyClass.class_var = {}'.format(MyClass.class_var))"
   ]
  },
  {
   "cell_type": "code",
   "execution_count": 16,
   "metadata": {
    "scrolled": true
   },
   "outputs": [
    {
     "name": "stdout",
     "output_type": "stream",
     "text": [
      "MyClass.class_var = 5\n",
      "my_instance2.class_var = 5\n",
      "\n",
      "\n",
      "MyClass.class_var = 10\n",
      "my_instance2.class_var = 10\n"
     ]
    }
   ],
   "source": [
    "# Using classmethod from on the instance to modify the class variable\n",
    "MyClass.class_var = 5\n",
    "print('MyClass.class_var = {}'.format(MyClass.class_var))\n",
    "print('my_instance2.class_var = {}'.format(my_instance2.class_var))\n",
    "print('\\n')\n",
    "\n",
    "my_instance1.my_class_method(10)\n",
    "print('MyClass.class_var = {}'.format(MyClass.class_var))\n",
    "print('my_instance2.class_var = {}'.format(my_instance2.class_var))"
   ]
  },
  {
   "cell_type": "markdown",
   "metadata": {},
   "source": [
    "##### Different way: instance_name.\\__class\\__.class_var"
   ]
  },
  {
   "cell_type": "code",
   "execution_count": 21,
   "metadata": {},
   "outputs": [
    {
     "name": "stdout",
     "output_type": "stream",
     "text": [
      "MyClass.class_var = 5\n",
      "\n",
      "\n",
      "my_instance2.class_var = 10\n",
      "MyClass.class_var = 10\n"
     ]
    }
   ],
   "source": [
    "MyClass.class_var = 5\n",
    "print('MyClass.class_var = {}'.format(MyClass.class_var))\n",
    "\n",
    "print('\\n')\n",
    "my_instance2.__class__.class_var = 10\n",
    "print('my_instance2.class_var = {}'.format(my_instance2.class_var))\n",
    "print('MyClass.class_var = {}'.format(MyClass.class_var))"
   ]
  },
  {
   "cell_type": "markdown",
   "metadata": {},
   "source": [
    "##### obj_name.methos() is equivalent to MyClass.method(obj_name)"
   ]
  },
  {
   "cell_type": "code",
   "execution_count": 4,
   "metadata": {},
   "outputs": [],
   "source": [
    "MyClass.my_instance_method(my_instance2, 5)"
   ]
  },
  {
   "cell_type": "markdown",
   "metadata": {},
   "source": [
    "## staticmethod"
   ]
  },
  {
   "cell_type": "code",
   "execution_count": 5,
   "metadata": {},
   "outputs": [
    {
     "name": "stdout",
     "output_type": "stream",
     "text": [
      "my_static_method was called\n"
     ]
    }
   ],
   "source": [
    "my_instance1.my_static_method()"
   ]
  },
  {
   "cell_type": "code",
   "execution_count": 8,
   "metadata": {},
   "outputs": [
    {
     "name": "stdout",
     "output_type": "stream",
     "text": [
      "my_static_method was called\n"
     ]
    }
   ],
   "source": [
    "MyClass.my_static_method()"
   ]
  }
 ],
 "metadata": {
  "kernelspec": {
   "display_name": "Python 3",
   "language": "python",
   "name": "python3"
  },
  "language_info": {
   "codemirror_mode": {
    "name": "ipython",
    "version": 3
   },
   "file_extension": ".py",
   "mimetype": "text/x-python",
   "name": "python",
   "nbconvert_exporter": "python",
   "pygments_lexer": "ipython3",
   "version": "3.7.0"
  }
 },
 "nbformat": 4,
 "nbformat_minor": 2
}
