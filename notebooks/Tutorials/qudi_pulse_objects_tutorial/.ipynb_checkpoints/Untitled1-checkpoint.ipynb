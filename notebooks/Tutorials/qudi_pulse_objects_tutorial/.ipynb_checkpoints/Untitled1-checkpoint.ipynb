{
 "cells": [
  {
   "cell_type": "code",
   "execution_count": 1,
   "metadata": {},
   "outputs": [],
   "source": [
    "import logic.pulsed.pulse_objects as po\n",
    "import logic.pulsed.sampling_function_defs.basic_sampling_functions as sf\n",
    "import numpy as np\n",
    "import matplotlib.pyplot as plt"
   ]
  },
  {
   "cell_type": "markdown",
   "metadata": {},
   "source": [
    "# Sampling Functions"
   ]
  },
  {
   "cell_type": "code",
   "execution_count": 12,
   "metadata": {},
   "outputs": [
    {
     "data": {
      "text/plain": [
       "<class 'logic.pulsed.sampling_function_defs.basic_sampling_functions.Sin'>"
      ]
     },
     "execution_count": 12,
     "metadata": {},
     "output_type": "execute_result"
    }
   ],
   "source": [
    "sf.Sin"
   ]
  },
  {
   "cell_type": "code",
   "execution_count": 41,
   "metadata": {},
   "outputs": [
    {
     "data": {
      "text/plain": [
       "OrderedDict([('amplitude', {'unit': 'V', 'init': 0.0, 'min': 0.0, 'max': inf, 'type': <class 'float'>}), ('frequency', {'unit': 'Hz', 'init': 2870000000.0, 'min': 0.0, 'max': inf, 'type': <class 'float'>}), ('phase', {'unit': '°', 'init': 0.0, 'min': -360, 'max': 360, 'type': <class 'float'>})])"
      ]
     },
     "execution_count": 41,
     "metadata": {},
     "output_type": "execute_result"
    }
   ],
   "source": [
    "sf.Sin.params"
   ]
  },
  {
   "cell_type": "code",
   "execution_count": 51,
   "metadata": {},
   "outputs": [],
   "source": [
    "my_sin = sf.Sin(amplitude=0.5, frequency=1.2, phase=90)"
   ]
  },
  {
   "cell_type": "markdown",
   "metadata": {},
   "source": [
    "### Attributes"
   ]
  },
  {
   "cell_type": "code",
   "execution_count": 53,
   "metadata": {},
   "outputs": [
    {
     "data": {
      "text/plain": [
       "0.5"
      ]
     },
     "execution_count": 53,
     "metadata": {},
     "output_type": "execute_result"
    }
   ],
   "source": [
    "my_sin.amplitude"
   ]
  },
  {
   "cell_type": "code",
   "execution_count": 52,
   "metadata": {},
   "outputs": [
    {
     "data": {
      "text/plain": [
       "1.2"
      ]
     },
     "execution_count": 52,
     "metadata": {},
     "output_type": "execute_result"
    }
   ],
   "source": [
    "my_sin.frequency"
   ]
  },
  {
   "cell_type": "markdown",
   "metadata": {},
   "source": [
    "### Methods"
   ]
  },
  {
   "cell_type": "markdown",
   "metadata": {},
   "source": [
    "####  \\__repr__()"
   ]
  },
  {
   "cell_type": "code",
   "execution_count": 54,
   "metadata": {},
   "outputs": [
    {
     "data": {
      "text/plain": [
       "Sin(amplitude=0.5, frequency=1.2, phase=90)"
      ]
     },
     "execution_count": 54,
     "metadata": {},
     "output_type": "execute_result"
    }
   ],
   "source": [
    "my_sin"
   ]
  },
  {
   "cell_type": "markdown",
   "metadata": {},
   "source": [
    "#### \\__str__()"
   ]
  },
  {
   "cell_type": "code",
   "execution_count": 56,
   "metadata": {},
   "outputs": [
    {
     "name": "stdout",
     "output_type": "stream",
     "text": [
      "Sampling Function: \"Sin\"\n",
      "Parameters:\n",
      "\tamplitude=0.5\n",
      "\tfrequency=1.2\n",
      "\tphase=90\n"
     ]
    }
   ],
   "source": [
    "print(my_sin)"
   ]
  },
  {
   "cell_type": "markdown",
   "metadata": {},
   "source": [
    "#### get_dict_representation()"
   ]
  },
  {
   "cell_type": "code",
   "execution_count": 55,
   "metadata": {},
   "outputs": [
    {
     "data": {
      "text/plain": [
       "{'name': 'Sin', 'params': {'amplitude': 0.5, 'frequency': 1.2, 'phase': 90}}"
      ]
     },
     "execution_count": 55,
     "metadata": {},
     "output_type": "execute_result"
    }
   ],
   "source": [
    "my_sin.get_dict_representation()"
   ]
  },
  {
   "cell_type": "markdown",
   "metadata": {},
   "source": [
    "#### get_samples()"
   ]
  },
  {
   "cell_type": "code",
   "execution_count": 65,
   "metadata": {},
   "outputs": [
    {
     "data": {
      "image/png": "[encoded data removed]"
     },
     "metadata": {
      "image/png": {
       "height": 361,
       "width": 557
      }
     },
     "output_type": "display_data"
    }
   ],
   "source": [
    "plt.plot(\n",
    "    my_sin.get_samples(\n",
    "        np.linspace(0, 1, 100)\n",
    "    )\n",
    ")\n",
    "plt.show()"
   ]
  },
  {
   "cell_type": "markdown",
   "metadata": {},
   "source": [
    "# Pulse Objects"
   ]
  },
  {
   "cell_type": "markdown",
   "metadata": {},
   "source": [
    "## class PulseBlockElement()"
   ]
  },
  {
   "cell_type": "code",
   "execution_count": 2,
   "metadata": {},
   "outputs": [
    {
     "data": {
      "text/plain": [
       "<class 'logic.pulsed.pulse_objects.PulseBlockElement'>"
      ]
     },
     "execution_count": 2,
     "metadata": {},
     "output_type": "execute_result"
    }
   ],
   "source": [
    "po.PulseBlockElement"
   ]
  },
  {
   "cell_type": "code",
   "execution_count": 3,
   "metadata": {},
   "outputs": [],
   "source": [
    "test_pb_elem = po.PulseBlockElement(\n",
    "    init_length_s=1e-6, \n",
    "    increment_s=0,\n",
    "    pulse_function={\n",
    "        'a_ch1': sf.DC(voltage=1.5), \n",
    "        'a_ch2': sf.Sin(amplitude=0.1, frequency=1e6, phase=0)\n",
    "    },\n",
    "    digital_high={'d_ch1': True, 'd_ch2': True, 'd_ch3': False, 'd_ch10': True}\n",
    ")"
   ]
  },
  {
   "cell_type": "code",
   "execution_count": 4,
   "metadata": {},
   "outputs": [
    {
     "name": "stdout",
     "output_type": "stream",
     "text": [
      "PulseBlockElement\n",
      "\tinitial length: 1e-06s\n",
      "\tlength increment: 0s\n",
      "\tanalog channels: {'a_ch1': 'DC', 'a_ch2': 'Sin'}\n",
      "\tdigital channels: {'d_ch1': True, 'd_ch2': True, 'd_ch3': False, 'd_ch10': True}\n"
     ]
    }
   ],
   "source": [
    "print(test_pb_elem)"
   ]
  },
  {
   "cell_type": "code",
   "execution_count": 29,
   "metadata": {},
   "outputs": [
    {
     "data": {
      "text/plain": [
       "1e-06"
      ]
     },
     "execution_count": 29,
     "metadata": {},
     "output_type": "execute_result"
    }
   ],
   "source": [
    "test_pb_elem.init_length_s"
   ]
  },
  {
   "cell_type": "code",
   "execution_count": 30,
   "metadata": {},
   "outputs": [
    {
     "data": {
      "text/plain": [
       "0"
      ]
     },
     "execution_count": 30,
     "metadata": {},
     "output_type": "execute_result"
    }
   ],
   "source": [
    "test_pb_elem.increment_s"
   ]
  },
  {
   "cell_type": "code",
   "execution_count": 31,
   "metadata": {},
   "outputs": [
    {
     "data": {
      "text/plain": [
       "{'a_ch1': DC(voltage=1.5), 'a_ch2': Sin(amplitude=0.1, frequency=1000000.0, phase=0)}"
      ]
     },
     "execution_count": 31,
     "metadata": {},
     "output_type": "execute_result"
    }
   ],
   "source": [
    "test_pb_elem.pulse_function"
   ]
  },
  {
   "cell_type": "code",
   "execution_count": 26,
   "metadata": {},
   "outputs": [
    {
     "data": {
      "text/plain": [
       "{'a_ch2', 'a_ch1'}"
      ]
     },
     "execution_count": 26,
     "metadata": {},
     "output_type": "execute_result"
    }
   ],
   "source": [
    "test_pb_elem.analog_channels"
   ]
  },
  {
   "cell_type": "code",
   "execution_count": 27,
   "metadata": {},
   "outputs": [
    {
     "data": {
      "text/plain": [
       "{'d_ch3', 'd_ch10', 'd_ch2', 'd_ch1'}"
      ]
     },
     "execution_count": 27,
     "metadata": {},
     "output_type": "execute_result"
    }
   ],
   "source": [
    "test_pb_elem.digital_channels"
   ]
  },
  {
   "cell_type": "code",
   "execution_count": 28,
   "metadata": {},
   "outputs": [
    {
     "data": {
      "text/plain": [
       "{'a_ch2', 'd_ch10', 'd_ch2', 'd_ch3', 'd_ch1', 'a_ch1'}"
      ]
     },
     "execution_count": 28,
     "metadata": {},
     "output_type": "execute_result"
    }
   ],
   "source": [
    "test_pb_elem.channel_set"
   ]
  },
  {
   "cell_type": "markdown",
   "metadata": {},
   "source": [
    "#### \\__repr__()"
   ]
  },
  {
   "cell_type": "code",
   "execution_count": 24,
   "metadata": {},
   "outputs": [
    {
     "data": {
      "text/plain": [
       "PulseBlockElement(init_length_s=1e-06, increment_s=0, pulse_function={'a_ch1': SamplingFunctions.DC(voltage=1.5), 'a_ch2': SamplingFunctions.Sin(amplitude=0.1, frequency=1000000.0, phase=0)}, digital_high={'d_ch1': True, 'd_ch2': True, 'd_ch3': False, 'd_ch10': True})"
      ]
     },
     "execution_count": 24,
     "metadata": {},
     "output_type": "execute_result"
    }
   ],
   "source": [
    "test_pb_elem"
   ]
  },
  {
   "cell_type": "markdown",
   "metadata": {},
   "source": [
    "#### \\__str__()"
   ]
  },
  {
   "cell_type": "code",
   "execution_count": 25,
   "metadata": {
    "scrolled": true
   },
   "outputs": [
    {
     "name": "stdout",
     "output_type": "stream",
     "text": [
      "PulseBlockElement\n",
      "\tinitial length: 1e-06s\n",
      "\tlength increment: 0s\n",
      "\tanalog channels: {'a_ch1': 'DC', 'a_ch2': 'Sin'}\n",
      "\tdigital channels: {'d_ch1': True, 'd_ch2': True, 'd_ch3': False, 'd_ch10': True}\n"
     ]
    }
   ],
   "source": [
    "print(test_pb_elem)"
   ]
  },
  {
   "cell_type": "markdown",
   "metadata": {},
   "source": [
    "#### get_dict_representation()"
   ]
  },
  {
   "cell_type": "code",
   "execution_count": 67,
   "metadata": {},
   "outputs": [
    {
     "data": {
      "text/plain": [
       "{'init_length_s': 1e-06, 'increment_s': 0, 'digital_high': {'d_ch1': True, 'd_ch2': True, 'd_ch3': False, 'd_ch10': True}, 'pulse_function': {'a_ch1': {'name': 'DC', 'params': {'voltage': 1.5}}, 'a_ch2': {'name': 'Sin', 'params': {'amplitude': 0.1, 'frequency': 1000000.0, 'phase': 0}}}}"
      ]
     },
     "execution_count": 67,
     "metadata": {},
     "output_type": "execute_result"
    }
   ],
   "source": [
    "test_pb_elem.get_dict_representation()"
   ]
  },
  {
   "cell_type": "markdown",
   "metadata": {},
   "source": [
    "## class PulseBlock()"
   ]
  },
  {
   "cell_type": "code",
   "execution_count": 16,
   "metadata": {},
   "outputs": [],
   "source": [
    "pb_elem_1 = po.PulseBlockElement(\n",
    "    init_length_s=1e-6, \n",
    "    increment_s=0,\n",
    "    pulse_function={\n",
    "        'a_ch1': sf.DC(voltage=1.5), \n",
    "        'a_ch2': sf.Sin(amplitude=0.1, frequency=1e6, phase=0)\n",
    "    },\n",
    "    digital_high={'d_ch1': True, 'd_ch2': True, 'd_ch3': False, 'd_ch10': True}\n",
    ")\n",
    "\n",
    "pb_elem_2 = po.PulseBlockElement(\n",
    "    init_length_s=3e-6, \n",
    "    increment_s=1,\n",
    "    pulse_function={\n",
    "        'a_ch1': sf.Chirp(amplitude=1.0, start_freq=1, stop_freq=10, phase=0), \n",
    "        'a_ch2': sf.Sin(amplitude=0.1, frequency=1e6, phase=0)\n",
    "    },\n",
    "    digital_high={'d_ch1': True, 'd_ch2': True, 'd_ch3': False, 'd_ch10': True}\n",
    ")"
   ]
  },
  {
   "cell_type": "code",
   "execution_count": 17,
   "metadata": {},
   "outputs": [],
   "source": [
    "test_pb = po.PulseBlock(\n",
    "    name='test_pb',\n",
    "    element_list=[pb_elem_1, pb_elem_2]\n",
    ")"
   ]
  },
  {
   "cell_type": "code",
   "execution_count": 18,
   "metadata": {},
   "outputs": [
    {
     "name": "stdout",
     "output_type": "stream",
     "text": [
      "PulseBlock \"test_pb\"\n",
      "\tnumber of elements: 2\n",
      "\tinitial length: 4e-06s\n",
      "\tlength increment: 1.0s\n",
      "\tactive analog channels: ['a_ch1', 'a_ch2']\n",
      "\tactive digital channels: ['d_ch1', 'd_ch2', 'd_ch3', 'd_ch10']\n"
     ]
    }
   ],
   "source": [
    "print(test_pb)"
   ]
  },
  {
   "cell_type": "code",
   "execution_count": 21,
   "metadata": {},
   "outputs": [
    {
     "data": {
      "text/plain": [
       "'test_pb'"
      ]
     },
     "execution_count": 21,
     "metadata": {},
     "output_type": "execute_result"
    }
   ],
   "source": [
    "test_pb.name"
   ]
  },
  {
   "cell_type": "code",
   "execution_count": 22,
   "metadata": {},
   "outputs": [
    {
     "data": {
      "text/plain": [
       "4e-06"
      ]
     },
     "execution_count": 22,
     "metadata": {},
     "output_type": "execute_result"
    }
   ],
   "source": [
    "test_pb.init_length_s"
   ]
  },
  {
   "cell_type": "code",
   "execution_count": 19,
   "metadata": {},
   "outputs": [
    {
     "data": {
      "text/plain": [
       "PulseBlockElement(init_length_s=1e-06, increment_s=0, pulse_function={'a_ch1': SamplingFunctions.DC(voltage=1.5), 'a_ch2': SamplingFunctions.Sin(amplitude=0.1, frequency=1000000.0, phase=0)}, digital_high={'d_ch1': True, 'd_ch2': True, 'd_ch3': False, 'd_ch10': True})"
      ]
     },
     "execution_count": 19,
     "metadata": {},
     "output_type": "execute_result"
    }
   ],
   "source": [
    "test_pb[0]"
   ]
  },
  {
   "cell_type": "code",
   "execution_count": 20,
   "metadata": {},
   "outputs": [
    {
     "data": {
      "text/plain": [
       "PulseBlockElement(init_length_s=3e-06, increment_s=1, pulse_function={'a_ch1': SamplingFunctions.Chirp(amplitude=1.0, phase=0, start_freq=1, stop_freq=10), 'a_ch2': SamplingFunctions.Sin(amplitude=0.1, frequency=1000000.0, phase=0)}, digital_high={'d_ch1': True, 'd_ch2': True, 'd_ch3': False, 'd_ch10': True})"
      ]
     },
     "execution_count": 20,
     "metadata": {},
     "output_type": "execute_result"
    }
   ],
   "source": [
    "test_pb[1]"
   ]
  },
  {
   "cell_type": "markdown",
   "metadata": {},
   "source": [
    "## PulseBlockEnsemble()"
   ]
  },
  {
   "cell_type": "code",
   "execution_count": 23,
   "metadata": {},
   "outputs": [],
   "source": [
    "test_pb_ens = po.PulseBlockEnsemble(\n",
    "    name='test_ensemble', \n",
    "    block_list=[\n",
    "        ('test_pb', 10),\n",
    "        ('test_pb', 1)\n",
    "    ],\n",
    "    rotating_frame=True\n",
    ")"
   ]
  },
  {
   "cell_type": "code",
   "execution_count": 24,
   "metadata": {},
   "outputs": [
    {
     "data": {
      "text/plain": [
       "PulseBlockEnsemble(name='test_ensemble', block_list=[('test_pb', 10), ('test_pb', 1)], rotating_frame=True)"
      ]
     },
     "execution_count": 24,
     "metadata": {},
     "output_type": "execute_result"
    }
   ],
   "source": [
    "test_pb_ens"
   ]
  },
  {
   "cell_type": "code",
   "execution_count": 25,
   "metadata": {},
   "outputs": [
    {
     "name": "stdout",
     "output_type": "stream",
     "text": [
      "PulseBlockEnsemble \"test_ensemble\"\n",
      "\trotating frame: True\n",
      "\thas been sampled: False\n",
      "\t<block name>\t<repetitions>\n",
      "\ttest_pb\t10\n",
      "\ttest_pb\t1\n"
     ]
    }
   ],
   "source": [
    "print(test_pb_ens)"
   ]
  },
  {
   "cell_type": "code",
   "execution_count": 27,
   "metadata": {},
   "outputs": [
    {
     "data": {
      "text/plain": [
       "'test_ensemble'"
      ]
     },
     "execution_count": 27,
     "metadata": {},
     "output_type": "execute_result"
    }
   ],
   "source": [
    "test_pb_ens.name"
   ]
  },
  {
   "cell_type": "code",
   "execution_count": 30,
   "metadata": {},
   "outputs": [
    {
     "data": {
      "text/plain": [
       "{}"
      ]
     },
     "execution_count": 30,
     "metadata": {},
     "output_type": "execute_result"
    }
   ],
   "source": [
    "test_pb_ens.measurement_information"
   ]
  },
  {
   "cell_type": "code",
   "execution_count": 31,
   "metadata": {},
   "outputs": [
    {
     "data": {
      "text/plain": [
       "{}"
      ]
     },
     "execution_count": 31,
     "metadata": {},
     "output_type": "execute_result"
    }
   ],
   "source": [
    "test_pb_ens.sampling_information"
   ]
  },
  {
   "cell_type": "code",
   "execution_count": null,
   "metadata": {},
   "outputs": [],
   "source": []
  },
  {
   "cell_type": "code",
   "execution_count": 26,
   "metadata": {
    "scrolled": true
   },
   "outputs": [
    {
     "data": {
      "text/plain": [
       "('test_pb', 10)"
      ]
     },
     "execution_count": 26,
     "metadata": {},
     "output_type": "execute_result"
    }
   ],
   "source": [
    "test_pb_ens[0]"
   ]
  },
  {
   "cell_type": "code",
   "execution_count": null,
   "metadata": {},
   "outputs": [],
   "source": []
  }
 ],
 "metadata": {
  "kernelspec": {
   "display_name": "Qudi",
   "language": "python",
   "name": "qudi"
  },
  "language_info": {
   "codemirror_mode": {
    "name": "ipython",
    "version": "3.6.5"
   },
   "file_extension": ".py",
   "mimetype": "text/x-python",
   "name": "python",
   "nbconvert_exporter": "python",
   "pygments_lexer": "ipython3",
   "version": "3.6.5"
  }
 },
 "nbformat": 4,
 "nbformat_minor": 2
}
