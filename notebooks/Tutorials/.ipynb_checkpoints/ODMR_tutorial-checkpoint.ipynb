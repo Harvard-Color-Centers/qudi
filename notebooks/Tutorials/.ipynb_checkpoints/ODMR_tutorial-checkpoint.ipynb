{
 "cells": [
  {
   "cell_type": "markdown",
   "metadata": {},
   "source": [
    "## Configure R&S SMC100A frequency sweep"
   ]
  },
  {
   "cell_type": "code",
   "execution_count": 1,
   "metadata": {},
   "outputs": [],
   "source": [
    "import visa"
   ]
  },
  {
   "cell_type": "markdown",
   "metadata": {},
   "source": [
    "#### ResourceManager, write-read and query"
   ]
  },
  {
   "cell_type": "code",
   "execution_count": 112,
   "metadata": {},
   "outputs": [],
   "source": [
    "rm = visa.ResourceManager()"
   ]
  },
  {
   "cell_type": "code",
   "execution_count": 3,
   "metadata": {},
   "outputs": [
    {
     "data": {
      "text/plain": [
       "<ResourceManager(<VisaLibrary('C:\\\\windows\\\\system32\\\\visa64.dll')>)>"
      ]
     },
     "execution_count": 3,
     "metadata": {},
     "output_type": "execute_result"
    }
   ],
   "source": [
    "rm"
   ]
  },
  {
   "cell_type": "code",
   "execution_count": 5,
   "metadata": {},
   "outputs": [
    {
     "data": {
      "text/plain": [
       "('TCPIP0::dhcp-0135267981-51-6f.client.student.harvard.edu::inst0::INSTR',\n",
       " 'TCPIP0::dhcp-140-247-189-103.fas.harvard.edu::inst0::INSTR',\n",
       " 'TCPIP0::dhcp-140-247-189-113.fas.harvard.edu::inst0::INSTR',\n",
       " 'TCPIP0::dhcp-140-247-189-218.fas.harvard.edu::inst0::INSTR',\n",
       " 'TCPIP0::dhcp-140-247-189-25.fas.harvard.edu::inst0::INSTR',\n",
       " 'TCPIP0::dhcp-140-247-189-30.fas.harvard.edu::inst0::INSTR',\n",
       " 'TCPIP0::dhcp-140-247-189-98.fas.harvard.edu::inst0::INSTR',\n",
       " 'TCPIP0::dhcp-140-247-189-146.fas.harvard.edu::inst0::INSTR',\n",
       " 'TCPIP0::140.247.189.50::inst0::INSTR',\n",
       " 'TCPIP0::140.247.189.150::inst0::INSTR',\n",
       " 'ASRL3::INSTR',\n",
       " 'GPIB0::1::INSTR',\n",
       " 'GPIB0::29::INSTR')"
      ]
     },
     "execution_count": 5,
     "metadata": {},
     "output_type": "execute_result"
    }
   ],
   "source": [
    "rm.list_resources()"
   ]
  },
  {
   "cell_type": "code",
   "execution_count": 113,
   "metadata": {},
   "outputs": [],
   "source": [
    "rs_mw = rm.open_resource('GPIB0::29::INSTR')"
   ]
  },
  {
   "cell_type": "code",
   "execution_count": 7,
   "metadata": {},
   "outputs": [
    {
     "data": {
      "text/plain": [
       "<'GPIBInstrument'('GPIB0::29::INSTR')>"
      ]
     },
     "execution_count": 7,
     "metadata": {},
     "output_type": "execute_result"
    }
   ],
   "source": [
    "rs_mw"
   ]
  },
  {
   "cell_type": "code",
   "execution_count": 10,
   "metadata": {},
   "outputs": [
    {
     "data": {
      "text/plain": [
       "'Rohde&Schwarz,SMC100A,1411.4002k02/102516,2.20.155.20\\n'"
      ]
     },
     "execution_count": 10,
     "metadata": {},
     "output_type": "execute_result"
    }
   ],
   "source": [
    "rs_mw.query('*IDN?')"
   ]
  },
  {
   "cell_type": "code",
   "execution_count": 11,
   "metadata": {},
   "outputs": [
    {
     "data": {
      "text/plain": [
       "(7, <StatusCode.success: 0>)"
      ]
     },
     "execution_count": 11,
     "metadata": {},
     "output_type": "execute_result"
    }
   ],
   "source": [
    "rs_mw.write('*IDN?')"
   ]
  },
  {
   "cell_type": "code",
   "execution_count": 12,
   "metadata": {},
   "outputs": [
    {
     "data": {
      "text/plain": [
       "'Rohde&Schwarz,SMC100A,1411.4002k02/102516,2.20.155.20\\n'"
      ]
     },
     "execution_count": 12,
     "metadata": {},
     "output_type": "execute_result"
    }
   ],
   "source": [
    "rs_mw.read()"
   ]
  },
  {
   "cell_type": "code",
   "execution_count": 55,
   "metadata": {},
   "outputs": [
    {
     "data": {
      "text/plain": [
       "(6, <StatusCode.success: 0>)"
      ]
     },
     "execution_count": 55,
     "metadata": {},
     "output_type": "execute_result"
    }
   ],
   "source": [
    "rs_mw.write('*RST')\n",
    "rs_mw.write('*CLS')"
   ]
  },
  {
   "cell_type": "code",
   "execution_count": 98,
   "metadata": {},
   "outputs": [
    {
     "data": {
      "text/plain": [
       "'G50\\n'"
      ]
     },
     "execution_count": 98,
     "metadata": {},
     "output_type": "execute_result"
    }
   ],
   "source": [
    "rs_mw.query(':OUTPut:IMPedance?')"
   ]
  },
  {
   "cell_type": "code",
   "execution_count": 99,
   "metadata": {},
   "outputs": [
    {
     "data": {
      "text/plain": [
       "(19, <StatusCode.success: 0>)"
      ]
     },
     "execution_count": 99,
     "metadata": {},
     "output_type": "execute_result"
    }
   ],
   "source": [
    "rs_mw.write(':OUTPut:STATE OFF')"
   ]
  },
  {
   "cell_type": "code",
   "execution_count": 100,
   "metadata": {},
   "outputs": [
    {
     "data": {
      "text/plain": [
       "'0\\n'"
      ]
     },
     "execution_count": 100,
     "metadata": {},
     "output_type": "execute_result"
    }
   ],
   "source": [
    "rs_mw.query(':OUTPut:STATE?')"
   ]
  },
  {
   "cell_type": "code",
   "execution_count": 101,
   "metadata": {},
   "outputs": [
    {
     "data": {
      "text/plain": [
       "(22, <StatusCode.success: 0>)"
      ]
     },
     "execution_count": 101,
     "metadata": {},
     "output_type": "execute_result"
    }
   ],
   "source": [
    "rs_mw.write(':SOURce:POWer -30dBm')"
   ]
  },
  {
   "cell_type": "markdown",
   "metadata": {},
   "source": [
    "### Configure R&S SMC100A frequency sweep"
   ]
  },
  {
   "cell_type": "code",
   "execution_count": 42,
   "metadata": {},
   "outputs": [
    {
     "data": {
      "text/plain": [
       "'SWE\\n'"
      ]
     },
     "execution_count": 42,
     "metadata": {},
     "output_type": "execute_result"
    }
   ],
   "source": [
    "rs_mw.query(':SOURce:FREQuency:MODE?')"
   ]
  },
  {
   "cell_type": "code",
   "execution_count": 61,
   "metadata": {},
   "outputs": [
    {
     "data": {
      "text/plain": [
       "(27, <StatusCode.success: 0>)"
      ]
     },
     "execution_count": 61,
     "metadata": {},
     "output_type": "execute_result"
    }
   ],
   "source": [
    "rs_mw.write(':SOURce:FREQuency:MODE SWEep')"
   ]
  },
  {
   "cell_type": "code",
   "execution_count": 60,
   "metadata": {},
   "outputs": [
    {
     "data": {
      "text/plain": [
       "(30, <StatusCode.success: 0>)"
      ]
     },
     "execution_count": 60,
     "metadata": {},
     "output_type": "execute_result"
    }
   ],
   "source": [
    "# rs_mw.write(':SOURce:FREQuency:STARt 2 GHz')\n",
    "# rs_mw.write(':SOURce:FREQuency:STOP 2.95 GHz')\n",
    "# rs_mw.write(':SOURce:FREQuency:STEP 2 MHz')"
   ]
  },
  {
   "cell_type": "code",
   "execution_count": 121,
   "metadata": {},
   "outputs": [
    {
     "data": {
      "text/plain": [
       "(20, <StatusCode.success: 0>)"
      ]
     },
     "execution_count": 121,
     "metadata": {},
     "output_type": "execute_result"
    }
   ],
   "source": [
    "rs_mw.write('SOUR:SWE:FREQ:MODE STEP')\n",
    "rs_mw.write('SOUR:SWE:FREQ:SPAC LIN')\n",
    "rs_mw.write('SOUR:SWE:FREQ:STEP:LIN 1 kHz')\n",
    "rs_mw.write('SOUR:FREQ:STAR 10 kHz')\n",
    "rs_mw.write('SOUR:FREQ:STOP 20 kHz')\n",
    "rs_mw.write('TRIG:FSW:SOUR EXT')\n",
    "rs_mw.write('SOUR:FREQ:MODE SWE')"
   ]
  },
  {
   "cell_type": "code",
   "execution_count": 122,
   "metadata": {},
   "outputs": [
    {
     "data": {
      "text/plain": [
       "(18, <StatusCode.success: 0>)"
      ]
     },
     "execution_count": 122,
     "metadata": {},
     "output_type": "execute_result"
    }
   ],
   "source": [
    "rs_mw.write('SOUR:FREQ 10 kHz')"
   ]
  },
  {
   "cell_type": "code",
   "execution_count": 93,
   "metadata": {},
   "outputs": [
    {
     "data": {
      "text/plain": [
       "(18, <StatusCode.success: 0>)"
      ]
     },
     "execution_count": 93,
     "metadata": {},
     "output_type": "execute_result"
    }
   ],
   "source": [
    "rs_mw.write(':OUTPut:STATE ON')"
   ]
  },
  {
   "cell_type": "code",
   "execution_count": 96,
   "metadata": {},
   "outputs": [
    {
     "data": {
      "text/plain": [
       "(19, <StatusCode.success: 0>)"
      ]
     },
     "execution_count": 96,
     "metadata": {},
     "output_type": "execute_result"
    }
   ],
   "source": [
    "rs_mw.write(':OUTPut:STATE OFF')"
   ]
  },
  {
   "cell_type": "code",
   "execution_count": 95,
   "metadata": {},
   "outputs": [
    {
     "data": {
      "text/plain": [
       "(22, <StatusCode.success: 0>)"
      ]
     },
     "execution_count": 95,
     "metadata": {},
     "output_type": "execute_result"
    }
   ],
   "source": [
    "rs_mw.write(':SOURce:POWer -30dBm')"
   ]
  },
  {
   "cell_type": "markdown",
   "metadata": {},
   "source": [
    "## Configure NI PXIe-6363 card (SampleClock and Counter)"
   ]
  },
  {
   "cell_type": "markdown",
   "metadata": {},
   "source": [
    "#### Import nidaqmx (problem with two different envs: base and qudi. Use qudi)"
   ]
  },
  {
   "cell_type": "code",
   "execution_count": 109,
   "metadata": {},
   "outputs": [
    {
     "ename": "NameError",
     "evalue": "name 'nidaqmx' is not defined",
     "output_type": "error",
     "traceback": [
      "\u001b[1;31m---------------------------------------------------------------------------\u001b[0m",
      "\u001b[1;31mNameError\u001b[0m                                 Traceback (most recent call last)",
      "\u001b[1;32m<ipython-input-109-0d4850b5acd5>\u001b[0m in \u001b[0;36m<module>\u001b[1;34m()\u001b[0m\n\u001b[1;32m----> 1\u001b[1;33m \u001b[0mnidaqmx\u001b[0m\u001b[1;33m\u001b[0m\u001b[0m\n\u001b[0m",
      "\u001b[1;31mNameError\u001b[0m: name 'nidaqmx' is not defined"
     ]
    }
   ],
   "source": [
    "nidaqmx"
   ]
  },
  {
   "cell_type": "markdown",
   "metadata": {},
   "source": [
    "The problem is that qudi doesn't have `nidaqmx`"
   ]
  },
  {
   "cell_type": "markdown",
   "metadata": {},
   "source": [
    "Check `base` environment"
   ]
  },
  {
   "cell_type": "code",
   "execution_count": 1,
   "metadata": {},
   "outputs": [],
   "source": [
    "import sys"
   ]
  },
  {
   "cell_type": "code",
   "execution_count": 2,
   "metadata": {},
   "outputs": [
    {
     "name": "stdout",
     "output_type": "stream",
     "text": [
      "\n",
      "C:\\Users\\Lukin SiV\\qudi\\notebooks\n",
      "C:\\Anaconda\\python37.zip\n",
      "C:\\Program Files\\Swabian Instruments\\Time Tagger\\driver\\Python3.7\\x64\n",
      "C:\\Anaconda\\DLLs\n",
      "C:\\Anaconda\\lib\n",
      "C:\\Anaconda\n",
      "C:\\Anaconda\\lib\\site-packages\n",
      "C:\\Anaconda\\lib\\site-packages\\win32\n",
      "C:\\Anaconda\\lib\\site-packages\\win32\\lib\n",
      "C:\\Anaconda\\lib\\site-packages\\Pythonwin\n",
      "C:\\Anaconda\\lib\\site-packages\\IPython\\extensions\n",
      "C:\\Users\\Lukin SiV\\.ipython\n"
     ]
    }
   ],
   "source": [
    "for i in sys.path:\n",
    "    print(i)"
   ]
  },
  {
   "cell_type": "markdown",
   "metadata": {},
   "source": [
    "After\n",
    "`activate qudi`\n",
    "and\n",
    "`pip install nidaqmx`"
   ]
  },
  {
   "cell_type": "code",
   "execution_count": 3,
   "metadata": {},
   "outputs": [
    {
     "name": "stdout",
     "output_type": "stream",
     "text": [
      "\n",
      "C:\\Anaconda\\envs\\qudi\\python36.zip\n",
      "C:\\Program Files\\Swabian Instruments\\Time Tagger\\driver\\Python3.6\\x64\n",
      "C:\\Anaconda\\envs\\qudi\\DLLs\n",
      "C:\\Anaconda\\envs\\qudi\\lib\n",
      "C:\\Anaconda\\envs\\qudi\n",
      "C:\\Anaconda\\envs\\qudi\\lib\\site-packages\n",
      "C:\\Anaconda\\envs\\qudi\\lib\\site-packages\\IPython\\extensions\n",
      "C:\\Users\\Lukin SiV\\.ipython\n"
     ]
    }
   ],
   "source": [
    "for i in sys.path:\n",
    "    print(i)"
   ]
  },
  {
   "cell_type": "markdown",
   "metadata": {},
   "source": [
    "#### SampleClock signal generation: Ctr2"
   ]
  },
  {
   "cell_type": "code",
   "execution_count": 69,
   "metadata": {},
   "outputs": [],
   "source": [
    "point_number = 100\n",
    "sample_rate = 100"
   ]
  },
  {
   "cell_type": "code",
   "execution_count": 50,
   "metadata": {},
   "outputs": [],
   "source": [
    "import nidaqmx\n",
    "from nidaqmx.constants import AcquisitionType, Edge, READ_ALL_AVAILABLE"
   ]
  },
  {
   "cell_type": "markdown",
   "metadata": {},
   "source": [
    "Create SampleClock task"
   ]
  },
  {
   "cell_type": "code",
   "execution_count": 73,
   "metadata": {},
   "outputs": [],
   "source": [
    "clock_task = nidaqmx.Task()\n",
    "clock_task.co_channels.add_co_pulse_chan_freq(counter='/PXI-6363/Ctr2', duty_cycle=0.5, freq=sample_rate)\n",
    "clock_task.timing.cfg_implicit_timing(sample_mode=AcquisitionType.FINITE, samps_per_chan=point_number)"
   ]
  },
  {
   "cell_type": "code",
   "execution_count": 71,
   "metadata": {},
   "outputs": [],
   "source": [
    "# clock_task.start()"
   ]
  },
  {
   "cell_type": "code",
   "execution_count": 66,
   "metadata": {},
   "outputs": [],
   "source": [
    "# clock_task.stop()"
   ]
  },
  {
   "cell_type": "code",
   "execution_count": 72,
   "metadata": {},
   "outputs": [],
   "source": [
    "# clock_task.stop()\n",
    "# clock_task.close()"
   ]
  },
  {
   "cell_type": "markdown",
   "metadata": {},
   "source": [
    "#### Photon counter: Ctr3"
   ]
  },
  {
   "cell_type": "code",
   "execution_count": 76,
   "metadata": {},
   "outputs": [],
   "source": [
    "counter_task = nidaqmx.Task()\n",
    "\n",
    "counter_task.ci_channels.add_ci_count_edges_chan(counter='/PXI-6363/Ctr3')\n",
    "\n",
    "counter_task.timing.cfg_samp_clk_timing(\n",
    "    source='/PXI-6363/Ctr2InternalOutput', \n",
    "    sample_mode=AcquisitionType.CONTINUOUS, \n",
    "    samps_per_chan=2*point_number, \n",
    "    rate=int(1e5),\n",
    "    active_edge=Edge.RISING\n",
    ")"
   ]
  },
  {
   "cell_type": "code",
   "execution_count": 77,
   "metadata": {},
   "outputs": [],
   "source": [
    "counter_task.start()"
   ]
  },
  {
   "cell_type": "code",
   "execution_count": 78,
   "metadata": {},
   "outputs": [],
   "source": [
    "clock_task.start()"
   ]
  },
  {
   "cell_type": "code",
   "execution_count": 83,
   "metadata": {},
   "outputs": [
    {
     "data": {
      "text/plain": [
       "[]"
      ]
     },
     "execution_count": 83,
     "metadata": {},
     "output_type": "execute_result"
    }
   ],
   "source": [
    "# counter_task.read(number_of_samples_per_channel=READ_ALL_AVAILABLE)"
   ]
  },
  {
   "cell_type": "code",
   "execution_count": 84,
   "metadata": {},
   "outputs": [],
   "source": [
    "counter_task.stop()\n",
    "counter_task.close()"
   ]
  },
  {
   "cell_type": "code",
   "execution_count": 85,
   "metadata": {},
   "outputs": [],
   "source": [
    "clock_task.stop()\n",
    "clock_task.close()"
   ]
  },
  {
   "cell_type": "markdown",
   "metadata": {},
   "source": [
    "## ODMR sweep"
   ]
  },
  {
   "cell_type": "code",
   "execution_count": 186,
   "metadata": {},
   "outputs": [],
   "source": [
    "import visa\n",
    "import nidaqmx\n",
    "from nidaqmx.constants import AcquisitionType, Edge, READ_ALL_AVAILABLE\n",
    "import matplotlib.pyplot as plt\n",
    "import time"
   ]
  },
  {
   "cell_type": "code",
   "execution_count": 188,
   "metadata": {},
   "outputs": [],
   "source": [
    "rm = visa.ResourceManager()\n",
    "rs_mw = rm.open_resource('GPIB0::29::INSTR')"
   ]
  },
  {
   "cell_type": "code",
   "execution_count": 53,
   "metadata": {},
   "outputs": [],
   "source": [
    "# def setup_mw_source(dev=rs_mw, start_freq=2.80, stop_freq=2.95, step_number=75, power=-30):\n",
    "#     command_wait(dev, '*RST')\n",
    "#     command_wait(dev, '*CLS')\n",
    "    \n",
    "#     step_freq = (stop_freq - start_freq)/(step_number) * 1e3\n",
    "#     print(step_freq)\n",
    "    \n",
    "# #     command_wait(dev, 'SOUR:FREQ {} Hz'.format(start_freq))\n",
    "# #     command_wait(dev, 'SOUR:SWE:FREQ:MODE STEP')\n",
    "# #     command_wait(dev, 'SOUR:SWE:FREQ:SPAC LIN')\n",
    "# #     command_wait(dev, 'SOUR:SWE:FREQ:STEP:LIN {} Hz'.format(step_freq))\n",
    "# #     command_wait(dev, 'SOUR:FREQ {} Hz'.format(start_freq))\n",
    "#     command_wait(dev, 'TRIG:FSW:SOUR EXT')\n",
    "#     command_wait(dev, 'SOUR:FREQ:MODE SWE')\n",
    "# #     command_wait(dev, 'SOUR:FREQ:STEP:MODE USER')\n",
    "#     command_wait(dev, 'SOUR:SWE:FREQ:MODE STEP')\n",
    "#     command_wait(dev, 'SOUR:FREQ:STAR {} GHz'.format(start_freq))\n",
    "#     command_wait(dev, 'SOUR:FREQ:STOP {} GHz'.format(stop_freq))\n",
    "# #     command_wait(dev, 'SOUR:FREQ:STEP {} MHz'.format(step_freq))\n",
    "#     command_wait(dev, ':SOURce:POWer {} dBm'.format(power))"
   ]
  },
  {
   "cell_type": "code",
   "execution_count": 172,
   "metadata": {},
   "outputs": [],
   "source": [
    "def setup_mw_source(dev, start_freq=2.80, stop_freq=2.95, step_number=100, power=-30):\n",
    "    command_wait(dev, '*RST')\n",
    "    command_wait(dev, '*CLS')\n",
    "    \n",
    "    step_freq = (stop_freq - start_freq)/(step_number) * 1e3\n",
    "    # print(step_freq)\n",
    "    \n",
    "    # Setup step-by-step sweep with external trigger\n",
    "    command_wait(dev, 'SOUR:FREQ:MODE SWE')\n",
    "    command_wait(dev, 'TRIG:FSW:SOUR EXT')\n",
    "    command_wait(dev, 'SOUR:SWE:FREQ:MODE STEP')\n",
    "    command_wait(dev, 'SOUR:SWE:FREQ:SPAC LIN')\n",
    "    command_wait(dev, 'SOUR:SWE:FREQ:STEP:LIN {} MHz'.format(step_freq))\n",
    "    command_wait(dev, 'SOUR:FREQ:STAR {} GHz'.format(start_freq))\n",
    "    command_wait(dev, 'SOUR:FREQ:STOP {} GHz'.format(stop_freq))\n",
    "    \n",
    "    command_wait(dev, 'SOUR:POW:LEV {} dBm'.format(power))\n",
    "    command_wait(dev, 'OUTPut:STATE ON')\n",
    "\n",
    "def deactivate_mw_source(dev):\n",
    "    command_wait(dev, 'OUTPut:STATE OFF')\n",
    "    command_wait(dev, '*RST')\n",
    "    command_wait(dev, '*CLS')\n",
    "    \n",
    "def command_wait(dev, command_str):\n",
    "    dev.write(command_str)\n",
    "    dev.write('*WAI')\n",
    "    while int(float(dev.query('*OPC?'))) != 1:\n",
    "        time.sleep(0.2)\n",
    "    return"
   ]
  },
  {
   "cell_type": "code",
   "execution_count": 148,
   "metadata": {},
   "outputs": [],
   "source": [
    "def setup_ni_card(sample_rate=100, step_number=100):\n",
    "    # SampleClock task (Ctr2)\n",
    "    clock_task = nidaqmx.Task()\n",
    "    clock_task.co_channels.add_co_pulse_chan_freq(counter='/PXI-6363/Ctr2', duty_cycle=0.5, freq=sample_rate)\n",
    "    clock_task.timing.cfg_implicit_timing(sample_mode=AcquisitionType.FINITE, samps_per_chan=step_number)\n",
    "    \n",
    "    # Photon counter task (Ctr3)\n",
    "    counter_task = nidaqmx.Task()\n",
    "    counter_task.ci_channels.add_ci_count_edges_chan(counter='/PXI-6363/Ctr3')\n",
    "    counter_task.timing.cfg_samp_clk_timing(\n",
    "        source='/PXI-6363/Ctr2InternalOutput', \n",
    "        sample_mode=AcquisitionType.CONTINUOUS, \n",
    "        samps_per_chan=2*step_number, \n",
    "        rate=int(1e5),\n",
    "        active_edge=Edge.RISING\n",
    "    )\n",
    "    \n",
    "    counter_task.start()\n",
    "    \n",
    "    return (clock_task, counter_task)\n",
    "\n",
    "def deactivate_ni_card(clock_task, counter_task):\n",
    "    try:\n",
    "        clock_task.stop()\n",
    "    except:\n",
    "        pass\n",
    "    clock_task.close()\n",
    "    \n",
    "    try:\n",
    "        counter_task.stop()\n",
    "    except:\n",
    "        pass\n",
    "    counter_task.close()"
   ]
  },
  {
   "cell_type": "code",
   "execution_count": 176,
   "metadata": {},
   "outputs": [],
   "source": [
    "def norm_count(raw_count_line):\n",
    "    count_line = []\n",
    "    for i in range(len(raw_count_line)):\n",
    "        if i>0:\n",
    "            count_line.append(raw_count_line[i] - raw_count_line[i-1])\n",
    "        \n",
    "    return count_line"
   ]
  },
  {
   "cell_type": "code",
   "execution_count": 196,
   "metadata": {},
   "outputs": [],
   "source": [
    "start_freq = 2.8\n",
    "stop_freq = 2.95\n",
    "step_number = 100\n",
    "power = 1\n",
    "\n",
    "sample_rate = 50\n",
    "line_number = 100\n",
    "\n",
    "clock, counter = setup_ni_card(sample_rate=sample_rate, step_number=step_number)\n",
    "\n",
    "count_ar = []\n",
    "\n",
    "for i in range(line_number):\n",
    "    setup_mw_source(rs_mw, start_freq, stop_freq, step_number, power)\n",
    "    \n",
    "    clock.start()\n",
    "    clock.wait_until_done(20)\n",
    "    \n",
    "    raw_count_line = counter.read(number_of_samples_per_channel=READ_ALL_AVAILABLE)\n",
    "    count_line = norm_count(raw_count_line)\n",
    "    \n",
    "    count_ar.append(count_line)\n",
    "    clock.stop()\n",
    "    deactivate_mw_source(dev=rs_mw)\n",
    "\n",
    "deactivate_mw_source(rs_mw)\n",
    "deactivate_ni_card(clock_task=clock, counter_task=counter)"
   ]
  },
  {
   "cell_type": "code",
   "execution_count": 195,
   "metadata": {},
   "outputs": [],
   "source": [
    "# deactivate_mw_source(rs_mw)\n",
    "# deactivate_ni_card(clock_task=clock, counter_task=counter)"
   ]
  },
  {
   "cell_type": "code",
   "execution_count": 190,
   "metadata": {},
   "outputs": [
    {
     "data": {
      "image/png": "[encoded data removed]",
      "text/plain": [
       "<Figure size 432x288 with 1 Axes>"
      ]
     },
     "metadata": {},
     "output_type": "display_data"
    }
   ],
   "source": [
    "plt.imshow(count_ar)\n",
    "plt.show()"
   ]
  },
  {
   "cell_type": "code",
   "execution_count": 192,
   "metadata": {},
   "outputs": [],
   "source": [
    "avg_count_line = [sum(x) for x in zip(*count_ar)]"
   ]
  },
  {
   "cell_type": "code",
   "execution_count": 193,
   "metadata": {},
   "outputs": [
    {
     "data": {
      "image/png": "[encoded data removed]",
      "text/plain": [
       "<Figure size 432x288 with 1 Axes>"
      ]
     },
     "metadata": {},
     "output_type": "display_data"
    }
   ],
   "source": [
    "plt.plot(avg_count_line)\n",
    "plt.show()"
   ]
  },
  {
   "cell_type": "code",
   "execution_count": 197,
   "metadata": {},
   "outputs": [
    {
     "data": {
      "image/png": "[encoded data removed]",
      "text/plain": [
       "<Figure size 432x288 with 1 Axes>"
      ]
     },
     "metadata": {},
     "output_type": "display_data"
    }
   ],
   "source": [
    "plt.imshow(count_ar)\n",
    "plt.show()"
   ]
  },
  {
   "cell_type": "code",
   "execution_count": 199,
   "metadata": {},
   "outputs": [
    {
     "data": {
      "image/png": "[encoded data removed]",
      "text/plain": [
       "<Figure size 432x288 with 1 Axes>"
      ]
     },
     "metadata": {},
     "output_type": "display_data"
    }
   ],
   "source": [
    "avg_count_line = [sum(x) for x in zip(*count_ar)]\n",
    "plt.plot(avg_count_line)\n",
    "plt.show()"
   ]
  },
  {
   "cell_type": "code",
   "execution_count": null,
   "metadata": {},
   "outputs": [],
   "source": []
  }
 ],
 "metadata": {
  "kernelspec": {
   "display_name": "Python 3",
   "language": "python",
   "name": "python3"
  },
  "language_info": {
   "codemirror_mode": {
    "name": "ipython",
    "version": 3
   },
   "file_extension": ".py",
   "mimetype": "text/x-python",
   "name": "python",
   "nbconvert_exporter": "python",
   "pygments_lexer": "ipython3",
   "version": "3.6.5"
  }
 },
 "nbformat": 4,
 "nbformat_minor": 2
}
