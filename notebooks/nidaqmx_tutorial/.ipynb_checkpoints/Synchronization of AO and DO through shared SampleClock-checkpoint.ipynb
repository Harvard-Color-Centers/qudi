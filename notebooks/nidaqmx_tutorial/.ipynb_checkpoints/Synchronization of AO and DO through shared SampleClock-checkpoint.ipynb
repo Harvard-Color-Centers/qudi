{
 "cells": [
  {
   "cell_type": "code",
   "execution_count": 1,
   "metadata": {},
   "outputs": [],
   "source": [
    "import nidaqmx\n",
    "from nidaqmx.constants import AcquisitionType, LineGrouping"
   ]
  },
  {
   "cell_type": "markdown",
   "metadata": {},
   "source": [
    "### Clock task"
   ]
  },
  {
   "cell_type": "code",
   "execution_count": 2,
   "metadata": {},
   "outputs": [],
   "source": [
    "clock_task = nidaqmx.Task()\n",
    "clock_task.co_channels.add_co_pulse_chan_freq(counter='/PXI-6363/ctr1', freq=100, duty_cycle=0.5)  # 2*scan_rate\n",
    "clock_task.timing.cfg_implicit_timing(sample_mode=AcquisitionType.CONTINUOUS)"
   ]
  },
  {
   "cell_type": "code",
   "execution_count": null,
   "metadata": {},
   "outputs": [],
   "source": [
    "# clock_task.start()"
   ]
  },
  {
   "cell_type": "code",
   "execution_count": null,
   "metadata": {},
   "outputs": [],
   "source": [
    "# clock_task.stop()"
   ]
  },
  {
   "cell_type": "markdown",
   "metadata": {},
   "source": [
    "### AO task"
   ]
  },
  {
   "cell_type": "code",
   "execution_count": 3,
   "metadata": {},
   "outputs": [
    {
     "data": {
      "text/plain": [
       "DOChannel(name=PXI-6363/port0/line8)"
      ]
     },
     "execution_count": 3,
     "metadata": {},
     "output_type": "execute_result"
    }
   ],
   "source": [
    "task1 = nidaqmx.Task()\n",
    "task2 = nidaqmx.Task()\n",
    "\n",
    "task1.ao_channels.add_ao_voltage_chan('/PXI-6363/ao0')\n",
    "task2.do_channels.add_do_chan('PXI-6363/port0/line8', line_grouping=LineGrouping.CHAN_PER_LINE)"
   ]
  },
  {
   "cell_type": "code",
   "execution_count": 4,
   "metadata": {},
   "outputs": [],
   "source": [
    "task1.timing.cfg_samp_clk_timing(\n",
    "    source='/PXI-6363/Ctr1InternalOutput', \n",
    "    rate=200, \n",
    "    samps_per_chan=100,\n",
    "    sample_mode=nidaqmx.constants.AcquisitionType.CONTINUOUS, \n",
    "    active_edge=nidaqmx.constants.Edge.RISING\n",
    ")\n",
    "\n",
    "task2.timing.cfg_samp_clk_timing(\n",
    "    source='/PXI-6363/Ctr1InternalOutput', \n",
    "    rate=200, \n",
    "    samps_per_chan=2,\n",
    "    sample_mode=nidaqmx.constants.AcquisitionType.FINITE, \n",
    "    active_edge=nidaqmx.constants.Edge.RISING\n",
    ")"
   ]
  },
  {
   "cell_type": "code",
   "execution_count": 5,
   "metadata": {},
   "outputs": [],
   "source": [
    "resolution = 100\n",
    "scan_rate = 100\n",
    "max_resolution = 500\n",
    "max_scan_rate = 1000\n",
    "v_range = 0.3\n",
    "ar = [v_range*(-1+2*i/(resolution-1)) for i in range(resolution)]"
   ]
  },
  {
   "cell_type": "code",
   "execution_count": 6,
   "metadata": {},
   "outputs": [
    {
     "name": "stdout",
     "output_type": "stream",
     "text": [
      "100\n"
     ]
    }
   ],
   "source": [
    "print(task1.write(ar))"
   ]
  },
  {
   "cell_type": "code",
   "execution_count": 7,
   "metadata": {},
   "outputs": [
    {
     "name": "stdout",
     "output_type": "stream",
     "text": [
      "2\n"
     ]
    }
   ],
   "source": [
    "print(task2.write([True, False]))"
   ]
  },
  {
   "cell_type": "code",
   "execution_count": 20,
   "metadata": {},
   "outputs": [],
   "source": [
    "task1.start()\n",
    "task2.start()\n",
    "clock_task.start()"
   ]
  },
  {
   "cell_type": "code",
   "execution_count": 21,
   "metadata": {},
   "outputs": [],
   "source": [
    "task1.stop()\n",
    "task2.stop()\n",
    "clock_task.stop()"
   ]
  },
  {
   "cell_type": "code",
   "execution_count": 22,
   "metadata": {},
   "outputs": [],
   "source": [
    "task1.close()\n",
    "task2.close()\n",
    "clock_task.close()"
   ]
  }
 ],
 "metadata": {
  "kernelspec": {
   "display_name": "Python 3",
   "language": "python",
   "name": "python3"
  },
  "language_info": {
   "codemirror_mode": {
    "name": "ipython",
    "version": 3
   },
   "file_extension": ".py",
   "mimetype": "text/x-python",
   "name": "python",
   "nbconvert_exporter": "python",
   "pygments_lexer": "ipython3",
   "version": "3.7.0"
  }
 },
 "nbformat": 4,
 "nbformat_minor": 2
}
