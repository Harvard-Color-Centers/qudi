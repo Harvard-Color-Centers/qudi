{
 "cells": [
  {
   "cell_type": "code",
   "execution_count": 5,
   "metadata": {},
   "outputs": [],
   "source": [
    "import nidaqmx\n",
    "from nidaqmx.constants import AcquisitionType\n",
    "import time"
   ]
  },
  {
   "cell_type": "code",
   "execution_count": 10,
   "metadata": {},
   "outputs": [
    {
     "name": "stdout",
     "output_type": "stream",
     "text": [
      "2\n"
     ]
    }
   ],
   "source": [
    "with nidaqmx.Task() as task: \n",
    "    task.ao_channels.add_ao_voltage_chan('PXI-6733/ao0')\n",
    "    \n",
    "    task.timing.cfg_samp_clk_timing(rate=0.5, sample_mode=AcquisitionType.CONTINUOUS, samps_per_chan=4)\n",
    "    \n",
    "    print(task.write(data=[0,4]))\n",
    "    task.start()\n",
    "    time.sleep(50)\n",
    "    task.stop()"
   ]
  },
  {
   "cell_type": "code",
   "execution_count": 18,
   "metadata": {},
   "outputs": [],
   "source": [
    "from nidaqmx.constants import AcquisitionType"
   ]
  },
  {
   "cell_type": "code",
   "execution_count": 70,
   "metadata": {},
   "outputs": [],
   "source": [
    "with nidaqmx.Task() as task: \n",
    "    task.do_channels.add_do_chan('/PXI-6363/port0/line8')\n",
    "    \n",
    "    task.timing.cfg_samp_clk_timing(\n",
    "        rate=1,\n",
    "        sample_mode=AcquisitionType.CONTINUOUS,\n",
    "        samps_per_chan=2\n",
    "    )\n",
    "    \n",
    "    task.write([False, True])\n",
    "    task.start()\n",
    "    time.sleep(30)\n",
    "    task.stop()"
   ]
  },
  {
   "cell_type": "code",
   "execution_count": 71,
   "metadata": {},
   "outputs": [],
   "source": [
    "with nidaqmx.Task() as task: \n",
    "    task.do_channels.add_do_chan('/PXI-6363/port0/line8')\n",
    "    \n",
    "    task.write(False)"
   ]
  },
  {
   "cell_type": "code",
   "execution_count": 16,
   "metadata": {},
   "outputs": [
    {
     "name": "stdout",
     "output_type": "stream",
     "text": [
      "1\n"
     ]
    }
   ],
   "source": [
    "with nidaqmx.Task() as task: \n",
    "    task.ao_channels.add_ao_voltage_chan('PXI-6733/ao0')\n",
    "    \n",
    "    print(task.write(0))"
   ]
  },
  {
   "cell_type": "code",
   "execution_count": 67,
   "metadata": {},
   "outputs": [
    {
     "name": "stdout",
     "output_type": "stream",
     "text": [
      "6\n"
     ]
    }
   ],
   "source": [
    "with nidaqmx.Task() as task: \n",
    "    task.ao_channels.add_ao_voltage_chan('PXI-6363/ao1')\n",
    "    \n",
    "#     task.timing.cfg_samp_clk_timing(\n",
    "#         rate=10,\n",
    "# #         source = '/PXI-6363/do/SampleClock',\n",
    "# #         active_edge = Edge.RISING,\n",
    "#         sample_mode=AcquisitionType.CONTINUOUS,\n",
    "#         samps_per_chan=9\n",
    "#     )\n",
    "    \n",
    "    task.start()\n",
    "    print(task.write(data=[0,1,2,3,4,5]))\n",
    "#     task.wait_until_done(timeout=100)\n",
    "#     task.stop()"
   ]
  },
  {
   "cell_type": "code",
   "execution_count": null,
   "metadata": {},
   "outputs": [],
   "source": []
  },
  {
   "cell_type": "code",
   "execution_count": null,
   "metadata": {},
   "outputs": [],
   "source": []
  }
 ],
 "metadata": {
  "kernelspec": {
   "display_name": "Python 3",
   "language": "python",
   "name": "python3"
  },
  "language_info": {
   "codemirror_mode": {
    "name": "ipython",
    "version": 3
   },
   "file_extension": ".py",
   "mimetype": "text/x-python",
   "name": "python",
   "nbconvert_exporter": "python",
   "pygments_lexer": "ipython3",
   "version": "3.7.0"
  }
 },
 "nbformat": 4,
 "nbformat_minor": 2
}
