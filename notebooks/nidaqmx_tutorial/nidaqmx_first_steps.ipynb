{
 "cells": [
  {
   "cell_type": "code",
   "execution_count": 1,
   "metadata": {},
   "outputs": [],
   "source": [
    "import nidaqmx\n",
    "from nidaqmx.constants import AcquisitionType, Edge\n",
    "import time"
   ]
  },
  {
   "cell_type": "markdown",
   "metadata": {},
   "source": [
    "## System"
   ]
  },
  {
   "cell_type": "code",
   "execution_count": 7,
   "metadata": {},
   "outputs": [],
   "source": [
    "system = nidaqmx.system.System.local()"
   ]
  },
  {
   "cell_type": "code",
   "execution_count": 9,
   "metadata": {},
   "outputs": [
    {
     "name": "stdout",
     "output_type": "stream",
     "text": [
      "Device(name=PXI-6363)\n",
      "Device(name=PXI-6723)\n",
      "Device(name=PXI-6733)\n"
     ]
    }
   ],
   "source": [
    "for dev in system.devices:\n",
    "    print(dev)"
   ]
  },
  {
   "cell_type": "markdown",
   "metadata": {},
   "source": [
    "## Basics "
   ]
  },
  {
   "cell_type": "markdown",
   "metadata": {},
   "source": [
    "### task.read()"
   ]
  },
  {
   "cell_type": "code",
   "execution_count": 46,
   "metadata": {},
   "outputs": [
    {
     "name": "stdout",
     "output_type": "stream",
     "text": [
      "[-0.49668359976606874, -0.4979718989327781, -0.49813293632877015, -0.49813293632877015, -0.498616048516951]\n"
     ]
    }
   ],
   "source": [
    "with nidaqmx.Task() as task:\n",
    "    task.ai_channels.add_ai_voltage_chan(\"PXI-6363/ai10\")\n",
    "    res = task.read(number_of_samples_per_channel=5)\n",
    "    print(res)"
   ]
  },
  {
   "cell_type": "code",
   "execution_count": 72,
   "metadata": {},
   "outputs": [
    {
     "name": "stdout",
     "output_type": "stream",
     "text": [
      "[5.278183554395748, 5.278183554395748, 5.278183554395748, 5.278183554395748, 5.278183554395748]\n"
     ]
    }
   ],
   "source": [
    "with nidaqmx.Task() as task:\n",
    "    task.ai_channels.add_ai_voltage_chan(\"PXI-6363/ai2\")\n",
    "    task.timing.cfg_samp_clk_timing(rate=10, samps_per_chan=5)\n",
    "    res = task.read(number_of_samples_per_channel=5)\n",
    "    print(res)"
   ]
  },
  {
   "cell_type": "code",
   "execution_count": 49,
   "metadata": {},
   "outputs": [],
   "source": [
    "from nidaqmx.constants import LineGrouping"
   ]
  },
  {
   "cell_type": "code",
   "execution_count": 52,
   "metadata": {},
   "outputs": [
    {
     "name": "stdout",
     "output_type": "stream",
     "text": [
      "[False, False, False, False, False, False, False, False]\n"
     ]
    }
   ],
   "source": [
    "with nidaqmx.Task() as task:\n",
    "    task.di_channels.add_di_chan('PXI-6363/port0/line0:7', line_grouping=LineGrouping.CHAN_PER_LINE)\n",
    "    print(task.read())"
   ]
  },
  {
   "cell_type": "markdown",
   "metadata": {},
   "source": [
    "### task.write()"
   ]
  },
  {
   "cell_type": "code",
   "execution_count": 4,
   "metadata": {},
   "outputs": [],
   "source": [
    "with nidaqmx.Task() as task:\n",
    "    task.ao_channels.add_ao_voltage_chan('PXI-6363/ao0')\n",
    "    task.write(0, auto_start=True)"
   ]
  },
  {
   "cell_type": "code",
   "execution_count": 53,
   "metadata": {},
   "outputs": [],
   "source": [
    "from nidaqmx.types import CtrTime"
   ]
  },
  {
   "cell_type": "code",
   "execution_count": 59,
   "metadata": {},
   "outputs": [
    {
     "ename": "DaqError",
     "evalue": "Specified operation did not complete, because the specified timeout expired.\nTask Name: _unnamedTask<2C>\n\nStatus Code: -200474",
     "output_type": "error",
     "traceback": [
      "\u001b[1;31m---------------------------------------------------------------------------\u001b[0m",
      "\u001b[1;31mDaqError\u001b[0m                                  Traceback (most recent call last)",
      "\u001b[1;32m<ipython-input-59-4be835857245>\u001b[0m in \u001b[0;36m<module>\u001b[1;34m()\u001b[0m\n\u001b[0;32m      2\u001b[0m     \u001b[0mtask\u001b[0m\u001b[1;33m.\u001b[0m\u001b[0mco_channels\u001b[0m\u001b[1;33m.\u001b[0m\u001b[0madd_co_pulse_chan_time\u001b[0m\u001b[1;33m(\u001b[0m\u001b[1;34m'PXI-6363/ctr0'\u001b[0m\u001b[1;33m)\u001b[0m\u001b[1;33m\u001b[0m\u001b[0m\n\u001b[0;32m      3\u001b[0m     \u001b[0msample\u001b[0m \u001b[1;33m=\u001b[0m \u001b[0mCtrTime\u001b[0m\u001b[1;33m(\u001b[0m\u001b[0mhigh_time\u001b[0m\u001b[1;33m=\u001b[0m\u001b[1;36m0.1\u001b[0m\u001b[1;33m,\u001b[0m \u001b[0mlow_time\u001b[0m\u001b[1;33m=\u001b[0m\u001b[1;36m0.1\u001b[0m\u001b[1;33m)\u001b[0m\u001b[1;33m\u001b[0m\u001b[0m\n\u001b[1;32m----> 4\u001b[1;33m     \u001b[0mtask\u001b[0m\u001b[1;33m.\u001b[0m\u001b[0mwrite\u001b[0m\u001b[1;33m(\u001b[0m\u001b[0msample\u001b[0m\u001b[1;33m)\u001b[0m\u001b[1;33m\u001b[0m\u001b[0m\n\u001b[0m",
      "\u001b[1;32mC:\\Anaconda\\lib\\site-packages\\nidaqmx\\task.py\u001b[0m in \u001b[0;36mwrite\u001b[1;34m(self, data, auto_start, timeout)\u001b[0m\n\u001b[0;32m   1299\u001b[0m                 return _write_ctr_time(\n\u001b[0;32m   1300\u001b[0m                     \u001b[0mself\u001b[0m\u001b[1;33m.\u001b[0m\u001b[0m_handle\u001b[0m\u001b[1;33m,\u001b[0m \u001b[0mhigh_times\u001b[0m\u001b[1;33m,\u001b[0m \u001b[0mlow_times\u001b[0m\u001b[1;33m,\u001b[0m\u001b[1;33m\u001b[0m\u001b[0m\n\u001b[1;32m-> 1301\u001b[1;33m                     number_of_samples_per_channel, auto_start, timeout)\n\u001b[0m\u001b[0;32m   1302\u001b[0m \u001b[1;33m\u001b[0m\u001b[0m\n\u001b[0;32m   1303\u001b[0m             \u001b[1;32melif\u001b[0m \u001b[0moutput_type\u001b[0m \u001b[1;33m==\u001b[0m \u001b[0mUsageTypeCO\u001b[0m\u001b[1;33m.\u001b[0m\u001b[0mPULSE_TICKS\u001b[0m\u001b[1;33m:\u001b[0m\u001b[1;33m\u001b[0m\u001b[0m\n",
      "\u001b[1;32mC:\\Anaconda\\lib\\site-packages\\nidaqmx\\_task_modules\\write_functions.py\u001b[0m in \u001b[0;36m_write_ctr_time\u001b[1;34m(task_handle, high_time, low_time, num_samps_per_chan, auto_start, timeout, data_layout)\u001b[0m\n\u001b[0;32m    314\u001b[0m         \u001b[0mdata_layout\u001b[0m\u001b[1;33m.\u001b[0m\u001b[0mvalue\u001b[0m\u001b[1;33m,\u001b[0m \u001b[0mhigh_time\u001b[0m\u001b[1;33m,\u001b[0m \u001b[0mlow_time\u001b[0m\u001b[1;33m,\u001b[0m\u001b[1;33m\u001b[0m\u001b[0m\n\u001b[0;32m    315\u001b[0m         ctypes.byref(num_samps_per_chan_written), None)\n\u001b[1;32m--> 316\u001b[1;33m     \u001b[0mcheck_for_error\u001b[0m\u001b[1;33m(\u001b[0m\u001b[0merror_code\u001b[0m\u001b[1;33m)\u001b[0m\u001b[1;33m\u001b[0m\u001b[0m\n\u001b[0m\u001b[0;32m    317\u001b[0m \u001b[1;33m\u001b[0m\u001b[0m\n\u001b[0;32m    318\u001b[0m     \u001b[1;32mreturn\u001b[0m \u001b[0mnum_samps_per_chan_written\u001b[0m\u001b[1;33m.\u001b[0m\u001b[0mvalue\u001b[0m\u001b[1;33m\u001b[0m\u001b[0m\n",
      "\u001b[1;32mC:\\Anaconda\\lib\\site-packages\\nidaqmx\\errors.py\u001b[0m in \u001b[0;36mcheck_for_error\u001b[1;34m(error_code)\u001b[0m\n\u001b[0;32m    125\u001b[0m         \u001b[0mcfunc\u001b[0m\u001b[1;33m(\u001b[0m\u001b[0merror_buffer\u001b[0m\u001b[1;33m,\u001b[0m \u001b[1;36m2048\u001b[0m\u001b[1;33m)\u001b[0m\u001b[1;33m\u001b[0m\u001b[0m\n\u001b[0;32m    126\u001b[0m \u001b[1;33m\u001b[0m\u001b[0m\n\u001b[1;32m--> 127\u001b[1;33m         \u001b[1;32mraise\u001b[0m \u001b[0mDaqError\u001b[0m\u001b[1;33m(\u001b[0m\u001b[0merror_buffer\u001b[0m\u001b[1;33m.\u001b[0m\u001b[0mvalue\u001b[0m\u001b[1;33m.\u001b[0m\u001b[0mdecode\u001b[0m\u001b[1;33m(\u001b[0m\u001b[1;34m\"utf-8\"\u001b[0m\u001b[1;33m)\u001b[0m\u001b[1;33m,\u001b[0m \u001b[0merror_code\u001b[0m\u001b[1;33m)\u001b[0m\u001b[1;33m\u001b[0m\u001b[0m\n\u001b[0m\u001b[0;32m    128\u001b[0m \u001b[1;33m\u001b[0m\u001b[0m\n\u001b[0;32m    129\u001b[0m     \u001b[1;32melif\u001b[0m \u001b[0merror_code\u001b[0m \u001b[1;33m>\u001b[0m \u001b[1;36m0\u001b[0m\u001b[1;33m:\u001b[0m\u001b[1;33m\u001b[0m\u001b[0m\n",
      "\u001b[1;31mDaqError\u001b[0m: Specified operation did not complete, because the specified timeout expired.\nTask Name: _unnamedTask<2C>\n\nStatus Code: -200474"
     ]
    }
   ],
   "source": [
    "with nidaqmx.Task() as task:\n",
    "    task.co_channels.add_co_pulse_chan_time('PXI-6363/ctr0')\n",
    "    sample = CtrTime(high_time=0.1, low_time=0.1)\n",
    "    task.write(sample)"
   ]
  },
  {
   "cell_type": "code",
   "execution_count": 77,
   "metadata": {},
   "outputs": [],
   "source": [
    "with nidaqmx.Task() as task:\n",
    "    task.ao_channels.add_ao_voltage_chan('PXI-6363/ao0')\n",
    "    \n",
    "    task.timing.cfg_samp_clk_timing(rate=1, samps_per_chan=5)\n",
    "    task.triggers\n",
    "    \n",
    "    task.write([0,1,2,3,4], auto_start=True)"
   ]
  },
  {
   "cell_type": "markdown",
   "metadata": {},
   "source": [
    "## Timing"
   ]
  },
  {
   "cell_type": "markdown",
   "metadata": {},
   "source": [
    "### One task"
   ]
  },
  {
   "cell_type": "code",
   "execution_count": 199,
   "metadata": {},
   "outputs": [
    {
     "name": "stdout",
     "output_type": "stream",
     "text": [
      "3\n"
     ]
    }
   ],
   "source": [
    "with nidaqmx.Task() as task: \n",
    "    task.ao_channels.add_ao_voltage_chan('PXI-6363/ao0')\n",
    "    \n",
    "    task.timing.cfg_samp_clk_timing(rate=20, sample_mode=AcquisitionType.CONTINUOUS, samps_per_chan=4)\n",
    "    \n",
    "    print(task.write(data=[0,1,2]))\n",
    "    task.start()\n",
    "    time.sleep(5)\n",
    "    task.stop()"
   ]
  },
  {
   "cell_type": "code",
   "execution_count": 188,
   "metadata": {},
   "outputs": [
    {
     "name": "stdout",
     "output_type": "stream",
     "text": [
      "11\n"
     ]
    }
   ],
   "source": [
    "with nidaqmx.Task() as task: \n",
    "    task.ao_channels.add_ao_voltage_chan('PXI-6363/ao0')\n",
    "    \n",
    "    task.timing.cfg_samp_clk_timing(rate=2, sample_mode=AcquisitionType.FINITE, samps_per_chan=11)\n",
    "    \n",
    "    print(task.write(data=[0,1,2,3,4,5,6,7,1,2,0], auto_start=True))\n",
    "    task.wait_until_done()\n",
    "    task.stop()"
   ]
  },
  {
   "cell_type": "code",
   "execution_count": 194,
   "metadata": {},
   "outputs": [
    {
     "name": "stdout",
     "output_type": "stream",
     "text": [
      "3\n"
     ]
    }
   ],
   "source": [
    "with nidaqmx.Task() as task: \n",
    "    task.ao_channels.add_ao_voltage_chan('PXI-6363/ao0')\n",
    "    \n",
    "    task.timing.ref_clk_src = \"PXIe_Clk100\"\n",
    "    task.timing.cfg_samp_clk_timing(\n",
    "        rate=20,\n",
    "        sample_mode=AcquisitionType.CONTINUOUS,\n",
    "        samps_per_chan=4\n",
    "    )\n",
    "    \n",
    "    print(task.write(data=[0,1,2], auto_start=True))\n",
    "    time.sleep(5)\n",
    "    task.stop()"
   ]
  },
  {
   "cell_type": "markdown",
   "metadata": {},
   "source": [
    "#### External SampleClock source"
   ]
  },
  {
   "cell_type": "markdown",
   "metadata": {},
   "source": [
    "External clock source: digital output"
   ]
  },
  {
   "cell_type": "code",
   "execution_count": null,
   "metadata": {},
   "outputs": [],
   "source": [
    "with nidaqmx.Task() as task: \n",
    "    task.do_channels.add_do_chan('/PXI-6363/port0/line8')\n",
    "    \n",
    "    task.timing.cfg_samp_clk_timing(\n",
    "        rate=1,\n",
    "        sample_mode=AcquisitionType.CONTINUOUS,\n",
    "        samps_per_chan=2\n",
    "    )\n",
    "    \n",
    "    task.write([False, True])\n",
    "    task.start()\n",
    "    time.sleep(100)\n",
    "    task.stop()"
   ]
  },
  {
   "cell_type": "markdown",
   "metadata": {},
   "source": [
    "##### Deliver the SampleClock signal by a wire from '/PXI-6363/port0/line8' to '/PXI-6363/PFI12'"
   ]
  },
  {
   "cell_type": "markdown",
   "metadata": {},
   "source": [
    "DI port will be used to input the external clock signal\n",
    "Test that the logical signal arrives"
   ]
  },
  {
   "cell_type": "code",
   "execution_count": 286,
   "metadata": {},
   "outputs": [
    {
     "name": "stdout",
     "output_type": "stream",
     "text": [
      "False\n"
     ]
    }
   ],
   "source": [
    "with nidaqmx.Task() as task: \n",
    "    task.di_channels.add_di_chan('/PXI-6363/PFI12')\n",
    "    \n",
    "    print(task.read())"
   ]
  },
  {
   "cell_type": "markdown",
   "metadata": {},
   "source": [
    "Generate AO signal using external clock from '/PXI-6363/PFI12'"
   ]
  },
  {
   "cell_type": "code",
   "execution_count": 291,
   "metadata": {
    "scrolled": true
   },
   "outputs": [
    {
     "name": "stdout",
     "output_type": "stream",
     "text": [
      "9\n"
     ]
    }
   ],
   "source": [
    "with nidaqmx.Task() as task: \n",
    "    task.ao_channels.add_ao_voltage_chan('PXI-6363/ao0')\n",
    "    \n",
    "    task.timing.cfg_samp_clk_timing(\n",
    "        rate=10,\n",
    "        source = '/PXI-6363/PFI12',\n",
    "        active_edge = Edge.RISING,\n",
    "        sample_mode=AcquisitionType.FINITE,\n",
    "        samps_per_chan=9\n",
    "    )\n",
    "    \n",
    "    print(task.write(data=[0,1,2,3,4,5,1,2,0]))\n",
    "    task.start()\n",
    "    task.wait_until_done(timeout=100)\n",
    "    task.stop()"
   ]
  },
  {
   "cell_type": "markdown",
   "metadata": {},
   "source": [
    "##### Deliver the SampleClock signal by internal connection from '/PXI-6363/port0/line8' to '/PXI-6363/PFI12'"
   ]
  },
  {
   "cell_type": "code",
   "execution_count": 307,
   "metadata": {},
   "outputs": [
    {
     "name": "stdout",
     "output_type": "stream",
     "text": [
      "9\n"
     ]
    },
    {
     "ename": "DaqError",
     "evalue": "Wait Until Done did not indicate that the task was done within the specified timeout.\n\nIncrease the timeout, check the program, and make sure connections for external timing and triggering are in place.\nTask Name: _unnamedTask<132>\n\nStatus Code: -200560",
     "output_type": "error",
     "traceback": [
      "\u001b[1;31m---------------------------------------------------------------------------\u001b[0m",
      "\u001b[1;31mDaqError\u001b[0m                                  Traceback (most recent call last)",
      "\u001b[1;32m<ipython-input-307-a2417480d9b5>\u001b[0m in \u001b[0;36m<module>\u001b[1;34m()\u001b[0m\n\u001b[0;32m     12\u001b[0m     \u001b[0mprint\u001b[0m\u001b[1;33m(\u001b[0m\u001b[0mtask\u001b[0m\u001b[1;33m.\u001b[0m\u001b[0mwrite\u001b[0m\u001b[1;33m(\u001b[0m\u001b[0mdata\u001b[0m\u001b[1;33m=\u001b[0m\u001b[1;33m[\u001b[0m\u001b[1;36m0\u001b[0m\u001b[1;33m,\u001b[0m\u001b[1;36m1\u001b[0m\u001b[1;33m,\u001b[0m\u001b[1;36m2\u001b[0m\u001b[1;33m,\u001b[0m\u001b[1;36m3\u001b[0m\u001b[1;33m,\u001b[0m\u001b[1;36m4\u001b[0m\u001b[1;33m,\u001b[0m\u001b[1;36m5\u001b[0m\u001b[1;33m,\u001b[0m\u001b[1;36m1\u001b[0m\u001b[1;33m,\u001b[0m\u001b[1;36m2\u001b[0m\u001b[1;33m,\u001b[0m\u001b[1;36m0\u001b[0m\u001b[1;33m]\u001b[0m\u001b[1;33m)\u001b[0m\u001b[1;33m)\u001b[0m\u001b[1;33m\u001b[0m\u001b[0m\n\u001b[0;32m     13\u001b[0m     \u001b[0mtask\u001b[0m\u001b[1;33m.\u001b[0m\u001b[0mstart\u001b[0m\u001b[1;33m(\u001b[0m\u001b[1;33m)\u001b[0m\u001b[1;33m\u001b[0m\u001b[0m\n\u001b[1;32m---> 14\u001b[1;33m     \u001b[0mtask\u001b[0m\u001b[1;33m.\u001b[0m\u001b[0mwait_until_done\u001b[0m\u001b[1;33m(\u001b[0m\u001b[0mtimeout\u001b[0m\u001b[1;33m=\u001b[0m\u001b[1;36m100\u001b[0m\u001b[1;33m)\u001b[0m\u001b[1;33m\u001b[0m\u001b[0m\n\u001b[0m\u001b[0;32m     15\u001b[0m     \u001b[0mtask\u001b[0m\u001b[1;33m.\u001b[0m\u001b[0mstop\u001b[0m\u001b[1;33m(\u001b[0m\u001b[1;33m)\u001b[0m\u001b[1;33m\u001b[0m\u001b[0m\n",
      "\u001b[1;32mC:\\Anaconda\\lib\\site-packages\\nidaqmx\\task.py\u001b[0m in \u001b[0;36mwait_until_done\u001b[1;34m(self, timeout)\u001b[0m\n\u001b[0;32m   1070\u001b[0m \u001b[1;33m\u001b[0m\u001b[0m\n\u001b[0;32m   1071\u001b[0m         \u001b[0merror_code\u001b[0m \u001b[1;33m=\u001b[0m \u001b[0mcfunc\u001b[0m\u001b[1;33m(\u001b[0m\u001b[0mself\u001b[0m\u001b[1;33m.\u001b[0m\u001b[0m_handle\u001b[0m\u001b[1;33m,\u001b[0m \u001b[0mtimeout\u001b[0m\u001b[1;33m)\u001b[0m\u001b[1;33m\u001b[0m\u001b[0m\n\u001b[1;32m-> 1072\u001b[1;33m         \u001b[0mcheck_for_error\u001b[0m\u001b[1;33m(\u001b[0m\u001b[0merror_code\u001b[0m\u001b[1;33m)\u001b[0m\u001b[1;33m\u001b[0m\u001b[0m\n\u001b[0m\u001b[0;32m   1073\u001b[0m \u001b[1;33m\u001b[0m\u001b[0m\n\u001b[0;32m   1074\u001b[0m     def _raise_invalid_num_lines_error(\n",
      "\u001b[1;32mC:\\Anaconda\\lib\\site-packages\\nidaqmx\\errors.py\u001b[0m in \u001b[0;36mcheck_for_error\u001b[1;34m(error_code)\u001b[0m\n\u001b[0;32m    125\u001b[0m         \u001b[0mcfunc\u001b[0m\u001b[1;33m(\u001b[0m\u001b[0merror_buffer\u001b[0m\u001b[1;33m,\u001b[0m \u001b[1;36m2048\u001b[0m\u001b[1;33m)\u001b[0m\u001b[1;33m\u001b[0m\u001b[0m\n\u001b[0;32m    126\u001b[0m \u001b[1;33m\u001b[0m\u001b[0m\n\u001b[1;32m--> 127\u001b[1;33m         \u001b[1;32mraise\u001b[0m \u001b[0mDaqError\u001b[0m\u001b[1;33m(\u001b[0m\u001b[0merror_buffer\u001b[0m\u001b[1;33m.\u001b[0m\u001b[0mvalue\u001b[0m\u001b[1;33m.\u001b[0m\u001b[0mdecode\u001b[0m\u001b[1;33m(\u001b[0m\u001b[1;34m\"utf-8\"\u001b[0m\u001b[1;33m)\u001b[0m\u001b[1;33m,\u001b[0m \u001b[0merror_code\u001b[0m\u001b[1;33m)\u001b[0m\u001b[1;33m\u001b[0m\u001b[0m\n\u001b[0m\u001b[0;32m    128\u001b[0m \u001b[1;33m\u001b[0m\u001b[0m\n\u001b[0;32m    129\u001b[0m     \u001b[1;32melif\u001b[0m \u001b[0merror_code\u001b[0m \u001b[1;33m>\u001b[0m \u001b[1;36m0\u001b[0m\u001b[1;33m:\u001b[0m\u001b[1;33m\u001b[0m\u001b[0m\n",
      "\u001b[1;31mDaqError\u001b[0m: Wait Until Done did not indicate that the task was done within the specified timeout.\n\nIncrease the timeout, check the program, and make sure connections for external timing and triggering are in place.\nTask Name: _unnamedTask<132>\n\nStatus Code: -200560"
     ]
    }
   ],
   "source": [
    "with nidaqmx.Task() as task: \n",
    "    task.ao_channels.add_ao_voltage_chan('PXI-6363/ao0')\n",
    "    \n",
    "    task.timing.cfg_samp_clk_timing(\n",
    "        rate=10,\n",
    "        source = '/PXI-6363/do/SampleClock',\n",
    "        active_edge = Edge.RISING,\n",
    "        sample_mode=AcquisitionType.CONTINUOUS,\n",
    "        samps_per_chan=9\n",
    "    )\n",
    "    \n",
    "    print(task.write(data=[0,1,2,3,4,5,1,2,0]))\n",
    "    task.start()\n",
    "    task.wait_until_done(timeout=100)\n",
    "    task.stop()"
   ]
  },
  {
   "cell_type": "markdown",
   "metadata": {},
   "source": [
    "### Two tasks"
   ]
  },
  {
   "cell_type": "code",
   "execution_count": 211,
   "metadata": {},
   "outputs": [
    {
     "name": "stdout",
     "output_type": "stream",
     "text": [
      "/PXI-6363/ao/SampleClockTimebase\n",
      "/PXI-6363/ao/SampleClock\n"
     ]
    }
   ],
   "source": [
    "with nidaqmx.Task() as task0, nidaqmx.Task() as task1:\n",
    "    \n",
    "    task0.ao_channels.add_ao_voltage_chan('PXI-6363/ao0')\n",
    "    task1.ai_channels.add_ai_voltage_chan('PXI-6363/ai0')\n",
    "    \n",
    "    task0.timing.cfg_samp_clk_timing(\n",
    "        rate=20,\n",
    "        sample_mode=AcquisitionType.CONTINUOUS,\n",
    "        samps_per_chan=4\n",
    "    )\n",
    "    \n",
    "    task1.timing.cfg_samp_clk_timing(\n",
    "        rate=20,\n",
    "        source = '/PXI-6363/ao/SampleClock',\n",
    "        sample_mode=AcquisitionType.CONTINUOUS,\n",
    "        samps_per_chan=4\n",
    "    )\n",
    "    \n",
    "    print(task0.timing.samp_clk_src)\n",
    "    print(task1.timing.samp_clk_src)\n",
    "    \n",
    "    task1.start()\n",
    "    \n",
    "    task0.write([0,1,2,3])\n",
    "    task0.start()\n",
    "    \n",
    "    time.sleep(5)\n",
    "    task0.stop()\n",
    "    task1.stop()\n",
    "#     data = task1.read()\n",
    "    \n",
    "    "
   ]
  },
  {
   "cell_type": "code",
   "execution_count": null,
   "metadata": {},
   "outputs": [],
   "source": [
    "with nidaqmx.Task() as task:\n",
    "    task.ao_channels.add_ao_voltage_chan('/PXI-')"
   ]
  }
 ],
 "metadata": {
  "kernelspec": {
   "display_name": "Python 3",
   "language": "python",
   "name": "python3"
  },
  "language_info": {
   "codemirror_mode": {
    "name": "ipython",
    "version": 3
   },
   "file_extension": ".py",
   "mimetype": "text/x-python",
   "name": "python",
   "nbconvert_exporter": "python",
   "pygments_lexer": "ipython3",
   "version": "3.7.0"
  }
 },
 "nbformat": 4,
 "nbformat_minor": 2
}
