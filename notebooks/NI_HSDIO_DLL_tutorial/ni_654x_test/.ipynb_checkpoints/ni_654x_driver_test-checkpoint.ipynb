{
 "cells": [
  {
   "cell_type": "code",
   "execution_count": 18,
   "metadata": {},
   "outputs": [],
   "source": [
    "from hardware.ni_hsdio.c_headers import NIConst, NITypes\n",
    "import numpy as np"
   ]
  },
  {
   "cell_type": "code",
   "execution_count": 6,
   "metadata": {},
   "outputs": [
    {
     "data": {
      "text/plain": [
       "0.0"
      ]
     },
     "execution_count": 6,
     "metadata": {},
     "output_type": "execute_result"
    }
   ],
   "source": [
    "my_ni_hsdio._get_attribute_real64(NIConst.NIHSDIO_ATTR_DATA_VOLTAGE_LOW_LEVEL, chnl_string='0-31')"
   ]
  },
  {
   "cell_type": "code",
   "execution_count": 14,
   "metadata": {},
   "outputs": [
    {
     "data": {
      "text/plain": [
       "['0', '1', '2', '3', '4', '5', '6', '7', '8', '9', '10', '11', '12', '13', '14', '15', '16', '17', '18', '19', '20', '21', '22', '23', '24', '25', '26', '27', '28', '29', '30']"
      ]
     },
     "execution_count": 14,
     "metadata": {},
     "output_type": "execute_result"
    }
   ],
   "source": [
    "my_ni_hsdio._get_all_channels()"
   ]
  },
  {
   "cell_type": "markdown",
   "metadata": {},
   "source": [
    "# PulserInterface methods"
   ]
  },
  {
   "cell_type": "markdown",
   "metadata": {},
   "source": [
    "## Hardware settings and basic technical methods"
   ]
  },
  {
   "cell_type": "markdown",
   "metadata": {},
   "source": [
    "### Hardware settings"
   ]
  },
  {
   "cell_type": "markdown",
   "metadata": {},
   "source": [
    "#### get/set_sample_rate()"
   ]
  },
  {
   "cell_type": "code",
   "execution_count": 3,
   "metadata": {},
   "outputs": [
    {
     "data": {
      "text/plain": [
       "1000000.0"
      ]
     },
     "execution_count": 3,
     "metadata": {},
     "output_type": "execute_result"
    }
   ],
   "source": [
    "my_ni_hsdio.set_sample_rate(1e6)"
   ]
  },
  {
   "cell_type": "code",
   "execution_count": 4,
   "metadata": {},
   "outputs": [
    {
     "data": {
      "text/plain": [
       "1098901.0989010988"
      ]
     },
     "execution_count": 4,
     "metadata": {},
     "output_type": "execute_result"
    }
   ],
   "source": [
    "my_ni_hsdio.set_sample_rate(1.1e6)"
   ]
  },
  {
   "cell_type": "code",
   "execution_count": 5,
   "metadata": {},
   "outputs": [
    {
     "data": {
      "text/plain": [
       "47.99999616000031"
      ]
     },
     "execution_count": 5,
     "metadata": {},
     "output_type": "execute_result"
    }
   ],
   "source": [
    "my_ni_hsdio.set_sample_rate(10)"
   ]
  },
  {
   "cell_type": "markdown",
   "metadata": {},
   "source": [
    "```\n",
    "Warning. set_sample_rate(10): the requested value is below the hardware constraint min=48 Hz.\n",
    "The min possible value will be set instead.```"
   ]
  },
  {
   "cell_type": "code",
   "execution_count": 7,
   "metadata": {},
   "outputs": [
    {
     "data": {
      "text/plain": [
       "100000000.0"
      ]
     },
     "execution_count": 7,
     "metadata": {},
     "output_type": "execute_result"
    }
   ],
   "source": [
    "my_ni_hsdio.set_sample_rate(101e6)"
   ]
  },
  {
   "cell_type": "markdown",
   "metadata": {},
   "source": [
    "```\n",
    "Warning. set_sample_rate(101.0 MHz): the requested value exceeds hardware constraint max=100.0 MHz.\n",
    "The max possible value will be set instead.```"
   ]
  },
  {
   "cell_type": "markdown",
   "metadata": {},
   "source": [
    "#### get/set_analog_level()"
   ]
  },
  {
   "cell_type": "code",
   "execution_count": 9,
   "metadata": {},
   "outputs": [
    {
     "data": {
      "text/plain": [
       "({}, {})"
      ]
     },
     "execution_count": 9,
     "metadata": {},
     "output_type": "execute_result"
    }
   ],
   "source": [
    "my_ni_hsdio.get_analog_level()"
   ]
  },
  {
   "cell_type": "markdown",
   "metadata": {},
   "source": [
    "```\n",
    "Warning. get_analog_level(): NI-HSDIO does not have analog outputs. ({}, {}) was returned.\n",
    "```"
   ]
  },
  {
   "cell_type": "code",
   "execution_count": 10,
   "metadata": {},
   "outputs": [
    {
     "data": {
      "text/plain": [
       "({}, {})"
      ]
     },
     "execution_count": 10,
     "metadata": {},
     "output_type": "execute_result"
    }
   ],
   "source": [
    "my_ni_hsdio.set_analog_level()"
   ]
  },
  {
   "cell_type": "markdown",
   "metadata": {},
   "source": [
    "```\n",
    "Warning. set_analog_level(): NI-HSDIO does not have analog outputs. ({}, {}) was returned.```"
   ]
  },
  {
   "cell_type": "markdown",
   "metadata": {},
   "source": [
    "#### get_digital_level()"
   ]
  },
  {
   "cell_type": "code",
   "execution_count": 46,
   "metadata": {},
   "outputs": [],
   "source": [
    "test_low, test_high = my_ni_hsdio.get_digital_level()"
   ]
  },
  {
   "cell_type": "code",
   "execution_count": 47,
   "metadata": {},
   "outputs": [
    {
     "data": {
      "text/plain": [
       "{'d_ch0': 0.0, 'd_ch1': 0.0, 'd_ch2': 0.0, 'd_ch3': 0.0, 'd_ch4': 0.0, 'd_ch5': 0.0, 'd_ch6': 0.0, 'd_ch7': 0.0, 'd_ch8': 0.0, 'd_ch9': 0.0, 'd_ch10': 0.0, 'd_ch11': 0.0, 'd_ch12': 0.0, 'd_ch13': 0.0, 'd_ch14': 0.0, 'd_ch15': 0.0, 'd_ch16': 0.0, 'd_ch17': 0.0, 'd_ch18': 0.0, 'd_ch19': 0.0, 'd_ch20': 0.0, 'd_ch21': 0.0, 'd_ch22': 0.0, 'd_ch23': 0.0, 'd_ch24': 0.0, 'd_ch25': 0.0, 'd_ch26': 0.0, 'd_ch27': 0.0, 'd_ch28': 0.0, 'd_ch29': 0.0, 'd_ch30': 0.0, 'd_ch31': 0.0}"
      ]
     },
     "execution_count": 47,
     "metadata": {},
     "output_type": "execute_result"
    }
   ],
   "source": [
    "test_low"
   ]
  },
  {
   "cell_type": "code",
   "execution_count": 48,
   "metadata": {},
   "outputs": [
    {
     "data": {
      "text/plain": [
       "{'d_ch0': 3.3, 'd_ch1': 3.3, 'd_ch2': 3.3, 'd_ch3': 3.3, 'd_ch4': 3.3, 'd_ch5': 3.3, 'd_ch6': 3.3, 'd_ch7': 3.3, 'd_ch8': 3.3, 'd_ch9': 3.3, 'd_ch10': 3.3, 'd_ch11': 3.3, 'd_ch12': 3.3, 'd_ch13': 3.3, 'd_ch14': 3.3, 'd_ch15': 3.3, 'd_ch16': 3.3, 'd_ch17': 3.3, 'd_ch18': 3.3, 'd_ch19': 3.3, 'd_ch20': 3.3, 'd_ch21': 3.3, 'd_ch22': 3.3, 'd_ch23': 3.3, 'd_ch24': 3.3, 'd_ch25': 3.3, 'd_ch26': 3.3, 'd_ch27': 3.3, 'd_ch28': 3.3, 'd_ch29': 3.3, 'd_ch30': 3.3, 'd_ch31': 3.3}"
      ]
     },
     "execution_count": 48,
     "metadata": {},
     "output_type": "execute_result"
    }
   ],
   "source": [
    "test_high"
   ]
  },
  {
   "cell_type": "code",
   "execution_count": 50,
   "metadata": {},
   "outputs": [
    {
     "data": {
      "text/plain": [
       "({'d_ch0': 0.0, 'd_ch1': 0.0, 'd_ch3': 0.0, 'd_ch10': 0.0}, {'d_ch5': 3.3, 'd_ch10': 3.3})"
      ]
     },
     "execution_count": 50,
     "metadata": {},
     "output_type": "execute_result"
    }
   ],
   "source": [
    "my_ni_hsdio.get_digital_level(low=['d_ch0', 'd_ch1', 'd_chA', 'd_ch3', 'd_ch10'], high=['d_ch5', 'd_chB', 'd_ch10'])"
   ]
  },
  {
   "cell_type": "markdown",
   "metadata": {},
   "source": [
    "```\n",
    "Warning. Channel \"d_chA\" is not available in NI HSDIO card.\n",
    "Low level request is ignored for this entry.\n",
    "\n",
    "Warning. Channel \"d_chB\" is not available in NI HSDIO card.\n",
    "High level request is ignored for this entry.\n",
    "```"
   ]
  },
  {
   "cell_type": "markdown",
   "metadata": {},
   "source": [
    "#### set_digital_level()"
   ]
  },
  {
   "cell_type": "markdown",
   "metadata": {},
   "source": [
    "`ViStatus = niHSDIO_ConfigureDataVoltageCustomLevels ( ViSession vi, ViConstString channelList, ViReal64 lowLevel, ViReal64 highLevel);`"
   ]
  },
  {
   "cell_type": "markdown",
   "metadata": {},
   "source": [
    "```\n",
    "NIHSDIO_VAL_1_8V_LOGIC (8)—Uses 1.8V logic family.\n",
    "NIHSDIO_VAL_2_5V_LOGIC (7)—Uses 2.5V logic family.\n",
    "NIHSDIO_VAL_3_3V_LOGIC (6)—Uses 3.3V logic family.\n",
    "```"
   ]
  },
  {
   "cell_type": "code",
   "execution_count": 58,
   "metadata": {},
   "outputs": [
    {
     "data": {
      "text/plain": [
       "({'d_ch0': 0.0}, {'d_ch0': 1.8, 'd_ch1': 2.5, 'd_ch10': 3.3})"
      ]
     },
     "execution_count": 58,
     "metadata": {},
     "output_type": "execute_result"
    }
   ],
   "source": [
    "my_ni_hsdio.set_digital_level(\n",
    "    high={'d_ch0': 1.2, 'd_ch1': 2.4, 'd_ch10': 3.4, 'A': 10},\n",
    "    low={'d_ch0': 0.1, 'B': 1}\n",
    ")\n",
    "my_ni_hsdio.get_digital_level(low=['d_ch0'], high=['d_ch0', 'd_ch1', 'd_ch10'])"
   ]
  },
  {
   "cell_type": "markdown",
   "metadata": {},
   "source": [
    "```\n",
    "set_digital_level(0_high = 5): the requested value does not match any of the possible values: [1.8, 2.5, 3.3] V.\n",
    "The closest value 3.3 V will be set instead.\n",
    "\n",
    "set_digital_level(): channel \"100\" is not available in NI HSDIO card.\n",
    "Set high level request is ignored for this entry.\n",
    "\n",
    "set_digital_level(0_low = 0.1): the requested value exceeds the hardware constraint max=0.0 V.\n",
    "The max possible value will be set instead.\n",
    "\n",
    "Channel \"B\" is not available in NI HSDIO card.\n",
    "Set low level request is ignored for this entry.\n",
    "```"
   ]
  },
  {
   "cell_type": "markdown",
   "metadata": {},
   "source": [
    "#### get_active_channels()"
   ]
  },
  {
   "cell_type": "code",
   "execution_count": 71,
   "metadata": {},
   "outputs": [
    {
     "data": {
      "text/plain": [
       "{'d_ch0': False, 'd_ch1': False, 'd_ch2': False, 'd_ch3': False, 'd_ch4': False, 'd_ch5': False, 'd_ch6': False, 'd_ch7': False, 'd_ch8': False, 'd_ch9': False, 'd_ch10': False, 'd_ch11': False, 'd_ch12': False, 'd_ch13': False, 'd_ch14': False, 'd_ch15': False, 'd_ch16': False, 'd_ch17': False, 'd_ch18': False, 'd_ch19': False, 'd_ch20': False, 'd_ch21': False, 'd_ch22': False, 'd_ch23': False, 'd_ch24': False, 'd_ch25': False, 'd_ch26': False, 'd_ch27': False, 'd_ch28': False, 'd_ch29': False, 'd_ch30': False, 'd_ch31': False}"
      ]
     },
     "execution_count": 71,
     "metadata": {},
     "output_type": "execute_result"
    }
   ],
   "source": [
    "my_ni_hsdio.get_active_channels()"
   ]
  },
  {
   "cell_type": "code",
   "execution_count": 72,
   "metadata": {},
   "outputs": [
    {
     "data": {
      "text/plain": [
       "{'d_ch0': True, 'd_ch1': False, 'd_ch2': True, 'd_ch3': False, 'd_ch4': False, 'd_ch5': False, 'd_ch6': False, 'd_ch7': False, 'd_ch8': True, 'd_ch9': False, 'd_ch10': True, 'd_ch11': False, 'd_ch12': False, 'd_ch13': False, 'd_ch14': False, 'd_ch15': False, 'd_ch16': False, 'd_ch17': False, 'd_ch18': False, 'd_ch19': False, 'd_ch20': False, 'd_ch21': False, 'd_ch22': False, 'd_ch23': False, 'd_ch24': False, 'd_ch25': False, 'd_ch26': False, 'd_ch27': False, 'd_ch28': False, 'd_ch29': False, 'd_ch30': False, 'd_ch31': False}"
      ]
     },
     "execution_count": 72,
     "metadata": {},
     "output_type": "execute_result"
    }
   ],
   "source": [
    "my_ni_hsdio._er_chk(\n",
    "    my_ni_hsdio.dll.niHSDIO_AssignDynamicChannels(\n",
    "        my_ni_hsdio.handle,\n",
    "        NITypes.ViString('0,8,10,2'.encode('ascii'))\n",
    "    )\n",
    ")\n",
    "\n",
    "my_ni_hsdio.get_active_channels()"
   ]
  },
  {
   "cell_type": "code",
   "execution_count": 73,
   "metadata": {},
   "outputs": [
    {
     "data": {
      "text/plain": [
       "{'d_ch0': True, 'd_ch8': True, 'd_ch1': False}"
      ]
     },
     "execution_count": 73,
     "metadata": {},
     "output_type": "execute_result"
    }
   ],
   "source": [
    "my_ni_hsdio._er_chk(\n",
    "    my_ni_hsdio.dll.niHSDIO_AssignDynamicChannels(\n",
    "        my_ni_hsdio.handle,\n",
    "        NITypes.ViString('0,8,10,2'.encode('ascii'))\n",
    "    )\n",
    ")\n",
    "\n",
    "my_ni_hsdio.get_active_channels(['d_ch0', 'd_ch8', 'd_ch1', 'A'])"
   ]
  },
  {
   "cell_type": "markdown",
   "metadata": {},
   "source": [
    "`get_active_channels(A): invalid channel identifier. Ignored this entry.`"
   ]
  },
  {
   "cell_type": "markdown",
   "metadata": {},
   "source": [
    "#### set_active_channels()"
   ]
  },
  {
   "cell_type": "code",
   "execution_count": 18,
   "metadata": {},
   "outputs": [],
   "source": [
    "test_dict = my_ni_hsdio.get_active_channels()"
   ]
  },
  {
   "cell_type": "code",
   "execution_count": 77,
   "metadata": {},
   "outputs": [
    {
     "data": {
      "text/plain": [
       "{'d_ch0': True, 'd_ch1': True, 'd_ch2': False, 'd_ch3': False}"
      ]
     },
     "execution_count": 77,
     "metadata": {},
     "output_type": "execute_result"
    }
   ],
   "source": [
    "my_ni_hsdio.set_active_channels({'d_ch0': True, 'd_ch1': True, 'd_ch2': False})\n",
    "\n",
    "my_ni_hsdio.get_active_channels(['d_ch0', 'd_ch1', 'd_ch2', 'd_ch3'])"
   ]
  },
  {
   "cell_type": "code",
   "execution_count": 78,
   "metadata": {},
   "outputs": [
    {
     "data": {
      "text/plain": [
       "{'d_ch0': False, 'd_ch1': True, 'd_ch2': True, 'd_ch3': False}"
      ]
     },
     "execution_count": 78,
     "metadata": {},
     "output_type": "execute_result"
    }
   ],
   "source": [
    "my_ni_hsdio.set_active_channels({'d_ch0': False, 'd_ch1': True, 'd_ch2': True})\n",
    "\n",
    "my_ni_hsdio.get_active_channels(['d_ch0', 'd_ch1', 'd_ch2', 'd_ch3'])  # State of 'd_ch3' is not modified"
   ]
  },
  {
   "cell_type": "code",
   "execution_count": 80,
   "metadata": {
    "scrolled": true
   },
   "outputs": [
    {
     "data": {
      "text/plain": [
       "{'d_ch0': False, 'd_ch1': True, 'd_ch2': True, 'd_ch3': False, 'd_ch4': False, 'd_ch5': False, 'd_ch6': False, 'd_ch7': False, 'd_ch8': True, 'd_ch9': False, 'd_ch10': True, 'd_ch11': False, 'd_ch12': False, 'd_ch13': False, 'd_ch14': False, 'd_ch15': False, 'd_ch16': False, 'd_ch17': False, 'd_ch18': False, 'd_ch19': False, 'd_ch20': False, 'd_ch21': False, 'd_ch22': False, 'd_ch23': False, 'd_ch24': False, 'd_ch25': False, 'd_ch26': False, 'd_ch27': False, 'd_ch28': False, 'd_ch29': False, 'd_ch30': False, 'd_ch31': False}"
      ]
     },
     "execution_count": 80,
     "metadata": {},
     "output_type": "execute_result"
    }
   ],
   "source": [
    "my_ni_hsdio.set_active_channels({'A': False})  # invalid identifier is handled"
   ]
  },
  {
   "cell_type": "markdown",
   "metadata": {},
   "source": [
    "```\n",
    "get_active_channels(A): invalid channel identifier. Ignored this entry.\n",
    "```"
   ]
  },
  {
   "cell_type": "markdown",
   "metadata": {},
   "source": [
    "#### get/set_interleave()"
   ]
  },
  {
   "cell_type": "code",
   "execution_count": 29,
   "metadata": {},
   "outputs": [
    {
     "data": {
      "text/plain": [
       "False"
      ]
     },
     "execution_count": 29,
     "metadata": {},
     "output_type": "execute_result"
    }
   ],
   "source": [
    "my_ni_hsdio.get_interleave()"
   ]
  },
  {
   "cell_type": "markdown",
   "metadata": {},
   "source": [
    "`get_interleave(): NI HSDIO cards do not have interleave. False was returned`"
   ]
  },
  {
   "cell_type": "code",
   "execution_count": 30,
   "metadata": {},
   "outputs": [
    {
     "data": {
      "text/plain": [
       "False"
      ]
     },
     "execution_count": 30,
     "metadata": {},
     "output_type": "execute_result"
    }
   ],
   "source": [
    "my_ni_hsdio.set_interleave()"
   ]
  },
  {
   "cell_type": "markdown",
   "metadata": {},
   "source": [
    "`set_interleave(): NI HSDIO cards do not have interleave. Nothing was set. False was returned`"
   ]
  },
  {
   "cell_type": "markdown",
   "metadata": {},
   "source": [
    "### Other technical methods"
   ]
  },
  {
   "cell_type": "markdown",
   "metadata": {},
   "source": [
    "#### get_constraints()"
   ]
  },
  {
   "cell_type": "code",
   "execution_count": 43,
   "metadata": {},
   "outputs": [],
   "source": [
    "test_constr = my_ni_hsdio.get_constraints()"
   ]
  },
  {
   "cell_type": "code",
   "execution_count": 44,
   "metadata": {},
   "outputs": [
    {
     "data": {
      "text/plain": [
       "[1.8, 2.5, 3.3]"
      ]
     },
     "execution_count": 44,
     "metadata": {},
     "output_type": "execute_result"
    }
   ],
   "source": [
    "test_constr.d_ch_high.list"
   ]
  },
  {
   "cell_type": "code",
   "execution_count": 45,
   "metadata": {},
   "outputs": [
    {
     "data": {
      "text/plain": [
       "OrderedDict([('all', {'d_ch12', 'd_ch20', 'd_ch2', 'd_ch15', 'd_ch3', 'd_ch27', 'd_ch31', 'd_ch16', 'd_ch23', 'd_ch13', 'd_ch30', 'd_ch14', 'd_ch7', 'd_ch19', 'd_ch9', 'd_ch28', 'd_ch11', 'd_ch24', 'd_ch25', 'd_ch29', 'd_ch17', 'd_ch8', 'd_ch0', 'd_ch5', 'd_ch21', 'd_ch4', 'd_ch6', 'd_ch18', 'd_ch1', 'd_ch10', 'd_ch22', 'd_ch26'})])"
      ]
     },
     "execution_count": 45,
     "metadata": {},
     "output_type": "execute_result"
    }
   ],
   "source": [
    "test_constr.activation_config"
   ]
  },
  {
   "cell_type": "markdown",
   "metadata": {},
   "source": [
    "#### get_status()"
   ]
  },
  {
   "cell_type": "code",
   "execution_count": 25,
   "metadata": {},
   "outputs": [
    {
     "data": {
      "text/plain": [
       "(0, {0: 'NI HSDIO card is idle', 1: 'NI HSDIO card is running', -1: 'NI HSDIO: communication error'})"
      ]
     },
     "execution_count": 25,
     "metadata": {},
     "output_type": "execute_result"
    }
   ],
   "source": [
    "my_ni_hsdio.get_status()"
   ]
  },
  {
   "cell_type": "markdown",
   "metadata": {},
   "source": [
    "#### get/set_mode()"
   ]
  },
  {
   "cell_type": "code",
   "execution_count": 10,
   "metadata": {},
   "outputs": [
    {
     "data": {
      "text/plain": [
       "'W'"
      ]
     },
     "execution_count": 10,
     "metadata": {},
     "output_type": "execute_result"
    }
   ],
   "source": [
    "my_ni_hsdio.get_mode()"
   ]
  },
  {
   "cell_type": "code",
   "execution_count": 17,
   "metadata": {},
   "outputs": [
    {
     "data": {
      "text/plain": [
       "'W'"
      ]
     },
     "execution_count": 17,
     "metadata": {},
     "output_type": "execute_result"
    }
   ],
   "source": [
    "my_ni_hsdio.set_mode('W')"
   ]
  },
  {
   "cell_type": "code",
   "execution_count": 18,
   "metadata": {},
   "outputs": [
    {
     "data": {
      "text/plain": [
       "'S'"
      ]
     },
     "execution_count": 18,
     "metadata": {},
     "output_type": "execute_result"
    }
   ],
   "source": [
    "my_ni_hsdio.set_mode('S')"
   ]
  },
  {
   "cell_type": "code",
   "execution_count": 19,
   "metadata": {},
   "outputs": [
    {
     "data": {
      "text/plain": [
       "'S'"
      ]
     },
     "execution_count": 19,
     "metadata": {},
     "output_type": "execute_result"
    }
   ],
   "source": [
    "my_ni_hsdio.set_mode('A')"
   ]
  },
  {
   "cell_type": "markdown",
   "metadata": {},
   "source": [
    "```\n",
    "Error. set_mode(A): invalid argument. Valid values: \"W\" - Waveform, \"S\" - scripted.\n",
    "Run mode was not changed. Actual run mode string was returned.```"
   ]
  },
  {
   "cell_type": "markdown",
   "metadata": {},
   "source": [
    "#### reset()"
   ]
  },
  {
   "cell_type": "code",
   "execution_count": 81,
   "metadata": {},
   "outputs": [
    {
     "data": {
      "text/plain": [
       "0"
      ]
     },
     "execution_count": 81,
     "metadata": {},
     "output_type": "execute_result"
    }
   ],
   "source": [
    "my_ni_hsdio.reset()"
   ]
  },
  {
   "cell_type": "markdown",
   "metadata": {},
   "source": [
    "#### _get_all_channels()"
   ]
  },
  {
   "cell_type": "code",
   "execution_count": 1,
   "metadata": {},
   "outputs": [
    {
     "data": {
      "text/plain": [
       "['d_ch0', 'd_ch1', 'd_ch2', 'd_ch3', 'd_ch4', 'd_ch5', 'd_ch6', 'd_ch7', 'd_ch8', 'd_ch9', 'd_ch10', 'd_ch11', 'd_ch12', 'd_ch13', 'd_ch14', 'd_ch15', 'd_ch16', 'd_ch17', 'd_ch18', 'd_ch19', 'd_ch20', 'd_ch21', 'd_ch22', 'd_ch23', 'd_ch24', 'd_ch25', 'd_ch26', 'd_ch27', 'd_ch28', 'd_ch29', 'd_ch30', 'd_ch31']"
      ]
     },
     "execution_count": 1,
     "metadata": {},
     "output_type": "execute_result"
    }
   ],
   "source": [
    "my_ni_hsdio._get_all_channels()"
   ]
  },
  {
   "cell_type": "markdown",
   "metadata": {},
   "source": [
    "## Waveform and Sequence Generation"
   ]
  },
  {
   "cell_type": "markdown",
   "metadata": {},
   "source": [
    "### Waveform Generation"
   ]
  },
  {
   "cell_type": "markdown",
   "metadata": {},
   "source": [
    "#### write_waveform()"
   ]
  },
  {
   "cell_type": "code",
   "execution_count": 41,
   "metadata": {},
   "outputs": [
    {
     "data": {
      "text/plain": [
       "(6, ['wfm1'])"
      ]
     },
     "execution_count": 41,
     "metadata": {},
     "output_type": "execute_result"
    }
   ],
   "source": [
    "samples_dict = {\n",
    "    'd_ch0': np.array([True, False, False, False, False, False], dtype=np.bool),\n",
    "    'd_ch18': np.array([False, True, True, False, True, False], dtype=np.bool),\n",
    "    'd_ch19': np.array([True, False, True, False, True, False], dtype=np.bool),\n",
    "    'd_ch31': np.array([True, True, False, False, True, False], dtype=np.bool)\n",
    "}\n",
    "\n",
    "my_ni_hsdio.write_waveform(\n",
    "    name='wfm1', \n",
    "    analog_samples=None, \n",
    "    digital_samples=samples_dict, \n",
    "    total_number_of_samples=len(samples_dict['d_ch0']),\n",
    "    is_first_chunk=True,\n",
    "    is_last_chunk=True\n",
    ")"
   ]
  },
  {
   "cell_type": "code",
   "execution_count": 90,
   "metadata": {},
   "outputs": [
    {
     "data": {
      "text/plain": [
       "['wfm1']"
      ]
     },
     "execution_count": 90,
     "metadata": {},
     "output_type": "execute_result"
    }
   ],
   "source": [
    "my_ni_hsdio.get_waveform_names()"
   ]
  },
  {
   "cell_type": "code",
   "execution_count": 42,
   "metadata": {},
   "outputs": [
    {
     "data": {
      "text/plain": [
       "(7, ['wfm2'])"
      ]
     },
     "execution_count": 42,
     "metadata": {},
     "output_type": "execute_result"
    }
   ],
   "source": [
    "# Test: length is not an integer multiple of step\n",
    "samples_dict = {\n",
    "    'd_ch0': np.array([True, False, False, False, False, False, False], dtype=np.bool),\n",
    "    'd_ch18': np.array([False, True, False, False, False, False, True], dtype=np.bool),\n",
    "    'd_ch19': np.array([False, False, True, False, False, False, True], dtype=np.bool),\n",
    "    'd_ch31': np.array([False, False, False, True, False, False, True], dtype=np.bool)\n",
    "}\n",
    "\n",
    "my_ni_hsdio.write_waveform(\n",
    "    name='wfm2', \n",
    "    analog_samples=None, \n",
    "    digital_samples=samples_dict, \n",
    "    total_number_of_samples=len(samples_dict['d_ch0']),\n",
    "    is_first_chunk=True,\n",
    "    is_last_chunk=True\n",
    ")"
   ]
  },
  {
   "cell_type": "markdown",
   "metadata": {},
   "source": [
    "```\n",
    "write_waveform(): passed waveform has length of 7, which is not an integer multiple of hardware-defined step 2. \n",
    "To compensate this mismatch, the waveform will be appended with 1 \"all-off\" samples at the end\n",
    "```"
   ]
  },
  {
   "cell_type": "code",
   "execution_count": 113,
   "metadata": {},
   "outputs": [
    {
     "data": {
      "text/plain": [
       "['wfm1', 'wfm2']"
      ]
     },
     "execution_count": 113,
     "metadata": {},
     "output_type": "execute_result"
    }
   ],
   "source": [
    "my_ni_hsdio.get_waveform_names()"
   ]
  },
  {
   "cell_type": "code",
   "execution_count": 112,
   "metadata": {},
   "outputs": [
    {
     "data": {
      "text/plain": [
       "(-1, [])"
      ]
     },
     "execution_count": 112,
     "metadata": {},
     "output_type": "execute_result"
    }
   ],
   "source": [
    "# Test: arrays of different length\n",
    "samples_dict = {\n",
    "    'd_ch0': np.array([True, False, False, False, False, False, False], dtype=np.bool),\n",
    "    'd_ch18': np.array([False, True, False, False, False, False, True, True], dtype=np.bool),\n",
    "    'd_ch19': np.array([False, False, True, False, False, False, True], dtype=np.bool),\n",
    "    'd_ch31': np.array([False, False, False, True, False, False, True], dtype=np.bool)\n",
    "}\n",
    "\n",
    "my_ni_hsdio.write_waveform(\n",
    "    name='wfm2',\n",
    "    analog_samples=None, \n",
    "    digital_samples=samples_dict, \n",
    "    total_number_of_samples=len(samples_dict['d_ch0']),\n",
    "    is_first_chunk=True,\n",
    "    is_last_chunk=True\n",
    ")"
   ]
  },
  {
   "cell_type": "markdown",
   "metadata": {},
   "source": [
    "```\n",
    "write_waveform(): waveform wfm2 for channel d_ch18 has length of 8, which is different from the claimed total_number_of_samples = 7\n",
    "```"
   ]
  },
  {
   "cell_type": "markdown",
   "metadata": {},
   "source": [
    "#### load_waveform()"
   ]
  },
  {
   "cell_type": "code",
   "execution_count": 18,
   "metadata": {},
   "outputs": [
    {
     "data": {
      "text/plain": [
       "'wfm1'"
      ]
     },
     "execution_count": 18,
     "metadata": {},
     "output_type": "execute_result"
    }
   ],
   "source": [
    "my_ni_hsdio.load_waveform(wfm_name='wfm1')"
   ]
  },
  {
   "cell_type": "code",
   "execution_count": 107,
   "metadata": {},
   "outputs": [
    {
     "data": {
      "text/plain": [
       "'wfm2'"
      ]
     },
     "execution_count": 107,
     "metadata": {},
     "output_type": "execute_result"
    }
   ],
   "source": [
    "my_ni_hsdio.load_waveform(wfm_name='wfm2')"
   ]
  },
  {
   "cell_type": "markdown",
   "metadata": {},
   "source": [
    "##### Test the written and loaded waveforms"
   ]
  },
  {
   "cell_type": "code",
   "execution_count": 97,
   "metadata": {},
   "outputs": [
    {
     "data": {
      "text/plain": [
       "0"
      ]
     },
     "execution_count": 97,
     "metadata": {},
     "output_type": "execute_result"
    }
   ],
   "source": [
    "# Activate channels\n",
    "all_chnls = my_ni_hsdio._get_all_channels()\n",
    "\n",
    "active_chnl_dict = {}\n",
    "for ch_name in all_chnls:\n",
    "    active_chnl_dict[ch_name] = True\n",
    "\n",
    "my_ni_hsdio.set_active_channels(active_chnl_dict)\n",
    "\n",
    "# Set sample rate\n",
    "my_ni_hsdio.set_sample_rate(1000)\n",
    "\n",
    "# Configure repetitions\n",
    "my_ni_hsdio.set_waveform_repeat(0)  "
   ]
  },
  {
   "cell_type": "code",
   "execution_count": 108,
   "metadata": {},
   "outputs": [
    {
     "data": {
      "text/plain": [
       "0"
      ]
     },
     "execution_count": 108,
     "metadata": {},
     "output_type": "execute_result"
    }
   ],
   "source": [
    "my_ni_hsdio.pulser_on()"
   ]
  },
  {
   "cell_type": "code",
   "execution_count": 104,
   "metadata": {},
   "outputs": [
    {
     "data": {
      "text/plain": [
       "0"
      ]
     },
     "execution_count": 104,
     "metadata": {},
     "output_type": "execute_result"
    }
   ],
   "source": [
    "my_ni_hsdio.pulser_off()"
   ]
  },
  {
   "cell_type": "markdown",
   "metadata": {},
   "source": [
    "### Sequence Generation"
   ]
  },
  {
   "cell_type": "markdown",
   "metadata": {},
   "source": [
    "#### write_sequence(), load_sequence()"
   ]
  },
  {
   "cell_type": "code",
   "execution_count": 114,
   "metadata": {},
   "outputs": [
    {
     "data": {
      "text/plain": [
       "0"
      ]
     },
     "execution_count": 114,
     "metadata": {},
     "output_type": "execute_result"
    }
   ],
   "source": [
    "my_ni_hsdio.write_sequence(name=None, sequence_parameters=None)"
   ]
  },
  {
   "cell_type": "code",
   "execution_count": 115,
   "metadata": {},
   "outputs": [
    {
     "data": {
      "text/plain": [
       "{}"
      ]
     },
     "execution_count": 115,
     "metadata": {},
     "output_type": "execute_result"
    }
   ],
   "source": [
    "my_ni_hsdio.load_sequence(sequence_name=None)"
   ]
  },
  {
   "cell_type": "markdown",
   "metadata": {},
   "source": [
    "```\n",
    "Warning. write_sequence(): NI HSDIO card does not support Sequence mode. Use Script mode instead.\n",
    "```"
   ]
  },
  {
   "cell_type": "markdown",
   "metadata": {},
   "source": [
    "### Waveform and sequence technical"
   ]
  },
  {
   "cell_type": "markdown",
   "metadata": {},
   "source": [
    "#### get_waveform_names()"
   ]
  },
  {
   "cell_type": "code",
   "execution_count": 119,
   "metadata": {},
   "outputs": [
    {
     "data": {
      "text/plain": [
       "['wfm1', 'wfm2']"
      ]
     },
     "execution_count": 119,
     "metadata": {},
     "output_type": "execute_result"
    }
   ],
   "source": [
    "my_ni_hsdio.get_waveform_names()"
   ]
  },
  {
   "cell_type": "markdown",
   "metadata": {},
   "source": [
    "#### get_sequence_names()"
   ]
  },
  {
   "cell_type": "code",
   "execution_count": 120,
   "metadata": {},
   "outputs": [
    {
     "data": {
      "text/plain": [
       "[]"
      ]
     },
     "execution_count": 120,
     "metadata": {},
     "output_type": "execute_result"
    }
   ],
   "source": [
    "my_ni_hsdio.get_sequence_names()"
   ]
  },
  {
   "cell_type": "markdown",
   "metadata": {},
   "source": [
    "```\n",
    "Warning. get_sequence_names(): NI HSDIO card does not support Sequence mode. Use Script mode instead.\n",
    "```"
   ]
  },
  {
   "cell_type": "markdown",
   "metadata": {},
   "source": [
    "#### delete_waveform()"
   ]
  },
  {
   "cell_type": "code",
   "execution_count": 121,
   "metadata": {},
   "outputs": [
    {
     "data": {
      "text/plain": [
       "['wfm1', 'wfm2']"
      ]
     },
     "execution_count": 121,
     "metadata": {},
     "output_type": "execute_result"
    }
   ],
   "source": [
    "my_ni_hsdio.get_waveform_names()"
   ]
  },
  {
   "cell_type": "code",
   "execution_count": 122,
   "metadata": {},
   "outputs": [
    {
     "data": {
      "text/plain": [
       "['wfm1']"
      ]
     },
     "execution_count": 122,
     "metadata": {},
     "output_type": "execute_result"
    }
   ],
   "source": [
    "my_ni_hsdio.delete_waveform('wfm1')"
   ]
  },
  {
   "cell_type": "code",
   "execution_count": 123,
   "metadata": {},
   "outputs": [
    {
     "data": {
      "text/plain": [
       "['wfm2']"
      ]
     },
     "execution_count": 123,
     "metadata": {},
     "output_type": "execute_result"
    }
   ],
   "source": [
    "my_ni_hsdio.delete_waveform('wfm2')"
   ]
  },
  {
   "cell_type": "code",
   "execution_count": 125,
   "metadata": {},
   "outputs": [
    {
     "data": {
      "text/plain": [
       "[]"
      ]
     },
     "execution_count": 125,
     "metadata": {},
     "output_type": "execute_result"
    }
   ],
   "source": [
    "my_ni_hsdio.delete_waveform('wfm1')"
   ]
  },
  {
   "cell_type": "markdown",
   "metadata": {},
   "source": [
    "```\n",
    "Error. delete_waveform(wfm1): this waveform is not present in the device memory\n",
    "```"
   ]
  },
  {
   "cell_type": "markdown",
   "metadata": {},
   "source": [
    "#### delete_sequence()"
   ]
  },
  {
   "cell_type": "code",
   "execution_count": 127,
   "metadata": {},
   "outputs": [
    {
     "data": {
      "text/plain": [
       "[]"
      ]
     },
     "execution_count": 127,
     "metadata": {},
     "output_type": "execute_result"
    }
   ],
   "source": [
    "my_ni_hsdio.delete_sequence(sequence_name=None)"
   ]
  },
  {
   "cell_type": "markdown",
   "metadata": {},
   "source": [
    "```\n",
    "Warning. delete_sequence(): NI HSDIO card does not support Sequence mode. Use Script mode instead.\n",
    "```"
   ]
  },
  {
   "cell_type": "markdown",
   "metadata": {},
   "source": [
    "#### get/set_wfm_repeat()"
   ]
  },
  {
   "cell_type": "code",
   "execution_count": 33,
   "metadata": {},
   "outputs": [
    {
     "name": "stdout",
     "output_type": "stream",
     "text": [
      "0\n",
      "Repeat mode = 17\n",
      "Repeat count = 0\n"
     ]
    }
   ],
   "source": [
    "print(my_ni_hsdio.set_waveform_repeat(0))\n",
    "\n",
    "print('Repeat mode = {}'.format(my_ni_hsdio._get_attribute_int32(NIConst.NIHSDIO_ATTR_REPEAT_MODE)))\n",
    "print('Repeat count = {}'.format(my_ni_hsdio._get_attribute_int32(NIConst.NIHSDIO_ATTR_REPEAT_COUNT)))"
   ]
  },
  {
   "cell_type": "code",
   "execution_count": 34,
   "metadata": {},
   "outputs": [
    {
     "name": "stdout",
     "output_type": "stream",
     "text": [
      "5\n",
      "Repeat mode = 16\n",
      "Repeat count = 5\n"
     ]
    }
   ],
   "source": [
    "print(my_ni_hsdio.set_waveform_repeat(5))\n",
    "\n",
    "print('Repeat mode = {}'.format(my_ni_hsdio._get_attribute_int32(NIConst.NIHSDIO_ATTR_REPEAT_MODE)))\n",
    "print('Repeat count = {}'.format(my_ni_hsdio._get_attribute_int32(NIConst.NIHSDIO_ATTR_REPEAT_COUNT)))"
   ]
  },
  {
   "cell_type": "code",
   "execution_count": 37,
   "metadata": {},
   "outputs": [
    {
     "name": "stdout",
     "output_type": "stream",
     "text": [
      "-1\n",
      "Repeat mode = 16\n",
      "Repeat count = 5\n"
     ]
    }
   ],
   "source": [
    "print(my_ni_hsdio.set_waveform_repeat(-2))\n",
    "\n",
    "print('Repeat mode = {}'.format(my_ni_hsdio._get_attribute_int32(NIConst.NIHSDIO_ATTR_REPEAT_MODE)))\n",
    "print('Repeat count = {}'.format(my_ni_hsdio._get_attribute_int32(NIConst.NIHSDIO_ATTR_REPEAT_COUNT)))"
   ]
  },
  {
   "cell_type": "markdown",
   "metadata": {},
   "source": [
    "#### get_loaded_assets()"
   ]
  },
  {
   "cell_type": "code",
   "execution_count": 15,
   "metadata": {},
   "outputs": [
    {
     "data": {
      "text/plain": [
       "'wfm1'"
      ]
     },
     "execution_count": 15,
     "metadata": {},
     "output_type": "execute_result"
    }
   ],
   "source": [
    "my_ni_hsdio._get_attribute_string(NIConst.NIHSDIO_ATTR_WAVEFORM_TO_GENERATE)"
   ]
  },
  {
   "cell_type": "code",
   "execution_count": 9,
   "metadata": {},
   "outputs": [
    {
     "data": {
      "text/plain": [
       "''"
      ]
     },
     "execution_count": 9,
     "metadata": {},
     "output_type": "execute_result"
    }
   ],
   "source": [
    "my_ni_hsdio._get_attribute_string(NIConst.NIHSDIO_ATTR_SCRIPT_TO_GENERATE)"
   ]
  },
  {
   "cell_type": "code",
   "execution_count": 19,
   "metadata": {},
   "outputs": [
    {
     "data": {
      "text/plain": [
       "({'d_ch0': 'wfm1_ch0', 'd_ch1': 'wfm1_ch1', 'd_ch2': 'wfm1_ch2', 'd_ch3': 'wfm1_ch3', 'd_ch4': 'wfm1_ch4', 'd_ch5': 'wfm1_ch5', 'd_ch6': 'wfm1_ch6', 'd_ch7': 'wfm1_ch7', 'd_ch8': 'wfm1_ch8', 'd_ch9': 'wfm1_ch9', 'd_ch10': 'wfm1_ch10', 'd_ch11': 'wfm1_ch11', 'd_ch12': 'wfm1_ch12', 'd_ch13': 'wfm1_ch13', 'd_ch14': 'wfm1_ch14', 'd_ch15': 'wfm1_ch15', 'd_ch16': 'wfm1_ch16', 'd_ch17': 'wfm1_ch17', 'd_ch18': 'wfm1_ch18', 'd_ch19': 'wfm1_ch19', 'd_ch20': 'wfm1_ch20', 'd_ch21': 'wfm1_ch21', 'd_ch22': 'wfm1_ch22', 'd_ch23': 'wfm1_ch23', 'd_ch24': 'wfm1_ch24', 'd_ch25': 'wfm1_ch25', 'd_ch26': 'wfm1_ch26', 'd_ch27': 'wfm1_ch27', 'd_ch28': 'wfm1_ch28', 'd_ch29': 'wfm1_ch29', 'd_ch30': 'wfm1_ch30', 'd_ch31': 'wfm1_ch31'}, 'waveform')"
      ]
     },
     "execution_count": 19,
     "metadata": {},
     "output_type": "execute_result"
    }
   ],
   "source": [
    "my_ni_hsdio.load_waveform(wfm_name='wfm1')\n",
    "my_ni_hsdio.get_loaded_assets()"
   ]
  },
  {
   "cell_type": "code",
   "execution_count": 20,
   "metadata": {},
   "outputs": [
    {
     "data": {
      "text/plain": [
       "({'d_ch0': 'wfm2_ch0', 'd_ch1': 'wfm2_ch1', 'd_ch2': 'wfm2_ch2', 'd_ch3': 'wfm2_ch3', 'd_ch4': 'wfm2_ch4', 'd_ch5': 'wfm2_ch5', 'd_ch6': 'wfm2_ch6', 'd_ch7': 'wfm2_ch7', 'd_ch8': 'wfm2_ch8', 'd_ch9': 'wfm2_ch9', 'd_ch10': 'wfm2_ch10', 'd_ch11': 'wfm2_ch11', 'd_ch12': 'wfm2_ch12', 'd_ch13': 'wfm2_ch13', 'd_ch14': 'wfm2_ch14', 'd_ch15': 'wfm2_ch15', 'd_ch16': 'wfm2_ch16', 'd_ch17': 'wfm2_ch17', 'd_ch18': 'wfm2_ch18', 'd_ch19': 'wfm2_ch19', 'd_ch20': 'wfm2_ch20', 'd_ch21': 'wfm2_ch21', 'd_ch22': 'wfm2_ch22', 'd_ch23': 'wfm2_ch23', 'd_ch24': 'wfm2_ch24', 'd_ch25': 'wfm2_ch25', 'd_ch26': 'wfm2_ch26', 'd_ch27': 'wfm2_ch27', 'd_ch28': 'wfm2_ch28', 'd_ch29': 'wfm2_ch29', 'd_ch30': 'wfm2_ch30', 'd_ch31': 'wfm2_ch31'}, 'waveform')"
      ]
     },
     "execution_count": 20,
     "metadata": {},
     "output_type": "execute_result"
    }
   ],
   "source": [
    "my_ni_hsdio.load_waveform(wfm_name='wfm2')\n",
    "my_ni_hsdio.get_loaded_assets()"
   ]
  },
  {
   "cell_type": "code",
   "execution_count": 48,
   "metadata": {},
   "outputs": [
    {
     "data": {
      "text/plain": [
       "({}, 'script')"
      ]
     },
     "execution_count": 48,
     "metadata": {},
     "output_type": "execute_result"
    }
   ],
   "source": [
    "my_ni_hsdio.set_mode('S')\n",
    "my_ni_hsdio.get_loaded_assets()"
   ]
  },
  {
   "cell_type": "markdown",
   "metadata": {},
   "source": [
    "#### clear_all()"
   ]
  },
  {
   "cell_type": "code",
   "execution_count": 60,
   "metadata": {},
   "outputs": [
    {
     "name": "stdout",
     "output_type": "stream",
     "text": [
      "['wfm1', 'wfm2']\n",
      "['myScript1', 'myScript2']\n"
     ]
    }
   ],
   "source": [
    "print(my_ni_hsdio.get_waveform_names())\n",
    "print(my_ni_hsdio.get_script_names())"
   ]
  },
  {
   "cell_type": "code",
   "execution_count": 61,
   "metadata": {},
   "outputs": [
    {
     "name": "stdout",
     "output_type": "stream",
     "text": [
      "0\n",
      "[]\n",
      "[]\n"
     ]
    }
   ],
   "source": [
    "print(my_ni_hsdio.clear_all())\n",
    "\n",
    "print(my_ni_hsdio.get_waveform_names())\n",
    "print(my_ni_hsdio.get_script_names())"
   ]
  },
  {
   "cell_type": "markdown",
   "metadata": {},
   "source": [
    "# Beyond PulserInterface"
   ]
  },
  {
   "cell_type": "markdown",
   "metadata": {},
   "source": [
    "### Script Generation"
   ]
  },
  {
   "cell_type": "markdown",
   "metadata": {},
   "source": [
    "#### write_script(), load_script()"
   ]
  },
  {
   "cell_type": "code",
   "execution_count": 65,
   "metadata": {},
   "outputs": [
    {
     "data": {
      "text/plain": [
       "'myScript1'"
      ]
     },
     "execution_count": 65,
     "metadata": {},
     "output_type": "execute_result"
    }
   ],
   "source": [
    "test_script = \\\n",
    "\"\"\"\n",
    "script myScript1\n",
    "        repeat 1\n",
    "            generate wfm1\n",
    "        end repeat\n",
    "    end script\n",
    "\"\"\"\n",
    "my_ni_hsdio.write_script(test_script)"
   ]
  },
  {
   "cell_type": "code",
   "execution_count": 66,
   "metadata": {},
   "outputs": [
    {
     "data": {
      "text/plain": [
       "'myScript1'"
      ]
     },
     "execution_count": 66,
     "metadata": {},
     "output_type": "execute_result"
    }
   ],
   "source": [
    "my_ni_hsdio.load_script('myScript1')"
   ]
  },
  {
   "cell_type": "code",
   "execution_count": 71,
   "metadata": {},
   "outputs": [
    {
     "data": {
      "text/plain": [
       "'myScript2'"
      ]
     },
     "execution_count": 71,
     "metadata": {},
     "output_type": "execute_result"
    }
   ],
   "source": [
    "test_script = \\\n",
    "\"\"\"\n",
    "script myScript2\n",
    "        repeat 1\n",
    "            generate wfm1\n",
    "        end repeat\n",
    "        repeat 1\n",
    "            generate wfm2\n",
    "        end repeat\n",
    "    end script\n",
    "\"\"\"\n",
    "my_ni_hsdio.write_script(test_script)"
   ]
  },
  {
   "cell_type": "code",
   "execution_count": 72,
   "metadata": {},
   "outputs": [
    {
     "data": {
      "text/plain": [
       "'myScript2'"
      ]
     },
     "execution_count": 72,
     "metadata": {},
     "output_type": "execute_result"
    }
   ],
   "source": [
    "my_ni_hsdio.load_script('myScript2')"
   ]
  },
  {
   "cell_type": "code",
   "execution_count": 68,
   "metadata": {},
   "outputs": [
    {
     "data": {
      "text/plain": [
       "['myScript1', 'myScript2']"
      ]
     },
     "execution_count": 68,
     "metadata": {},
     "output_type": "execute_result"
    }
   ],
   "source": [
    "my_ni_hsdio.get_script_names()"
   ]
  },
  {
   "cell_type": "markdown",
   "metadata": {},
   "source": [
    "#### get_script_names()"
   ]
  },
  {
   "cell_type": "code",
   "execution_count": 73,
   "metadata": {},
   "outputs": [
    {
     "data": {
      "text/plain": [
       "['myScript1', 'myScript2']"
      ]
     },
     "execution_count": 73,
     "metadata": {},
     "output_type": "execute_result"
    }
   ],
   "source": [
    "my_ni_hsdio.get_script_names()"
   ]
  },
  {
   "cell_type": "markdown",
   "metadata": {},
   "source": [
    "#### delete_script()"
   ]
  },
  {
   "cell_type": "code",
   "execution_count": 55,
   "metadata": {},
   "outputs": [
    {
     "name": "stdout",
     "output_type": "stream",
     "text": [
      "['myScript1', 'myScript2']\n",
      "['myScript1']\n",
      "['myScript2']\n"
     ]
    }
   ],
   "source": [
    "print(my_ni_hsdio.get_script_names())\n",
    "\n",
    "print(my_ni_hsdio.delete_script('myScript1'))\n",
    "\n",
    "print(my_ni_hsdio.get_script_names())"
   ]
  },
  {
   "cell_type": "code",
   "execution_count": 56,
   "metadata": {},
   "outputs": [
    {
     "name": "stdout",
     "output_type": "stream",
     "text": [
      "['myScript2']\n",
      "['myScript2']\n",
      "[]\n"
     ]
    }
   ],
   "source": [
    "print(my_ni_hsdio.get_script_names())\n",
    "\n",
    "print(my_ni_hsdio.delete_script('myScript2'))\n",
    "\n",
    "print(my_ni_hsdio.get_script_names())"
   ]
  },
  {
   "cell_type": "code",
   "execution_count": 57,
   "metadata": {},
   "outputs": [
    {
     "data": {
      "text/plain": [
       "[]"
      ]
     },
     "execution_count": 57,
     "metadata": {},
     "output_type": "execute_result"
    }
   ],
   "source": [
    "my_ni_hsdio.delete_script('myScript1')"
   ]
  },
  {
   "cell_type": "markdown",
   "metadata": {},
   "source": [
    "```\n",
    "Error. delete_script(myScript1): this script is not present in the device memory\n",
    "```"
   ]
  },
  {
   "cell_type": "code",
   "execution_count": null,
   "metadata": {},
   "outputs": [],
   "source": []
  }
 ],
 "metadata": {
  "kernelspec": {
   "display_name": "Qudi",
   "language": "python",
   "name": "qudi"
  },
  "language_info": {
   "codemirror_mode": {
    "name": "ipython",
    "version": "3.6.5"
   },
   "file_extension": ".py",
   "mimetype": "text/x-python",
   "name": "python",
   "nbconvert_exporter": "python",
   "pygments_lexer": "ipython3",
   "version": "3.6.5"
  }
 },
 "nbformat": 4,
 "nbformat_minor": 2
}
