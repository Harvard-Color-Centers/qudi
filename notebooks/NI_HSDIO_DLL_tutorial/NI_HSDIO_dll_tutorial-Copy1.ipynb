{
 "cells": [
  {
   "cell_type": "code",
   "execution_count": 1,
   "metadata": {},
   "outputs": [],
   "source": [
    "import ctypes"
   ]
  },
  {
   "cell_type": "markdown",
   "metadata": {},
   "source": [
    "`C:/Program Files/IVI Foundation/IVI/Bin/niHSDIO_64.dll`"
   ]
  },
  {
   "cell_type": "code",
   "execution_count": 2,
   "metadata": {},
   "outputs": [],
   "source": [
    "ni_win_dll = ctypes.WinDLL('C:/Program Files/IVI Foundation/IVI/Bin/niHSDIO_64.dll')"
   ]
  },
  {
   "cell_type": "code",
   "execution_count": null,
   "metadata": {},
   "outputs": [],
   "source": [
    "# ni_c_dll = ctypes.CDLL('C:/Program Files/IVI Foundation/IVI/Bin/niHSDIO_64.dll')"
   ]
  },
  {
   "cell_type": "markdown",
   "metadata": {},
   "source": [
    "### #typedef, #define, and prototypes"
   ]
  },
  {
   "cell_type": "markdown",
   "metadata": {},
   "source": [
    "`C:\\Program Files\\IVI Foundation\\IVI\\Include\\ivi.h`"
   ]
  },
  {
   "cell_type": "markdown",
   "metadata": {},
   "source": [
    "`C:\\Program Files\\IVI Foundation\\IVI\\Include\\niHSDIO.h`"
   ]
  },
  {
   "cell_type": "markdown",
   "metadata": {},
   "source": [
    "`C:\\Program Files\\IVI Foundation\\VISA\\Win64\\Include\\visatype.h`"
   ]
  },
  {
   "cell_type": "markdown",
   "metadata": {},
   "source": [
    "`C:\\Program Files\\IVI Foundation\\VISA\\Win64\\Include\\visa.h`"
   ]
  },
  {
   "cell_type": "code",
   "execution_count": 3,
   "metadata": {},
   "outputs": [],
   "source": [
    "# #if defined(LONG_MAX) && (LONG_MAX > 0x7FFFFFFFL)\n",
    "# typedef unsigned int        ViUInt32;\n",
    "# typedef _VI_SIGNED int      ViInt32;\n",
    "# #else\n",
    "# typedef unsigned long       ViUInt32;\n",
    "# typedef _VI_SIGNED long     ViInt32;\n",
    "# #endif\n",
    "\n",
    "\n",
    "ViUInt16 = ctypes.c_ushort  # for ViPUInt16 - use ctypes.byref()\n",
    "ViUInt32 = ctypes.c_uint32\n",
    "ViInt32 = ctypes.c_int32\n",
    "\n",
    "ViReal64 = ctypes.c_double\n",
    "\n",
    "ViBoolean = ViUInt16\n",
    "\n",
    "ViChar = ctypes.c_char\n",
    "ViPChar = ctypes.c_char_p\n",
    "\n",
    "ViString = ViPChar\n",
    "ViConstString = ViPChar\n",
    "\n",
    "ViRsrc = ViString\n",
    "ViObject = ViUInt32\n",
    "ViSession = ViObject\n",
    "ViStatus = ViInt32\n",
    "\n",
    "# ========== Symbolic constants =================\n",
    "VI_TRUE = ViBoolean(1)\n",
    "VI_FALSE = ViBoolean(0)\n",
    "VI_NULL = ViUInt32(0)\n",
    "VI_SUCCESS = ctypes.c_long(0)\n",
    "\n",
    "NIHSDIO_VAL_ON_BOARD_CLOCK_STR = ViConstString(b\"OnBoardClock\")\n",
    "\n",
    "# Attributes\n",
    "IVI_ATTR_BASE = 1000000\n",
    "IVI_SPECIFIC_PUBLIC_ATTR_BASE = IVI_ATTR_BASE + 150000\n",
    "\n",
    "NIHSDIO_ATTR_DATA_WIDTH = ViInt32(IVI_SPECIFIC_PUBLIC_ATTR_BASE + 108)\n",
    "NIHSDIO_ATTR_SAMPLE_CLOCK_SOURCE = ViInt32(IVI_SPECIFIC_PUBLIC_ATTR_BASE + 13)\n",
    "NIHSDIO_ATTR_SAMPLE_CLOCK_RATE = ViInt32(IVI_SPECIFIC_PUBLIC_ATTR_BASE + 14)\n",
    "NIHSDIO_ATTR_DYNAMIC_CHANNELS = ViInt32(IVI_SPECIFIC_PUBLIC_ATTR_BASE + 2)\n",
    "NIHSDIO_ATTR_STATIC_CHANNELS = ViInt32(IVI_SPECIFIC_PUBLIC_ATTR_BASE + 3)\n",
    "NIHSDIO_ATTR_SERIAL_NUMBER = ViInt32(IVI_SPECIFIC_PUBLIC_ATTR_BASE + 96)\n",
    "\n",
    "# Generation mode\n",
    "NIHSDIO_VAL_WAVEFORM = ViInt32(14)\n",
    "NIHSDIO_VAL_SCRIPTED = ViInt32(15)\n",
    "NIHSDIO_ATTR_GENERATION_MODE = ViInt32(IVI_SPECIFIC_PUBLIC_ATTR_BASE + 25)  # output type: ViInt32\n",
    "\n",
    "# Repeat mode and count (use only for Waveform mode)\n",
    "NIHSDIO_VAL_FINITE = ViInt32(16)\n",
    "NIHSDIO_VAL_CONTINUOUS = ViInt32(17)\n",
    "NIHSDIO_ATTR_REPEAT_MODE = ViInt32(IVI_SPECIFIC_PUBLIC_ATTR_BASE + 26)  # output type: ViInt32\n",
    "NIHSDIO_ATTR_REPEAT_COUNT = ViInt32(IVI_SPECIFIC_PUBLIC_ATTR_BASE + 71)  # output type: ViInt32\n",
    "\n",
    "# TRIGGERS\n",
    "# Edge type\n",
    "NIHSDIO_VAL_RISING_EDGE = ViInt32(12)\n",
    "NIHSDIO_VAL_FALLING_EDGE = ViInt32(13)\n",
    "# Trigger Types\n",
    "NIHSDIO_VAL_NONE = ViInt32(28)\n",
    "NIHSDIO_VAL_DIGITAL_EDGE = ViInt32(29)\n",
    "NIHSDIO_VAL_DIGITAL_LEVEL = ViInt32(30)\n",
    "NIHSDIO_VAL_PATTERN_MATCH = ViInt32(31)\n",
    "NIHSDIO_VAL_SOFTWARE = ViInt32(32)\n",
    "# Start Trigger\n",
    "NIHSDIO_VAL_START_TRIGGER = ViInt32(53)\n",
    "NIHSDIO_ATTR_START_TRIGGER_TYPE = ViInt32(IVI_SPECIFIC_PUBLIC_ATTR_BASE + 32)  # output type: ViInt32\n",
    "NIHSDIO_ATTR_DIGITAL_EDGE_START_TRIGGER_SOURCE = ViInt32(IVI_SPECIFIC_PUBLIC_ATTR_BASE + 33)  # output type: ViString\n",
    "NIHSDIO_ATTR_DIGITAL_EDGE_START_TRIGGER_EDGE = ViInt32(IVI_SPECIFIC_PUBLIC_ATTR_BASE + 34)  # output type: ViInt32\n",
    "# Script Trigger\n",
    "NIHSDIO_ATTR_SCRIPT_TRIGGER_TYPE = ViInt32(IVI_SPECIFIC_PUBLIC_ATTR_BASE + 44)  # output type: ViInt32\n",
    "NIHSDIO_ATTR_DIGITAL_EDGE_SCRIPT_TRIGGER_SOURCE = ViInt32(IVI_SPECIFIC_PUBLIC_ATTR_BASE + 45)  # output type: ViString\n",
    "NIHSDIO_ATTR_DIGITAL_EDGE_SCRIPT_TRIGGER_EDGE = ViInt32(IVI_SPECIFIC_PUBLIC_ATTR_BASE + 46)  # output type: ViInt32\n",
    "\n",
    "# Waveform/Script to generate\n",
    "NIHSDIO_ATTR_WAVEFORM_TO_GENERATE = ViInt32(IVI_SPECIFIC_PUBLIC_ATTR_BASE + 27)  # output type: ViString\n",
    "NIHSDIO_ATTR_SCRIPT_TO_GENERATE = ViInt32(IVI_SPECIFIC_PUBLIC_ATTR_BASE + 28)  # output type: ViString\n",
    "\n",
    "# Logic Level Voltage\n",
    "NIHSDIO_ATTR_DATA_VOLTAGE_LOW_LEVEL = ViInt32(IVI_SPECIFIC_PUBLIC_ATTR_BASE + 6)\n",
    "NIHSDIO_ATTR_DATA_VOLTAGE_HIGH_LEVEL = ViInt32(IVI_SPECIFIC_PUBLIC_ATTR_BASE + 7)\n",
    "\n",
    "NIHSDIO_VAL_5_0V_LOGIC = ViInt32(5)\n",
    "NIHSDIO_VAL_3_3V_LOGIC = ViInt32(6)\n",
    "NIHSDIO_VAL_2_5V_LOGIC = ViInt32(7)\n",
    "NIHSDIO_VAL_1_8V_LOGIC = ViInt32(8)\n",
    "NIHSDIO_VAL_1_5V_LOGIC = ViInt32(80)\n",
    "NIHSDIO_VAL_1_2V_LOGIC = ViInt32(81)\n",
    "\n",
    "# Signal Values\n",
    "NIHSDIO_VAL_SAMPLE_CLOCK = ViInt32(51)\n",
    "NIHSDIO_VAL_REF_CLOCK = ViInt32(52)\n",
    "NIHSDIO_VAL_START_TRIGGER = ViInt32(53)\n",
    "NIHSDIO_VAL_REF_TRIGGER = ViInt32(54)\n",
    "NIHSDIO_VAL_DATA_ACTIVE_EVENT = ViInt32(55)\n",
    "NIHSDIO_VAL_READY_FOR_START_EVENT = ViInt32(56)\n",
    "NIHSDIO_VAL_READY_FOR_ADVANCE_EVENT = ViInt32(66)\n",
    "NIHSDIO_VAL_END_OF_RECORD_EVENT = ViInt32(68)\n",
    "NIHSDIO_VAL_PAUSE_TRIGGER = ViInt32(57)\n",
    "NIHSDIO_VAL_SCRIPT_TRIGGER = ViInt32(58)\n",
    "NIHSDIO_VAL_MARKER_EVENT = ViInt32(59)\n",
    "NIHSDIO_VAL_ONBOARD_REF_CLOCK = ViInt32(60)\n",
    "NIHSDIO_VAL_ADVANCE_TRIGGER = ViInt32(61)\n",
    "NIHSDIO_VAL_STOP_TRIGGER = ViInt32(82)\n",
    "\n",
    "# ========= Function prototypes ================= \n",
    "ni_win_dll.niHSDIO_error_message.restype = ViStatus\n",
    "ni_win_dll.niHSDIO_InitGenerationSession.restype = ViStatus\n",
    "ni_win_dll.niHSDIO_AssignDynamicChannels.restype = ViStatus\n",
    "ni_win_dll.niHSDIO_ConfigureSampleClock.restype = ViStatus\n",
    "ni_win_dll.niHSDIO_ConfigureDataVoltageLogicFamily.restype = ViStatus\n",
    "ni_win_dll.niHSDIO_GetAttributeViInt32.restype = ViStatus\n",
    "ni_win_dll.niHSDIO_GetAttributeViReal64.restype = ViStatus\n",
    "ni_win_dll.niHSDIO_GetAttributeViString.restype = ViStatus\n",
    "ni_win_dll.niHSDIO_WriteNamedWaveformU32.restype = ViStatus\n",
    "ni_win_dll.niHSDIO_DeleteNamedWaveform.restype = ViStatus\n",
    "ni_win_dll.niHSDIO_WriteScript.restype = ViStatus\n",
    "ni_win_dll.niHSDIO_ConfigureGenerationMode.restype = ViStatus\n",
    "ni_win_dll.niHSDIO_ConfigureGenerationRepeat.restype = ViStatus\n",
    "ni_win_dll.niHSDIO_ConfigureWaveformToGenerate.restype = ViStatus\n",
    "ni_win_dll.niHSDIO_ConfigureScriptToGenerate.restype = ViStatus\n",
    "ni_win_dll.niHSDIO_ConfigureDigitalEdgeStartTrigger.restype = ViStatus\n",
    "ni_win_dll.niHSDIO_ConfigureDigitalEdgeScriptTrigger.restype = ViStatus\n",
    "ni_win_dll.niHSDIO_DisableStartTrigger.restype = ViStatus\n",
    "ni_win_dll.niHSDIO_SendSoftwareEdgeTrigger.restype = ViStatus\n",
    "ni_win_dll.niHSDIO_ExportSignal.restype = ViStatus\n",
    "ni_win_dll.niHSDIO_Initiate.restype = ViStatus\n",
    "ni_win_dll.niHSDIO_Abort.restype = ViStatus\n",
    "ni_win_dll.niHSDIO_close.restype = ViStatus\n",
    "ni_win_dll.niHSDIO_reset.restype = ViStatus\n",
    "\n",
    "# ========= Error message ======================\n",
    "# C:\\Program Files\\National Instruments\\Shared\\Errors\\English\\IVI-errors.txt\n",
    "def er_chk(session_handle, ret_code, OK_msg = True):\n",
    "    if ret_code == 0:\n",
    "        if OK_msg:\n",
    "            print('Status: OK')\n",
    "    else:\n",
    "        msg_buf = ctypes.create_string_buffer(256)\n",
    "        ni_win_dll.niHSDIO_error_message(\n",
    "            session_handle, \n",
    "            ViStatus(ret_code),\n",
    "            msg_buf\n",
    "        )\n",
    "        print(msg_buf.value.decode('ascii'))\n",
    "        \n",
    "# ========= Get attribute ====================\n",
    "def getAttributeViInt32(handle, attr, chnl_string = None):\n",
    "    buf = ViInt32()\n",
    "   \n",
    "    if chnl_string is None:\n",
    "        chnl_string = VI_NULL\n",
    "    else:\n",
    "        chnl_string = ctypes.c_char_p(chnl_string.encode('ascii'))\n",
    "        \n",
    "    ret_code = ni_win_dll.niHSDIO_GetAttributeViInt32(\n",
    "        handle,\n",
    "        chnl_string,\n",
    "        attr,\n",
    "        ctypes.byref(buf)\n",
    "    )\n",
    "    \n",
    "    er_chk(session_handle, ret_code, OK_msg=False)\n",
    "    return buf.value\n",
    "\n",
    "def getAttributeViString(handle, attr, chnl_string = None):\n",
    "    buf = ctypes.create_string_buffer(1024)\n",
    "   \n",
    "    if chnl_string is None:\n",
    "        chnl_string = VI_NULL\n",
    "    else:\n",
    "        chnl_string = ctypes.c_char_p(chnl_string.encode('ascii'))\n",
    "        \n",
    "    ret_code = ni_win_dll.niHSDIO_GetAttributeViString(\n",
    "        handle,\n",
    "        chnl_string,\n",
    "        attr,\n",
    "        ViInt32(1042),\n",
    "        buf\n",
    "    )\n",
    "    \n",
    "    er_chk(session_handle, ret_code, OK_msg=False)\n",
    "    return buf.value.decode('ascii')\n",
    "\n",
    "def getAttributeViReal64(handle, attr, chnl_string = None):\n",
    "    buf = ViReal64()\n",
    "    \n",
    "    if chnl_string is None:\n",
    "        chnl_string = VI_NULL\n",
    "    else:\n",
    "        chnl_string = ctypes.c_char_p(chnl_string.encode('ascii'))\n",
    "\n",
    "    ret_code = ni_win_dll.niHSDIO_GetAttributeViReal64(\n",
    "        handle,\n",
    "        chnl_string,\n",
    "        attr,\n",
    "        ctypes.byref(buf)\n",
    "    )\n",
    "    er_chk(session_handle, ret_code, OK_msg=False)\n",
    "    \n",
    "    return buf.value"
   ]
  },
  {
   "cell_type": "markdown",
   "metadata": {},
   "source": [
    "## Technical Set-up"
   ]
  },
  {
   "cell_type": "markdown",
   "metadata": {},
   "source": [
    "### Create Generation Session"
   ]
  },
  {
   "cell_type": "markdown",
   "metadata": {},
   "source": [
    "#### Create dynamic generation session"
   ]
  },
  {
   "cell_type": "code",
   "execution_count": 52,
   "metadata": {
    "scrolled": true
   },
   "outputs": [
    {
     "name": "stdout",
     "output_type": "stream",
     "text": [
      "Status: OK\n",
      "session_handle = 4\n"
     ]
    }
   ],
   "source": [
    "session_handle = ViSession()\n",
    "device_id = ViRsrc('PXI-6542'.encode('ascii'))\n",
    "\n",
    "ret_code = ni_win_dll.niHSDIO_InitGenerationSession(\n",
    "    device_id,  # resourceName\n",
    "    VI_FALSE,  # IDQuery\n",
    "    VI_TRUE,  # resetDevice\n",
    "    VI_NULL,  # optionString\n",
    "    ctypes.byref(session_handle),  # ViSession\n",
    ")\n",
    "\n",
    "er_chk(session_handle, ret_code)\n",
    "print('session_handle = {}'.format(session_handle.value))"
   ]
  },
  {
   "cell_type": "code",
   "execution_count": 53,
   "metadata": {},
   "outputs": [
    {
     "data": {
      "text/plain": [
       "'EFA8FE'"
      ]
     },
     "execution_count": 53,
     "metadata": {},
     "output_type": "execute_result"
    }
   ],
   "source": [
    "getAttributeViString(handle=session_handle, attr=NIHSDIO_ATTR_SERIAL_NUMBER)"
   ]
  },
  {
   "cell_type": "markdown",
   "metadata": {},
   "source": [
    "#### Assign channels"
   ]
  },
  {
   "cell_type": "code",
   "execution_count": 54,
   "metadata": {},
   "outputs": [
    {
     "name": "stdout",
     "output_type": "stream",
     "text": [
      "Status: OK\n"
     ]
    }
   ],
   "source": [
    "ch_list = ViConstString(\"0,1,2,3,4,5,6,7,8,9,10,11,12,13,14,15,16,17,18,19,20,21,22,23,24,25,26,27,28,29,30,31\".encode('ascii')) \n",
    "\n",
    "ret_code = ni_win_dll.niHSDIO_AssignDynamicChannels(\n",
    "    session_handle,\n",
    "    ch_list\n",
    ")\n",
    "\n",
    "er_chk(session_handle, ret_code)"
   ]
  },
  {
   "cell_type": "code",
   "execution_count": 55,
   "metadata": {},
   "outputs": [
    {
     "data": {
      "text/plain": [
       "'0,1,2,3,4,5,6,7,8,9,10,11,12,13,14,15,16,17,18,19,20,21,22,23,24,25,26,27,28,29,30,31'"
      ]
     },
     "execution_count": 55,
     "metadata": {},
     "output_type": "execute_result"
    }
   ],
   "source": [
    "getAttributeViString(session_handle, NIHSDIO_ATTR_DYNAMIC_CHANNELS)"
   ]
  },
  {
   "cell_type": "code",
   "execution_count": 56,
   "metadata": {},
   "outputs": [
    {
     "data": {
      "text/plain": [
       "'None'"
      ]
     },
     "execution_count": 56,
     "metadata": {},
     "output_type": "execute_result"
    }
   ],
   "source": [
    "getAttributeViString(session_handle, NIHSDIO_ATTR_STATIC_CHANNELS)"
   ]
  },
  {
   "cell_type": "markdown",
   "metadata": {},
   "source": [
    "### ConfigureSampleClock"
   ]
  },
  {
   "cell_type": "code",
   "execution_count": 57,
   "metadata": {},
   "outputs": [
    {
     "name": "stdout",
     "output_type": "stream",
     "text": [
      "Status: OK\n"
     ]
    }
   ],
   "source": [
    "sample_clock_rate = ViReal64(1e3)\n",
    "\n",
    "ret_code = ni_win_dll.niHSDIO_ConfigureSampleClock(\n",
    "    session_handle, \n",
    "    NIHSDIO_VAL_ON_BOARD_CLOCK_STR,\n",
    "    sample_clock_rate\n",
    ")\n",
    "er_chk(session_handle, ret_code)"
   ]
  },
  {
   "cell_type": "code",
   "execution_count": 58,
   "metadata": {},
   "outputs": [
    {
     "data": {
      "text/plain": [
       "'OnBoardClock'"
      ]
     },
     "execution_count": 58,
     "metadata": {},
     "output_type": "execute_result"
    }
   ],
   "source": [
    "getAttributeViString(session_handle, NIHSDIO_ATTR_SAMPLE_CLOCK_SOURCE)"
   ]
  },
  {
   "cell_type": "code",
   "execution_count": 59,
   "metadata": {},
   "outputs": [
    {
     "name": "stdout",
     "output_type": "stream",
     "text": [
      "Sample rate: 1.0 kHz\n"
     ]
    }
   ],
   "source": [
    "smpl_rate = getAttributeViReal64(session_handle, NIHSDIO_ATTR_SAMPLE_CLOCK_RATE)\n",
    "print('Sample rate: {} kHz'.format(smpl_rate/1e3))"
   ]
  },
  {
   "cell_type": "markdown",
   "metadata": {},
   "source": [
    "### Logic Level Voltage"
   ]
  },
  {
   "cell_type": "code",
   "execution_count": 60,
   "metadata": {},
   "outputs": [
    {
     "name": "stdout",
     "output_type": "stream",
     "text": [
      "Status: OK\n"
     ]
    }
   ],
   "source": [
    "chnl_list = ViConstString(b'0-31')\n",
    "\n",
    "ret_code = ni_win_dll.niHSDIO_ConfigureDataVoltageLogicFamily(\n",
    "    session_handle,\n",
    "    chnl_list,\n",
    "    NIHSDIO_VAL_3_3V_LOGIC\n",
    ")\n",
    "er_chk(session_handle, ret_code)"
   ]
  },
  {
   "cell_type": "code",
   "execution_count": 61,
   "metadata": {},
   "outputs": [
    {
     "name": "stdout",
     "output_type": "stream",
     "text": [
      "0.0\n",
      "3.3\n"
     ]
    }
   ],
   "source": [
    "print(getAttributeViReal64(handle=session_handle, attr=NIHSDIO_ATTR_DATA_VOLTAGE_LOW_LEVEL, chnl_string='0'))\n",
    "print(getAttributeViReal64(handle=session_handle, attr=NIHSDIO_ATTR_DATA_VOLTAGE_HIGH_LEVEL, chnl_string='0'))"
   ]
  },
  {
   "cell_type": "markdown",
   "metadata": {},
   "source": [
    "### Write named waveforms"
   ]
  },
  {
   "cell_type": "markdown",
   "metadata": {},
   "source": [
    "#### Query the Data Width Attribute"
   ]
  },
  {
   "cell_type": "code",
   "execution_count": 62,
   "metadata": {},
   "outputs": [
    {
     "data": {
      "text/plain": [
       "4"
      ]
     },
     "execution_count": 62,
     "metadata": {},
     "output_type": "execute_result"
    }
   ],
   "source": [
    "getAttributeViInt32(session_handle, NIHSDIO_ATTR_DATA_WIDTH)"
   ]
  },
  {
   "cell_type": "markdown",
   "metadata": {},
   "source": [
    "#### Create waveforms"
   ]
  },
  {
   "cell_type": "markdown",
   "metadata": {},
   "source": [
    "Channels: 0, 18, 19, 31 "
   ]
  },
  {
   "cell_type": "markdown",
   "metadata": {},
   "source": [
    "Waveform must have even length"
   ]
  },
  {
   "cell_type": "code",
   "execution_count": 63,
   "metadata": {},
   "outputs": [],
   "source": [
    "wfm_name_1 = ViString(\"wfm1\".encode('ascii'))\n",
    "\n",
    "# Create array of integers.\n",
    "# Each bit of the binary form - state of the corresponding channel. DIO_0 = LSB ... DIO_31 = MSB\n",
    "wfm_ar_1 = [\n",
    "    (0b1) + (0b0 << 18) + (0b1 << 19) + (0b1 << 31),\n",
    "    (0b0) + (0b1 << 18) + (0b0 << 19) + (0b1 << 31),\n",
    "    (0b0) + (0b1 << 18) + (0b1 << 19) + (0b0 << 31),\n",
    "    (0b0) + (0b0 << 18) + (0b0 << 19) + (0b0 << 31),\n",
    "    (0b0) + (0b1 << 18) + (0b1 << 19) + (0b1 << 31),\n",
    "    (0b0) + (0b0 << 18) + (0b0 << 19) + (0b0 << 31)\n",
    "]\n",
    "\n",
    "# Convert into array of ViUInt32\n",
    "# First, crate new datatype class: new_UInt32_ar_type = ViUInt32 * arr_length\n",
    "# Second, create instance of this type: wfm = new_UInt32_ar_type(i_1, i_2, ..., i_n)\n",
    "wfm_1 = (ViUInt32 * len(wfm_ar_1))(*wfm_ar_1)"
   ]
  },
  {
   "cell_type": "code",
   "execution_count": null,
   "metadata": {},
   "outputs": [],
   "source": [
    "bin((0b1) + (0b1 << 18) + (0b1 << 19) + (0b1 << 31))"
   ]
  },
  {
   "cell_type": "code",
   "execution_count": 64,
   "metadata": {},
   "outputs": [],
   "source": [
    "wfm_name_2 = ViString(\"wfm2\".encode('ascii'))\n",
    "\n",
    "# Create array of integers.\n",
    "# Each bit of the binary form - state of the corresponding channel. DIO_0 = LSB ... DIO_31 = MSB\n",
    "wfm_ar_2 = [\n",
    "    (0b1) + (0b0 << 18) + (0b0 << 19) + (0b0 << 31),\n",
    "    (0b0) + (0b1 << 18) + (0b0 << 19) + (0b0 << 31),\n",
    "    (0b0) + (0b0 << 18) + (0b1 << 19) + (0b0 << 31),\n",
    "    (0b0) + (0b0 << 18) + (0b0 << 19) + (0b1 << 31),\n",
    "    (0b0) + (0b0 << 18) + (0b0 << 19) + (0b0 << 31),\n",
    "    (0b0) + (0b0 << 18) + (0b0 << 19) + (0b0 << 31)\n",
    "]\n",
    "\n",
    "# Convert into array of ViUInt32\n",
    "# First, crate new datatype class: new_UInt32_ar_type = ViUInt32 * arr_length\n",
    "# Second, create instance of this type: wfm = new_UInt32_ar_type(i_1, i_2, ..., i_n)\n",
    "wfm_2 = (ViUInt32 * len(wfm_ar_2))(*wfm_ar_2)"
   ]
  },
  {
   "cell_type": "markdown",
   "metadata": {},
   "source": [
    "#### Write Named Waveforms"
   ]
  },
  {
   "cell_type": "markdown",
   "metadata": {},
   "source": [
    "`ViStatus = niHSDIO_WriteNamedWaveformU32 ( ViSession vi, ViConstString waveformName, ViInt32 samplesToWrite, ViUInt32 data[]);`"
   ]
  },
  {
   "cell_type": "code",
   "execution_count": 65,
   "metadata": {},
   "outputs": [
    {
     "name": "stdout",
     "output_type": "stream",
     "text": [
      "Status: OK\n"
     ]
    }
   ],
   "source": [
    "ret_code = ni_win_dll.niHSDIO_WriteNamedWaveformU32(\n",
    "    session_handle,\n",
    "    wfm_name_1,\n",
    "    ViInt32(len(wfm_1)),  # number of samples to write\n",
    "    ctypes.byref(wfm_1)\n",
    ")\n",
    "er_chk(session_handle, ret_code)"
   ]
  },
  {
   "cell_type": "code",
   "execution_count": 75,
   "metadata": {},
   "outputs": [
    {
     "name": "stdout",
     "output_type": "stream",
     "text": [
      "You cannot write data outside the boundaries of your waveform.\n",
      "\n",
      "Make sure you are not trying to write more data than your waveform can accomodate and that your write location and write offset are set correctly.\n"
     ]
    }
   ],
   "source": [
    "ret_code = ni_win_dll.niHSDIO_WriteNamedWaveformU32(\n",
    "    session_handle,\n",
    "    wfm_name_1,\n",
    "    ViInt32(len(wfm_2)),  # number of samples to write\n",
    "    ctypes.byref(wfm_2)\n",
    ")\n",
    "er_chk(session_handle, ret_code)"
   ]
  },
  {
   "cell_type": "code",
   "execution_count": 76,
   "metadata": {},
   "outputs": [
    {
     "name": "stdout",
     "output_type": "stream",
     "text": [
      "Status: OK\n"
     ]
    }
   ],
   "source": [
    "ret_code = ni_win_dll.niHSDIO_WriteNamedWaveformU32(\n",
    "    session_handle,\n",
    "    wfm_name_2,\n",
    "    ViInt32(len(wfm_2)),  # number of samples to write\n",
    "    ctypes.byref(wfm_2)\n",
    ")\n",
    "er_chk(session_handle, ret_code)"
   ]
  },
  {
   "cell_type": "markdown",
   "metadata": {},
   "source": [
    "#### Delete Named Waveform"
   ]
  },
  {
   "cell_type": "markdown",
   "metadata": {},
   "source": [
    "To edit a waveform, which is already present in the onboard memory, you have to delete it first and then use WriteNamedWaveform again.\n",
    "If you attempt to overwrite existing waveform with its' new version, the following error will be rised:\n",
    "\n",
    "```You cannot write data outside the boundaries of your waveform.\n",
    "Make sure you are not trying to write more data than your waveform can accomodate and that your write location and write offset are set correctly.\n",
    "```"
   ]
  },
  {
   "cell_type": "markdown",
   "metadata": {},
   "source": [
    "`ViStatus = niHSDIO_DeleteNamedWaveform ( ViSession vi, ViConstString waveformName);`"
   ]
  },
  {
   "cell_type": "code",
   "execution_count": null,
   "metadata": {},
   "outputs": [],
   "source": [
    "ret_code = ni_win_dll.niHSDIO_DeleteNamedWaveform(\n",
    "    session_handle,\n",
    "    ViString('wfm1'.encode('ascii'))\n",
    ")\n",
    "er_chk(session_handle, ret_code)"
   ]
  },
  {
   "cell_type": "code",
   "execution_count": 4,
   "metadata": {},
   "outputs": [
    {
     "data": {
      "text/plain": [
       "3"
      ]
     },
     "execution_count": 4,
     "metadata": {},
     "output_type": "execute_result"
    }
   ],
   "source": [
    "11//3"
   ]
  },
  {
   "cell_type": "markdown",
   "metadata": {},
   "source": [
    "## Waveform Mode"
   ]
  },
  {
   "cell_type": "markdown",
   "metadata": {},
   "source": [
    "#### Configure Generation Mode (Waveform)"
   ]
  },
  {
   "cell_type": "markdown",
   "metadata": {},
   "source": [
    "`ViStatus = niHSDIO_ConfigureGenerationMode ( ViSession vi, ViInt32 generationMode);`"
   ]
  },
  {
   "cell_type": "code",
   "execution_count": 67,
   "metadata": {},
   "outputs": [
    {
     "name": "stdout",
     "output_type": "stream",
     "text": [
      "Status: OK\n"
     ]
    }
   ],
   "source": [
    "ret_code = ni_win_dll.niHSDIO_ConfigureGenerationMode(session_handle, NIHSDIO_VAL_WAVEFORM)\n",
    "\n",
    "er_chk(session_handle, ret_code)"
   ]
  },
  {
   "cell_type": "code",
   "execution_count": 36,
   "metadata": {},
   "outputs": [
    {
     "data": {
      "text/plain": [
       "14"
      ]
     },
     "execution_count": 36,
     "metadata": {},
     "output_type": "execute_result"
    }
   ],
   "source": [
    "getAttributeViInt32(session_handle, NIHSDIO_ATTR_GENERATION_MODE)"
   ]
  },
  {
   "cell_type": "markdown",
   "metadata": {},
   "source": [
    "#### Configure repetitions"
   ]
  },
  {
   "cell_type": "markdown",
   "metadata": {},
   "source": [
    "In essence, the niHSDIO_ConfigureGenerationRepeat function only sets the values of two attributes: `NIHSDIO_ATTR_REPEAT_MODE` and `NIHSDIO_ATTR_REPEAT_COUNT`.\n",
    "\n",
    "These setting are not bound to a specific waveform. If you change a `NIHSDIO_ATTR_WAVEFORM_TO_GENERATE` attribute, the repeat mode and count will stay the same. In other words, this parameter can be set before specifying the waveform to generate."
   ]
  },
  {
   "cell_type": "markdown",
   "metadata": {},
   "source": [
    "`ViStatus = niHSDIO_ConfigureGenerationRepeat ( ViSession vi, ViInt32 repeatMode, ViInt32 repeatCount);`"
   ]
  },
  {
   "cell_type": "code",
   "execution_count": 68,
   "metadata": {},
   "outputs": [
    {
     "name": "stdout",
     "output_type": "stream",
     "text": [
      "Status: OK\n"
     ]
    }
   ],
   "source": [
    "ret_code = ni_win_dll.niHSDIO_ConfigureGenerationRepeat(\n",
    "    session_handle,\n",
    "    NIHSDIO_VAL_FINITE,\n",
    "    ViInt32(1000)  # VI_NULL\n",
    ")\n",
    "er_chk(session_handle, ret_code)"
   ]
  },
  {
   "cell_type": "code",
   "execution_count": 69,
   "metadata": {},
   "outputs": [
    {
     "data": {
      "text/plain": [
       "16"
      ]
     },
     "execution_count": 69,
     "metadata": {},
     "output_type": "execute_result"
    }
   ],
   "source": [
    "getAttributeViInt32(session_handle, NIHSDIO_ATTR_REPEAT_MODE)"
   ]
  },
  {
   "cell_type": "code",
   "execution_count": 70,
   "metadata": {},
   "outputs": [
    {
     "data": {
      "text/plain": [
       "1000"
      ]
     },
     "execution_count": 70,
     "metadata": {},
     "output_type": "execute_result"
    }
   ],
   "source": [
    "getAttributeViInt32(session_handle, NIHSDIO_ATTR_REPEAT_COUNT)"
   ]
  },
  {
   "cell_type": "markdown",
   "metadata": {},
   "source": [
    "#### Configure Waveform to generate"
   ]
  },
  {
   "cell_type": "markdown",
   "metadata": {},
   "source": [
    "`ViStatus = niHSDIO_ConfigureWaveformToGenerate ( ViSession vi, ViConstString waveformName);`"
   ]
  },
  {
   "cell_type": "code",
   "execution_count": 71,
   "metadata": {},
   "outputs": [
    {
     "name": "stdout",
     "output_type": "stream",
     "text": [
      "Status: OK\n"
     ]
    }
   ],
   "source": [
    "ret_code = ni_win_dll.niHSDIO_ConfigureWaveformToGenerate(\n",
    "    session_handle, \n",
    "    ViConstString('wfm1'.encode('ascii'))\n",
    ")\n",
    "er_chk(session_handle, ret_code)"
   ]
  },
  {
   "cell_type": "code",
   "execution_count": 43,
   "metadata": {},
   "outputs": [
    {
     "data": {
      "text/plain": [
       "'wfm1'"
      ]
     },
     "execution_count": 43,
     "metadata": {},
     "output_type": "execute_result"
    }
   ],
   "source": [
    "getAttributeViString(session_handle, NIHSDIO_ATTR_WAVEFORM_TO_GENERATE)"
   ]
  },
  {
   "cell_type": "markdown",
   "metadata": {},
   "source": [
    "#### Configure Start Trigger"
   ]
  },
  {
   "cell_type": "markdown",
   "metadata": {},
   "source": [
    "`ViStatus = niHSDIO_ConfigureDigitalEdgeStartTrigger ( ViSession vi, ViConstString source, ViInt32 edge);`"
   ]
  },
  {
   "cell_type": "code",
   "execution_count": null,
   "metadata": {},
   "outputs": [],
   "source": [
    "ret_code = ni_win_dll.niHSDIO_ConfigureDigitalEdgeStartTrigger(\n",
    "    session_handle,\n",
    "    ViString('PFI1'.encode('ascii')),\n",
    "    NIHSDIO_VAL_RISING_EDGE\n",
    ")\n",
    "er_chk(session_handle, ret_code)"
   ]
  },
  {
   "cell_type": "code",
   "execution_count": null,
   "metadata": {},
   "outputs": [],
   "source": [
    "getAttributeViInt32(session_handle, NIHSDIO_ATTR_START_TRIGGER_TYPE)"
   ]
  },
  {
   "cell_type": "code",
   "execution_count": null,
   "metadata": {},
   "outputs": [],
   "source": [
    "getAttributeViInt32(session_handle, NIHSDIO_ATTR_DIGITAL_EDGE_START_TRIGGER_EDGE)"
   ]
  },
  {
   "cell_type": "code",
   "execution_count": null,
   "metadata": {},
   "outputs": [],
   "source": [
    "getAttributeViString(session_handle, NIHSDIO_ATTR_DIGITAL_EDGE_START_TRIGGER_SOURCE)"
   ]
  },
  {
   "cell_type": "markdown",
   "metadata": {},
   "source": [
    "##### Disable Start Trigger"
   ]
  },
  {
   "cell_type": "markdown",
   "metadata": {},
   "source": [
    "`ViStatus = niHSDIO_DisableStartTrigger ( ViSession vi);`"
   ]
  },
  {
   "cell_type": "code",
   "execution_count": null,
   "metadata": {},
   "outputs": [],
   "source": [
    "ret_code = ni_win_dll.niHSDIO_DisableStartTrigger(session_handle)\n",
    "er_chk(session_handle, ret_code)"
   ]
  },
  {
   "cell_type": "markdown",
   "metadata": {},
   "source": [
    "#### Initiate generation"
   ]
  },
  {
   "cell_type": "code",
   "execution_count": 74,
   "metadata": {},
   "outputs": [
    {
     "name": "stdout",
     "output_type": "stream",
     "text": [
      "Status: OK\n"
     ]
    }
   ],
   "source": [
    "ret_code = ni_win_dll.niHSDIO_Initiate(session_handle)\n",
    "er_chk(session_handle=session_handle, ret_code=ret_code)"
   ]
  },
  {
   "cell_type": "markdown",
   "metadata": {},
   "source": [
    "If Start Trigger is enabled\n",
    "(enabled: `NIHSDIO_ATTR_START_TRIGGER_TYPE == 29`, disabled: `NIHSDIO_ATTR_START_TRIGGER_TYPE == 28`), one can the trigger from software using the following function:\n",
    "\n",
    "`ViStatus = niHSDIO_SendSoftwareEdgeTrigger ( ViSession vi, ViInt32 triggerName, ViConstString triggerIdentifier);`"
   ]
  },
  {
   "cell_type": "markdown",
   "metadata": {},
   "source": [
    "Physics trigger (0->5V rising edge, applied to PFI1) works"
   ]
  },
  {
   "cell_type": "code",
   "execution_count": null,
   "metadata": {},
   "outputs": [],
   "source": [
    "ret_code = ni_win_dll.niHSDIO_SendSoftwareEdgeTrigger(\n",
    "    session_handle,\n",
    "    NIHSDIO_VAL_START_TRIGGER,\n",
    "    VI_NULL\n",
    ")\n",
    "er_chk(session_handle, ret_code)"
   ]
  },
  {
   "cell_type": "markdown",
   "metadata": {},
   "source": [
    "#### Stop continuous generation"
   ]
  },
  {
   "cell_type": "markdown",
   "metadata": {},
   "source": [
    "`ViStatus = niHSDIO_Abort ( ViSession vi);`"
   ]
  },
  {
   "cell_type": "code",
   "execution_count": 88,
   "metadata": {},
   "outputs": [
    {
     "name": "stdout",
     "output_type": "stream",
     "text": [
      "Status: OK\n"
     ]
    }
   ],
   "source": [
    "ret_code = ni_win_dll.niHSDIO_Abort(session_handle)\n",
    "er_chk(session_handle, ret_code)"
   ]
  },
  {
   "cell_type": "markdown",
   "metadata": {},
   "source": [
    "#### Close Session, reset hardware"
   ]
  },
  {
   "cell_type": "code",
   "execution_count": 51,
   "metadata": {},
   "outputs": [
    {
     "name": "stdout",
     "output_type": "stream",
     "text": [
      "Status: OK\n",
      "Status: OK\n"
     ]
    }
   ],
   "source": [
    "ret_code = ni_win_dll.niHSDIO_reset(session_handle)\n",
    "er_chk(session_handle=session_handle, ret_code=ret_code)\n",
    "\n",
    "ret_code = ni_win_dll.niHSDIO_close(session_handle)\n",
    "er_chk(session_handle=session_handle, ret_code=ret_code)"
   ]
  },
  {
   "cell_type": "code",
   "execution_count": 89,
   "metadata": {},
   "outputs": [
    {
     "name": "stdout",
     "output_type": "stream",
     "text": [
      "Status: OK\n"
     ]
    }
   ],
   "source": [
    "ret_code = ni_win_dll.niHSDIO_close(session_handle)\n",
    "er_chk(session_handle=session_handle, ret_code=ret_code)"
   ]
  },
  {
   "cell_type": "markdown",
   "metadata": {},
   "source": [
    "## Script Mode"
   ]
  },
  {
   "cell_type": "markdown",
   "metadata": {},
   "source": [
    "### Technical settings"
   ]
  },
  {
   "cell_type": "markdown",
   "metadata": {},
   "source": [
    "#### Switch to Script Mode"
   ]
  },
  {
   "cell_type": "code",
   "execution_count": null,
   "metadata": {},
   "outputs": [],
   "source": [
    "ret_code = ni_win_dll.niHSDIO_ConfigureGenerationMode(session_handle, NIHSDIO_VAL_SCRIPTED)\n",
    "er_chk(session_handle, ret_code)"
   ]
  },
  {
   "cell_type": "code",
   "execution_count": null,
   "metadata": {},
   "outputs": [],
   "source": [
    "getAttributeViInt32(session_handle, NIHSDIO_ATTR_GENERATION_MODE)"
   ]
  },
  {
   "cell_type": "code",
   "execution_count": null,
   "metadata": {},
   "outputs": [],
   "source": [
    "NIHSDIO_VAL_SCRIPTED"
   ]
  },
  {
   "cell_type": "markdown",
   "metadata": {},
   "source": [
    "#### Write Script"
   ]
  },
  {
   "cell_type": "markdown",
   "metadata": {},
   "source": [
    "```Note! Internally, the script stores physical device memory locations to refer to named waveforms. Thus, write all waveforms to the device before writing the script, or the device will be unable to locate the waveform. The initiate function produces an error if this rule is violated. If you delete waveforms and rewrite them, rewrite the script to update it with the new locations, even if the script text has not changed.```"
   ]
  },
  {
   "cell_type": "markdown",
   "metadata": {},
   "source": [
    "`ViStatus = niHSDIO_WriteScript ( ViSession vi, ViConstString script);`"
   ]
  },
  {
   "cell_type": "code",
   "execution_count": null,
   "metadata": {},
   "outputs": [],
   "source": [
    "# Works\n",
    "myScript = ViConstString(\n",
    "    \"\"\"\n",
    "    script myScript1\n",
    "        generate wfm1\n",
    "    end script\n",
    "    \n",
    "    \"\"\".replace('\\n', ' ').encode('ascii')\n",
    ")"
   ]
  },
  {
   "cell_type": "code",
   "execution_count": null,
   "metadata": {},
   "outputs": [],
   "source": [
    "myScript1.value"
   ]
  },
  {
   "cell_type": "code",
   "execution_count": null,
   "metadata": {},
   "outputs": [],
   "source": [
    "# Works\n",
    "myScript = ViConstString(\n",
    "    \"\"\"\n",
    "    script myScript2\n",
    "        repeat 1000\n",
    "            generate wfm1\n",
    "        end repeat\n",
    "    end script\n",
    "    \n",
    "    \"\"\".replace('\\n', ' ').encode('ascii')\n",
    ")"
   ]
  },
  {
   "cell_type": "code",
   "execution_count": null,
   "metadata": {},
   "outputs": [],
   "source": [
    "# Works\n",
    "myScript = ViConstString(\n",
    "    \"\"\"\n",
    "    script myScript3\n",
    "        repeat forever\n",
    "            generate wfm1\n",
    "        end repeat\n",
    "    end script\n",
    "    \n",
    "    \"\"\".replace('\\n', ' ').encode('ascii')\n",
    ")"
   ]
  },
  {
   "cell_type": "code",
   "execution_count": null,
   "metadata": {},
   "outputs": [],
   "source": [
    "# Works\n",
    "myScript = ViConstString(\n",
    "    \"\"\"\n",
    "    script myScript4\n",
    "        clear scripttrigger0\n",
    "        repeat until scripttrigger0\n",
    "            generate wfm1\n",
    "        end repeat\n",
    "    end script\n",
    "    \n",
    "    \"\"\".replace('\\n', ' ').encode('ascii')\n",
    ")"
   ]
  },
  {
   "cell_type": "code",
   "execution_count": null,
   "metadata": {},
   "outputs": [],
   "source": [
    "# Works\n",
    "myScript = ViConstString(\n",
    "    \"\"\"\n",
    "    script myScript5\n",
    "        repeat 500\n",
    "            generate wfm1\n",
    "        end repeat\n",
    "        \n",
    "        wait until scripttrigger0\n",
    "        \n",
    "        repeat 500\n",
    "            generate wfm2\n",
    "        end repeat\n",
    "        \n",
    "    end script\n",
    "    \n",
    "    \"\"\".replace('\\n', ' ').encode('ascii')\n",
    ")"
   ]
  },
  {
   "cell_type": "code",
   "execution_count": null,
   "metadata": {},
   "outputs": [],
   "source": [
    "# Works\n",
    "myScript = ViConstString(\n",
    "    \"\"\"\n",
    "    script myScript6\n",
    "        repeat forever\n",
    "            repeat until scripttrigger0\n",
    "                generate wfm1\n",
    "            end repeat\n",
    "\n",
    "            repeat until scripttrigger0\n",
    "                generate wfm2\n",
    "            end repeat\n",
    "        end repeat\n",
    "    end script\n",
    "    \n",
    "    \"\"\".replace('\\n', ' ').encode('ascii')\n",
    ")"
   ]
  },
  {
   "cell_type": "code",
   "execution_count": null,
   "metadata": {},
   "outputs": [],
   "source": [
    "myScript = ViConstString(\n",
    "    \"\"\"\n",
    "    script myScript7\n",
    "        repeat forever\n",
    "            wait 32\n",
    "            \n",
    "            if scripttrigger0\n",
    "                generate wfm1\n",
    "            else\n",
    "                generate wfm2\n",
    "            end if\n",
    "            \n",
    "        end repeat\n",
    "    end script\n",
    "    \n",
    "    \"\"\".replace('\\n', ' ').encode('ascii')\n",
    ")"
   ]
  },
  {
   "cell_type": "code",
   "execution_count": null,
   "metadata": {},
   "outputs": [],
   "source": [
    "myScript = ViConstString(\n",
    "    \"\"\"\n",
    "    script myScript8\n",
    "        repeat forever\n",
    "            wait 32\n",
    "            \n",
    "            if scripttrigger0\n",
    "                repeat 200\n",
    "                    generate wfm1\n",
    "                end repeat\n",
    "            else\n",
    "                repeat 200\n",
    "                    generate wfm2\n",
    "                end repeat\n",
    "            end if\n",
    "        end repeat\n",
    "    end script\n",
    "    \n",
    "    \"\"\".replace('\\n', ' ').encode('ascii')\n",
    ")"
   ]
  },
  {
   "cell_type": "code",
   "execution_count": null,
   "metadata": {},
   "outputs": [],
   "source": [
    "# Write script\n",
    "ret_code = ni_win_dll.niHSDIO_WriteScript(\n",
    "    session_handle,\n",
    "    myScript\n",
    ")\n",
    "er_chk(session_handle, ret_code)"
   ]
  },
  {
   "cell_type": "markdown",
   "metadata": {},
   "source": [
    "#### Configure Sctript to generate"
   ]
  },
  {
   "cell_type": "markdown",
   "metadata": {},
   "source": [
    "`ViStatus = niHSDIO_ConfigureScriptToGenerate ( ViSession vi, ViConstString scriptName);`"
   ]
  },
  {
   "cell_type": "code",
   "execution_count": null,
   "metadata": {},
   "outputs": [],
   "source": [
    "ret_code = ni_win_dll.niHSDIO_ConfigureScriptToGenerate(\n",
    "    session_handle,\n",
    "    ViString('myScript8'.encode('ascii'))\n",
    ")\n",
    "er_chk(session_handle, ret_code)"
   ]
  },
  {
   "cell_type": "code",
   "execution_count": null,
   "metadata": {},
   "outputs": [],
   "source": [
    "getAttributeViString(session_handle, NIHSDIO_ATTR_SCRIPT_TO_GENERATE)"
   ]
  },
  {
   "cell_type": "markdown",
   "metadata": {},
   "source": [
    "#### ConfigureDigitalEdgeScriptTrigger"
   ]
  },
  {
   "cell_type": "markdown",
   "metadata": {},
   "source": [
    "`ViStatus = niHSDIO_ConfigureDigitalEdgeScriptTrigger(vi ViSession, TriggerID ViConstString, Source ViConstString, Edge ViInt32)`"
   ]
  },
  {
   "cell_type": "code",
   "execution_count": null,
   "metadata": {},
   "outputs": [],
   "source": [
    "# Works\n",
    "ret_code = ni_win_dll.niHSDIO_ConfigureDigitalEdgeScriptTrigger(\n",
    "    session_handle,\n",
    "    ViConstString('ScriptTrigger0'.encode('ascii')),\n",
    "    ViConstString('PFI1'.encode('ascii')),\n",
    "    NIHSDIO_VAL_RISING_EDGE\n",
    ")\n",
    "er_chk(session_handle, ret_code)"
   ]
  },
  {
   "cell_type": "code",
   "execution_count": null,
   "metadata": {},
   "outputs": [],
   "source": [
    "getAttributeViString(session_handle, NIHSDIO_ATTR_DIGITAL_EDGE_SCRIPT_TRIGGER_SOURCE)"
   ]
  },
  {
   "cell_type": "code",
   "execution_count": null,
   "metadata": {
    "scrolled": true
   },
   "outputs": [],
   "source": [
    "getAttributeViInt32(session_handle, NIHSDIO_ATTR_SCRIPT_TRIGGER_TYPE)"
   ]
  },
  {
   "cell_type": "code",
   "execution_count": null,
   "metadata": {},
   "outputs": [],
   "source": [
    "getAttributeViInt32(session_handle, NIHSDIO_ATTR_DIGITAL_EDGE_SCRIPT_TRIGGER_EDGE)"
   ]
  },
  {
   "cell_type": "markdown",
   "metadata": {},
   "source": [
    "#### Initiate"
   ]
  },
  {
   "cell_type": "markdown",
   "metadata": {},
   "source": [
    "`ViStatus = niHSDIO_Initiate ( ViSession vi);`"
   ]
  },
  {
   "cell_type": "code",
   "execution_count": null,
   "metadata": {},
   "outputs": [],
   "source": [
    "ret_code = ni_win_dll.niHSDIO_Initiate(session_handle)\n",
    "er_chk(session_handle, ret_code)"
   ]
  },
  {
   "cell_type": "markdown",
   "metadata": {},
   "source": [
    "Start trigger settings are the same as for Waveform mode. If `NIHSDIO_ATTR_START_TRIGGER_TYPE == NIHSDIO_VAL_DIGITAL_EDGE`, then the script does not start untill the start triger is received."
   ]
  },
  {
   "cell_type": "code",
   "execution_count": null,
   "metadata": {},
   "outputs": [],
   "source": [
    "# Send scripttrigger0 form software\n",
    "ret_code = ni_win_dll.niHSDIO_SendSoftwareEdgeTrigger(\n",
    "    session_handle,\n",
    "    NIHSDIO_VAL_SCRIPT_TRIGGER,\n",
    "    'ScriptTrigger0'.encode('ascii')\n",
    ")\n",
    "er_chk(session_handle, ret_code)"
   ]
  },
  {
   "cell_type": "code",
   "execution_count": null,
   "metadata": {},
   "outputs": [],
   "source": [
    "# Stop inf script\n",
    "ret_code = ni_win_dll.niHSDIO_Abort(session_handle)\n",
    "er_chk(session_handle, ret_code)"
   ]
  },
  {
   "cell_type": "markdown",
   "metadata": {},
   "source": [
    "#### Close session"
   ]
  },
  {
   "cell_type": "code",
   "execution_count": null,
   "metadata": {},
   "outputs": [],
   "source": [
    "ret_code = ni_win_dll.niHSDIO_reset(session_handle)\n",
    "er_chk(session_handle=session_handle, ret_code=ret_code)\n",
    "\n",
    "ret_code = ni_win_dll.niHSDIO_close(session_handle)\n",
    "er_chk(session_handle=session_handle, ret_code=ret_code)"
   ]
  },
  {
   "cell_type": "markdown",
   "metadata": {},
   "source": [
    "#### Export signal"
   ]
  },
  {
   "cell_type": "markdown",
   "metadata": {},
   "source": [
    "If you use triggers in the script mode (`scripttrigger0` - `scripttrigger3`), you have to route the scripttrigger signals to specific (mainly PFI) terminals "
   ]
  },
  {
   "cell_type": "markdown",
   "metadata": {},
   "source": [
    "`ViStatus = niHSDIO_ExportSignal ( ViSession vi, ViInt32 signal, ViConstString signalIdentifier, ViConstString outputTerminal);`"
   ]
  },
  {
   "cell_type": "code",
   "execution_count": null,
   "metadata": {},
   "outputs": [],
   "source": [
    "ret_code = ni_win_dll.niHSDIO_ExportSignal(\n",
    "    session_handle,\n",
    "    NIHSDIO_VAL_SCRIPT_TRIGGER,\n",
    "    ViConstString('ScriptTrigger0'.encode('ascii')),\n",
    "    ViConstString('PFI1'.encode('ascii'))\n",
    ")\n",
    "er_chk(session_handle, ret_code)"
   ]
  },
  {
   "cell_type": "code",
   "execution_count": null,
   "metadata": {},
   "outputs": [],
   "source": []
  },
  {
   "cell_type": "code",
   "execution_count": null,
   "metadata": {},
   "outputs": [],
   "source": []
  },
  {
   "cell_type": "code",
   "execution_count": null,
   "metadata": {},
   "outputs": [],
   "source": []
  }
 ],
 "metadata": {
  "kernelspec": {
   "display_name": "Python 3",
   "language": "python",
   "name": "python3"
  },
  "language_info": {
   "codemirror_mode": {
    "name": "ipython",
    "version": 3
   },
   "file_extension": ".py",
   "mimetype": "text/x-python",
   "name": "python",
   "nbconvert_exporter": "python",
   "pygments_lexer": "ipython3",
   "version": "3.6.5"
  }
 },
 "nbformat": 4,
 "nbformat_minor": 2
}
