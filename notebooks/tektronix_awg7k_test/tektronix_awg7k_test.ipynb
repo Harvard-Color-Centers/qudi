{
 "cells": [
  {
   "cell_type": "markdown",
   "metadata": {},
   "source": [
    "# Test of the new driver for Tektronix 7k AWG"
   ]
  },
  {
   "cell_type": "markdown",
   "metadata": {},
   "source": [
    "`Found TEKTRONIX AWG7122C Serial: B051135 FW: SCPI:99.0 FW:4.6.0.7 options: ['01', '06', '08', '09']`"
   ]
  },
  {
   "cell_type": "markdown",
   "metadata": {},
   "source": [
    "## Basic commands and Hardware settings"
   ]
  },
  {
   "cell_type": "markdown",
   "metadata": {},
   "source": [
    "### Basic commands"
   ]
  },
  {
   "cell_type": "markdown",
   "metadata": {},
   "source": [
    "#### write()"
   ]
  },
  {
   "cell_type": "code",
   "execution_count": 1,
   "metadata": {},
   "outputs": [
    {
     "data": {
      "text/plain": [
       "0"
      ]
     },
     "execution_count": 1,
     "metadata": {},
     "output_type": "execute_result"
    }
   ],
   "source": [
    "myawg.write('*RST')"
   ]
  },
  {
   "cell_type": "code",
   "execution_count": 2,
   "metadata": {
    "scrolled": true
   },
   "outputs": [
    {
     "data": {
      "text/plain": [
       "True"
      ]
     },
     "execution_count": 2,
     "metadata": {},
     "output_type": "execute_result"
    }
   ],
   "source": [
    "myawg.write('OUTPUT1:STATE ON')\n",
    "myawg.get_errors()"
   ]
  },
  {
   "cell_type": "code",
   "execution_count": 3,
   "metadata": {},
   "outputs": [
    {
     "data": {
      "text/plain": [
       "0"
      ]
     },
     "execution_count": 3,
     "metadata": {},
     "output_type": "execute_result"
    }
   ],
   "source": [
    "myawg.load_waveform({1: '*Ramp10'})\n",
    "myawg.write('OUTPUT1:STATE ON')"
   ]
  },
  {
   "cell_type": "code",
   "execution_count": 4,
   "metadata": {},
   "outputs": [
    {
     "data": {
      "text/plain": [
       "0"
      ]
     },
     "execution_count": 4,
     "metadata": {},
     "output_type": "execute_result"
    }
   ],
   "source": [
    "myawg.write('OUTPUT1:STATE OFF')"
   ]
  },
  {
   "cell_type": "markdown",
   "metadata": {},
   "source": [
    "#### read()"
   ]
  },
  {
   "cell_type": "code",
   "execution_count": 5,
   "metadata": {},
   "outputs": [
    {
     "data": {
      "text/plain": [
       "'TEKTRONIX,AWG7122C,B051135,SCPI:99.0 FW:4.6.0.7 '"
      ]
     },
     "execution_count": 5,
     "metadata": {},
     "output_type": "execute_result"
    }
   ],
   "source": [
    "myawg.write('*IDN?')\n",
    "myawg.read()"
   ]
  },
  {
   "cell_type": "markdown",
   "metadata": {},
   "source": [
    "#### query()"
   ]
  },
  {
   "cell_type": "code",
   "execution_count": 7,
   "metadata": {},
   "outputs": [
    {
     "data": {
      "text/plain": [
       "'TEKTRONIX,AWG7122C,B051135,SCPI:99.0 FW:4.6.0.7'"
      ]
     },
     "execution_count": 7,
     "metadata": {},
     "output_type": "execute_result"
    }
   ],
   "source": [
    "myawg.query('*IDN?')"
   ]
  },
  {
   "cell_type": "code",
   "execution_count": 8,
   "metadata": {},
   "outputs": [
    {
     "data": {
      "text/plain": [
       "'1'"
      ]
     },
     "execution_count": 8,
     "metadata": {},
     "output_type": "execute_result"
    }
   ],
   "source": [
    "myawg.write('OUTPUT1:STATE ON')\n",
    "myawg.query('OUTPUT1:STATE?')"
   ]
  },
  {
   "cell_type": "code",
   "execution_count": 9,
   "metadata": {},
   "outputs": [
    {
     "data": {
      "text/plain": [
       "'0'"
      ]
     },
     "execution_count": 9,
     "metadata": {},
     "output_type": "execute_result"
    }
   ],
   "source": [
    "myawg.write('OUTPUT1:STATE OFF')\n",
    "myawg.query('OUTPUT1:STATE?')"
   ]
  },
  {
   "cell_type": "markdown",
   "metadata": {},
   "source": [
    "#### reset()"
   ]
  },
  {
   "cell_type": "code",
   "execution_count": 17,
   "metadata": {},
   "outputs": [
    {
     "data": {
      "text/plain": [
       "0"
      ]
     },
     "execution_count": 17,
     "metadata": {},
     "output_type": "execute_result"
    }
   ],
   "source": [
    "myawg.reset()  # works"
   ]
  },
  {
   "cell_type": "markdown",
   "metadata": {},
   "source": [
    "#### get_status()"
   ]
  },
  {
   "cell_type": "code",
   "execution_count": 14,
   "metadata": {},
   "outputs": [
    {
     "data": {
      "text/plain": [
       "(0, {-1: 'Failed Request or Communication', 0: 'Device has stopped, but can receive commands', 1: 'Device is active and running', 2: 'Device is waiting for trigger.'})"
      ]
     },
     "execution_count": 14,
     "metadata": {},
     "output_type": "execute_result"
    }
   ],
   "source": [
    "myawg.pulser_off()\n",
    "myawg.get_status()"
   ]
  },
  {
   "cell_type": "code",
   "execution_count": 11,
   "metadata": {},
   "outputs": [
    {
     "data": {
      "text/plain": [
       "(2, {-1: 'Failed Request or Communication', 0: 'Device has stopped, but can receive commands', 1: 'Device is active and running', 2: 'Device is waiting for trigger.'})"
      ]
     },
     "execution_count": 11,
     "metadata": {},
     "output_type": "execute_result"
    }
   ],
   "source": [
    "myawg.pulser_on()\n",
    "myawg.get_status()"
   ]
  },
  {
   "cell_type": "markdown",
   "metadata": {},
   "source": [
    "#### get_errors()"
   ]
  },
  {
   "cell_type": "code",
   "execution_count": 15,
   "metadata": {},
   "outputs": [
    {
     "data": {
      "text/plain": [
       "False"
      ]
     },
     "execution_count": 15,
     "metadata": {},
     "output_type": "execute_result"
    }
   ],
   "source": [
    "myawg.get_errors()"
   ]
  },
  {
   "cell_type": "code",
   "execution_count": 22,
   "metadata": {},
   "outputs": [
    {
     "data": {
      "text/plain": [
       "True"
      ]
     },
     "execution_count": 22,
     "metadata": {},
     "output_type": "execute_result"
    }
   ],
   "source": [
    "myawg.get_errors()"
   ]
  },
  {
   "cell_type": "markdown",
   "metadata": {},
   "source": [
    "```\n",
    "AWG7122C error: -100 \"Command error; Command not allowed - *IDN\n",
    "AWG7122C error: -101 \"Invalid character; Unexpected character found - OUTPUT1:STATE ?\n",
    "```"
   ]
  },
  {
   "cell_type": "markdown",
   "metadata": {},
   "source": [
    "### Hardware settings"
   ]
  },
  {
   "cell_type": "markdown",
   "metadata": {},
   "source": [
    "#### get_constraints()"
   ]
  },
  {
   "cell_type": "code",
   "execution_count": 22,
   "metadata": {},
   "outputs": [
    {
     "data": {
      "text/plain": [
       "<class 'interface.pulser_interface.PulserConstraints'>"
      ]
     },
     "execution_count": 22,
     "metadata": {},
     "output_type": "execute_result"
    }
   ],
   "source": [
    "constr_obj = myawg.get_constraints()\n",
    "type(constr_obj)"
   ]
  },
  {
   "cell_type": "code",
   "execution_count": 44,
   "metadata": {},
   "outputs": [
    {
     "name": "stdout",
     "output_type": "stream",
     "text": [
      "min: 10.0 MHz\n",
      "max: 12.0 GHz\n",
      "stp: 10.0 MHz\n",
      "def: 12.0 GHz\n"
     ]
    }
   ],
   "source": [
    "myawg.set_interleave(False)\n",
    "constr_obj = myawg.get_constraints()\n",
    "\n",
    "print('min: {} MHz'.format(constr_obj.sample_rate.min/1e6))\n",
    "print('max: {} GHz'.format(constr_obj.sample_rate.max/1e9))\n",
    "print('stp: {} MHz'.format(constr_obj.sample_rate.step/1e6))\n",
    "print('def: {} GHz'.format(constr_obj.sample_rate.default/1e9))"
   ]
  },
  {
   "cell_type": "code",
   "execution_count": 43,
   "metadata": {},
   "outputs": [
    {
     "name": "stdout",
     "output_type": "stream",
     "text": [
      "min: 12000.0 MHz\n",
      "max: 24.0 GHz\n",
      "stp: 0.0005 MHz\n",
      "def: 24.0 GHz\n"
     ]
    }
   ],
   "source": [
    "myawg.set_interleave(True)\n",
    "constr_obj = myawg.get_constraints()\n",
    "\n",
    "print('min: {} MHz'.format(constr_obj.sample_rate.min/1e6))\n",
    "print('max: {} GHz'.format(constr_obj.sample_rate.max/1e9))\n",
    "print('stp: {} MHz'.format(constr_obj.sample_rate.step/1e6))\n",
    "print('def: {} GHz'.format(constr_obj.sample_rate.default/1e9))"
   ]
  },
  {
   "cell_type": "code",
   "execution_count": 26,
   "metadata": {},
   "outputs": [
    {
     "name": "stdout",
     "output_type": "stream",
     "text": [
      ": set()\n",
      "all: {'a_ch2', 'd_ch2', 'd_ch3', 'd_ch4', 'd_ch1', 'a_ch1'}\n",
      "A1_M1_M2: {'d_ch1', 'd_ch2', 'a_ch1'}\n",
      "A2_M3_M4: {'a_ch2', 'd_ch4', 'd_ch3'}\n",
      "Two_Analog: {'a_ch2', 'a_ch1'}\n",
      "Analog1: {'a_ch1'}\n",
      "Analog2: {'a_ch2'}\n",
      "A1_M1_M2_A2: {'a_ch2', 'd_ch1', 'd_ch2', 'a_ch1'}\n",
      "A1_A2_M3_M4: {'a_ch2', 'd_ch4', 'a_ch1', 'd_ch3'}\n"
     ]
    }
   ],
   "source": [
    "allowed_patterns = constr_obj.activation_config\n",
    "for pattern_name, pattern_set in allowed_patterns.items():\n",
    "    print('{}: {}'.format(pattern_name, pattern_set))"
   ]
  },
  {
   "cell_type": "markdown",
   "metadata": {},
   "source": [
    "#### set_mode(), get_mode()"
   ]
  },
  {
   "cell_type": "code",
   "execution_count": 31,
   "metadata": {},
   "outputs": [
    {
     "data": {
      "text/plain": [
       "'C'"
      ]
     },
     "execution_count": 31,
     "metadata": {},
     "output_type": "execute_result"
    }
   ],
   "source": [
    "myawg.set_mode('C')\n",
    "myawg.get_mode()"
   ]
  },
  {
   "cell_type": "code",
   "execution_count": 27,
   "metadata": {},
   "outputs": [
    {
     "data": {
      "text/plain": [
       "'T'"
      ]
     },
     "execution_count": 27,
     "metadata": {},
     "output_type": "execute_result"
    }
   ],
   "source": [
    "myawg.set_mode('T')\n",
    "myawg.get_mode()"
   ]
  },
  {
   "cell_type": "code",
   "execution_count": 29,
   "metadata": {},
   "outputs": [
    {
     "data": {
      "text/plain": [
       "'G'"
      ]
     },
     "execution_count": 29,
     "metadata": {},
     "output_type": "execute_result"
    }
   ],
   "source": [
    "myawg.set_mode('G')\n",
    "myawg.get_mode()"
   ]
  },
  {
   "cell_type": "code",
   "execution_count": 30,
   "metadata": {},
   "outputs": [
    {
     "data": {
      "text/plain": [
       "'S'"
      ]
     },
     "execution_count": 30,
     "metadata": {},
     "output_type": "execute_result"
    }
   ],
   "source": [
    "myawg.set_mode('S')\n",
    "myawg.get_mode()"
   ]
  },
  {
   "cell_type": "markdown",
   "metadata": {},
   "source": [
    "#### set/get_sample_rate()"
   ]
  },
  {
   "cell_type": "code",
   "execution_count": 32,
   "metadata": {},
   "outputs": [
    {
     "data": {
      "text/plain": [
       "15000000.0"
      ]
     },
     "execution_count": 32,
     "metadata": {},
     "output_type": "execute_result"
    }
   ],
   "source": [
    "myawg.set_sample_rate(15e6)"
   ]
  },
  {
   "cell_type": "code",
   "execution_count": 33,
   "metadata": {},
   "outputs": [
    {
     "data": {
      "text/plain": [
       "10000000.0"
      ]
     },
     "execution_count": 33,
     "metadata": {},
     "output_type": "execute_result"
    }
   ],
   "source": [
    "myawg.set_sample_rate(-15e6)"
   ]
  },
  {
   "cell_type": "code",
   "execution_count": 34,
   "metadata": {},
   "outputs": [
    {
     "data": {
      "text/plain": [
       "23000000000.0"
      ]
     },
     "execution_count": 34,
     "metadata": {},
     "output_type": "execute_result"
    }
   ],
   "source": [
    "myawg.set_interleave(True)\n",
    "myawg.set_sample_rate(23e9)"
   ]
  },
  {
   "cell_type": "code",
   "execution_count": 35,
   "metadata": {},
   "outputs": [
    {
     "data": {
      "text/plain": [
       "12000000000.0"
      ]
     },
     "execution_count": 35,
     "metadata": {},
     "output_type": "execute_result"
    }
   ],
   "source": [
    "myawg.set_interleave(False)\n",
    "myawg.set_sample_rate(23e9)"
   ]
  },
  {
   "cell_type": "markdown",
   "metadata": {},
   "source": [
    "#### set/get_analog_level()"
   ]
  },
  {
   "cell_type": "code",
   "execution_count": 36,
   "metadata": {},
   "outputs": [
    {
     "name": "stdout",
     "output_type": "stream",
     "text": [
      "a_ch1: amp=0.6, offset=0.0\n",
      "a_ch2: amp=0.9, offset=0.0\n"
     ]
    }
   ],
   "source": [
    "ampl_res, offset_res = myawg.set_analog_level(\n",
    "    amplitude={'a_ch1': 0.6, 'a_ch2': 0.9},\n",
    "    offset={'a_ch1': 0, 'a_ch2': 0}  # Offset in not supported for options [02] and [06]\n",
    ")\n",
    "\n",
    "for ch_key in ampl_res:\n",
    "    print('{}: amp={}, offset={}'.format(ch_key, ampl_res[ch_key], offset_res[ch_key]))"
   ]
  },
  {
   "cell_type": "code",
   "execution_count": 37,
   "metadata": {},
   "outputs": [
    {
     "name": "stdout",
     "output_type": "stream",
     "text": [
      "a_ch1: amp=1.0, offset=0.0\n",
      "a_ch2: amp=0.9, offset=0.0\n"
     ]
    }
   ],
   "source": [
    "ampl_res, offset_res = myawg.set_analog_level(\n",
    "    amplitude={'a_ch1': 1.5, 'a_ch2': 0.9},\n",
    "    offset={'a_ch1': 0, 'a_ch2': 0}  # Offset in not supported for options [02] and [06]\n",
    ")\n",
    "\n",
    "for ch_key in ampl_res:\n",
    "    print('{}: amp={}, offset={}'.format(ch_key, ampl_res[ch_key], offset_res[ch_key]))"
   ]
  },
  {
   "cell_type": "code",
   "execution_count": 38,
   "metadata": {},
   "outputs": [
    {
     "name": "stdout",
     "output_type": "stream",
     "text": [
      "a_ch1: amp=0.95, offset=0.0\n",
      "a_ch2: amp=0.85, offset=0.0\n"
     ]
    }
   ],
   "source": [
    "ampl_res, offset_res = myawg.set_analog_level(\n",
    "    amplitude={'a_ch1': 0.95, 'a_ch2': 0.85, 'AABBCC1': 0.5},\n",
    "    offset={'a_ch1': 0, 'a_ch2': 0}  # Offset in not supported for options [02] and [06]\n",
    ")\n",
    "\n",
    "for ch_key in ampl_res:\n",
    "    print('{}: amp={}, offset={}'.format(ch_key, ampl_res[ch_key], offset_res[ch_key]))"
   ]
  },
  {
   "cell_type": "markdown",
   "metadata": {},
   "source": [
    "#### set/get_digital_level()"
   ]
  },
  {
   "cell_type": "code",
   "execution_count": 39,
   "metadata": {},
   "outputs": [
    {
     "name": "stdout",
     "output_type": "stream",
     "text": [
      "d_ch1: low=-0.2, high=0.8\n",
      "d_ch2: low=-0.1, high=0.9\n",
      "d_ch3: low=0.1, high=1.1\n",
      "d_ch4: low=0.2, high=1.2\n"
     ]
    }
   ],
   "source": [
    "low_res, high_res = myawg.set_digital_level(\n",
    "    low={'d_ch1': -0.2, 'd_ch2': -0.1, 'd_ch3': 0.1, 'd_ch4': 0.2},\n",
    "    high={'d_ch1': 0.8, 'd_ch2': 0.9, 'd_ch3': 1.1, 'd_ch4': 1.2}\n",
    ")\n",
    "\n",
    "for ch_key in low_res:\n",
    "    print('{}: low={}, high={}'.format(ch_key, low_res[ch_key], high_res[ch_key]))"
   ]
  },
  {
   "cell_type": "code",
   "execution_count": 80,
   "metadata": {},
   "outputs": [
    {
     "name": "stdout",
     "output_type": "stream",
     "text": [
      "d_ch1: low=0.3, high=0.8\n",
      "d_ch2: low=0.1, high=0.9\n",
      "d_ch3: low=0.1, high=0.6\n",
      "d_ch4: low=0.2, high=0.7\n"
     ]
    }
   ],
   "source": [
    "low_res, high_res = myawg.set_digital_level(\n",
    "    low={'d_ch1': 0.3, 'd_ch2': 0.1},\n",
    "    high={'d_ch3': 0.6, 'd_ch4': 0.7}\n",
    ")\n",
    "\n",
    "for ch_key in low_res:\n",
    "    print('{}: low={}, high={}'.format(ch_key, low_res[ch_key], high_res[ch_key]))"
   ]
  },
  {
   "cell_type": "code",
   "execution_count": 95,
   "metadata": {},
   "outputs": [
    {
     "name": "stdout",
     "output_type": "stream",
     "text": [
      "d_ch1: low=-0.2, high=1.2\n",
      "d_ch2: low=0.1, high=0.9\n",
      "d_ch3: low=0.1, high=0.6\n",
      "d_ch4: low=0.2, high=0.7\n"
     ]
    }
   ],
   "source": [
    "# NOTICE: if low and high values are too far apart (max difference is 1.4 V),\n",
    "# the last-setted param is set to the specified value, but the first-setted one is pulled to\n",
    "# meet the max distance restriction\n",
    "\n",
    "low_res, high_res = myawg.set_digital_level(\n",
    "    low={'d_ch1': -0.5},\n",
    "    high={'d_ch1': 1.2}\n",
    ")\n",
    "\n",
    "for ch_key in low_res:\n",
    "    print('{}: low={}, high={}'.format(ch_key, low_res[ch_key], high_res[ch_key]))"
   ]
  },
  {
   "cell_type": "markdown",
   "metadata": {},
   "source": [
    "#### set/get_active_channels()"
   ]
  },
  {
   "cell_type": "markdown",
   "metadata": {},
   "source": [
    "##### Potential effects of not using copy.deepcopy() [since all elements are immutable, equivalent to copy.copy()]"
   ]
  },
  {
   "cell_type": "code",
   "execution_count": 3,
   "metadata": {
    "scrolled": true
   },
   "outputs": [
    {
     "data": {
      "text/plain": [
       "{'a_ch1': False, 'a_ch2': False, 'd_ch1': False, 'd_ch2': False, 'd_ch3': False, 'd_ch4': False}"
      ]
     },
     "execution_count": 3,
     "metadata": {},
     "output_type": "execute_result"
    }
   ],
   "source": [
    "myawg._ch_state_dict"
   ]
  },
  {
   "cell_type": "code",
   "execution_count": 2,
   "metadata": {},
   "outputs": [],
   "source": [
    "ch_dict = myawg.get_active_channels()"
   ]
  },
  {
   "cell_type": "code",
   "execution_count": 4,
   "metadata": {},
   "outputs": [],
   "source": [
    "ch_dict['a_ch1'] = True"
   ]
  },
  {
   "cell_type": "code",
   "execution_count": 5,
   "metadata": {},
   "outputs": [
    {
     "data": {
      "text/plain": [
       "{'a_ch1': True, 'a_ch2': False, 'd_ch1': False, 'd_ch2': False, 'd_ch3': False, 'd_ch4': False}"
      ]
     },
     "execution_count": 5,
     "metadata": {},
     "output_type": "execute_result"
    }
   ],
   "source": [
    "myawg._ch_state_dict"
   ]
  },
  {
   "cell_type": "markdown",
   "metadata": {},
   "source": [
    "##### Final version [with copy.deepcopy()]"
   ]
  },
  {
   "cell_type": "code",
   "execution_count": 1,
   "metadata": {
    "scrolled": true
   },
   "outputs": [
    {
     "data": {
      "text/plain": [
       "['a_ch1', 'a_ch2', 'd_ch1', 'd_ch2', 'd_ch3', 'd_ch4']"
      ]
     },
     "execution_count": 1,
     "metadata": {},
     "output_type": "execute_result"
    }
   ],
   "source": [
    "myawg._get_all_channels()"
   ]
  },
  {
   "cell_type": "code",
   "execution_count": 2,
   "metadata": {},
   "outputs": [
    {
     "name": "stdout",
     "output_type": "stream",
     "text": [
      "a_ch1: False\n",
      "a_ch2: False\n",
      "d_ch1: False\n",
      "d_ch2: False\n",
      "d_ch3: False\n",
      "d_ch4: False\n"
     ]
    }
   ],
   "source": [
    "ch_st_dict = myawg.get_active_channels()\n",
    "for ch_name, ch_state  in ch_st_dict.items():\n",
    "    print('{}: {}'.format(ch_name, ch_state))"
   ]
  },
  {
   "cell_type": "code",
   "execution_count": 3,
   "metadata": {},
   "outputs": [
    {
     "name": "stdout",
     "output_type": "stream",
     "text": [
      "a_ch1: True\n",
      "a_ch2: True\n",
      "d_ch1: True\n",
      "d_ch2: True\n",
      "d_ch3: False\n",
      "d_ch4: False\n"
     ]
    }
   ],
   "source": [
    "myawg.set_active_channels(\n",
    "    {'a_ch1': True, \n",
    "     'a_ch2': True,\n",
    "     'd_ch1': True,\n",
    "     'd_ch2': True,\n",
    "     'd_ch3': False,\n",
    "     'd_ch4': False    \n",
    "    }\n",
    ")\n",
    "\n",
    "ch_st_dict = myawg.get_active_channels()\n",
    "for ch_name, ch_state  in ch_st_dict.items():\n",
    "    print('{}: {}'.format(ch_name, ch_state))"
   ]
  },
  {
   "cell_type": "code",
   "execution_count": 4,
   "metadata": {},
   "outputs": [
    {
     "name": "stdout",
     "output_type": "stream",
     "text": [
      "a_ch1: True\n",
      "a_ch2: True\n",
      "d_ch1: True\n",
      "d_ch2: True\n",
      "d_ch3: True\n",
      "d_ch4: True\n"
     ]
    }
   ],
   "source": [
    "myawg.set_active_channels(\n",
    "    {'a_ch1': True, \n",
    "     'a_ch2': True,\n",
    "     'd_ch1': True,\n",
    "     'd_ch2': True,\n",
    "     'd_ch3': True,\n",
    "     'd_ch4': True,\n",
    "    }\n",
    ")\n",
    "\n",
    "myawg.set_active_channels(\n",
    "    {'a_ch1': True, \n",
    "     'a_ch2': False,\n",
    "     'd_ch1': True,\n",
    "     'd_ch2': True,\n",
    "     'd_ch3': True,\n",
    "     'd_ch4': True    \n",
    "    }\n",
    ")\n",
    "\n",
    "ch_st_dict = myawg.get_active_channels()\n",
    "for ch_name, ch_state  in ch_st_dict.items():\n",
    "    print('{}: {}'.format(ch_name, ch_state))"
   ]
  },
  {
   "cell_type": "markdown",
   "metadata": {},
   "source": [
    "`Transition to ({'d_ch3', 'd_ch1', 'a_ch1', 'd_ch4', 'd_ch2'}) active channels is not allowed according to constraints.\n",
    "set_active_channels() aborted. Channel states not changed`"
   ]
  },
  {
   "cell_type": "code",
   "execution_count": 5,
   "metadata": {},
   "outputs": [
    {
     "name": "stdout",
     "output_type": "stream",
     "text": [
      "a_ch1: True\n",
      "a_ch2: True\n",
      "d_ch1: True\n",
      "d_ch2: True\n",
      "d_ch3: True\n",
      "d_ch4: True\n"
     ]
    }
   ],
   "source": [
    "myawg.set_active_channels(\n",
    "    {'a_ch1': True, \n",
    "     'a_ch2': True,\n",
    "     'd_ch1': True,\n",
    "     'd_ch2': True,\n",
    "     'd_ch3': True,\n",
    "     'd_ch4': True,\n",
    "    }\n",
    ")\n",
    "\n",
    "myawg.set_active_channels(\n",
    "    {'a_ch1': True, \n",
    "     'a_ch2': False,\n",
    "     'd_ch1': True,\n",
    "     'd_ch2': True,\n",
    "     'd_ch3': False,\n",
    "     'd_ch4': False,\n",
    "     'd_ch5': False\n",
    "    }\n",
    ")\n",
    "\n",
    "ch_st_dict = myawg.get_active_channels()\n",
    "for ch_name, ch_state  in ch_st_dict.items():\n",
    "    print('{}: {}'.format(ch_name, ch_state))"
   ]
  },
  {
   "cell_type": "markdown",
   "metadata": {},
   "source": [
    "`Trying to (de)activate channels that are not present in AWG.\n",
    "Setting of channel activation aborted.`"
   ]
  },
  {
   "cell_type": "code",
   "execution_count": 6,
   "metadata": {},
   "outputs": [
    {
     "name": "stdout",
     "output_type": "stream",
     "text": [
      "a_ch1: True\n",
      "a_ch2: False\n",
      "d_ch1: False\n",
      "d_ch2: False\n",
      "d_ch3: False\n",
      "d_ch4: False\n"
     ]
    }
   ],
   "source": [
    "myawg.set_active_channels(\n",
    "    {'a_ch1': False, \n",
    "     'a_ch2': False,\n",
    "     'd_ch1': False,\n",
    "     'd_ch2': False,\n",
    "     'd_ch3': False,\n",
    "     'd_ch4': False,\n",
    "    }\n",
    ")\n",
    "\n",
    "myawg.set_active_channels(\n",
    "    {'a_ch1': True}\n",
    ")\n",
    "\n",
    "ch_st_dict = myawg.get_active_channels()\n",
    "for ch_name, ch_state  in ch_st_dict.items():\n",
    "    print('{}: {}'.format(ch_name, ch_state))"
   ]
  },
  {
   "cell_type": "code",
   "execution_count": 7,
   "metadata": {},
   "outputs": [
    {
     "data": {
      "text/plain": [
       "{'a_ch1': True, 'd_ch4': False}"
      ]
     },
     "execution_count": 7,
     "metadata": {},
     "output_type": "execute_result"
    }
   ],
   "source": [
    "myawg.set_active_channels(\n",
    "    {'a_ch1': True, \n",
    "     'a_ch2': False,\n",
    "     'd_ch1': False,\n",
    "     'd_ch2': False,\n",
    "     'd_ch3': False,\n",
    "     'd_ch4': False,\n",
    "    }\n",
    ")\n",
    "\n",
    "myawg.get_active_channels(['a_ch1', 'd_ch4'])"
   ]
  },
  {
   "cell_type": "code",
   "execution_count": 8,
   "metadata": {},
   "outputs": [
    {
     "data": {
      "text/plain": [
       "{'a_ch1': True, 'd_ch4': False}"
      ]
     },
     "execution_count": 8,
     "metadata": {},
     "output_type": "execute_result"
    }
   ],
   "source": [
    "myawg.set_active_channels(\n",
    "    {'a_ch1': True, \n",
    "     'a_ch2': False,\n",
    "     'd_ch1': False,\n",
    "     'd_ch2': False,\n",
    "     'd_ch3': False,\n",
    "     'd_ch4': False,\n",
    "    }\n",
    ")\n",
    "\n",
    "myawg.get_active_channels(['a_ch1', 'd_ch4', 'd_ch5'])"
   ]
  },
  {
   "cell_type": "markdown",
   "metadata": {},
   "source": [
    "`Channel \"d_ch5\" is not available in AWG.\n",
    "Ignore channel state request for this entry.`"
   ]
  },
  {
   "cell_type": "markdown",
   "metadata": {},
   "source": [
    "#### pulser_on/off()"
   ]
  },
  {
   "cell_type": "markdown",
   "metadata": {},
   "source": [
    "##### \\_get_channel_state()"
   ]
  },
  {
   "cell_type": "code",
   "execution_count": 11,
   "metadata": {},
   "outputs": [
    {
     "name": "stdout",
     "output_type": "stream",
     "text": [
      "a_ch1: True\n",
      "d_ch2: True\n",
      "d_ch1: True\n",
      "a_ch2: False\n",
      "d_ch4: False\n",
      "d_ch3: False\n"
     ]
    }
   ],
   "source": [
    "ch_st_dict = myawg._get_channel_state()\n",
    "for ch_name, ch_state  in ch_st_dict.items():\n",
    "    print('{}: {}'.format(ch_name, ch_state))"
   ]
  },
  {
   "cell_type": "code",
   "execution_count": 12,
   "metadata": {},
   "outputs": [
    {
     "name": "stdout",
     "output_type": "stream",
     "text": [
      "a_ch1: True\n",
      "d_ch2: True\n"
     ]
    }
   ],
   "source": [
    "ch_st_dict = myawg._get_channel_state(['a_ch1', 'd_ch2', 'd_ch5'])\n",
    "for ch_name, ch_state  in ch_st_dict.items():\n",
    "    print('{}: {}'.format(ch_name, ch_state))"
   ]
  },
  {
   "cell_type": "markdown",
   "metadata": {},
   "source": [
    "`Channel \"d_ch5\" is not available in AWG.\n",
    "Ignore channel state request for this entry.`"
   ]
  },
  {
   "cell_type": "markdown",
   "metadata": {},
   "source": [
    "##### \\_activate_channels()"
   ]
  },
  {
   "cell_type": "code",
   "execution_count": 14,
   "metadata": {},
   "outputs": [
    {
     "name": "stdout",
     "output_type": "stream",
     "text": [
      "a_ch1: True\n",
      "d_ch2: True\n",
      "d_ch1: True\n",
      "a_ch2: True\n",
      "d_ch4: False\n",
      "d_ch3: False\n"
     ]
    }
   ],
   "source": [
    "myawg.set_active_channels(\n",
    "    {'a_ch1': True,\n",
    "     'd_ch1': True,\n",
    "     'd_ch2': True,\n",
    "     'a_ch2': True,\n",
    "     'd_ch3': False,\n",
    "     'd_ch4': False,\n",
    "    }\n",
    ")\n",
    "\n",
    "myawg._activate_channels()\n",
    "\n",
    "ch_st_dict = myawg._get_channel_state()\n",
    "for ch_name, ch_state  in ch_st_dict.items():\n",
    "    print('{}: {}'.format(ch_name, ch_state))"
   ]
  },
  {
   "cell_type": "code",
   "execution_count": 18,
   "metadata": {},
   "outputs": [
    {
     "name": "stdout",
     "output_type": "stream",
     "text": [
      "a_ch1: True\n",
      "d_ch2: True\n",
      "d_ch1: True\n",
      "a_ch2: False\n",
      "d_ch4: False\n",
      "d_ch3: False\n"
     ]
    }
   ],
   "source": [
    "# Analog Channel 1 has a wevoform loaded\n",
    "# Manually deleted waveform from Analog Channel 2 (via AWG's screen)\n",
    "\n",
    "myawg.set_active_channels(\n",
    "    {'a_ch1': True,\n",
    "     'd_ch1': True,\n",
    "     'd_ch2': True,\n",
    "     'a_ch2': True,\n",
    "     'd_ch3': False,\n",
    "     'd_ch4': False,\n",
    "    }\n",
    ")\n",
    "\n",
    "myawg._activate_channels()\n",
    "\n",
    "ch_st_dict = myawg._get_channel_state()\n",
    "for ch_name, ch_state  in ch_st_dict.items():\n",
    "    print('{}: {}'.format(ch_name, ch_state))"
   ]
  },
  {
   "cell_type": "markdown",
   "metadata": {},
   "source": [
    "```\n",
    "AWG7122C error: 6000 \"Other error; E11506 - OUTPUT2:STATE ON\n",
    "-----------\n",
    "Activation of channels by _activate_channels() failed\n",
    "The expected state: {'a_ch1': True, 'a_ch2': True, 'd_ch1': True, 'd_ch2': True, 'd_ch3': False, 'd_ch4': False}\n",
    "The obtained state: {'a_ch1': True, 'a_ch2': False, 'd_ch1': True, 'd_ch2': True, 'd_ch3': False, 'd_ch4': False}\n",
    "\n",
    "```"
   ]
  },
  {
   "cell_type": "markdown",
   "metadata": {},
   "source": [
    "##### pulser_on/off()"
   ]
  },
  {
   "cell_type": "code",
   "execution_count": 15,
   "metadata": {},
   "outputs": [
    {
     "data": {
      "text/plain": [
       "2"
      ]
     },
     "execution_count": 15,
     "metadata": {},
     "output_type": "execute_result"
    }
   ],
   "source": [
    "myawg.set_active_channels(\n",
    "    {'a_ch1': True,\n",
    "     'd_ch1': True,\n",
    "     'd_ch2': True,\n",
    "     'a_ch2': True,\n",
    "     'd_ch3': False,\n",
    "     'd_ch4': False,\n",
    "    }\n",
    ")\n",
    "\n",
    "myawg.pulser_on()"
   ]
  },
  {
   "cell_type": "code",
   "execution_count": 16,
   "metadata": {},
   "outputs": [
    {
     "name": "stdout",
     "output_type": "stream",
     "text": [
      "a_ch1: True\n",
      "a_ch2: True\n",
      "d_ch1: True\n",
      "d_ch2: True\n",
      "d_ch3: False\n",
      "d_ch4: False\n"
     ]
    }
   ],
   "source": [
    "myawg.pulser_off()\n",
    "    \n",
    "ch_st_dict = myawg.get_active_channels()\n",
    "for ch_name, ch_state  in ch_st_dict.items():\n",
    "    print('{}: {}'.format(ch_name, ch_state))"
   ]
  },
  {
   "cell_type": "code",
   "execution_count": 17,
   "metadata": {},
   "outputs": [
    {
     "data": {
      "text/plain": [
       "2"
      ]
     },
     "execution_count": 17,
     "metadata": {},
     "output_type": "execute_result"
    }
   ],
   "source": [
    "myawg.set_active_channels(\n",
    "    {'a_ch1': True,\n",
    "     'd_ch1': True,\n",
    "     'd_ch2': True,\n",
    "     'a_ch2': False,\n",
    "     'd_ch3': False,\n",
    "     'd_ch4': False,\n",
    "    }\n",
    ")\n",
    "\n",
    "myawg.pulser_on()"
   ]
  },
  {
   "cell_type": "code",
   "execution_count": 18,
   "metadata": {},
   "outputs": [
    {
     "name": "stdout",
     "output_type": "stream",
     "text": [
      "a_ch1: True\n",
      "a_ch2: False\n",
      "d_ch1: True\n",
      "d_ch2: True\n",
      "d_ch3: False\n",
      "d_ch4: False\n"
     ]
    }
   ],
   "source": [
    "myawg.pulser_off()\n",
    "    \n",
    "ch_st_dict = myawg.get_active_channels()\n",
    "for ch_name, ch_state  in ch_st_dict.items():\n",
    "    print('{}: {}'.format(ch_name, ch_state))"
   ]
  },
  {
   "cell_type": "markdown",
   "metadata": {},
   "source": [
    "#### set/get_interleave()"
   ]
  },
  {
   "cell_type": "code",
   "execution_count": 9,
   "metadata": {},
   "outputs": [
    {
     "data": {
      "text/plain": [
       "True"
      ]
     },
     "execution_count": 9,
     "metadata": {},
     "output_type": "execute_result"
    }
   ],
   "source": [
    "myawg.set_interleave(state=True)"
   ]
  },
  {
   "cell_type": "code",
   "execution_count": 10,
   "metadata": {},
   "outputs": [
    {
     "data": {
      "text/plain": [
       "False"
      ]
     },
     "execution_count": 10,
     "metadata": {},
     "output_type": "execute_result"
    }
   ],
   "source": [
    "myawg.set_interleave(False)"
   ]
  },
  {
   "cell_type": "markdown",
   "metadata": {},
   "source": [
    "#### set_lowpass_filter()   [not awailable on this AWG]"
   ]
  },
  {
   "cell_type": "code",
   "execution_count": 44,
   "metadata": {},
   "outputs": [
    {
     "name": "stderr",
     "output_type": "stream",
     "text": [
      "Traceback (most recent call last):\n",
      "  File \"C:\\Users\\Lukin SiV\\qudi\\logic\\jupyterkernel\\qzmqkernel.py\", line 795, in run_code\n",
      "    exec(code_obj, self.user_global_ns, self.user_ns)\n",
      "  File \"<ipython-input-44-e158c0ec888f>\", line 1, in <module>\n",
      "    myawg.query('OUTPUT1:FILTER:LPASS:FREQUENCY?')\n",
      "  File \"C:\\Users\\Lukin SiV\\qudi\\hardware\\awg\\tektronix_awg7k.py\", line 184, in query\n",
      "    answer = self.awg.query(question)\n",
      "  File \"C:\\Anaconda\\envs\\qudi\\lib\\site-packages\\pyvisa\\resources\\messagebased.py\", line 564, in query\n",
      "    return self.read()\n",
      "  File \"C:\\Anaconda\\envs\\qudi\\lib\\site-packages\\pyvisa\\resources\\messagebased.py\", line 413, in read\n",
      "    message = self._read_raw().decode(enco)\n",
      "  File \"C:\\Anaconda\\envs\\qudi\\lib\\site-packages\\pyvisa\\resources\\messagebased.py\", line 386, in _read_raw\n",
      "    chunk, status = self.visalib.read(self.session, size)\n",
      "  File \"C:\\Anaconda\\envs\\qudi\\lib\\site-packages\\pyvisa\\ctwrapper\\functions.py\", line 1584, in read\n",
      "    ret = library.viRead(session, buffer, count, byref(return_count))\n",
      "  File \"C:\\Anaconda\\envs\\qudi\\lib\\site-packages\\pyvisa\\ctwrapper\\highlevel.py\", line 188, in _return_handler\n",
      "    raise errors.VisaIOError(ret_value)\n",
      "pyvisa.errors.VisaIOError: VI_ERROR_TMO (-1073807339): Timeout expired before operation completed.\n"
     ]
    }
   ],
   "source": [
    "myawg.query('OUTPUT1:FILTER:LPASS:FREQUENCY?')"
   ]
  },
  {
   "cell_type": "markdown",
   "metadata": {},
   "source": [
    "`OUTPut[n]:FILTer[:LPASs]:FREQuency`\n",
    "This command and query sets or returns the low-pass filter frequency of the\n",
    "filter. INFinity is same as Through (no filter). This command is not available on\n",
    "instruments with option 02 or option 06"
   ]
  },
  {
   "cell_type": "code",
   "execution_count": 45,
   "metadata": {},
   "outputs": [],
   "source": [
    "myawg.set_lowpass_filter(a_ch=1, cutoff_freq=100)"
   ]
  },
  {
   "cell_type": "markdown",
   "metadata": {},
   "source": [
    "`Low-pass filter is not available for options [02] and [06]. set_lowpass_filter() request was ignored`"
   ]
  },
  {
   "cell_type": "code",
   "execution_count": 32,
   "metadata": {},
   "outputs": [
    {
     "data": {
      "text/plain": [
       "'0'"
      ]
     },
     "execution_count": 32,
     "metadata": {},
     "output_type": "execute_result"
    }
   ],
   "source": [
    "myawg.query('AWGC:RST?')"
   ]
  },
  {
   "cell_type": "markdown",
   "metadata": {},
   "source": [
    "## Waveform and Sequence generation methods"
   ]
  },
  {
   "cell_type": "markdown",
   "metadata": {},
   "source": [
    "### Waveform"
   ]
  },
  {
   "cell_type": "markdown",
   "metadata": {},
   "source": [
    "#### write_waveform()"
   ]
  },
  {
   "cell_type": "markdown",
   "metadata": {},
   "source": [
    "##### \\_write_wfm()"
   ]
  },
  {
   "cell_type": "code",
   "execution_count": 1,
   "metadata": {},
   "outputs": [],
   "source": [
    "import numpy as np"
   ]
  },
  {
   "cell_type": "code",
   "execution_count": 19,
   "metadata": {},
   "outputs": [],
   "source": [
    "anlg_smpl_ar = np.zeros(10, dtype='float32')\n",
    "\n",
    "for i in range(len(anlg_smpl_ar)):\n",
    "    anlg_smpl_ar[i] = i/10\n",
    "    \n",
    "dg_smpl_ar = np.zeros(10, dtype='uint8')\n",
    "dg_smpl_ar[0] = 0\n",
    "dg_smpl_ar[1] = 1\n",
    "dg_smpl_ar[2] = 2\n",
    "dg_smpl_ar[3] = 3\n",
    "dg_smpl_ar[4] = 0b00000000\n",
    "dg_smpl_ar[5] = 0b00000001\n",
    "dg_smpl_ar[6] = 0b00000010\n",
    "dg_smpl_ar[7] = 0b00000011\n",
    "dg_smpl_ar[8] = 0b00000010\n",
    "dg_smpl_ar[9] = 0b00000001"
   ]
  },
  {
   "cell_type": "code",
   "execution_count": 18,
   "metadata": {},
   "outputs": [
    {
     "data": {
      "text/plain": [
       "2"
      ]
     },
     "execution_count": 18,
     "metadata": {},
     "output_type": "execute_result"
    }
   ],
   "source": [
    "0b00000010"
   ]
  },
  {
   "cell_type": "code",
   "execution_count": 21,
   "metadata": {},
   "outputs": [
    {
     "data": {
      "text/plain": [
       "array([0, 1, 2, 3, 0, 1, 2, 3, 2, 1], dtype=uint8)"
      ]
     },
     "execution_count": 21,
     "metadata": {},
     "output_type": "execute_result"
    }
   ],
   "source": [
    "dg_smpl_ar"
   ]
  },
  {
   "cell_type": "code",
   "execution_count": 20,
   "metadata": {
    "scrolled": true
   },
   "outputs": [
    {
     "data": {
      "text/plain": [
       "array([0. , 0.1, 0.2, 0.3, 0.4, 0.5, 0.6, 0.7, 0.8, 0.9], dtype=float32)"
      ]
     },
     "execution_count": 20,
     "metadata": {},
     "output_type": "execute_result"
    }
   ],
   "source": [
    "anlg_smpl_ar"
   ]
  },
  {
   "cell_type": "code",
   "execution_count": 27,
   "metadata": {},
   "outputs": [],
   "source": [
    "myawg._write_wfm(\n",
    "    filename='test1',\n",
    "    analog_samples=anlg_smpl_ar,\n",
    "    marker_bytes=dg_smpl_ar,\n",
    "    is_first_chunk=True,\n",
    "    is_last_chunk=True,\n",
    "    total_number_of_samples=10\n",
    ")"
   ]
  },
  {
   "cell_type": "code",
   "execution_count": 5,
   "metadata": {},
   "outputs": [
    {
     "data": {
      "text/plain": [
       "12000000000.0"
      ]
     },
     "execution_count": 5,
     "metadata": {},
     "output_type": "execute_result"
    }
   ],
   "source": [
    "myawg.get_sample_rate()"
   ]
  },
  {
   "cell_type": "markdown",
   "metadata": {},
   "source": [
    "Method works correctly"
   ]
  },
  {
   "cell_type": "markdown",
   "metadata": {},
   "source": [
    "![title](2.png)"
   ]
  },
  {
   "cell_type": "markdown",
   "metadata": {},
   "source": [
    "##### write_waveform()"
   ]
  },
  {
   "cell_type": "code",
   "execution_count": 115,
   "metadata": {},
   "outputs": [],
   "source": [
    "a_samp = {\n",
    "    'a_ch1': np.array([0.0, 0.1, 0.2, 0.3, 0.4, 0.5, 0.6, 0.7, 0.8, 0.9], dtype='float32'),\n",
    "    'a_ch2': np.array([-0.0, -0.1, -0.2, -0.3, -0.4, -0.5, -0.6, -0.7, -0.8, -0.9], dtype='float32')\n",
    "}\n",
    "\n",
    "d_samp = {\n",
    "    'd_ch1': np.array([True, False, True, False, True, False, True, False, True, False]),\n",
    "    'd_ch2': np.array([False, True, False, True, False, True, False, True, False, True]),\n",
    "    'd_ch3': np.array([True, True, False, False, True, True, False, False, True, True]),\n",
    "    'd_ch4': np.array([False, False, True, True, False, False, True, True, False, False])\n",
    "}"
   ]
  },
  {
   "cell_type": "code",
   "execution_count": 116,
   "metadata": {},
   "outputs": [
    {
     "data": {
      "text/plain": [
       "(10, ['test2_ch1', 'test2_ch2'])"
      ]
     },
     "execution_count": 116,
     "metadata": {},
     "output_type": "execute_result"
    }
   ],
   "source": [
    "myawg.write_waveform(\n",
    "    name='test2',\n",
    "    analog_samples=a_samp,\n",
    "    digital_samples=d_samp,\n",
    "    is_first_chunk=True,\n",
    "    is_last_chunk=True,\n",
    "    total_number_of_samples=10\n",
    ")"
   ]
  },
  {
   "cell_type": "markdown",
   "metadata": {},
   "source": [
    "Method works correctly"
   ]
  },
  {
   "cell_type": "markdown",
   "metadata": {},
   "source": [
    "![title](4.png)"
   ]
  },
  {
   "cell_type": "markdown",
   "metadata": {},
   "source": [
    "###### Warning if active channel set doesn't match the waveform"
   ]
  },
  {
   "cell_type": "code",
   "execution_count": 6,
   "metadata": {},
   "outputs": [],
   "source": [
    "a_samp = {\n",
    "    'a_ch1': np.array([0.0, 0.1, 0.2, 0.3, 0.4, 0.5, 0.6, 0.7, 0.8, 0.9], dtype='float32'),\n",
    "    'a_ch2': np.array([-0.0, -0.1, -0.2, -0.3, -0.4, -0.5, -0.6, -0.7, -0.8, -0.9], dtype='float32')\n",
    "}\n",
    "\n",
    "d_samp = {\n",
    "    'd_ch1': np.array([True, False, True, False, True, False, True, False, True, False]),\n",
    "    'd_ch2': np.array([False, True, False, True, False, True, False, True, False, True]),\n",
    "    'd_ch3': np.array([True, True, False, False, True, True, False, False, True, True]),\n",
    "    'd_ch4': np.array([False, False, True, True, False, False, True, True, False, False])\n",
    "}"
   ]
  },
  {
   "cell_type": "code",
   "execution_count": 9,
   "metadata": {},
   "outputs": [
    {
     "name": "stdout",
     "output_type": "stream",
     "text": [
      "a_ch1: True\n",
      "a_ch2: True\n",
      "d_ch1: False\n",
      "d_ch2: False\n",
      "d_ch3: False\n",
      "d_ch4: False\n"
     ]
    },
    {
     "data": {
      "text/plain": [
       "(10, ['test2_ch1', 'test2_ch2'])"
      ]
     },
     "execution_count": 9,
     "metadata": {},
     "output_type": "execute_result"
    }
   ],
   "source": [
    "ch_st_dict = myawg.get_active_channels()\n",
    "for ch_name, ch_state  in ch_st_dict.items():\n",
    "    print('{}: {}'.format(ch_name, ch_state))\n",
    "\n",
    "myawg.write_waveform(\n",
    "    name='test2',\n",
    "    analog_samples=a_samp,\n",
    "    digital_samples=d_samp,\n",
    "    is_first_chunk=True,\n",
    "    is_last_chunk=True,\n",
    "    total_number_of_samples=10\n",
    ")"
   ]
  },
  {
   "cell_type": "markdown",
   "metadata": {},
   "source": [
    "![title](6.png)"
   ]
  },
  {
   "cell_type": "markdown",
   "metadata": {},
   "source": [
    "###### Error if not all arrays have same length"
   ]
  },
  {
   "cell_type": "code",
   "execution_count": 3,
   "metadata": {},
   "outputs": [],
   "source": [
    "a_samp = {\n",
    "    'a_ch1': np.array([0.0, 0.1, 0.2, 0.3, 0.4, 0.5, 0.6, 0.7, 0.8, 0.9], dtype='float32'),\n",
    "    'a_ch2': np.array([-0.0, -0.1, -0.2, -0.3, -0.4, -0.5], dtype='float32')\n",
    "}\n",
    "\n",
    "d_samp = {\n",
    "    'd_ch1': np.array([True, False, True, False, True, False, True, False, True, False]),\n",
    "    'd_ch2': np.array([False, True, False, True, False, True, False, True, False, True]),\n",
    "    'd_ch3': np.array([True, True, False, False, True, True, False, False, True, True]),\n",
    "    'd_ch4': np.array([False, False, True, True, False, False, True, True, False, False])\n",
    "}"
   ]
  },
  {
   "cell_type": "code",
   "execution_count": 194,
   "metadata": {},
   "outputs": [
    {
     "data": {
      "text/plain": [
       "(10, ['test2_ch1', 'test2_ch2'])"
      ]
     },
     "execution_count": 194,
     "metadata": {},
     "output_type": "execute_result"
    }
   ],
   "source": [
    "myawg.write_waveform(\n",
    "    name='test2',\n",
    "    analog_samples=a_samp,\n",
    "    digital_samples=d_samp,\n",
    "    is_first_chunk=True,\n",
    "    is_last_chunk=True,\n",
    "    total_number_of_samples=10\n",
    ")"
   ]
  },
  {
   "cell_type": "markdown",
   "metadata": {},
   "source": [
    "![title](8.png)"
   ]
  },
  {
   "cell_type": "code",
   "execution_count": 5,
   "metadata": {},
   "outputs": [],
   "source": [
    "a_samp = {\n",
    "    'a_ch1': np.array([0.0, 0.1, 0.2, 0.3, 0.4, 0.5, 0.6, 0.7, 0.8, 0.9], dtype='float32'),\n",
    "    'a_ch2': np.array([-0.0, -0.1, -0.2, -0.3, -0.4, -0.5, -0.6, -0.7, -0.8, -0.9], dtype='float32')\n",
    "}\n",
    "\n",
    "d_samp = {\n",
    "    'd_ch1': np.array([True, False, True, False, True, False, True]),\n",
    "    'd_ch2': np.array([False, True, False, True, False, True, False, True, False, True]),\n",
    "    'd_ch3': np.array([True, True, False, False, True, True, False, False, True, True]),\n",
    "    'd_ch4': np.array([False, False, True, True, False, False, True, True, False, False])\n",
    "}"
   ]
  },
  {
   "cell_type": "code",
   "execution_count": 6,
   "metadata": {},
   "outputs": [
    {
     "data": {
      "text/plain": [
       "(-1, [])"
      ]
     },
     "execution_count": 6,
     "metadata": {},
     "output_type": "execute_result"
    }
   ],
   "source": [
    "myawg.write_waveform(\n",
    "    name='test2',\n",
    "    analog_samples=a_samp,\n",
    "    digital_samples=d_samp,\n",
    "    is_first_chunk=True,\n",
    "    is_last_chunk=True,\n",
    "    total_number_of_samples=10\n",
    ")"
   ]
  },
  {
   "cell_type": "markdown",
   "metadata": {},
   "source": [
    "![title](8.png)"
   ]
  },
  {
   "cell_type": "markdown",
   "metadata": {},
   "source": [
    "#### load_waveform()"
   ]
  },
  {
   "cell_type": "code",
   "execution_count": 7,
   "metadata": {},
   "outputs": [
    {
     "data": {
      "text/plain": [
       "({1: 'test2_ch1', 2: 'test2_ch2'}, 'waveform')"
      ]
     },
     "execution_count": 7,
     "metadata": {},
     "output_type": "execute_result"
    }
   ],
   "source": [
    "myawg.load_waveform(\n",
    "    {1: 'test2_ch1', 2: 'test2_ch2'}\n",
    ")"
   ]
  },
  {
   "cell_type": "markdown",
   "metadata": {},
   "source": [
    "Method works correctly"
   ]
  },
  {
   "cell_type": "markdown",
   "metadata": {},
   "source": [
    "![title](5.png)"
   ]
  },
  {
   "cell_type": "markdown",
   "metadata": {},
   "source": [
    "##### Error if the channel is not active"
   ]
  },
  {
   "cell_type": "code",
   "execution_count": 11,
   "metadata": {},
   "outputs": [
    {
     "data": {
      "text/plain": [
       "({1: '', 2: ''}, 'waveform')"
      ]
     },
     "execution_count": 11,
     "metadata": {},
     "output_type": "execute_result"
    }
   ],
   "source": [
    "myawg.set_active_channels(\n",
    "    {'a_ch1': True, \n",
    "     'a_ch2': False,\n",
    "     'd_ch1': False,\n",
    "     'd_ch2': False,\n",
    "     'd_ch3': False,\n",
    "     'd_ch4': False    \n",
    "    }\n",
    ")\n",
    "    \n",
    "myawg.load_waveform(\n",
    "    {1: 'test2_ch1', 2: 'test2_ch2'}\n",
    ")"
   ]
  },
  {
   "cell_type": "markdown",
   "metadata": {},
   "source": [
    "![title](10.png)"
   ]
  },
  {
   "cell_type": "markdown",
   "metadata": {},
   "source": [
    "#### get_waveform_names()"
   ]
  },
  {
   "cell_type": "code",
   "execution_count": 14,
   "metadata": {},
   "outputs": [
    {
     "data": {
      "text/plain": [
       "['*Clock960', '*DC', '*PRBS - X^15+X^14+1', '*PRBS - X^7+X^6+1', '*PRBS - X^9+X^5+1', '*PRBS - X^9+X^8+X^5+X^4+1', '*Ramp10', '*Ramp100', '*Ramp1000', '*Ramp960', '*Sine10', '*Sine100', '*Sine1000', '*Sine36', '*Sine360', '*Sine3600', '*Sine960', '*Square10', '*Square100', '*Square1000', '*Square960', '*Triangle10', '*Triangle100', '*Triangle1000', '*Triangle960', 'laser_on_ch1', 'laser_on_ch2', 'test2_ch1', 'test2_ch2']"
      ]
     },
     "execution_count": 14,
     "metadata": {},
     "output_type": "execute_result"
    }
   ],
   "source": [
    "myawg.get_waveform_names()"
   ]
  },
  {
   "cell_type": "code",
   "execution_count": 15,
   "metadata": {},
   "outputs": [
    {
     "name": "stdout",
     "output_type": "stream",
     "text": [
      "*Clock960\n",
      "*DC\n",
      "*PRBS - X^15+X^14+1\n",
      "*PRBS - X^7+X^6+1\n",
      "*PRBS - X^9+X^5+1\n",
      "*PRBS - X^9+X^8+X^5+X^4+1\n",
      "*Ramp10\n",
      "*Ramp100\n",
      "*Ramp1000\n",
      "*Ramp960\n",
      "*Sine10\n",
      "*Sine100\n",
      "*Sine1000\n",
      "*Sine36\n",
      "*Sine360\n",
      "*Sine3600\n",
      "*Sine960\n",
      "*Square10\n",
      "*Square100\n",
      "*Square1000\n",
      "*Square960\n",
      "*Triangle10\n",
      "*Triangle100\n",
      "*Triangle1000\n",
      "*Triangle960\n",
      "laser_on_ch1\n",
      "laser_on_ch2\n",
      "test2_ch1\n",
      "test2_ch2\n"
     ]
    }
   ],
   "source": [
    "for wfm_name in myawg.get_waveform_names():\n",
    "    print(wfm_name)"
   ]
  },
  {
   "cell_type": "markdown",
   "metadata": {},
   "source": [
    "#### delete_waveform()"
   ]
  },
  {
   "cell_type": "code",
   "execution_count": 16,
   "metadata": {},
   "outputs": [
    {
     "data": {
      "text/plain": [
       "['laser_on_ch1']"
      ]
     },
     "execution_count": 16,
     "metadata": {},
     "output_type": "execute_result"
    }
   ],
   "source": [
    "myawg.delete_waveform('laser_on_ch1')"
   ]
  },
  {
   "cell_type": "code",
   "execution_count": 17,
   "metadata": {},
   "outputs": [
    {
     "name": "stdout",
     "output_type": "stream",
     "text": [
      "*Clock960\n",
      "*DC\n",
      "*PRBS - X^15+X^14+1\n",
      "*PRBS - X^7+X^6+1\n",
      "*PRBS - X^9+X^5+1\n",
      "*PRBS - X^9+X^8+X^5+X^4+1\n",
      "*Ramp10\n",
      "*Ramp100\n",
      "*Ramp1000\n",
      "*Ramp960\n",
      "*Sine10\n",
      "*Sine100\n",
      "*Sine1000\n",
      "*Sine36\n",
      "*Sine360\n",
      "*Sine3600\n",
      "*Sine960\n",
      "*Square10\n",
      "*Square100\n",
      "*Square1000\n",
      "*Square960\n",
      "*Triangle10\n",
      "*Triangle100\n",
      "*Triangle1000\n",
      "*Triangle960\n",
      "laser_on_ch2\n",
      "test2_ch1\n",
      "test2_ch2\n"
     ]
    }
   ],
   "source": [
    "for wfm_name in myawg.get_waveform_names():\n",
    "    print(wfm_name)"
   ]
  },
  {
   "cell_type": "markdown",
   "metadata": {},
   "source": [
    "### Wfm technical"
   ]
  },
  {
   "cell_type": "code",
   "execution_count": 89,
   "metadata": {},
   "outputs": [
    {
     "data": {
      "text/plain": [
       "['AA_only_a_ch1_ch1.wfm', 'AA_only_a_ch1_test2a_ch1.wfm', 'AA_only_a_ch1_test2b_ch1.wfm', 'AA_only_a_ch1_test2_ch1.wfm', 'AA_only_a_ch1_testA_ch1.wfm', 'AA_only_a_ch1_test_ch1.wfm', 'AA_only_ch1.wfm', 'AA_only_ch2.wfm', 'AA_only__ch2.wfm', 'AA_test1_wfm_ch1.wfm', 'AA_test1_wfm_ch2.wfm', 'GUI_test_pulse_block_ch1.wfm', 'GUI_test_pulse_block_ch2.wfm', 'laser_on_ch1.wfm', 'laser_on_ch2.wfm', 'rabi_ch1.wfm', 'rabi_ch2.wfm', 'test100_ch1.wfm', 'test101_ch1.wfm', 'test102_ch1.wfm', 'test103_ch1.wfm', 'test104_ch1.wfm', 'test105_ch1.wfm', 'test106_ch1.wfm', 'test107_ch1.wfm', 'test108_ch1.wfm', 'test109_ch1.wfm', 'test10_ch1.wfm', 'test110_ch1.wfm', 'test111_ch1.wfm', 'test112_ch1.wfm', 'test113_ch1.wfm', 'test114_ch1.wfm', 'test115_ch1.wfm', 'test116_ch1.wfm', 'test117_ch1.wfm', 'test118_ch1.wfm', 'test119_ch1.wfm', 'test11_ch1.wfm', 'test120_ch1.wfm', 'test121_ch1.wfm', 'test122_ch1.wfm', 'test123_ch1.wfm', 'test124_ch1.wfm', 'test125_ch1.wfm', 'test126_ch1.wfm', 'test127_ch1.wfm', 'test128_ch1.wfm', 'test129_ch1.wfm', 'test12_ch1.wfm', 'test130_ch1.wfm', 'test131_ch1.wfm', 'test132_ch1.wfm', 'test133_ch1.wfm', 'test134_ch1.wfm', 'test135_ch1.wfm', 'test136_ch1.wfm', 'test137_ch1.wfm', 'test138_ch1.wfm', 'test139_ch1.wfm', 'test13_ch1.wfm', 'test140_ch1.wfm', 'test141_ch1.wfm', 'test142_ch1.wfm', 'test143_ch1.wfm', 'test144_ch1.wfm', 'test145_ch1.wfm', 'test146_ch1.wfm', 'test147_ch1.wfm', 'test148_ch1.wfm', 'test149_ch1.wfm', 'test14_ch1.wfm', 'test150_ch1.wfm', 'test151_ch1.wfm', 'test152_ch1.wfm', 'test153_ch1.wfm', 'test154_ch1.wfm', 'test155_ch1.wfm', 'test156_ch1.wfm', 'test157_ch1.wfm', 'test158_ch1.wfm', 'test159_ch1.wfm', 'test15_ch1.wfm', 'test160_ch1.wfm', 'test161_ch1.wfm', 'test162_ch1.wfm', 'test163_ch1.wfm', 'test164_ch1.wfm', 'test165_ch1.wfm', 'test166_ch1.wfm', 'test167_ch1.wfm', 'test168_ch1.wfm', 'test169_ch1.wfm', 'test16_ch1.wfm', 'test170_ch1.wfm', 'test171_ch1.wfm', 'test172_ch1.wfm', 'test173_ch1.wfm', 'test174_ch1.wfm', 'test175_ch1.wfm', 'test176_ch1.wfm', 'test177_ch1.wfm', 'test178_ch1.wfm', 'test179_ch1.wfm', 'test17_ch1.wfm', 'test180_ch1.wfm', 'test181_ch1.wfm', 'test182_ch1.wfm', 'test183_ch1.wfm', 'test184_ch1.wfm', 'test185_ch1.wfm', 'test186_ch1.wfm', 'test187_ch1.wfm', 'test188_ch1.wfm', 'test189_ch1.wfm', 'test18_ch1.wfm', 'test190_ch1.wfm', 'test191_ch1.wfm', 'test192_ch1.wfm', 'test193_ch1.wfm', 'test194_ch1.wfm', 'test195_ch1.wfm', 'test196_ch1.wfm', 'test197_ch1.wfm', 'test198_ch1.wfm', 'test199_ch1.wfm', 'test19_ch1.wfm', 'test1_ch1.wfm', 'test20_ch1.wfm', 'test21_ch1.wfm', 'test22_ch1.wfm', 'test23_ch1.wfm', 'test24_ch1.wfm', 'test25_ch1.wfm', 'test26_ch1.wfm', 'test27_ch1.wfm', 'test28_ch1.wfm', 'test29_ch1.wfm', 'test30_ch1.wfm', 'test31_ch1.wfm', 'test32_ch1.wfm', 'test33_ch1.wfm', 'test34_ch1.wfm', 'test35_ch1.wfm', 'test36_ch1.wfm', 'test37_ch1.wfm', 'test38_ch1.wfm', 'test39_ch1.wfm', 'test3_ch1.wfm', 'test40_ch1.wfm', 'test41_ch1.wfm', 'test42_ch1.wfm', 'test43_ch1.wfm', 'test44_ch1.wfm', 'test45_ch1.wfm', 'test46_ch1.wfm', 'test47_ch1.wfm', 'test48_ch1.wfm', 'test49_ch1.wfm', 'test4_ch1.wfm', 'test50_ch1.wfm', 'test51_ch1.wfm', 'test52_ch1.wfm', 'test53_ch1.wfm', 'test54_ch1.wfm', 'test55_ch1.wfm', 'test56_ch1.wfm', 'test57_ch1.wfm', 'test58_ch1.wfm', 'test59_ch1.wfm', 'test5_ch1.wfm', 'test60_ch1.wfm', 'test61_ch1.wfm', 'test62_ch1.wfm', 'test63_ch1.wfm', 'test64_ch1.wfm', 'test65_ch1.wfm', 'test66_ch1.wfm', 'test67_ch1.wfm', 'test68_ch1.wfm', 'test69_ch1.wfm', 'test6_ch1.wfm', 'test70_ch1.wfm', 'test71_ch1.wfm', 'test72_ch1.wfm', 'test73_ch1.wfm', 'test74_ch1.wfm', 'test75_ch1.wfm', 'test76_ch1.wfm', 'test77_ch1.wfm', 'test78_ch1.wfm', 'test79_ch1.wfm', 'test7_ch1.wfm', 'test80_ch1.wfm', 'test81_ch1.wfm', 'test82_ch1.wfm', 'test83_ch1.wfm', 'test84_ch1.wfm', 'test85_ch1.wfm', 'test86_ch1.wfm', 'test87_ch1.wfm', 'test88_ch1.wfm', 'test89_ch1.wfm', 'test8_ch1.wfm', 'test90_ch1.wfm', 'test91_ch1.wfm', 'test92_ch1.wfm', 'test93_ch1.wfm', 'test94_ch1.wfm', 'test95_ch1.wfm', 'test96_ch1.wfm', 'test97_ch1.wfm', 'test98_ch1.wfm', 'test99_ch1.wfm', 'test9_ch1.wfm', 'test_ch1.wfm', 'test_write_wfm_ch1.wfm', 'test_write_wfm_ch2.wfm', 'wait_ch1.wfm', 'xy8_freq_ch1.wfm', 'xy8_freq_ch2.wfm']"
      ]
     },
     "execution_count": 89,
     "metadata": {},
     "output_type": "execute_result"
    }
   ],
   "source": [
    "myawg._get_filenames_on_device()"
   ]
  },
  {
   "cell_type": "code",
   "execution_count": 91,
   "metadata": {},
   "outputs": [],
   "source": [
    "myawg._delete_file('test199_ch1.wfm')  # Works correctly"
   ]
  },
  {
   "cell_type": "markdown",
   "metadata": {},
   "source": [
    "### Sequence"
   ]
  },
  {
   "cell_type": "markdown",
   "metadata": {},
   "source": [
    "#### write_sequence()"
   ]
  },
  {
   "cell_type": "code",
   "execution_count": 174,
   "metadata": {
    "scrolled": true
   },
   "outputs": [
    {
     "data": {
      "text/plain": [
       "1"
      ]
     },
     "execution_count": 174,
     "metadata": {},
     "output_type": "execute_result"
    }
   ],
   "source": [
    "seq_param_list = [\n",
    "    (('test2_ch1', 'test2_ch2'), {'repetitions': 2, 'wait_for': 'ON', 'go_to': 3, 'event_jump_to': 4})\n",
    "]\n",
    "\n",
    "myawg.write_sequence(name='sequenceA', sequence_parameter_list=seq_param_list)"
   ]
  },
  {
   "cell_type": "markdown",
   "metadata": {},
   "source": [
    "![title](31.png)"
   ]
  },
  {
   "cell_type": "code",
   "execution_count": 175,
   "metadata": {},
   "outputs": [
    {
     "data": {
      "text/plain": [
       "1"
      ]
     },
     "execution_count": 175,
     "metadata": {},
     "output_type": "execute_result"
    }
   ],
   "source": [
    "seq_param_list = [\n",
    "    (('test2_ch1', 'test2_ch2'), {'repetitions': -1, 'wait_for': 'ON', 'go_to': 3, 'event_jump_to': 4})\n",
    "]\n",
    "\n",
    "myawg.write_sequence(name='sequenceA', sequence_parameter_list=seq_param_list)"
   ]
  },
  {
   "cell_type": "markdown",
   "metadata": {},
   "source": [
    "![title](29.png)"
   ]
  },
  {
   "cell_type": "markdown",
   "metadata": {},
   "source": [
    "The set of channels if determined by \"wfm_name_ch#\", so it's important to keep this naming format"
   ]
  },
  {
   "cell_type": "markdown",
   "metadata": {},
   "source": [
    "![title](27.png)"
   ]
  },
  {
   "cell_type": "code",
   "execution_count": 195,
   "metadata": {},
   "outputs": [
    {
     "data": {
      "text/plain": [
       "1"
      ]
     },
     "execution_count": 195,
     "metadata": {},
     "output_type": "execute_result"
    }
   ],
   "source": [
    "seq_param_list = [\n",
    "    (('test2_ch1', 'test2_ch2'), {'repetitions': -1, 'wait_for': 'OFF', 'go_to': 1, 'event_jump_to': 0})\n",
    "]\n",
    "\n",
    "myawg.write_sequence(name='sequenceA', sequence_parameter_list=seq_param_list)"
   ]
  },
  {
   "cell_type": "markdown",
   "metadata": {},
   "source": [
    "![title](30.png)"
   ]
  },
  {
   "cell_type": "markdown",
   "metadata": {},
   "source": [
    "#### load_sequence()"
   ]
  },
  {
   "cell_type": "code",
   "execution_count": 196,
   "metadata": {},
   "outputs": [
    {
     "data": {
      "text/plain": [
       "['sequenceA']"
      ]
     },
     "execution_count": 196,
     "metadata": {},
     "output_type": "execute_result"
    }
   ],
   "source": [
    "myawg.get_sequence_names()"
   ]
  },
  {
   "cell_type": "code",
   "execution_count": 199,
   "metadata": {},
   "outputs": [
    {
     "data": {
      "text/plain": [
       "({1: 'sequenceA', 2: 'sequenceA'}, 'sequence')"
      ]
     },
     "execution_count": 199,
     "metadata": {},
     "output_type": "execute_result"
    }
   ],
   "source": [
    "myawg.load_sequence('sequenceA')"
   ]
  },
  {
   "cell_type": "code",
   "execution_count": 200,
   "metadata": {},
   "outputs": [
    {
     "data": {
      "text/plain": [
       "({1: 'sequenceA', 2: 'sequenceA'}, 'sequence')"
      ]
     },
     "execution_count": 200,
     "metadata": {},
     "output_type": "execute_result"
    }
   ],
   "source": [
    "myawg.get_loaded_assets()"
   ]
  },
  {
   "cell_type": "markdown",
   "metadata": {},
   "source": [
    "#### set/get_sequence_jump_mode()"
   ]
  },
  {
   "cell_type": "markdown",
   "metadata": {},
   "source": [
    "Even if the run mode is different from Sequence,\n",
    "the method works correctly: the applied value is applied, and is on the place when one swithces to the right mode"
   ]
  },
  {
   "cell_type": "code",
   "execution_count": 3,
   "metadata": {},
   "outputs": [
    {
     "data": {
      "text/plain": [
       "'EJUM'"
      ]
     },
     "execution_count": 3,
     "metadata": {},
     "output_type": "execute_result"
    }
   ],
   "source": [
    "myawg.set_sequence_jump_mode('EJUM')\n",
    "myawg.get_sequence_jump_mode()"
   ]
  },
  {
   "cell_type": "code",
   "execution_count": 4,
   "metadata": {},
   "outputs": [
    {
     "data": {
      "text/plain": [
       "'DJUM'"
      ]
     },
     "execution_count": 4,
     "metadata": {},
     "output_type": "execute_result"
    }
   ],
   "source": [
    "myawg.set_sequence_jump_mode('DJUM')\n",
    "myawg.get_sequence_jump_mode()"
   ]
  },
  {
   "cell_type": "markdown",
   "metadata": {},
   "source": [
    "#### sequence_set_waveform()"
   ]
  },
  {
   "cell_type": "markdown",
   "metadata": {},
   "source": [
    "Even if the run mode is different from Sequence, \n",
    "the method works correctly: the applied value is applied, and is on the place when one swithces to the right mode"
   ]
  },
  {
   "cell_type": "code",
   "execution_count": 48,
   "metadata": {},
   "outputs": [
    {
     "data": {
      "text/plain": [
       "['*Clock960', '*DC', '*PRBS - X^15+X^14+1', '*PRBS - X^7+X^6+1', '*PRBS - X^9+X^5+1', '*PRBS - X^9+X^8+X^5+X^4+1', '*Ramp10', '*Ramp100', '*Ramp1000', '*Ramp960', '*Sine10', '*Sine100', '*Sine1000', '*Sine36', '*Sine360', '*Sine3600', '*Sine960', '*Square10', '*Square100', '*Square1000', '*Square960', '*Triangle10', '*Triangle100', '*Triangle1000', '*Triangle960', 'laser_on_ch2', 'test2_ch1', 'test2_ch2']"
      ]
     },
     "execution_count": 48,
     "metadata": {},
     "output_type": "execute_result"
    }
   ],
   "source": [
    "myawg.get_waveform_names()"
   ]
  },
  {
   "cell_type": "code",
   "execution_count": 60,
   "metadata": {},
   "outputs": [
    {
     "data": {
      "text/plain": [
       "0"
      ]
     },
     "execution_count": 60,
     "metadata": {},
     "output_type": "execute_result"
    }
   ],
   "source": [
    "myawg.write('SEQUENCE:LENGTH 1')\n",
    "myawg.sequence_set_waveform(wfm_name='test2_ch1', elem_num=1, chnl_num=1)\n",
    "myawg.sequence_set_waveform(wfm_name='test2_ch2', elem_num=1, chnl_num=2)"
   ]
  },
  {
   "cell_type": "markdown",
   "metadata": {},
   "source": [
    "![title](14.png)"
   ]
  },
  {
   "cell_type": "markdown",
   "metadata": {},
   "source": [
    "#### sequence_set_repetitions() "
   ]
  },
  {
   "cell_type": "markdown",
   "metadata": {},
   "source": [
    "Even if the run mode is different from Sequence, \n",
    "the method works correctly: the applied value is applied, and is on the place when one swithces to the right mode"
   ]
  },
  {
   "cell_type": "code",
   "execution_count": 12,
   "metadata": {},
   "outputs": [
    {
     "data": {
      "text/plain": [
       "0"
      ]
     },
     "execution_count": 12,
     "metadata": {},
     "output_type": "execute_result"
    }
   ],
   "source": [
    "myawg.sequence_set_repetitions(1, -1)"
   ]
  },
  {
   "cell_type": "markdown",
   "metadata": {},
   "source": [
    "![title](15.png)"
   ]
  },
  {
   "cell_type": "code",
   "execution_count": 14,
   "metadata": {},
   "outputs": [
    {
     "data": {
      "text/plain": [
       "0"
      ]
     },
     "execution_count": 14,
     "metadata": {},
     "output_type": "execute_result"
    }
   ],
   "source": [
    "myawg.sequence_set_repetitions(1, 2)"
   ]
  },
  {
   "cell_type": "markdown",
   "metadata": {},
   "source": [
    "![title](16.png)"
   ]
  },
  {
   "cell_type": "markdown",
   "metadata": {},
   "source": [
    "#### sequence_set_goto()"
   ]
  },
  {
   "cell_type": "markdown",
   "metadata": {},
   "source": [
    "Even if the run mode is different from Sequence,\n",
    "the method works correctly: the applied value is applied, and is on the place when one swithces to the right mode"
   ]
  },
  {
   "cell_type": "code",
   "execution_count": 18,
   "metadata": {},
   "outputs": [
    {
     "data": {
      "text/plain": [
       "0"
      ]
     },
     "execution_count": 18,
     "metadata": {},
     "output_type": "execute_result"
    }
   ],
   "source": [
    "myawg.write('SEQUENCE:LENGTH 2')\n",
    "myawg.sequence_set_waveform(wfm_name='test2_ch1', elem_num=1, chnl_num=1)\n",
    "myawg.sequence_set_waveform(wfm_name='test2_ch2', elem_num=1, chnl_num=2)\n",
    "myawg.sequence_set_waveform(wfm_name='test2_ch1', elem_num=2, chnl_num=1)\n",
    "myawg.sequence_set_waveform(wfm_name='test2_ch2', elem_num=2, chnl_num=2)"
   ]
  },
  {
   "cell_type": "code",
   "execution_count": 23,
   "metadata": {},
   "outputs": [
    {
     "data": {
      "text/plain": [
       "0"
      ]
     },
     "execution_count": 23,
     "metadata": {},
     "output_type": "execute_result"
    }
   ],
   "source": [
    "myawg.sequence_set_goto(elem_num=2, goto=1)"
   ]
  },
  {
   "cell_type": "markdown",
   "metadata": {},
   "source": [
    "![title](17.png)"
   ]
  },
  {
   "cell_type": "code",
   "execution_count": 24,
   "metadata": {},
   "outputs": [
    {
     "data": {
      "text/plain": [
       "0"
      ]
     },
     "execution_count": 24,
     "metadata": {},
     "output_type": "execute_result"
    }
   ],
   "source": [
    "myawg.sequence_set_goto(elem_num=2, goto=-1)"
   ]
  },
  {
   "cell_type": "markdown",
   "metadata": {},
   "source": [
    "![title](18.png)"
   ]
  },
  {
   "cell_type": "markdown",
   "metadata": {},
   "source": [
    "#### sequence_set_event_jump()"
   ]
  },
  {
   "cell_type": "markdown",
   "metadata": {},
   "source": [
    "Even if the run mode is different from Sequence, and/or jump mode is different from Event Jump, \n",
    "the method works correctly: the applied value is applied, and is on the place when one swithces to the right mode"
   ]
  },
  {
   "cell_type": "code",
   "execution_count": 36,
   "metadata": {
    "scrolled": true
   },
   "outputs": [
    {
     "data": {
      "text/plain": [
       "0"
      ]
     },
     "execution_count": 36,
     "metadata": {},
     "output_type": "execute_result"
    }
   ],
   "source": [
    "myawg.sequence_set_event_jump(elem_num=1, jump_to=0)"
   ]
  },
  {
   "cell_type": "markdown",
   "metadata": {},
   "source": [
    "![title](19.png)"
   ]
  },
  {
   "cell_type": "code",
   "execution_count": 37,
   "metadata": {},
   "outputs": [
    {
     "data": {
      "text/plain": [
       "0"
      ]
     },
     "execution_count": 37,
     "metadata": {},
     "output_type": "execute_result"
    }
   ],
   "source": [
    "myawg.sequence_set_event_jump(elem_num=1, jump_to=2)"
   ]
  },
  {
   "cell_type": "markdown",
   "metadata": {},
   "source": [
    "![title](20.png)"
   ]
  },
  {
   "cell_type": "code",
   "execution_count": 33,
   "metadata": {},
   "outputs": [
    {
     "data": {
      "text/plain": [
       "0"
      ]
     },
     "execution_count": 33,
     "metadata": {},
     "output_type": "execute_result"
    }
   ],
   "source": [
    "myawg.sequence_set_event_jump(elem_num=1, jump_to=-1)"
   ]
  },
  {
   "cell_type": "markdown",
   "metadata": {},
   "source": [
    "![title](21.png)"
   ]
  },
  {
   "cell_type": "markdown",
   "metadata": {},
   "source": [
    "#### sequence_set_wait_trigger()"
   ]
  },
  {
   "cell_type": "markdown",
   "metadata": {},
   "source": [
    "Even if the run mode is different from Sequence, and/or jump mode is different from Event Jump, \n",
    "the method works correctly: the applied value is applied, and is on the place when one swithces to the right mode"
   ]
  },
  {
   "cell_type": "code",
   "execution_count": 46,
   "metadata": {},
   "outputs": [
    {
     "data": {
      "text/plain": [
       "0"
      ]
     },
     "execution_count": 46,
     "metadata": {},
     "output_type": "execute_result"
    }
   ],
   "source": [
    "myawg.sequence_set_wait_trigger(elem_num=1, trigger='ON')"
   ]
  },
  {
   "cell_type": "markdown",
   "metadata": {},
   "source": [
    "![title](22.png)"
   ]
  },
  {
   "cell_type": "code",
   "execution_count": 48,
   "metadata": {},
   "outputs": [
    {
     "data": {
      "text/plain": [
       "0"
      ]
     },
     "execution_count": 48,
     "metadata": {},
     "output_type": "execute_result"
    }
   ],
   "source": [
    "myawg.sequence_set_wait_trigger(elem_num=1, trigger='OFF')"
   ]
  },
  {
   "cell_type": "markdown",
   "metadata": {},
   "source": [
    "![title](23.png)"
   ]
  },
  {
   "cell_type": "code",
   "execution_count": 47,
   "metadata": {
    "scrolled": true
   },
   "outputs": [
    {
     "data": {
      "text/plain": [
       "-1"
      ]
     },
     "execution_count": 47,
     "metadata": {},
     "output_type": "execute_result"
    }
   ],
   "source": [
    "myawg.sequence_set_wait_trigger(elem_num=1, trigger='A')"
   ]
  },
  {
   "cell_type": "markdown",
   "metadata": {},
   "source": [
    "![title](24.png)"
   ]
  },
  {
   "cell_type": "code",
   "execution_count": 5,
   "metadata": {},
   "outputs": [],
   "source": [
    "myawg.set_mode('S')"
   ]
  },
  {
   "cell_type": "markdown",
   "metadata": {},
   "source": [
    "#### set_jump_timing()"
   ]
  },
  {
   "cell_type": "code",
   "execution_count": 107,
   "metadata": {},
   "outputs": [
    {
     "data": {
      "text/plain": [
       "'SYNC'"
      ]
     },
     "execution_count": 107,
     "metadata": {},
     "output_type": "execute_result"
    }
   ],
   "source": [
    "myawg.set_jump_timing(synchronous=True)\n",
    "myawg.query('EVEN:JTIM?')"
   ]
  },
  {
   "cell_type": "code",
   "execution_count": 108,
   "metadata": {},
   "outputs": [
    {
     "data": {
      "text/plain": [
       "'ASYN'"
      ]
     },
     "execution_count": 108,
     "metadata": {},
     "output_type": "execute_result"
    }
   ],
   "source": [
    "myawg.set_jump_timing(synchronous=False)\n",
    "myawg.query('EVEN:JTIM?')"
   ]
  },
  {
   "cell_type": "markdown",
   "metadata": {},
   "source": [
    "#### make_sequence_continuous()"
   ]
  },
  {
   "cell_type": "code",
   "execution_count": 70,
   "metadata": {},
   "outputs": [
    {
     "data": {
      "text/plain": [
       "2"
      ]
     },
     "execution_count": 70,
     "metadata": {},
     "output_type": "execute_result"
    }
   ],
   "source": [
    "myawg.make_sequence_continuous()"
   ]
  },
  {
   "cell_type": "markdown",
   "metadata": {},
   "source": [
    "![title](25.png)"
   ]
  },
  {
   "cell_type": "markdown",
   "metadata": {},
   "source": [
    "#### delete_sequence()"
   ]
  },
  {
   "cell_type": "code",
   "execution_count": 59,
   "metadata": {},
   "outputs": [
    {
     "data": {
      "text/plain": [
       "[]"
      ]
     },
     "execution_count": 59,
     "metadata": {},
     "output_type": "execute_result"
    }
   ],
   "source": [
    "myawg.delete_sequence()"
   ]
  },
  {
   "cell_type": "markdown",
   "metadata": {},
   "source": [
    "Method works correctly"
   ]
  },
  {
   "cell_type": "markdown",
   "metadata": {},
   "source": [
    "#### get_sequencer_mode()"
   ]
  },
  {
   "cell_type": "code",
   "execution_count": 71,
   "metadata": {},
   "outputs": [
    {
     "data": {
      "text/plain": [
       "'Software-Sequencer'"
      ]
     },
     "execution_count": 71,
     "metadata": {},
     "output_type": "execute_result"
    }
   ],
   "source": [
    "myawg.get_sequencer_mode()"
   ]
  },
  {
   "cell_type": "markdown",
   "metadata": {},
   "source": [
    "#### force_jump_sequence()"
   ]
  },
  {
   "cell_type": "code",
   "execution_count": 84,
   "metadata": {},
   "outputs": [],
   "source": [
    "myawg.force_jump_sequence(target=2, channel=1)"
   ]
  },
  {
   "cell_type": "markdown",
   "metadata": {},
   "source": [
    "Something doesn't work"
   ]
  },
  {
   "cell_type": "markdown",
   "metadata": {},
   "source": [
    "![title](26.png)"
   ]
  },
  {
   "cell_type": "markdown",
   "metadata": {},
   "source": [
    "### Wfm and Seq common Technical"
   ]
  },
  {
   "cell_type": "markdown",
   "metadata": {},
   "source": [
    "#### get_loaded_assets()"
   ]
  },
  {
   "cell_type": "code",
   "execution_count": 98,
   "metadata": {},
   "outputs": [
    {
     "data": {
      "text/plain": [
       "({1: 'test2_ch1', 2: 'test2_ch2'}, 'waveform')"
      ]
     },
     "execution_count": 98,
     "metadata": {},
     "output_type": "execute_result"
    }
   ],
   "source": [
    "myawg.set_active_channels(\n",
    "    {'a_ch1': True,\n",
    "     'd_ch1': False,\n",
    "     'd_ch2': False,\n",
    "     'a_ch2': True,\n",
    "     'd_ch3': False,\n",
    "     'd_ch4': False,\n",
    "    }\n",
    ")\n",
    "\n",
    "myawg.set_mode('C')\n",
    "myawg.get_loaded_assets()"
   ]
  },
  {
   "cell_type": "code",
   "execution_count": 100,
   "metadata": {},
   "outputs": [
    {
     "data": {
      "text/plain": [
       "({1: 'test2_ch1'}, 'waveform')"
      ]
     },
     "execution_count": 100,
     "metadata": {},
     "output_type": "execute_result"
    }
   ],
   "source": [
    "myawg.set_active_channels(\n",
    "    {'a_ch1': True,\n",
    "     'd_ch1': False,\n",
    "     'd_ch2': False,\n",
    "     'a_ch2': False,\n",
    "     'd_ch3': False,\n",
    "     'd_ch4': False,\n",
    "    }\n",
    ")\n",
    "\n",
    "myawg.set_mode('C')\n",
    "myawg.get_loaded_assets()"
   ]
  },
  {
   "cell_type": "code",
   "execution_count": 99,
   "metadata": {},
   "outputs": [
    {
     "data": {
      "text/plain": [
       "({}, 'sequence')"
      ]
     },
     "execution_count": 99,
     "metadata": {},
     "output_type": "execute_result"
    }
   ],
   "source": [
    "myawg.set_active_channels(\n",
    "    {'a_ch1': True,\n",
    "     'd_ch1': False,\n",
    "     'd_ch2': False,\n",
    "     'a_ch2': True,\n",
    "     'd_ch3': False,\n",
    "     'd_ch4': False,\n",
    "    }\n",
    ")\n",
    "\n",
    "myawg.set_mode('S')\n",
    "myawg.get_loaded_assets()"
   ]
  },
  {
   "cell_type": "markdown",
   "metadata": {},
   "source": [
    "#### clear_all()"
   ]
  },
  {
   "cell_type": "code",
   "execution_count": 101,
   "metadata": {},
   "outputs": [
    {
     "data": {
      "text/plain": [
       "['*Clock960', '*DC', '*PRBS - X^15+X^14+1', '*PRBS - X^7+X^6+1', '*PRBS - X^9+X^5+1', '*PRBS - X^9+X^8+X^5+X^4+1', '*Ramp10', '*Ramp100', '*Ramp1000', '*Ramp960', '*Sine10', '*Sine100', '*Sine1000', '*Sine36', '*Sine360', '*Sine3600', '*Sine960', '*Square10', '*Square100', '*Square1000', '*Square960', '*Triangle10', '*Triangle100', '*Triangle1000', '*Triangle960', 'laser_on_ch2', 'test2_ch1', 'test2_ch2']"
      ]
     },
     "execution_count": 101,
     "metadata": {},
     "output_type": "execute_result"
    }
   ],
   "source": [
    "myawg.get_waveform_names()"
   ]
  },
  {
   "cell_type": "code",
   "execution_count": 104,
   "metadata": {},
   "outputs": [
    {
     "data": {
      "text/plain": [
       "({1: '*Sine360'}, 'waveform')"
      ]
     },
     "execution_count": 104,
     "metadata": {},
     "output_type": "execute_result"
    }
   ],
   "source": [
    "myawg.load_waveform({1: '*Sine360'})"
   ]
  },
  {
   "cell_type": "code",
   "execution_count": 110,
   "metadata": {},
   "outputs": [
    {
     "data": {
      "text/plain": [
       "0"
      ]
     },
     "execution_count": 110,
     "metadata": {},
     "output_type": "execute_result"
    }
   ],
   "source": [
    "myawg.clear_all()"
   ]
  },
  {
   "cell_type": "code",
   "execution_count": 87,
   "metadata": {},
   "outputs": [
    {
     "data": {
      "text/plain": [
       "False"
      ]
     },
     "execution_count": 87,
     "metadata": {},
     "output_type": "execute_result"
    }
   ],
   "source": [
    "myawg.write('SLIS:SUBS:DEL ALL')\n",
    "myawg.get_errors()"
   ]
  }
 ],
 "metadata": {
  "kernelspec": {
   "display_name": "Qudi",
   "language": "python",
   "name": "qudi"
  },
  "language_info": {
   "codemirror_mode": {
    "name": "ipython",
    "version": "3.6.5"
   },
   "file_extension": ".py",
   "mimetype": "text/x-python",
   "name": "python",
   "nbconvert_exporter": "python",
   "pygments_lexer": "ipython3",
   "version": "3.6.5"
  }
 },
 "nbformat": 4,
 "nbformat_minor": 2
}
